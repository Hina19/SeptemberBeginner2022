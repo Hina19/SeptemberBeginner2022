{
  "nbformat": 4,
  "nbformat_minor": 0,
  "metadata": {
    "colab": {
      "provenance": [],
      "authorship_tag": "ABX9TyPCw7wwqkkbd6b5tpnzMmCg",
      "include_colab_link": true
    },
    "kernelspec": {
      "name": "python3",
      "display_name": "Python 3"
    },
    "language_info": {
      "name": "python"
    }
  },
  "cells": [
    {
      "cell_type": "markdown",
      "metadata": {
        "id": "view-in-github",
        "colab_type": "text"
      },
      "source": [
        "<a href=\"https://colab.research.google.com/github/Hina19/SeptemberBeginner2022/blob/main/L2_DataTypes.ipynb\" target=\"_parent\"><img src=\"https://colab.research.google.com/assets/colab-badge.svg\" alt=\"Open In Colab\"/></a>"
      ]
    },
    {
      "cell_type": "markdown",
      "source": [
        "# Puzzle : Tower of Hanoi \n",
        "\n",
        "\n",
        " <img src= 'https://ioecapsule.com/wp-content/uploads/2019/08/tower_of_hanoi_3_disks.gif'>"
      ],
      "metadata": {
        "id": "cANVgZ3qJD0-"
      }
    },
    {
      "cell_type": "code",
      "source": [
        "Which of the following values are of type float in Python?\n",
        "a. 0.3\n",
        "b. .2\n",
        "c. \"2.3\"\n",
        "d. 1.0\n",
        "e. \"3.14\"\n",
        "f. -3\n",
        "g. 5."
      ],
      "metadata": {
        "id": "x0nhkD1Rnnub"
      },
      "execution_count": null,
      "outputs": []
    },
    {
      "cell_type": "code",
      "source": [],
      "metadata": {
        "id": "vXpRi11jnnr3"
      },
      "execution_count": null,
      "outputs": []
    },
    {
      "cell_type": "code",
      "source": [],
      "metadata": {
        "id": "oR9juswmnnqa"
      },
      "execution_count": null,
      "outputs": []
    },
    {
      "cell_type": "code",
      "source": [],
      "metadata": {
        "id": "ZeytuAAEnnmv"
      },
      "execution_count": null,
      "outputs": []
    },
    {
      "cell_type": "code",
      "source": [],
      "metadata": {
        "id": "VTq-4l9jnnkK"
      },
      "execution_count": null,
      "outputs": []
    },
    {
      "cell_type": "code",
      "source": [],
      "metadata": {
        "id": "DiG1dSUsnnhn"
      },
      "execution_count": null,
      "outputs": []
    },
    {
      "cell_type": "code",
      "source": [],
      "metadata": {
        "id": "a0ZPj4ADnnez"
      },
      "execution_count": null,
      "outputs": []
    },
    {
      "cell_type": "markdown",
      "source": [
        "#Data Types:\n",
        "\n",
        "\n",
        "<img src = 'https://drive.google.com/uc?id=1msCv2dht6Ruf9t5FUCJgXd9VQDmwqXvn' width=400 height=300>"
      ],
      "metadata": {
        "id": "R6V8szwoK2oa"
      }
    },
    {
      "cell_type": "code",
      "source": [
        "type()"
      ],
      "metadata": {
        "id": "qOGkqf1YNhyr"
      },
      "execution_count": null,
      "outputs": []
    },
    {
      "cell_type": "code",
      "source": [
        "print(10)"
      ],
      "metadata": {
        "id": "U54t0ZXaNhwK",
        "colab": {
          "base_uri": "https://localhost:8080/"
        },
        "outputId": "352bf20e-3cb3-40f5-9b0c-a5e5a8081f18"
      },
      "execution_count": 1,
      "outputs": [
        {
          "output_type": "stream",
          "name": "stdout",
          "text": [
            "10\n"
          ]
        }
      ]
    },
    {
      "cell_type": "code",
      "source": [
        "print(type(10))"
      ],
      "metadata": {
        "id": "eMQOjgzJmGyB",
        "colab": {
          "base_uri": "https://localhost:8080/"
        },
        "outputId": "1ff51487-f1ea-4116-f419-d6f818a989ec"
      },
      "execution_count": 2,
      "outputs": [
        {
          "output_type": "stream",
          "name": "stdout",
          "text": [
            "<class 'int'>\n"
          ]
        }
      ]
    },
    {
      "cell_type": "code",
      "source": [
        "type(10)"
      ],
      "metadata": {
        "id": "b8G-tI8LmGvP",
        "colab": {
          "base_uri": "https://localhost:8080/"
        },
        "outputId": "7ed9b96c-0a7c-46f7-bfc3-ce65506b03eb"
      },
      "execution_count": 3,
      "outputs": [
        {
          "output_type": "execute_result",
          "data": {
            "text/plain": [
              "int"
            ]
          },
          "metadata": {},
          "execution_count": 3
        }
      ]
    },
    {
      "cell_type": "code",
      "source": [
        "type('scaler')"
      ],
      "metadata": {
        "id": "aEPwBl7omGsq",
        "colab": {
          "base_uri": "https://localhost:8080/"
        },
        "outputId": "3ecb584c-7a51-47a3-da99-63334add8c4b"
      },
      "execution_count": 4,
      "outputs": [
        {
          "output_type": "execute_result",
          "data": {
            "text/plain": [
              "str"
            ]
          },
          "metadata": {},
          "execution_count": 4
        }
      ]
    },
    {
      "cell_type": "code",
      "source": [
        "type(True)"
      ],
      "metadata": {
        "id": "AgQoMd_3mGqC"
      },
      "execution_count": null,
      "outputs": []
    },
    {
      "cell_type": "code",
      "source": [
        "print(type(true))"
      ],
      "metadata": {
        "colab": {
          "base_uri": "https://localhost:8080/",
          "height": 201
        },
        "id": "An6CTFRE2UBE",
        "outputId": "6215a26d-1a20-423a-bd0a-6032a8e8ac4a"
      },
      "execution_count": 5,
      "outputs": [
        {
          "output_type": "error",
          "ename": "NameError",
          "evalue": "ignored",
          "traceback": [
            "\u001b[0;31m---------------------------------------------------------------------------\u001b[0m",
            "\u001b[0;31mNameError\u001b[0m                                 Traceback (most recent call last)",
            "\u001b[0;32m<ipython-input-5-1c2838cf1bc6>\u001b[0m in \u001b[0;36m<module>\u001b[0;34m\u001b[0m\n\u001b[0;32m----> 1\u001b[0;31m \u001b[0mprint\u001b[0m\u001b[0;34m(\u001b[0m\u001b[0mtype\u001b[0m\u001b[0;34m(\u001b[0m\u001b[0mtrue\u001b[0m\u001b[0;34m)\u001b[0m\u001b[0;34m)\u001b[0m\u001b[0;34m\u001b[0m\u001b[0;34m\u001b[0m\u001b[0m\n\u001b[0m",
            "\u001b[0;31mNameError\u001b[0m: name 'true' is not defined"
          ]
        }
      ]
    },
    {
      "cell_type": "code",
      "source": [
        "print(type(True))"
      ],
      "metadata": {
        "colab": {
          "base_uri": "https://localhost:8080/"
        },
        "id": "cd3JtxdD2VS6",
        "outputId": "3ffe1993-8daf-42b8-db90-2c4de886d479"
      },
      "execution_count": 6,
      "outputs": [
        {
          "output_type": "stream",
          "name": "stdout",
          "text": [
            "<class 'bool'>\n"
          ]
        }
      ]
    },
    {
      "cell_type": "code",
      "source": [],
      "metadata": {
        "id": "zh-OQzli2Vd8"
      },
      "execution_count": null,
      "outputs": []
    },
    {
      "cell_type": "code",
      "source": [],
      "metadata": {
        "id": "ynfqvtH02Vlc"
      },
      "execution_count": null,
      "outputs": []
    },
    {
      "cell_type": "code",
      "source": [],
      "metadata": {
        "id": "1sY4UZmF2TvH"
      },
      "execution_count": null,
      "outputs": []
    },
    {
      "cell_type": "markdown",
      "source": [
        "# Variable \n",
        "\n",
        "<img src='https://miro.medium.com/max/1400/0*D3naWsFttP5BrEAy.jpg' height=250 width=350>"
      ],
      "metadata": {
        "id": "jypQsQH9NQq6"
      }
    },
    {
      "cell_type": "code",
      "source": [
        "x = 2"
      ],
      "metadata": {
        "id": "q8pDMuljmKci"
      },
      "execution_count": 8,
      "outputs": []
    },
    {
      "cell_type": "code",
      "source": [
        "x"
      ],
      "metadata": {
        "id": "pswdgbRjmKZ_",
        "colab": {
          "base_uri": "https://localhost:8080/"
        },
        "outputId": "c6499d76-053c-444e-994e-9038649c88d5"
      },
      "execution_count": 9,
      "outputs": [
        {
          "output_type": "execute_result",
          "data": {
            "text/plain": [
              "2"
            ]
          },
          "metadata": {},
          "execution_count": 9
        }
      ]
    },
    {
      "cell_type": "code",
      "source": [
        "s = 'scaler data science program'"
      ],
      "metadata": {
        "id": "gDpviVjRmKXa"
      },
      "execution_count": 12,
      "outputs": []
    },
    {
      "cell_type": "code",
      "source": [
        "print(s)"
      ],
      "metadata": {
        "id": "DUrjrn_MmKU2",
        "colab": {
          "base_uri": "https://localhost:8080/"
        },
        "outputId": "a976c050-184b-4642-8e64-cabc0ded31b9"
      },
      "execution_count": 14,
      "outputs": [
        {
          "output_type": "stream",
          "name": "stdout",
          "text": [
            "scaler data science program\n"
          ]
        }
      ]
    },
    {
      "cell_type": "code",
      "source": [
        "s"
      ],
      "metadata": {
        "id": "3F1F0FjxmKSU",
        "colab": {
          "base_uri": "https://localhost:8080/",
          "height": 35
        },
        "outputId": "47efd2cc-6ea0-4561-b900-efbc6d6723be"
      },
      "execution_count": 15,
      "outputs": [
        {
          "output_type": "execute_result",
          "data": {
            "text/plain": [
              "'scaler data science program'"
            ],
            "application/vnd.google.colaboratory.intrinsic+json": {
              "type": "string"
            }
          },
          "metadata": {},
          "execution_count": 15
        }
      ]
    },
    {
      "cell_type": "code",
      "source": [
        "x=2\n",
        "x=5\n",
        "print(x)"
      ],
      "metadata": {
        "id": "qUwlwyjsmKPu",
        "colab": {
          "base_uri": "https://localhost:8080/"
        },
        "outputId": "7378072b-7607-473b-ae38-f34c0e380252"
      },
      "execution_count": 17,
      "outputs": [
        {
          "output_type": "stream",
          "name": "stdout",
          "text": [
            "5\n"
          ]
        }
      ]
    },
    {
      "cell_type": "code",
      "source": [
        "x=2\n",
        "x"
      ],
      "metadata": {
        "id": "erZ5l2KwmKNB",
        "colab": {
          "base_uri": "https://localhost:8080/"
        },
        "outputId": "8c4d84ca-7d99-47cb-b8b7-d77f6c502a41"
      },
      "execution_count": 18,
      "outputs": [
        {
          "output_type": "execute_result",
          "data": {
            "text/plain": [
              "2"
            ]
          },
          "metadata": {},
          "execution_count": 18
        }
      ]
    },
    {
      "cell_type": "code",
      "source": [
        "x=2\n",
        "print(type(x))"
      ],
      "metadata": {
        "id": "tBXY9N2ZmKKg",
        "colab": {
          "base_uri": "https://localhost:8080/"
        },
        "outputId": "78be5e82-b275-4a8e-8b22-6a877439e882"
      },
      "execution_count": 20,
      "outputs": [
        {
          "output_type": "stream",
          "name": "stdout",
          "text": [
            "<class 'int'>\n"
          ]
        }
      ]
    },
    {
      "cell_type": "code",
      "source": [
        "x='hello'\n",
        "print(type(x))"
      ],
      "metadata": {
        "id": "3z0hInc-mKHq",
        "colab": {
          "base_uri": "https://localhost:8080/"
        },
        "outputId": "f38c8662-6614-42a0-e213-9119ec08ff12"
      },
      "execution_count": 21,
      "outputs": [
        {
          "output_type": "stream",
          "name": "stdout",
          "text": [
            "<class 'str'>\n"
          ]
        }
      ]
    },
    {
      "cell_type": "code",
      "source": [
        "x = 3\n",
        "y = \"Hello\"\n",
        "print(x)\n",
        "print(y)"
      ],
      "metadata": {
        "colab": {
          "base_uri": "https://localhost:8080/"
        },
        "id": "5w5SjEJ59udk",
        "outputId": "595ba6fd-adce-48d7-db98-ce244ce42631"
      },
      "execution_count": 22,
      "outputs": [
        {
          "output_type": "stream",
          "name": "stdout",
          "text": [
            "3\n",
            "Hello\n"
          ]
        }
      ]
    },
    {
      "cell_type": "code",
      "source": [
        "print(x,y)"
      ],
      "metadata": {
        "colab": {
          "base_uri": "https://localhost:8080/"
        },
        "id": "Y0Ubdy1q9uam",
        "outputId": "ee20ba43-dd77-4333-8b4c-c6a268b04afd"
      },
      "execution_count": 23,
      "outputs": [
        {
          "output_type": "stream",
          "name": "stdout",
          "text": [
            "3 Hello\n"
          ]
        }
      ]
    },
    {
      "cell_type": "code",
      "source": [
        "print(1,'hina',2022,10.,end='@')"
      ],
      "metadata": {
        "colab": {
          "base_uri": "https://localhost:8080/"
        },
        "id": "SXm22Lr_9uXq",
        "outputId": "e59c1c56-3b4a-41c2-b7bd-803c1ccc7771"
      },
      "execution_count": 25,
      "outputs": [
        {
          "output_type": "stream",
          "name": "stdout",
          "text": [
            "1 hina 2022 10.0@"
          ]
        }
      ]
    },
    {
      "cell_type": "code",
      "source": [
        "1hina = 2022\n",
        "print(1hina)"
      ],
      "metadata": {
        "colab": {
          "base_uri": "https://localhost:8080/",
          "height": 131
        },
        "id": "tRGJ7lUI-cKQ",
        "outputId": "96a9e8e6-1e05-4820-bfe2-fb8ce26c09ec"
      },
      "execution_count": 26,
      "outputs": [
        {
          "output_type": "error",
          "ename": "SyntaxError",
          "evalue": "ignored",
          "traceback": [
            "\u001b[0;36m  File \u001b[0;32m\"<ipython-input-26-40fa4a726161>\"\u001b[0;36m, line \u001b[0;32m1\u001b[0m\n\u001b[0;31m    1hina = 2022\u001b[0m\n\u001b[0m        ^\u001b[0m\n\u001b[0;31mSyntaxError\u001b[0m\u001b[0;31m:\u001b[0m invalid syntax\n"
          ]
        }
      ]
    },
    {
      "cell_type": "markdown",
      "source": [
        "Which of the following is a valid variable name?\n",
        "131 users have participated\n",
        "A\n",
        "hELLO\n",
        "63%\n",
        "B\n",
        "1_name_Input\n",
        "27%\n",
        "C\n",
        "abc\n",
        "7%\n",
        "D\n",
        "Cod3$#"
      ],
      "metadata": {
        "id": "tVVb6aSyAh1Y"
      }
    },
    {
      "cell_type": "code",
      "source": [
        "name = \"Satish\"\n",
        "print(Name)"
      ],
      "metadata": {
        "colab": {
          "base_uri": "https://localhost:8080/",
          "height": 218
        },
        "id": "UkfXpSnOA7aO",
        "outputId": "0a69b5c1-4deb-4a79-c5c7-113b9242f2be"
      },
      "execution_count": 27,
      "outputs": [
        {
          "output_type": "error",
          "ename": "NameError",
          "evalue": "ignored",
          "traceback": [
            "\u001b[0;31m---------------------------------------------------------------------------\u001b[0m",
            "\u001b[0;31mNameError\u001b[0m                                 Traceback (most recent call last)",
            "\u001b[0;32m<ipython-input-27-6754807bad43>\u001b[0m in \u001b[0;36m<module>\u001b[0;34m\u001b[0m\n\u001b[1;32m      1\u001b[0m \u001b[0mname\u001b[0m \u001b[0;34m=\u001b[0m \u001b[0;34m\"Satish\"\u001b[0m\u001b[0;34m\u001b[0m\u001b[0;34m\u001b[0m\u001b[0m\n\u001b[0;32m----> 2\u001b[0;31m \u001b[0mprint\u001b[0m\u001b[0;34m(\u001b[0m\u001b[0mName\u001b[0m\u001b[0;34m)\u001b[0m\u001b[0;34m\u001b[0m\u001b[0;34m\u001b[0m\u001b[0m\n\u001b[0m",
            "\u001b[0;31mNameError\u001b[0m: name 'Name' is not defined"
          ]
        }
      ]
    },
    {
      "cell_type": "markdown",
      "source": [
        "# Input from the user: \n",
        "\n",
        "<img src='https://scontent-ccu1-1.xx.fbcdn.net/v/t39.30808-6/246803050_4422957544419756_2897058522667856466_n.jpg?_nc_cat=108&ccb=1-7&_nc_sid=8bfeb9&_nc_ohc=qxkkddx_TqMAX-dg9mn&_nc_ht=scontent-ccu1-1.xx&oh=00_AT_fEdHTY99JpOft86XXslLYT1iCCJqSmjn_8NuboeWaXQ&oe=63308801' height=300 width=300>\n",
        "\n",
        "\n"
      ],
      "metadata": {
        "id": "a-uOnd2MQbbQ"
      }
    },
    {
      "cell_type": "code",
      "source": [
        "print('hello')"
      ],
      "metadata": {
        "id": "mfcnu7dkmDGx",
        "colab": {
          "base_uri": "https://localhost:8080/"
        },
        "outputId": "86c30877-acdc-45c4-d98a-0c2c00721a67"
      },
      "execution_count": 28,
      "outputs": [
        {
          "output_type": "stream",
          "name": "stdout",
          "text": [
            "hello\n"
          ]
        }
      ]
    },
    {
      "cell_type": "code",
      "source": [
        "input()"
      ],
      "metadata": {
        "id": "W_8RN7nemDD8",
        "colab": {
          "base_uri": "https://localhost:8080/",
          "height": 52
        },
        "outputId": "06df4228-32dd-4a7b-ac2c-d2f318628dfd"
      },
      "execution_count": 29,
      "outputs": [
        {
          "name": "stdout",
          "output_type": "stream",
          "text": [
            "hello\n"
          ]
        },
        {
          "output_type": "execute_result",
          "data": {
            "text/plain": [
              "'hello'"
            ],
            "application/vnd.google.colaboratory.intrinsic+json": {
              "type": "string"
            }
          },
          "metadata": {},
          "execution_count": 29
        }
      ]
    },
    {
      "cell_type": "code",
      "source": [
        "name = input()\n",
        "print(name)"
      ],
      "metadata": {
        "id": "bFVqAi9imDBP",
        "colab": {
          "base_uri": "https://localhost:8080/"
        },
        "outputId": "86d0c24a-2481-44f1-cb97-cc97ce2444cc"
      },
      "execution_count": 31,
      "outputs": [
        {
          "output_type": "stream",
          "name": "stdout",
          "text": [
            "Madhukrishna\n",
            "Madhukrishna\n"
          ]
        }
      ]
    },
    {
      "cell_type": "code",
      "source": [
        "name = input()\n",
        "print('hello',name)"
      ],
      "metadata": {
        "id": "dcDQsWcjmC-j",
        "colab": {
          "base_uri": "https://localhost:8080/"
        },
        "outputId": "f1468717-d293-46f0-9852-24de3efc28d6"
      },
      "execution_count": 32,
      "outputs": [
        {
          "output_type": "stream",
          "name": "stdout",
          "text": [
            "shashank\n",
            "hello shashank\n"
          ]
        }
      ]
    },
    {
      "cell_type": "code",
      "source": [
        "print(type(name))"
      ],
      "metadata": {
        "id": "_ejIgcW1mC7v",
        "colab": {
          "base_uri": "https://localhost:8080/"
        },
        "outputId": "5ae0a68c-6185-4b0a-fc47-64101714b265"
      },
      "execution_count": 33,
      "outputs": [
        {
          "output_type": "stream",
          "name": "stdout",
          "text": [
            "<class 'str'>\n"
          ]
        }
      ]
    },
    {
      "cell_type": "code",
      "source": [
        "age = input('enter your age: ')\n",
        "print('hello',age)"
      ],
      "metadata": {
        "id": "uQlaaD78mC5E",
        "colab": {
          "base_uri": "https://localhost:8080/"
        },
        "outputId": "c87c985b-7fc4-46b3-c273-a04d36f5432b"
      },
      "execution_count": 34,
      "outputs": [
        {
          "output_type": "stream",
          "name": "stdout",
          "text": [
            "enter your age: 35\n",
            "hello 35\n"
          ]
        }
      ]
    },
    {
      "cell_type": "code",
      "source": [
        "print(type(age))"
      ],
      "metadata": {
        "colab": {
          "base_uri": "https://localhost:8080/"
        },
        "id": "RU06siASCSlB",
        "outputId": "1068cab2-79e6-4d4a-d3b7-d609e08354e4"
      },
      "execution_count": 35,
      "outputs": [
        {
          "output_type": "stream",
          "name": "stdout",
          "text": [
            "<class 'str'>\n"
          ]
        }
      ]
    },
    {
      "cell_type": "code",
      "source": [
        "num1 = input('enter first number: ')\n",
        "num2 = input('enter first number: ')\n",
        "print(num1+num2)"
      ],
      "metadata": {
        "colab": {
          "base_uri": "https://localhost:8080/"
        },
        "id": "o1hanx_3Ce0h",
        "outputId": "483c1bbd-30d0-4076-e8df-719da7bfaa09"
      },
      "execution_count": 36,
      "outputs": [
        {
          "output_type": "stream",
          "name": "stdout",
          "text": [
            "enter first number: 10\n",
            "enter first number: 20.2\n",
            "1020.2\n"
          ]
        }
      ]
    },
    {
      "cell_type": "code",
      "source": [
        "num1=10\n",
        "num2=30\n",
        "print(num1+num2)"
      ],
      "metadata": {
        "colab": {
          "base_uri": "https://localhost:8080/"
        },
        "id": "iq15VysaEBOx",
        "outputId": "d1867a1e-ab1e-4990-9aa4-556889fece86"
      },
      "execution_count": 42,
      "outputs": [
        {
          "output_type": "stream",
          "name": "stdout",
          "text": [
            "40\n"
          ]
        }
      ]
    },
    {
      "cell_type": "code",
      "source": [
        "print('2' - \"2\")"
      ],
      "metadata": {
        "colab": {
          "base_uri": "https://localhost:8080/",
          "height": 201
        },
        "id": "rakmL0fwC6pE",
        "outputId": "b6ee3e42-ec45-4d08-e6b6-7aa9ad87e9bc"
      },
      "execution_count": 41,
      "outputs": [
        {
          "output_type": "error",
          "ename": "TypeError",
          "evalue": "ignored",
          "traceback": [
            "\u001b[0;31m---------------------------------------------------------------------------\u001b[0m",
            "\u001b[0;31mTypeError\u001b[0m                                 Traceback (most recent call last)",
            "\u001b[0;32m<ipython-input-41-044d3dafdbef>\u001b[0m in \u001b[0;36m<module>\u001b[0;34m\u001b[0m\n\u001b[0;32m----> 1\u001b[0;31m \u001b[0mprint\u001b[0m\u001b[0;34m(\u001b[0m\u001b[0;34m'2'\u001b[0m \u001b[0;34m-\u001b[0m \u001b[0;34m\"2\"\u001b[0m\u001b[0;34m)\u001b[0m\u001b[0;34m\u001b[0m\u001b[0;34m\u001b[0m\u001b[0m\n\u001b[0m",
            "\u001b[0;31mTypeError\u001b[0m: unsupported operand type(s) for -: 'str' and 'str'"
          ]
        }
      ]
    },
    {
      "cell_type": "code",
      "source": [
        "print(\"Scaler's data science program\")"
      ],
      "metadata": {
        "colab": {
          "base_uri": "https://localhost:8080/"
        },
        "id": "zgUQ5DRpC6mH",
        "outputId": "6dee26b0-c968-4c0d-e61f-a93962813922"
      },
      "execution_count": 40,
      "outputs": [
        {
          "output_type": "stream",
          "name": "stdout",
          "text": [
            "Scaler's data science program\n"
          ]
        }
      ]
    },
    {
      "cell_type": "code",
      "source": [],
      "metadata": {
        "id": "_y-Obax2C6jP"
      },
      "execution_count": null,
      "outputs": []
    },
    {
      "cell_type": "markdown",
      "source": [
        "#Type Casting:\n",
        "\n",
        "<img src = 'https://drive.google.com/uc?\n",
        "id=15vz_NzkhhcRuAMvlenFOm4CMfEx10SBo' width=300 height=200>\n",
        "\n",
        "\n"
      ],
      "metadata": {
        "id": "dt_t4aZKPPbS"
      }
    },
    {
      "cell_type": "code",
      "source": [
        "num1 = int(input('enter your 1st no.: '))\n",
        "num2 = int(input('enter your 2nd no.: '))\n",
        "print(num1-num2)"
      ],
      "metadata": {
        "id": "p4YxQD7WQtJL",
        "colab": {
          "base_uri": "https://localhost:8080/"
        },
        "outputId": "c0aa322b-d42d-4557-bc9e-cffc658c7b27"
      },
      "execution_count": 46,
      "outputs": [
        {
          "output_type": "stream",
          "name": "stdout",
          "text": [
            "enter your 1st no.: 10\n",
            "enter your 2nd no.: 20\n",
            "-10\n"
          ]
        }
      ]
    },
    {
      "cell_type": "code",
      "source": [
        "x = 3\n",
        "y = 'hello'\n",
        "num = y\n",
        "y = 5\n",
        "print(num,y)"
      ],
      "metadata": {
        "id": "P_NMibStQtGO",
        "colab": {
          "base_uri": "https://localhost:8080/"
        },
        "outputId": "c63bd1c2-e25d-4e41-895f-157c37db47b6"
      },
      "execution_count": 54,
      "outputs": [
        {
          "output_type": "stream",
          "name": "stdout",
          "text": [
            "hello/5/10/2022/hina#"
          ]
        }
      ]
    },
    {
      "cell_type": "code",
      "source": [],
      "metadata": {
        "id": "0qQFWphBQtDR"
      },
      "execution_count": null,
      "outputs": []
    },
    {
      "cell_type": "code",
      "source": [],
      "metadata": {
        "id": "C5ZIA6HiQtAX"
      },
      "execution_count": null,
      "outputs": []
    },
    {
      "cell_type": "code",
      "source": [],
      "metadata": {
        "id": "GdQN4hz3mDx_"
      },
      "execution_count": null,
      "outputs": []
    },
    {
      "cell_type": "code",
      "source": [],
      "metadata": {
        "id": "3vII7QK5mDvG"
      },
      "execution_count": null,
      "outputs": []
    },
    {
      "cell_type": "code",
      "source": [
        "print(10)"
      ],
      "metadata": {
        "id": "aqxkfeGbmDr_",
        "colab": {
          "base_uri": "https://localhost:8080/"
        },
        "outputId": "9e9f88da-80ae-4497-8542-c545633bc3ce"
      },
      "execution_count": 55,
      "outputs": [
        {
          "output_type": "stream",
          "name": "stdout",
          "text": [
            "10\n"
          ]
        }
      ]
    },
    {
      "cell_type": "code",
      "source": [
        "print(1+2)"
      ],
      "metadata": {
        "colab": {
          "base_uri": "https://localhost:8080/"
        },
        "id": "z2nnOsFRK9Kj",
        "outputId": "19b6ecfa-1fed-4a27-c1cb-127ce9776ae2"
      },
      "execution_count": 56,
      "outputs": [
        {
          "output_type": "stream",
          "name": "stdout",
          "text": [
            "3\n"
          ]
        }
      ]
    },
    {
      "cell_type": "code",
      "source": [
        "k=2\n",
        "num=2*k\n",
        "print(num)"
      ],
      "metadata": {
        "colab": {
          "base_uri": "https://localhost:8080/"
        },
        "id": "PsDeJCS0LZO5",
        "outputId": "c7fdaec7-0acc-4898-eb14-29f24e3615bb"
      },
      "execution_count": 58,
      "outputs": [
        {
          "output_type": "stream",
          "name": "stdout",
          "text": [
            "4\n"
          ]
        }
      ]
    },
    {
      "cell_type": "code",
      "source": [
        "x=print(input())\n"
      ],
      "metadata": {
        "colab": {
          "base_uri": "https://localhost:8080/"
        },
        "id": "idzp80nVLrqE",
        "outputId": "e1a35988-f560-4f53-ba86-25d32294023a"
      },
      "execution_count": 60,
      "outputs": [
        {
          "output_type": "stream",
          "name": "stdout",
          "text": [
            "2\n",
            "2\n"
          ]
        }
      ]
    },
    {
      "cell_type": "code",
      "source": [
        "x=print(input())\n",
        "print(x) "
      ],
      "metadata": {
        "colab": {
          "base_uri": "https://localhost:8080/"
        },
        "id": "iUQbM8jkNR_M",
        "outputId": "3cefe94d-e0c2-4d48-c397-9acf72591614"
      },
      "execution_count": 62,
      "outputs": [
        {
          "output_type": "stream",
          "name": "stdout",
          "text": [
            "2\n",
            "2\n",
            "None\n"
          ]
        }
      ]
    },
    {
      "cell_type": "code",
      "source": [
        "x=print()"
      ],
      "metadata": {
        "colab": {
          "base_uri": "https://localhost:8080/"
        },
        "id": "VO7HM4EUNW4x",
        "outputId": "99c93917-7d53-4c27-fb5d-3a43ee640009"
      },
      "execution_count": 63,
      "outputs": [
        {
          "output_type": "stream",
          "name": "stdout",
          "text": [
            "\n"
          ]
        }
      ]
    }
  ]
}