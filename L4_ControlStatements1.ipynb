{
  "nbformat": 4,
  "nbformat_minor": 0,
  "metadata": {
    "colab": {
      "provenance": [],
      "authorship_tag": "ABX9TyPleVy5tsfD7pPJuPQ7SxTn",
      "include_colab_link": true
    },
    "kernelspec": {
      "name": "python3",
      "display_name": "Python 3"
    },
    "language_info": {
      "name": "python"
    }
  },
  "cells": [
    {
      "cell_type": "markdown",
      "metadata": {
        "id": "view-in-github",
        "colab_type": "text"
      },
      "source": [
        "<a href=\"https://colab.research.google.com/github/Hina19/SeptemberBeginner2022/blob/main/L4_ControlStatements1.ipynb\" target=\"_parent\"><img src=\"https://colab.research.google.com/assets/colab-badge.svg\" alt=\"Open In Colab\"/></a>"
      ]
    },
    {
      "cell_type": "markdown",
      "source": [
        "## Comparison Operator:\n",
        "<img src='https://www.devopsschool.com/blog/wp-content/uploads/2020/08/relational-operator-in-python.png'>"
      ],
      "metadata": {
        "id": "DoBIKNcoe-vI"
      }
    },
    {
      "cell_type": "code",
      "source": [
        "x=5\n",
        "y=3\n",
        "print(x<y)"
      ],
      "metadata": {
        "id": "LV2WSa7KfNrz",
        "colab": {
          "base_uri": "https://localhost:8080/"
        },
        "outputId": "4b63015e-b1bc-4a25-84a9-f6dec13bb2cc"
      },
      "execution_count": 1,
      "outputs": [
        {
          "output_type": "stream",
          "name": "stdout",
          "text": [
            "False\n"
          ]
        }
      ]
    },
    {
      "cell_type": "code",
      "source": [
        "m1=50\n",
        "m2=80\n",
        "print(m1==m2)"
      ],
      "metadata": {
        "id": "NmDdwoZrfN3G",
        "colab": {
          "base_uri": "https://localhost:8080/"
        },
        "outputId": "9f54b1ec-fb13-44a3-9752-ace038ab2928"
      },
      "execution_count": 2,
      "outputs": [
        {
          "output_type": "stream",
          "name": "stdout",
          "text": [
            "False\n"
          ]
        }
      ]
    },
    {
      "cell_type": "code",
      "source": [
        "print('a'=='b')"
      ],
      "metadata": {
        "id": "7aaVeZ6XHlng",
        "colab": {
          "base_uri": "https://localhost:8080/"
        },
        "outputId": "b8e70fee-1b90-42ed-b3b5-164d6aaea8d8"
      },
      "execution_count": 3,
      "outputs": [
        {
          "output_type": "stream",
          "name": "stdout",
          "text": [
            "False\n"
          ]
        }
      ]
    },
    {
      "cell_type": "code",
      "source": [
        "print(bool('text'))"
      ],
      "metadata": {
        "id": "x3w__37bHldn",
        "colab": {
          "base_uri": "https://localhost:8080/"
        },
        "outputId": "6bfc759f-1ad9-4e0b-ffdf-d7ed96368a67"
      },
      "execution_count": 4,
      "outputs": [
        {
          "output_type": "stream",
          "name": "stdout",
          "text": [
            "True\n"
          ]
        }
      ]
    },
    {
      "cell_type": "code",
      "source": [
        "print('2'==2)"
      ],
      "metadata": {
        "id": "LAhjuIAhHlaz",
        "colab": {
          "base_uri": "https://localhost:8080/"
        },
        "outputId": "560f629e-6a84-4421-e17e-0117f0166d5e"
      },
      "execution_count": 5,
      "outputs": [
        {
          "output_type": "stream",
          "name": "stdout",
          "text": [
            "False\n"
          ]
        }
      ]
    },
    {
      "cell_type": "code",
      "source": [
        "print(False==0)"
      ],
      "metadata": {
        "id": "XkYJVfHfHlYD",
        "colab": {
          "base_uri": "https://localhost:8080/"
        },
        "outputId": "7722597c-a653-4eba-8c58-179f6c8bee86"
      },
      "execution_count": 6,
      "outputs": [
        {
          "output_type": "stream",
          "name": "stdout",
          "text": [
            "True\n"
          ]
        }
      ]
    },
    {
      "cell_type": "code",
      "source": [],
      "metadata": {
        "id": "qIprTeDTHlVE"
      },
      "execution_count": null,
      "outputs": []
    },
    {
      "cell_type": "code",
      "source": [],
      "metadata": {
        "id": "iiYzf2LFgvEj"
      },
      "execution_count": null,
      "outputs": []
    },
    {
      "cell_type": "markdown",
      "source": [
        "### Problem#1: Password check:\n",
        "\n",
        "<img src='https://www.archiofficeonline.com/ArchiOfficeHelp/change_password.png' height=300 width=500>"
      ],
      "metadata": {
        "id": "co4MUbHdfOqQ"
      }
    },
    {
      "cell_type": "code",
      "source": [
        "pass1 = input('enter your password: ')\n",
        "pass2 = input('retype your pwd: ')\n",
        "print(pass1 == pass2)"
      ],
      "metadata": {
        "id": "3SQl2eDG9nqr",
        "colab": {
          "base_uri": "https://localhost:8080/"
        },
        "outputId": "4d3bb222-f8fb-4588-ec09-9ed8e2659078"
      },
      "execution_count": 8,
      "outputs": [
        {
          "output_type": "stream",
          "name": "stdout",
          "text": [
            "enter your password: 1234_\n",
            "retype your pwd: 1234_0\n",
            "False\n"
          ]
        }
      ]
    },
    {
      "cell_type": "code",
      "source": [
        "print('cat'=='Cat')"
      ],
      "metadata": {
        "id": "G-XF7_NMHjTl",
        "colab": {
          "base_uri": "https://localhost:8080/"
        },
        "outputId": "8d18efdd-30f6-4b23-e757-368d13590283"
      },
      "execution_count": 9,
      "outputs": [
        {
          "output_type": "stream",
          "name": "stdout",
          "text": [
            "False\n"
          ]
        }
      ]
    },
    {
      "cell_type": "code",
      "source": [
        "print('cat'=='dog')"
      ],
      "metadata": {
        "id": "O21cHjSXHjJc",
        "colab": {
          "base_uri": "https://localhost:8080/"
        },
        "outputId": "441915c4-4ef7-4248-8ca0-93e90fa8c457"
      },
      "execution_count": 10,
      "outputs": [
        {
          "output_type": "stream",
          "name": "stdout",
          "text": [
            "False\n"
          ]
        }
      ]
    },
    {
      "cell_type": "code",
      "source": [
        "print(2==2.0)"
      ],
      "metadata": {
        "id": "qaXJ47K6HjGj",
        "colab": {
          "base_uri": "https://localhost:8080/"
        },
        "outputId": "d505e5fd-2bc8-438b-ca7d-a1ba91f1cc07"
      },
      "execution_count": 11,
      "outputs": [
        {
          "output_type": "stream",
          "name": "stdout",
          "text": [
            "True\n"
          ]
        }
      ]
    },
    {
      "cell_type": "code",
      "source": [
        "print(3==2.0)"
      ],
      "metadata": {
        "id": "BL4Qo8A8HjDx",
        "colab": {
          "base_uri": "https://localhost:8080/"
        },
        "outputId": "6210d829-94f2-4407-e76c-286a255ed18c"
      },
      "execution_count": 12,
      "outputs": [
        {
          "output_type": "stream",
          "name": "stdout",
          "text": [
            "False\n"
          ]
        }
      ]
    },
    {
      "cell_type": "code",
      "source": [
        "a=3\n",
        "#location or memory address using id() fxn\n",
        "print(id(a))"
      ],
      "metadata": {
        "colab": {
          "base_uri": "https://localhost:8080/"
        },
        "id": "4UjTLxRHixy4",
        "outputId": "76807580-e5a4-4c56-ee3f-54b3ff3852ef"
      },
      "execution_count": 15,
      "outputs": [
        {
          "output_type": "stream",
          "name": "stdout",
          "text": [
            "11122656\n"
          ]
        }
      ]
    },
    {
      "cell_type": "code",
      "source": [
        "a = a+3\n",
        "print(id(a))"
      ],
      "metadata": {
        "colab": {
          "base_uri": "https://localhost:8080/"
        },
        "id": "b9VnH-I4ixwQ",
        "outputId": "07562087-185f-426d-e70d-edbe5cea0e0a"
      },
      "execution_count": 16,
      "outputs": [
        {
          "output_type": "stream",
          "name": "stdout",
          "text": [
            "11122752\n"
          ]
        }
      ]
    },
    {
      "cell_type": "code",
      "source": [],
      "metadata": {
        "id": "60kkqCrDixtp"
      },
      "execution_count": null,
      "outputs": []
    },
    {
      "cell_type": "markdown",
      "source": [
        "## Assignment operators:\n",
        "\n",
        "<img src='https://www.devopsschool.com/blog/wp-content/uploads/2020/08/assignment-operator-in-python.png'>"
      ],
      "metadata": {
        "id": "8BKrE7w2fuMm"
      }
    },
    {
      "cell_type": "code",
      "source": [
        "a=3\n",
        "a=a+3\n",
        "print(a)"
      ],
      "metadata": {
        "id": "5NeCFWZ5_aYA",
        "colab": {
          "base_uri": "https://localhost:8080/"
        },
        "outputId": "4bc9e249-3c90-4aaf-ef85-fece5875e238"
      },
      "execution_count": 17,
      "outputs": [
        {
          "output_type": "stream",
          "name": "stdout",
          "text": [
            "6\n"
          ]
        }
      ]
    },
    {
      "cell_type": "code",
      "source": [
        "a=3\n",
        "a+=3\n",
        "print(a)"
      ],
      "metadata": {
        "id": "F57FzY2H_aVX",
        "colab": {
          "base_uri": "https://localhost:8080/"
        },
        "outputId": "55132cb8-16a3-4576-82b2-ec429c3cfb8a"
      },
      "execution_count": 18,
      "outputs": [
        {
          "output_type": "stream",
          "name": "stdout",
          "text": [
            "6\n"
          ]
        }
      ]
    },
    {
      "cell_type": "code",
      "source": [
        "a=3\n",
        "a+ =3\n",
        "print(a)"
      ],
      "metadata": {
        "id": "pgRCCtliHg7T",
        "colab": {
          "base_uri": "https://localhost:8080/",
          "height": 131
        },
        "outputId": "b47b5127-e57f-4f16-9978-b9b8ccf27ddf"
      },
      "execution_count": 19,
      "outputs": [
        {
          "output_type": "error",
          "ename": "SyntaxError",
          "evalue": "ignored",
          "traceback": [
            "\u001b[0;36m  File \u001b[0;32m\"<ipython-input-19-aff6874743ac>\"\u001b[0;36m, line \u001b[0;32m2\u001b[0m\n\u001b[0;31m    a+ =3\u001b[0m\n\u001b[0m       ^\u001b[0m\n\u001b[0;31mSyntaxError\u001b[0m\u001b[0;31m:\u001b[0m invalid syntax\n"
          ]
        }
      ]
    },
    {
      "cell_type": "code",
      "source": [
        "a=3\n",
        "print(id(a))\n",
        "a=+3\n",
        "print(id(a))\n",
        "print(a)"
      ],
      "metadata": {
        "id": "xHm-52-_Hg4Y",
        "colab": {
          "base_uri": "https://localhost:8080/"
        },
        "outputId": "e111319b-db03-49ec-a308-c382f68846c2"
      },
      "execution_count": 21,
      "outputs": [
        {
          "output_type": "stream",
          "name": "stdout",
          "text": [
            "11122656\n",
            "11122656\n",
            "3\n"
          ]
        }
      ]
    },
    {
      "cell_type": "code",
      "source": [
        "a=10\n",
        "a-=10\n",
        "print(a)"
      ],
      "metadata": {
        "id": "ZP-3VF3PHg1x",
        "colab": {
          "base_uri": "https://localhost:8080/"
        },
        "outputId": "fca147e1-428d-40d9-e78e-aae333fcace9"
      },
      "execution_count": 22,
      "outputs": [
        {
          "output_type": "stream",
          "name": "stdout",
          "text": [
            "0\n"
          ]
        }
      ]
    },
    {
      "cell_type": "code",
      "source": [
        "a=10\n",
        "a+=10\n",
        "print(a)"
      ],
      "metadata": {
        "id": "nZ0u3C6iz8GY",
        "colab": {
          "base_uri": "https://localhost:8080/"
        },
        "outputId": "95bae92d-2000-4c9a-b297-510eb704a5f0"
      },
      "execution_count": 23,
      "outputs": [
        {
          "output_type": "stream",
          "name": "stdout",
          "text": [
            "20\n"
          ]
        }
      ]
    },
    {
      "cell_type": "code",
      "source": [
        "a=10\n",
        "a*=10\n",
        "print(a)"
      ],
      "metadata": {
        "colab": {
          "base_uri": "https://localhost:8080/"
        },
        "id": "vWlfZzlFmf08",
        "outputId": "b7853b99-8ca0-4517-cc71-b4314821d720"
      },
      "execution_count": 24,
      "outputs": [
        {
          "output_type": "stream",
          "name": "stdout",
          "text": [
            "100\n"
          ]
        }
      ]
    },
    {
      "cell_type": "code",
      "source": [
        "a=10\n",
        "a/=10\n",
        "print(a)"
      ],
      "metadata": {
        "colab": {
          "base_uri": "https://localhost:8080/"
        },
        "id": "v-UegcrjmfyU",
        "outputId": "73375b54-6bd0-4f4b-8a89-25098997ade7"
      },
      "execution_count": 25,
      "outputs": [
        {
          "output_type": "stream",
          "name": "stdout",
          "text": [
            "1.0\n"
          ]
        }
      ]
    },
    {
      "cell_type": "code",
      "source": [
        "a=6\n",
        "a-=9\n",
        "print(a)"
      ],
      "metadata": {
        "colab": {
          "base_uri": "https://localhost:8080/"
        },
        "id": "WhFaogj0mfvb",
        "outputId": "8839939d-dc1a-4831-d7cd-7001187f2165"
      },
      "execution_count": 26,
      "outputs": [
        {
          "output_type": "stream",
          "name": "stdout",
          "text": [
            "-3\n"
          ]
        }
      ]
    },
    {
      "cell_type": "code",
      "source": [],
      "metadata": {
        "id": "Jgb4zZiGmfsC"
      },
      "execution_count": null,
      "outputs": []
    },
    {
      "cell_type": "markdown",
      "source": [
        "###Problem #2:\n",
        " Write a program to implement the re-valuation system. The Student wrote an exam and score X marks. He found that there is a mistake in the evaluation as he suppose to get more marks for a question and reported for re-evaluation\n",
        "\n",
        "Input:\n",
        "\n",
        "original marks : 96\n",
        "\n",
        "more marks: 04\n",
        "\n",
        "Output:\n",
        "\n",
        "Final marks: 100"
      ],
      "metadata": {
        "id": "RGtADgG-gR6o"
      }
    },
    {
      "cell_type": "code",
      "source": [
        "original_marks = int(input('enter your marks: '))\n",
        "corrected_marks = int(input('enter more marks: '))\n",
        "original_marks+=corrected_marks\n",
        "print(original_marks)"
      ],
      "metadata": {
        "id": "GVm4dql6gvaS",
        "colab": {
          "base_uri": "https://localhost:8080/"
        },
        "outputId": "d9efe534-6beb-444f-a08e-d7f99772fe91"
      },
      "execution_count": 27,
      "outputs": [
        {
          "output_type": "stream",
          "name": "stdout",
          "text": [
            "enter your marks: 96\n",
            "enter more marks: 04\n",
            "100\n"
          ]
        }
      ]
    },
    {
      "cell_type": "code",
      "source": [],
      "metadata": {
        "id": "tdxRGm1Qgwvr"
      },
      "execution_count": null,
      "outputs": []
    },
    {
      "cell_type": "code",
      "source": [],
      "metadata": {
        "id": "Xto766D3Hep7"
      },
      "execution_count": null,
      "outputs": []
    },
    {
      "cell_type": "code",
      "source": [],
      "metadata": {
        "id": "DU6gZJO6HenS"
      },
      "execution_count": null,
      "outputs": []
    },
    {
      "cell_type": "code",
      "source": [],
      "metadata": {
        "id": "n5CbLn00z8oH"
      },
      "execution_count": null,
      "outputs": []
    },
    {
      "cell_type": "markdown",
      "source": [
        "##Logical Operators:\n",
        "<img src='https://www.devopsschool.com/blog/wp-content/uploads/2020/08/logical-operator-in-python-1.png'>"
      ],
      "metadata": {
        "id": "TRhO56tShHp8"
      }
    },
    {
      "cell_type": "code",
      "source": [
        "a = True\n",
        "b= False\n",
        "print( a or b)"
      ],
      "metadata": {
        "id": "JZMCH08qhQFN",
        "colab": {
          "base_uri": "https://localhost:8080/"
        },
        "outputId": "b451b133-7e04-4723-df5c-2a51e361464b"
      },
      "execution_count": 28,
      "outputs": [
        {
          "output_type": "stream",
          "name": "stdout",
          "text": [
            "True\n"
          ]
        }
      ]
    },
    {
      "cell_type": "code",
      "source": [
        "a = False\n",
        "b= False\n",
        "print( a or b)"
      ],
      "metadata": {
        "id": "M95nRQ6mhQCm",
        "colab": {
          "base_uri": "https://localhost:8080/"
        },
        "outputId": "47982cc9-a10c-4825-9606-8f467b46069c"
      },
      "execution_count": 29,
      "outputs": [
        {
          "output_type": "stream",
          "name": "stdout",
          "text": [
            "False\n"
          ]
        }
      ]
    },
    {
      "cell_type": "code",
      "source": [
        "x=50\n",
        "y=100\n",
        "print(x>40 and y<150)"
      ],
      "metadata": {
        "id": "FR7ovwnMhP_1",
        "colab": {
          "base_uri": "https://localhost:8080/"
        },
        "outputId": "64ffbb82-4d08-4c30-be05-ce1a07a43fdb"
      },
      "execution_count": 30,
      "outputs": [
        {
          "output_type": "stream",
          "name": "stdout",
          "text": [
            "True\n"
          ]
        }
      ]
    },
    {
      "cell_type": "code",
      "source": [
        "x=50\n",
        "y=100\n",
        "print(x>60 or y<150)"
      ],
      "metadata": {
        "id": "MdRIv9XHz9AU",
        "colab": {
          "base_uri": "https://localhost:8080/"
        },
        "outputId": "5a3c5f6d-8daf-49f4-8ef1-0ecff4859cc9"
      },
      "execution_count": 31,
      "outputs": [
        {
          "output_type": "stream",
          "name": "stdout",
          "text": [
            "True\n"
          ]
        }
      ]
    },
    {
      "cell_type": "code",
      "source": [],
      "metadata": {
        "id": "KSjVXRkft9AG"
      },
      "execution_count": null,
      "outputs": []
    },
    {
      "cell_type": "markdown",
      "source": [
        "### Problem #3:\n",
        "\n",
        "\n",
        "Write a program for an ATM machine that is running low on cash only dispenses a single note at a time. The program needs to verifies if the requested withdrawal amount is either Rs 500, or Rs 1000, or Rs 2000. On successful request the program should return transaction status as True. False otherwise."
      ],
      "metadata": {
        "id": "X9wUXorXhnBR"
      }
    },
    {
      "cell_type": "code",
      "source": [
        "amt = int(input('withdrawal amount'))\n",
        "print(amt==500 or amt==1000 or amt==2000)"
      ],
      "metadata": {
        "id": "fKn1fOJiht4S",
        "colab": {
          "base_uri": "https://localhost:8080/"
        },
        "outputId": "74953576-d41c-4f40-b57b-e60e786a392d"
      },
      "execution_count": 33,
      "outputs": [
        {
          "output_type": "stream",
          "name": "stdout",
          "text": [
            "withdrawal amount1000\n",
            "True\n"
          ]
        }
      ]
    },
    {
      "cell_type": "code",
      "source": [],
      "metadata": {
        "id": "ok-KoaV6hwGi"
      },
      "execution_count": null,
      "outputs": []
    },
    {
      "cell_type": "code",
      "source": [],
      "metadata": {
        "id": "JXddsMaFh0aW"
      },
      "execution_count": null,
      "outputs": []
    },
    {
      "cell_type": "code",
      "source": [],
      "metadata": {
        "id": "LFiKBP21z9ke"
      },
      "execution_count": null,
      "outputs": []
    },
    {
      "cell_type": "markdown",
      "source": [
        "\n",
        "### Problem #4\n",
        "\n",
        "Write a program to determine student passed or failed in a subject. If the student gets between 50 to 100, then he passed, return pass report as True. Otherwise he failed, return False."
      ],
      "metadata": {
        "id": "6QzMHO9nh1h3"
      }
    },
    {
      "cell_type": "code",
      "source": [
        "marks = int(input('enter your marks:'))\n",
        "print(marks>=50 and marks<=100)"
      ],
      "metadata": {
        "id": "8k3T5B2HiHAJ",
        "colab": {
          "base_uri": "https://localhost:8080/"
        },
        "outputId": "e1cab6a4-ce0d-4897-96bd-68f3f89878dd"
      },
      "execution_count": 45,
      "outputs": [
        {
          "output_type": "stream",
          "name": "stdout",
          "text": [
            "enter your marks:34\n",
            "False\n"
          ]
        }
      ]
    },
    {
      "cell_type": "code",
      "source": [
        "marks = int(input('enter your marks:'))\n",
        "print(50<=marks<=100)"
      ],
      "metadata": {
        "id": "i7zzpsjyiG9W",
        "colab": {
          "base_uri": "https://localhost:8080/"
        },
        "outputId": "8aca1183-20b2-4392-a879-c7cedada89cb"
      },
      "execution_count": 46,
      "outputs": [
        {
          "output_type": "stream",
          "name": "stdout",
          "text": [
            "enter your marks:34\n",
            "False\n"
          ]
        }
      ]
    },
    {
      "cell_type": "code",
      "source": [],
      "metadata": {
        "id": "I9nlKiHJiG6o"
      },
      "execution_count": null,
      "outputs": []
    },
    {
      "cell_type": "code",
      "source": [],
      "metadata": {
        "id": "KlrsnUpRz99e"
      },
      "execution_count": null,
      "outputs": []
    },
    {
      "cell_type": "markdown",
      "source": [
        "## Control statements:\n",
        "<img src=https://d1whtlypfis84e.cloudfront.net/guides/wp-content/uploads/2021/06/29090322/if-else-flowchart.jpg height=400 witdh=400>"
      ],
      "metadata": {
        "id": "LWZv-oW0HrTM"
      }
    },
    {
      "cell_type": "code",
      "source": [
        "temp = int(input('enter the outside temperatur:'))\n",
        "if temp<25:\n",
        "  print('Wear Jacket')\n",
        "else:\n",
        "  print('Wear Tshirt')"
      ],
      "metadata": {
        "id": "_OABNkR-IUEa",
        "colab": {
          "base_uri": "https://localhost:8080/"
        },
        "outputId": "e32345cf-51fe-464c-b03b-ad306b3a591b"
      },
      "execution_count": 35,
      "outputs": [
        {
          "output_type": "stream",
          "name": "stdout",
          "text": [
            "enter the outside temperatur:31\n",
            "Wear Tshirt\n"
          ]
        }
      ]
    },
    {
      "cell_type": "code",
      "source": [
        "if 5>1:\n",
        "  print('5 is greater than 1')\n",
        "  print('Well done')"
      ],
      "metadata": {
        "id": "rIop9Px-IUBX",
        "colab": {
          "base_uri": "https://localhost:8080/"
        },
        "outputId": "794c0d85-ad61-4165-f511-84b042fed1b2"
      },
      "execution_count": 36,
      "outputs": [
        {
          "output_type": "stream",
          "name": "stdout",
          "text": [
            "5 is greater than 1\n",
            "Well done\n"
          ]
        }
      ]
    },
    {
      "cell_type": "code",
      "source": [
        "if 5<1:\n",
        "  print('5 is greater than 1')\n",
        "  print('Well done')"
      ],
      "metadata": {
        "id": "3I-dlOzXIT-P"
      },
      "execution_count": 37,
      "outputs": []
    },
    {
      "cell_type": "code",
      "source": [
        "if 5<1:\n",
        "  print('5 is greater than 1')\n",
        "  print('Well done')\n",
        "print('Finished')"
      ],
      "metadata": {
        "id": "rb4F_lDJIzlz",
        "colab": {
          "base_uri": "https://localhost:8080/"
        },
        "outputId": "a2fe837a-20a8-4230-c484-19a5c4ca8add"
      },
      "execution_count": 38,
      "outputs": [
        {
          "output_type": "stream",
          "name": "stdout",
          "text": [
            "Finished\n"
          ]
        }
      ]
    },
    {
      "cell_type": "code",
      "source": [
        "if 5>1:\n",
        "  print('5 is greater than 1')\n",
        "  print('Well done')\n",
        "print('Finished')"
      ],
      "metadata": {
        "id": "xQtBGLCZIziS",
        "colab": {
          "base_uri": "https://localhost:8080/"
        },
        "outputId": "e195ad43-dd6b-46bf-ee57-3e4cbc285087"
      },
      "execution_count": 40,
      "outputs": [
        {
          "output_type": "stream",
          "name": "stdout",
          "text": [
            "5 is greater than 1\n",
            "Well done\n",
            "Finished\n"
          ]
        }
      ]
    },
    {
      "cell_type": "code",
      "source": [
        "x=5\n",
        "if x==5:\n",
        "  x=7\n",
        "print(x)"
      ],
      "metadata": {
        "colab": {
          "base_uri": "https://localhost:8080/"
        },
        "id": "af_w8tgT2UzE",
        "outputId": "ad93c9e4-8e61-44aa-c8e3-8f257a990758"
      },
      "execution_count": 41,
      "outputs": [
        {
          "output_type": "stream",
          "name": "stdout",
          "text": [
            "7\n"
          ]
        }
      ]
    },
    {
      "cell_type": "markdown",
      "source": [
        "### Problem #5: \n",
        "Write a program to Check the person has diabetes or not. Take blood sugar level as input and if it is more than 126 , mention the person has diabetic or else normal"
      ],
      "metadata": {
        "id": "aZHKxg8u4nlR"
      }
    },
    {
      "cell_type": "code",
      "source": [
        "bloodSugarLevel = float(input('enter your sugar level'))\n",
        "if bloodSugarLevel>126:\n",
        "  print('You have diabetes')\n",
        "else:\n",
        "  print('you are fine')"
      ],
      "metadata": {
        "id": "UJt-5xMcHaDO",
        "colab": {
          "base_uri": "https://localhost:8080/"
        },
        "outputId": "dce162d5-54f8-4cbf-a563-385defcfc5cf"
      },
      "execution_count": 42,
      "outputs": [
        {
          "output_type": "stream",
          "name": "stdout",
          "text": [
            "enter your sugar level120\n",
            "you are fine\n"
          ]
        }
      ]
    },
    {
      "cell_type": "code",
      "source": [
        "x = 20\n",
        "y = 5\n",
        "result = (x + True) / (4 - y * False)\n",
        "print(result)"
      ],
      "metadata": {
        "id": "jjvNjFOBHaAX",
        "colab": {
          "base_uri": "https://localhost:8080/"
        },
        "outputId": "46b66396-1ff6-4733-bf5e-50fd75634a00"
      },
      "execution_count": 44,
      "outputs": [
        {
          "output_type": "stream",
          "name": "stdout",
          "text": [
            "5.25\n"
          ]
        }
      ]
    },
    {
      "cell_type": "code",
      "source": [
        "BloodSugarLevel = int(input(\"Enter your Blood Sugar Level: \"))\n",
        "if BloodSugarLevel>126:\n",
        "  print(\"You have Diabates\")\n",
        "else:\n",
        "  print(\"You are Fine: \")\n"
      ],
      "metadata": {
        "id": "8rg4vOrdHZ9u",
        "colab": {
          "base_uri": "https://localhost:8080/"
        },
        "outputId": "992a008f-48d7-4286-f63f-f5f1a246f436"
      },
      "execution_count": 48,
      "outputs": [
        {
          "output_type": "stream",
          "name": "stdout",
          "text": [
            "Enter your Blood Sugar Level: 123\n",
            "You are Fine: \n"
          ]
        }
      ]
    },
    {
      "cell_type": "code",
      "source": [
        "n1 = input()\n",
        "n2 = input()\n",
        "print(n1, 'says Hi to', n2)"
      ],
      "metadata": {
        "id": "FG9Hof4Ez-4A",
        "colab": {
          "base_uri": "https://localhost:8080/"
        },
        "outputId": "f8843912-f1eb-4045-f865-e93d8e5ccaf3"
      },
      "execution_count": 49,
      "outputs": [
        {
          "output_type": "stream",
          "name": "stdout",
          "text": [
            "a\n",
            "b\n",
            "a says Hi to b\n"
          ]
        }
      ]
    }
  ]
}