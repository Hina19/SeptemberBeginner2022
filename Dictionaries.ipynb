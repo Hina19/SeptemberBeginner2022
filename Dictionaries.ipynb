{
  "nbformat": 4,
  "nbformat_minor": 0,
  "metadata": {
    "colab": {
      "provenance": [],
      "collapsed_sections": [],
      "authorship_tag": "ABX9TyP0YFLAEOB6Tuu8SnJKV05D",
      "include_colab_link": true
    },
    "kernelspec": {
      "name": "python3",
      "display_name": "Python 3"
    },
    "language_info": {
      "name": "python"
    }
  },
  "cells": [
    {
      "cell_type": "markdown",
      "metadata": {
        "id": "view-in-github",
        "colab_type": "text"
      },
      "source": [
        "<a href=\"https://colab.research.google.com/github/Hina19/SeptemberBeginner2022/blob/main/Dictionaries.ipynb\" target=\"_parent\"><img src=\"https://colab.research.google.com/assets/colab-badge.svg\" alt=\"Open In Colab\"/></a>"
      ]
    },
    {
      "cell_type": "code",
      "source": [
        "!python --version"
      ],
      "metadata": {
        "colab": {
          "base_uri": "https://localhost:8080/"
        },
        "id": "oaYGbTFLtzw1",
        "outputId": "84f32fd6-8d46-4e7b-fbf7-b9d56c23aa16"
      },
      "execution_count": 79,
      "outputs": [
        {
          "output_type": "stream",
          "name": "stdout",
          "text": [
            "Python 3.7.15\n"
          ]
        }
      ]
    },
    {
      "cell_type": "markdown",
      "source": [
        "# Create an dict"
      ],
      "metadata": {
        "id": "KMw4iLyS3BQV"
      }
    },
    {
      "cell_type": "code",
      "source": [
        "s = {}\n",
        "type(s)"
      ],
      "metadata": {
        "colab": {
          "base_uri": "https://localhost:8080/"
        },
        "id": "vX2v9frUtzts",
        "outputId": "0a9b1ea2-e841-4680-90c5-9928c73f3762"
      },
      "execution_count": 80,
      "outputs": [
        {
          "output_type": "execute_result",
          "data": {
            "text/plain": [
              "dict"
            ]
          },
          "metadata": {},
          "execution_count": 80
        }
      ]
    },
    {
      "cell_type": "code",
      "source": [
        "s = set()\n",
        "type(s)"
      ],
      "metadata": {
        "colab": {
          "base_uri": "https://localhost:8080/"
        },
        "id": "wJISZCWttzq1",
        "outputId": "0d8ccc4f-2a08-45e5-9cfc-c0c597e2ef4b"
      },
      "execution_count": 81,
      "outputs": [
        {
          "output_type": "execute_result",
          "data": {
            "text/plain": [
              "set"
            ]
          },
          "metadata": {},
          "execution_count": 81
        }
      ]
    },
    {
      "cell_type": "code",
      "source": [
        "d = dict()\n",
        "type(d)"
      ],
      "metadata": {
        "colab": {
          "base_uri": "https://localhost:8080/"
        },
        "id": "63IUNQndtzn8",
        "outputId": "cdd97106-5811-4f4f-decf-b93cfd2f77db"
      },
      "execution_count": 82,
      "outputs": [
        {
          "output_type": "execute_result",
          "data": {
            "text/plain": [
              "dict"
            ]
          },
          "metadata": {},
          "execution_count": 82
        }
      ]
    },
    {
      "cell_type": "code",
      "source": [
        "d = {}\n",
        "type(d)"
      ],
      "metadata": {
        "colab": {
          "base_uri": "https://localhost:8080/"
        },
        "id": "1F09HmJstzlT",
        "outputId": "aacb60a8-0581-4259-c4a2-73fd532cbe7e"
      },
      "execution_count": 83,
      "outputs": [
        {
          "output_type": "execute_result",
          "data": {
            "text/plain": [
              "dict"
            ]
          },
          "metadata": {},
          "execution_count": 83
        }
      ]
    },
    {
      "cell_type": "code",
      "source": [
        "#store fruits name as well as price\n",
        "fruits = {'apple':200,'mango':150,'banana':60,'papaya':50}\n",
        "type(fruits)"
      ],
      "metadata": {
        "colab": {
          "base_uri": "https://localhost:8080/"
        },
        "id": "KQ8DLXmatzia",
        "outputId": "4fc7eaa0-7843-4f6d-f8f0-8cbaae2ce783"
      },
      "execution_count": 84,
      "outputs": [
        {
          "output_type": "execute_result",
          "data": {
            "text/plain": [
              "dict"
            ]
          },
          "metadata": {},
          "execution_count": 84
        }
      ]
    },
    {
      "cell_type": "code",
      "source": [
        "fruits"
      ],
      "metadata": {
        "colab": {
          "base_uri": "https://localhost:8080/"
        },
        "id": "Tb0vfaOUtzfK",
        "outputId": "228c06ff-b4e5-4a07-bbf1-c1b2942ccf44"
      },
      "execution_count": 85,
      "outputs": [
        {
          "output_type": "execute_result",
          "data": {
            "text/plain": [
              "{'apple': 200, 'mango': 150, 'banana': 60, 'papaya': 50}"
            ]
          },
          "metadata": {},
          "execution_count": 85
        }
      ]
    },
    {
      "cell_type": "code",
      "source": [
        "d = {'a':1,\"b\":2,'c':3,'d','e'}"
      ],
      "metadata": {
        "colab": {
          "base_uri": "https://localhost:8080/",
          "height": 132
        },
        "id": "P4l4DrQ8tzbU",
        "outputId": "ed2d9e80-2ae5-4d56-e8a9-275a82fa248f"
      },
      "execution_count": 86,
      "outputs": [
        {
          "output_type": "error",
          "ename": "SyntaxError",
          "evalue": "ignored",
          "traceback": [
            "\u001b[0;36m  File \u001b[0;32m\"<ipython-input-86-83867728d988>\"\u001b[0;36m, line \u001b[0;32m1\u001b[0m\n\u001b[0;31m    d = {'a':1,\"b\":2,'c':3,'d','e'}\u001b[0m\n\u001b[0m                              ^\u001b[0m\n\u001b[0;31mSyntaxError\u001b[0m\u001b[0;31m:\u001b[0m invalid syntax\n"
          ]
        }
      ]
    },
    {
      "cell_type": "code",
      "source": [
        "runs = {1:50,2:100,3:80,4:0}\n",
        "runs"
      ],
      "metadata": {
        "colab": {
          "base_uri": "https://localhost:8080/"
        },
        "id": "2zssEB3ptzPv",
        "outputId": "e917c4d2-dfff-4766-ff29-01c5ae34f7b3"
      },
      "execution_count": 87,
      "outputs": [
        {
          "output_type": "execute_result",
          "data": {
            "text/plain": [
              "{1: 50, 2: 100, 3: 80, 4: 0}"
            ]
          },
          "metadata": {},
          "execution_count": 87
        }
      ]
    },
    {
      "cell_type": "code",
      "source": [
        "#quiz\n",
        "d = {}\n",
        "print(type(d))"
      ],
      "metadata": {
        "colab": {
          "base_uri": "https://localhost:8080/"
        },
        "id": "37dCQZ-1tzM3",
        "outputId": "d95131c2-00a2-45bc-cbf4-cfed4c081024"
      },
      "execution_count": 88,
      "outputs": [
        {
          "output_type": "stream",
          "name": "stdout",
          "text": [
            "<class 'dict'>\n"
          ]
        }
      ]
    },
    {
      "cell_type": "code",
      "source": [
        "#quiz\n",
        "# What does the following Python code output?\n",
        "words = {\n",
        "\"is\": 2,\n",
        "\"hello\": 3,\n",
        "\"the\": 4\n",
        "}\n",
        "\n",
        "type(words)"
      ],
      "metadata": {
        "colab": {
          "base_uri": "https://localhost:8080/"
        },
        "id": "nMhNRjuvtzJp",
        "outputId": "fb7422ba-1e36-47da-d121-e0a744908103"
      },
      "execution_count": 89,
      "outputs": [
        {
          "output_type": "execute_result",
          "data": {
            "text/plain": [
              "dict"
            ]
          },
          "metadata": {},
          "execution_count": 89
        }
      ]
    },
    {
      "cell_type": "markdown",
      "source": [
        "#access an element"
      ],
      "metadata": {
        "id": "skrUnsTU7AZL"
      }
    },
    {
      "cell_type": "code",
      "source": [
        "fruits"
      ],
      "metadata": {
        "colab": {
          "base_uri": "https://localhost:8080/"
        },
        "id": "NzeN7MA77CiI",
        "outputId": "1bf086fa-7451-48e2-808c-99e39d847c2f"
      },
      "execution_count": 90,
      "outputs": [
        {
          "output_type": "execute_result",
          "data": {
            "text/plain": [
              "{'apple': 200, 'mango': 150, 'banana': 60, 'papaya': 50}"
            ]
          },
          "metadata": {},
          "execution_count": 90
        }
      ]
    },
    {
      "cell_type": "code",
      "source": [
        "fruits[0]"
      ],
      "metadata": {
        "colab": {
          "base_uri": "https://localhost:8080/",
          "height": 168
        },
        "id": "B57LGXqv7Fbh",
        "outputId": "4c2e6f80-c69f-4fbe-c304-b3d8f01691f7"
      },
      "execution_count": 91,
      "outputs": [
        {
          "output_type": "error",
          "ename": "KeyError",
          "evalue": "ignored",
          "traceback": [
            "\u001b[0;31m---------------------------------------------------------------------------\u001b[0m",
            "\u001b[0;31mKeyError\u001b[0m                                  Traceback (most recent call last)",
            "\u001b[0;32m<ipython-input-91-98ea8473cce4>\u001b[0m in \u001b[0;36m<module>\u001b[0;34m\u001b[0m\n\u001b[0;32m----> 1\u001b[0;31m \u001b[0mfruits\u001b[0m\u001b[0;34m[\u001b[0m\u001b[0;36m0\u001b[0m\u001b[0;34m]\u001b[0m\u001b[0;34m\u001b[0m\u001b[0;34m\u001b[0m\u001b[0m\n\u001b[0m",
            "\u001b[0;31mKeyError\u001b[0m: 0"
          ]
        }
      ]
    },
    {
      "cell_type": "code",
      "source": [
        "fruits['apple']"
      ],
      "metadata": {
        "colab": {
          "base_uri": "https://localhost:8080/"
        },
        "id": "slIIKqWH7Wk1",
        "outputId": "13cfec4a-de18-41c7-e143-f36c3196291b"
      },
      "execution_count": 92,
      "outputs": [
        {
          "output_type": "execute_result",
          "data": {
            "text/plain": [
              "200"
            ]
          },
          "metadata": {},
          "execution_count": 92
        }
      ]
    },
    {
      "cell_type": "code",
      "source": [
        "fruits['mango']"
      ],
      "metadata": {
        "colab": {
          "base_uri": "https://localhost:8080/"
        },
        "id": "yqbljnYK7hbc",
        "outputId": "478ab2ba-5518-43ea-ecbc-98dfaaf0e4f5"
      },
      "execution_count": 93,
      "outputs": [
        {
          "output_type": "execute_result",
          "data": {
            "text/plain": [
              "150"
            ]
          },
          "metadata": {},
          "execution_count": 93
        }
      ]
    },
    {
      "cell_type": "code",
      "source": [
        "#allow duplicat enteries\n",
        "#store fruits name as well as price\n",
        "fruits = {'apple':200,'mango':150,'banana':60,'papaya':50,'apple':160}\n",
        "fruits"
      ],
      "metadata": {
        "colab": {
          "base_uri": "https://localhost:8080/"
        },
        "id": "sW6iT3oS7rsw",
        "outputId": "ce0d281f-1ee4-41eb-b053-a202178f3f9d"
      },
      "execution_count": 95,
      "outputs": [
        {
          "output_type": "execute_result",
          "data": {
            "text/plain": [
              "{'apple': 160, 'mango': 150, 'banana': 60, 'papaya': 50}"
            ]
          },
          "metadata": {},
          "execution_count": 95
        }
      ]
    },
    {
      "cell_type": "code",
      "source": [
        "# What does the following Python code output?\n",
        "words = {\n",
        "\"is\": 2,\n",
        "\"hello\": 3,\n",
        "\"the\": 4\n",
        "}\n",
        "this_count = words[\"this\"]\n",
        "\n",
        "print(this_count)"
      ],
      "metadata": {
        "colab": {
          "base_uri": "https://localhost:8080/",
          "height": 239
        },
        "id": "jhyhsotf8SdT",
        "outputId": "3584169f-9867-4722-8373-5dbb25686615"
      },
      "execution_count": 96,
      "outputs": [
        {
          "output_type": "error",
          "ename": "KeyError",
          "evalue": "ignored",
          "traceback": [
            "\u001b[0;31m---------------------------------------------------------------------------\u001b[0m",
            "\u001b[0;31mKeyError\u001b[0m                                  Traceback (most recent call last)",
            "\u001b[0;32m<ipython-input-96-cc7f65fbced8>\u001b[0m in \u001b[0;36m<module>\u001b[0;34m\u001b[0m\n\u001b[1;32m      5\u001b[0m \u001b[0;34m\"the\"\u001b[0m\u001b[0;34m:\u001b[0m \u001b[0;36m4\u001b[0m\u001b[0;34m\u001b[0m\u001b[0;34m\u001b[0m\u001b[0m\n\u001b[1;32m      6\u001b[0m }\n\u001b[0;32m----> 7\u001b[0;31m \u001b[0mthis_count\u001b[0m \u001b[0;34m=\u001b[0m \u001b[0mwords\u001b[0m\u001b[0;34m[\u001b[0m\u001b[0;34m\"this\"\u001b[0m\u001b[0;34m]\u001b[0m\u001b[0;34m\u001b[0m\u001b[0;34m\u001b[0m\u001b[0m\n\u001b[0m\u001b[1;32m      8\u001b[0m \u001b[0;34m\u001b[0m\u001b[0m\n\u001b[1;32m      9\u001b[0m \u001b[0mprint\u001b[0m\u001b[0;34m(\u001b[0m\u001b[0mthis_count\u001b[0m\u001b[0;34m)\u001b[0m\u001b[0;34m\u001b[0m\u001b[0;34m\u001b[0m\u001b[0m\n",
            "\u001b[0;31mKeyError\u001b[0m: 'this'"
          ]
        }
      ]
    },
    {
      "cell_type": "code",
      "source": [
        "fruits"
      ],
      "metadata": {
        "colab": {
          "base_uri": "https://localhost:8080/"
        },
        "id": "Ce2BAO0H8008",
        "outputId": "8b635cd4-d8b7-4730-f247-7797f871e344"
      },
      "execution_count": 98,
      "outputs": [
        {
          "output_type": "execute_result",
          "data": {
            "text/plain": [
              "{'apple': 160, 'mango': 150, 'banana': 60, 'papaya': 50}"
            ]
          },
          "metadata": {},
          "execution_count": 98
        }
      ]
    },
    {
      "cell_type": "code",
      "source": [
        "fruits['Mango']"
      ],
      "metadata": {
        "colab": {
          "base_uri": "https://localhost:8080/",
          "height": 168
        },
        "id": "w82doxJ48uU7",
        "outputId": "c2ce55b3-49d0-4347-c2f7-35fd18589a7c"
      },
      "execution_count": 97,
      "outputs": [
        {
          "output_type": "error",
          "ename": "KeyError",
          "evalue": "ignored",
          "traceback": [
            "\u001b[0;31m---------------------------------------------------------------------------\u001b[0m",
            "\u001b[0;31mKeyError\u001b[0m                                  Traceback (most recent call last)",
            "\u001b[0;32m<ipython-input-97-077f1f0ebbda>\u001b[0m in \u001b[0;36m<module>\u001b[0;34m\u001b[0m\n\u001b[0;32m----> 1\u001b[0;31m \u001b[0mfruits\u001b[0m\u001b[0;34m[\u001b[0m\u001b[0;34m'Mango'\u001b[0m\u001b[0;34m]\u001b[0m\u001b[0;34m\u001b[0m\u001b[0;34m\u001b[0m\u001b[0m\n\u001b[0m",
            "\u001b[0;31mKeyError\u001b[0m: 'Mango'"
          ]
        }
      ]
    },
    {
      "cell_type": "code",
      "source": [
        "fruits['mango']"
      ],
      "metadata": {
        "colab": {
          "base_uri": "https://localhost:8080/"
        },
        "id": "YO_gP0YP89ik",
        "outputId": "4540b7ad-b9ee-46d9-b34e-d618156d8a7f"
      },
      "execution_count": 99,
      "outputs": [
        {
          "output_type": "execute_result",
          "data": {
            "text/plain": [
              "150"
            ]
          },
          "metadata": {},
          "execution_count": 99
        }
      ]
    },
    {
      "cell_type": "markdown",
      "source": [
        "#how to add <k,v> pair in the dict"
      ],
      "metadata": {
        "id": "bi6oDxZ49Ncr"
      }
    },
    {
      "cell_type": "code",
      "source": [
        "lst = [1,2,3,4,5]\n",
        "lst[2]=30\n",
        "lst"
      ],
      "metadata": {
        "colab": {
          "base_uri": "https://localhost:8080/"
        },
        "id": "vXKUUnOY9S2E",
        "outputId": "f63af795-853d-4ac6-d227-d3a5929e46ba"
      },
      "execution_count": 100,
      "outputs": [
        {
          "output_type": "execute_result",
          "data": {
            "text/plain": [
              "[1, 2, 30, 4, 5]"
            ]
          },
          "metadata": {},
          "execution_count": 100
        }
      ]
    },
    {
      "cell_type": "code",
      "source": [
        "d = {'a':1,'b':2,'c':3}\n",
        "d"
      ],
      "metadata": {
        "colab": {
          "base_uri": "https://localhost:8080/"
        },
        "id": "RjHcvjUM9lct",
        "outputId": "93b4f2ff-1220-45df-c8ee-5e098d64dd30"
      },
      "execution_count": 101,
      "outputs": [
        {
          "output_type": "execute_result",
          "data": {
            "text/plain": [
              "{'a': 1, 'b': 2, 'c': 3}"
            ]
          },
          "metadata": {},
          "execution_count": 101
        }
      ]
    },
    {
      "cell_type": "code",
      "source": [
        "d['e']"
      ],
      "metadata": {
        "colab": {
          "base_uri": "https://localhost:8080/",
          "height": 168
        },
        "id": "4cbbbUHw9qte",
        "outputId": "b6c912bd-2c97-45b2-a24d-27159649c873"
      },
      "execution_count": 102,
      "outputs": [
        {
          "output_type": "error",
          "ename": "KeyError",
          "evalue": "ignored",
          "traceback": [
            "\u001b[0;31m---------------------------------------------------------------------------\u001b[0m",
            "\u001b[0;31mKeyError\u001b[0m                                  Traceback (most recent call last)",
            "\u001b[0;32m<ipython-input-102-06ba894b5834>\u001b[0m in \u001b[0;36m<module>\u001b[0;34m\u001b[0m\n\u001b[0;32m----> 1\u001b[0;31m \u001b[0md\u001b[0m\u001b[0;34m[\u001b[0m\u001b[0;34m'e'\u001b[0m\u001b[0;34m]\u001b[0m\u001b[0;34m\u001b[0m\u001b[0;34m\u001b[0m\u001b[0m\n\u001b[0m",
            "\u001b[0;31mKeyError\u001b[0m: 'e'"
          ]
        }
      ]
    },
    {
      "cell_type": "code",
      "source": [
        "d['e']=5\n",
        "d"
      ],
      "metadata": {
        "colab": {
          "base_uri": "https://localhost:8080/"
        },
        "id": "qti1QHkA9vrI",
        "outputId": "1b73b9fc-e820-44b5-da0b-1288855412b6"
      },
      "execution_count": 103,
      "outputs": [
        {
          "output_type": "execute_result",
          "data": {
            "text/plain": [
              "{'a': 1, 'b': 2, 'c': 3, 'e': 5}"
            ]
          },
          "metadata": {},
          "execution_count": 103
        }
      ]
    },
    {
      "cell_type": "code",
      "source": [
        "d['d']=6\n",
        "d"
      ],
      "metadata": {
        "colab": {
          "base_uri": "https://localhost:8080/"
        },
        "id": "IRWyeqxX956l",
        "outputId": "6a59e8e9-0c67-4da8-ee07-f7667155c305"
      },
      "execution_count": 104,
      "outputs": [
        {
          "output_type": "execute_result",
          "data": {
            "text/plain": [
              "{'a': 1, 'b': 2, 'c': 3, 'e': 5, 'd': 6}"
            ]
          },
          "metadata": {},
          "execution_count": 104
        }
      ]
    },
    {
      "cell_type": "code",
      "source": [
        "fruits"
      ],
      "metadata": {
        "colab": {
          "base_uri": "https://localhost:8080/"
        },
        "id": "4CCBAevF-Bln",
        "outputId": "027819ee-c085-4fd7-fd24-f56751f90466"
      },
      "execution_count": 105,
      "outputs": [
        {
          "output_type": "execute_result",
          "data": {
            "text/plain": [
              "{'apple': 160, 'mango': 150, 'banana': 60, 'papaya': 50}"
            ]
          },
          "metadata": {},
          "execution_count": 105
        }
      ]
    },
    {
      "cell_type": "code",
      "source": [
        "fruits['mango']=100"
      ],
      "metadata": {
        "id": "u8MTP3Zy-DN-"
      },
      "execution_count": 106,
      "outputs": []
    },
    {
      "cell_type": "code",
      "source": [
        "fruits"
      ],
      "metadata": {
        "colab": {
          "base_uri": "https://localhost:8080/"
        },
        "id": "JsQPY54T-J4e",
        "outputId": "7b5eb54b-e5a6-48e6-9726-0359396ea9bd"
      },
      "execution_count": 107,
      "outputs": [
        {
          "output_type": "execute_result",
          "data": {
            "text/plain": [
              "{'apple': 160, 'mango': 100, 'banana': 60, 'papaya': 50}"
            ]
          },
          "metadata": {},
          "execution_count": 107
        }
      ]
    },
    {
      "cell_type": "code",
      "source": [
        "fruits['kiwi']=100\n",
        "fruits"
      ],
      "metadata": {
        "colab": {
          "base_uri": "https://localhost:8080/"
        },
        "id": "sSKlYzTU-Xg6",
        "outputId": "c84e82e9-fd94-4d4a-a714-8ec508a3f366"
      },
      "execution_count": 108,
      "outputs": [
        {
          "output_type": "execute_result",
          "data": {
            "text/plain": [
              "{'apple': 160, 'mango': 100, 'banana': 60, 'papaya': 50, 'kiwi': 100}"
            ]
          },
          "metadata": {},
          "execution_count": 108
        }
      ]
    },
    {
      "cell_type": "code",
      "source": [
        "fruits['cheeku']"
      ],
      "metadata": {
        "colab": {
          "base_uri": "https://localhost:8080/",
          "height": 168
        },
        "id": "LhP4jKrQ-f3I",
        "outputId": "44754670-f1c9-4a70-c7c4-f1b13d27fb40"
      },
      "execution_count": 109,
      "outputs": [
        {
          "output_type": "error",
          "ename": "KeyError",
          "evalue": "ignored",
          "traceback": [
            "\u001b[0;31m---------------------------------------------------------------------------\u001b[0m",
            "\u001b[0;31mKeyError\u001b[0m                                  Traceback (most recent call last)",
            "\u001b[0;32m<ipython-input-109-9c503ac436fc>\u001b[0m in \u001b[0;36m<module>\u001b[0;34m\u001b[0m\n\u001b[0;32m----> 1\u001b[0;31m \u001b[0mfruits\u001b[0m\u001b[0;34m[\u001b[0m\u001b[0;34m'cheeku'\u001b[0m\u001b[0;34m]\u001b[0m\u001b[0;34m\u001b[0m\u001b[0;34m\u001b[0m\u001b[0m\n\u001b[0m",
            "\u001b[0;31mKeyError\u001b[0m: 'cheeku'"
          ]
        }
      ]
    },
    {
      "cell_type": "code",
      "source": [
        "fruits['cheeku'] = 80\n",
        "fruits"
      ],
      "metadata": {
        "colab": {
          "base_uri": "https://localhost:8080/"
        },
        "id": "W6Wi12jV-jLZ",
        "outputId": "37fadd27-3ba6-4a9d-ac4b-89ee316ea7a9"
      },
      "execution_count": 110,
      "outputs": [
        {
          "output_type": "execute_result",
          "data": {
            "text/plain": [
              "{'apple': 160,\n",
              " 'mango': 100,\n",
              " 'banana': 60,\n",
              " 'papaya': 50,\n",
              " 'kiwi': 100,\n",
              " 'cheeku': 80}"
            ]
          },
          "metadata": {},
          "execution_count": 110
        }
      ]
    },
    {
      "cell_type": "code",
      "source": [
        "#multiple values at the same time\n",
        "fruits.update({'berry':90,'watermelon':90,'pear':50.55}\n",
        ")\n",
        "fruits"
      ],
      "metadata": {
        "colab": {
          "base_uri": "https://localhost:8080/"
        },
        "id": "LMbvCGhW-zyd",
        "outputId": "681498f3-c591-4f2b-d456-b39c65a41a26"
      },
      "execution_count": 111,
      "outputs": [
        {
          "output_type": "execute_result",
          "data": {
            "text/plain": [
              "{'apple': 160,\n",
              " 'mango': 100,\n",
              " 'banana': 60,\n",
              " 'papaya': 50,\n",
              " 'kiwi': 100,\n",
              " 'cheeku': 80,\n",
              " 'berry': 90,\n",
              " 'watermelon': 90,\n",
              " 'pear': 50.55}"
            ]
          },
          "metadata": {},
          "execution_count": 111
        }
      ]
    },
    {
      "cell_type": "code",
      "source": [
        "#quiz\n",
        "# What is the output of the following code?\n",
        "d = {\"a\": 1, \"b\": 2, \"c\": 3}\n",
        "d['d'] = 55\n",
        "\n",
        "print(d['d'])"
      ],
      "metadata": {
        "colab": {
          "base_uri": "https://localhost:8080/"
        },
        "id": "240Uzje0_em3",
        "outputId": "ccc7264f-18ab-4d19-da43-dc0052d83696"
      },
      "execution_count": 112,
      "outputs": [
        {
          "output_type": "stream",
          "name": "stdout",
          "text": [
            "55\n"
          ]
        }
      ]
    },
    {
      "cell_type": "code",
      "source": [
        "d"
      ],
      "metadata": {
        "colab": {
          "base_uri": "https://localhost:8080/"
        },
        "id": "eDUurdm1BlNe",
        "outputId": "b40a7b9a-536f-43f0-d075-c4afa71c0766"
      },
      "execution_count": 113,
      "outputs": [
        {
          "output_type": "execute_result",
          "data": {
            "text/plain": [
              "{'a': 1, 'b': 2, 'c': 3, 'd': 55}"
            ]
          },
          "metadata": {},
          "execution_count": 113
        }
      ]
    },
    {
      "cell_type": "code",
      "source": [
        "d['a'] = 15\n",
        "d"
      ],
      "metadata": {
        "colab": {
          "base_uri": "https://localhost:8080/"
        },
        "id": "c7QJUl8RBmkt",
        "outputId": "0e8624e5-1f47-4a89-ca53-df6bc4dcdb0b"
      },
      "execution_count": 114,
      "outputs": [
        {
          "output_type": "execute_result",
          "data": {
            "text/plain": [
              "{'a': 15, 'b': 2, 'c': 3, 'd': 55}"
            ]
          },
          "metadata": {},
          "execution_count": 114
        }
      ]
    },
    {
      "cell_type": "code",
      "source": [
        "fruits"
      ],
      "metadata": {
        "colab": {
          "base_uri": "https://localhost:8080/"
        },
        "id": "eD5lMExDBxAM",
        "outputId": "a258e39f-18c6-4044-b476-6c3a209a0ebc"
      },
      "execution_count": 115,
      "outputs": [
        {
          "output_type": "execute_result",
          "data": {
            "text/plain": [
              "{'apple': 160,\n",
              " 'mango': 100,\n",
              " 'banana': 60,\n",
              " 'papaya': 50,\n",
              " 'kiwi': 100,\n",
              " 'cheeku': 80,\n",
              " 'berry': 90,\n",
              " 'watermelon': 90,\n",
              " 'pear': 50.55}"
            ]
          },
          "metadata": {},
          "execution_count": 115
        }
      ]
    },
    {
      "cell_type": "code",
      "source": [
        "fruits['orange']"
      ],
      "metadata": {
        "colab": {
          "base_uri": "https://localhost:8080/",
          "height": 168
        },
        "id": "9Pd0AteqByzS",
        "outputId": "6c0e805d-5614-42aa-b0b4-fba3a5645e4b"
      },
      "execution_count": 116,
      "outputs": [
        {
          "output_type": "error",
          "ename": "KeyError",
          "evalue": "ignored",
          "traceback": [
            "\u001b[0;31m---------------------------------------------------------------------------\u001b[0m",
            "\u001b[0;31mKeyError\u001b[0m                                  Traceback (most recent call last)",
            "\u001b[0;32m<ipython-input-116-5393a3c079a3>\u001b[0m in \u001b[0;36m<module>\u001b[0;34m\u001b[0m\n\u001b[0;32m----> 1\u001b[0;31m \u001b[0mfruits\u001b[0m\u001b[0;34m[\u001b[0m\u001b[0;34m'orange'\u001b[0m\u001b[0;34m]\u001b[0m\u001b[0;34m\u001b[0m\u001b[0;34m\u001b[0m\u001b[0m\n\u001b[0m",
            "\u001b[0;31mKeyError\u001b[0m: 'orange'"
          ]
        }
      ]
    },
    {
      "cell_type": "code",
      "source": [
        "fruits.get('pear')"
      ],
      "metadata": {
        "colab": {
          "base_uri": "https://localhost:8080/"
        },
        "id": "fPrTf9chB-Zp",
        "outputId": "c6466d60-b6e9-49d5-bea1-4322b8318360"
      },
      "execution_count": 118,
      "outputs": [
        {
          "output_type": "execute_result",
          "data": {
            "text/plain": [
              "50.55"
            ]
          },
          "metadata": {},
          "execution_count": 118
        }
      ]
    },
    {
      "cell_type": "code",
      "source": [
        "fruits['pear']"
      ],
      "metadata": {
        "colab": {
          "base_uri": "https://localhost:8080/"
        },
        "id": "yuJaFs8gCYJT",
        "outputId": "aacac742-d95d-45d7-ff50-12709b4b498a"
      },
      "execution_count": 120,
      "outputs": [
        {
          "output_type": "execute_result",
          "data": {
            "text/plain": [
              "50.55"
            ]
          },
          "metadata": {},
          "execution_count": 120
        }
      ]
    },
    {
      "cell_type": "code",
      "source": [
        "fruits.get('orange')#to avoid key errors"
      ],
      "metadata": {
        "id": "jar2w5yECGU6"
      },
      "execution_count": 119,
      "outputs": []
    },
    {
      "cell_type": "code",
      "source": [
        "help(fruits)"
      ],
      "metadata": {
        "colab": {
          "base_uri": "https://localhost:8080/"
        },
        "id": "tdHnlGvGCgar",
        "outputId": "b7aa932e-f036-4e3f-c927-ee611487d42a"
      },
      "execution_count": 121,
      "outputs": [
        {
          "output_type": "stream",
          "name": "stdout",
          "text": [
            "Help on dict object:\n",
            "\n",
            "class dict(object)\n",
            " |  dict() -> new empty dictionary\n",
            " |  dict(mapping) -> new dictionary initialized from a mapping object's\n",
            " |      (key, value) pairs\n",
            " |  dict(iterable) -> new dictionary initialized as if via:\n",
            " |      d = {}\n",
            " |      for k, v in iterable:\n",
            " |          d[k] = v\n",
            " |  dict(**kwargs) -> new dictionary initialized with the name=value pairs\n",
            " |      in the keyword argument list.  For example:  dict(one=1, two=2)\n",
            " |  \n",
            " |  Methods defined here:\n",
            " |  \n",
            " |  __contains__(self, key, /)\n",
            " |      True if the dictionary has the specified key, else False.\n",
            " |  \n",
            " |  __delitem__(self, key, /)\n",
            " |      Delete self[key].\n",
            " |  \n",
            " |  __eq__(self, value, /)\n",
            " |      Return self==value.\n",
            " |  \n",
            " |  __ge__(self, value, /)\n",
            " |      Return self>=value.\n",
            " |  \n",
            " |  __getattribute__(self, name, /)\n",
            " |      Return getattr(self, name).\n",
            " |  \n",
            " |  __getitem__(...)\n",
            " |      x.__getitem__(y) <==> x[y]\n",
            " |  \n",
            " |  __gt__(self, value, /)\n",
            " |      Return self>value.\n",
            " |  \n",
            " |  __init__(self, /, *args, **kwargs)\n",
            " |      Initialize self.  See help(type(self)) for accurate signature.\n",
            " |  \n",
            " |  __iter__(self, /)\n",
            " |      Implement iter(self).\n",
            " |  \n",
            " |  __le__(self, value, /)\n",
            " |      Return self<=value.\n",
            " |  \n",
            " |  __len__(self, /)\n",
            " |      Return len(self).\n",
            " |  \n",
            " |  __lt__(self, value, /)\n",
            " |      Return self<value.\n",
            " |  \n",
            " |  __ne__(self, value, /)\n",
            " |      Return self!=value.\n",
            " |  \n",
            " |  __repr__(self, /)\n",
            " |      Return repr(self).\n",
            " |  \n",
            " |  __setitem__(self, key, value, /)\n",
            " |      Set self[key] to value.\n",
            " |  \n",
            " |  __sizeof__(...)\n",
            " |      D.__sizeof__() -> size of D in memory, in bytes\n",
            " |  \n",
            " |  clear(...)\n",
            " |      D.clear() -> None.  Remove all items from D.\n",
            " |  \n",
            " |  copy(...)\n",
            " |      D.copy() -> a shallow copy of D\n",
            " |  \n",
            " |  get(self, key, default=None, /)\n",
            " |      Return the value for key if key is in the dictionary, else default.\n",
            " |  \n",
            " |  items(...)\n",
            " |      D.items() -> a set-like object providing a view on D's items\n",
            " |  \n",
            " |  keys(...)\n",
            " |      D.keys() -> a set-like object providing a view on D's keys\n",
            " |  \n",
            " |  pop(...)\n",
            " |      D.pop(k[,d]) -> v, remove specified key and return the corresponding value.\n",
            " |      If key is not found, d is returned if given, otherwise KeyError is raised\n",
            " |  \n",
            " |  popitem(...)\n",
            " |      D.popitem() -> (k, v), remove and return some (key, value) pair as a\n",
            " |      2-tuple; but raise KeyError if D is empty.\n",
            " |  \n",
            " |  setdefault(self, key, default=None, /)\n",
            " |      Insert key with a value of default if key is not in the dictionary.\n",
            " |      \n",
            " |      Return the value for key if key is in the dictionary, else default.\n",
            " |  \n",
            " |  update(...)\n",
            " |      D.update([E, ]**F) -> None.  Update D from dict/iterable E and F.\n",
            " |      If E is present and has a .keys() method, then does:  for k in E: D[k] = E[k]\n",
            " |      If E is present and lacks a .keys() method, then does:  for k, v in E: D[k] = v\n",
            " |      In either case, this is followed by: for k in F:  D[k] = F[k]\n",
            " |  \n",
            " |  values(...)\n",
            " |      D.values() -> an object providing a view on D's values\n",
            " |  \n",
            " |  ----------------------------------------------------------------------\n",
            " |  Class methods defined here:\n",
            " |  \n",
            " |  fromkeys(iterable, value=None, /) from builtins.type\n",
            " |      Create a new dictionary with keys from iterable and values set to value.\n",
            " |  \n",
            " |  ----------------------------------------------------------------------\n",
            " |  Static methods defined here:\n",
            " |  \n",
            " |  __new__(*args, **kwargs) from builtins.type\n",
            " |      Create and return a new object.  See help(type) for accurate signature.\n",
            " |  \n",
            " |  ----------------------------------------------------------------------\n",
            " |  Data and other attributes defined here:\n",
            " |  \n",
            " |  __hash__ = None\n",
            "\n"
          ]
        }
      ]
    },
    {
      "cell_type": "code",
      "source": [
        "fruits.get('orange','not found')"
      ],
      "metadata": {
        "colab": {
          "base_uri": "https://localhost:8080/",
          "height": 36
        },
        "id": "Vhf8teGbCmfJ",
        "outputId": "9361e127-38d9-41cf-e3f9-6d1144311be5"
      },
      "execution_count": 122,
      "outputs": [
        {
          "output_type": "execute_result",
          "data": {
            "text/plain": [
              "'not found'"
            ],
            "application/vnd.google.colaboratory.intrinsic+json": {
              "type": "string"
            }
          },
          "metadata": {},
          "execution_count": 122
        }
      ]
    },
    {
      "cell_type": "code",
      "source": [
        "fruits.get('orange',-1)"
      ],
      "metadata": {
        "colab": {
          "base_uri": "https://localhost:8080/"
        },
        "id": "1tFB4Cz0Cy-j",
        "outputId": "e5960ab9-247a-4e60-b422-ce1ca480189f"
      },
      "execution_count": 123,
      "outputs": [
        {
          "output_type": "execute_result",
          "data": {
            "text/plain": [
              "-1"
            ]
          },
          "metadata": {},
          "execution_count": 123
        }
      ]
    },
    {
      "cell_type": "code",
      "source": [
        "fruits.get('orange',200)"
      ],
      "metadata": {
        "colab": {
          "base_uri": "https://localhost:8080/"
        },
        "id": "dOf-N7pCC4Q9",
        "outputId": "2ba6535d-fd85-43de-d34b-f07d9c7536f7"
      },
      "execution_count": 124,
      "outputs": [
        {
          "output_type": "execute_result",
          "data": {
            "text/plain": [
              "200"
            ]
          },
          "metadata": {},
          "execution_count": 124
        }
      ]
    },
    {
      "cell_type": "code",
      "source": [
        "#quiz\n",
        "# What is the output of the following code?\n",
        "d = {\"a\": 1, \"b\": 2, \"c\": 3}\n",
        "print(d.get(\"a\", 0))\n",
        "print(d.get(\"b\", 0))\n",
        "print(d.get(\"c\", 0))\n",
        "print(d.get(\"d\", 0))"
      ],
      "metadata": {
        "colab": {
          "base_uri": "https://localhost:8080/"
        },
        "id": "4TYVYSAtC_0G",
        "outputId": "5798dfd5-819b-4af7-b22f-8022f22de39a"
      },
      "execution_count": 125,
      "outputs": [
        {
          "output_type": "stream",
          "name": "stdout",
          "text": [
            "1\n",
            "2\n",
            "3\n",
            "0\n"
          ]
        }
      ]
    },
    {
      "cell_type": "markdown",
      "source": [
        "#iterate"
      ],
      "metadata": {
        "id": "vG00vAUjDoe2"
      }
    },
    {
      "cell_type": "code",
      "source": [
        "lst = [1,2,3,4]\n",
        "for i in lst:\n",
        "  print(i)"
      ],
      "metadata": {
        "colab": {
          "base_uri": "https://localhost:8080/"
        },
        "id": "DVXkfoDcDrkg",
        "outputId": "e316225b-0182-4cd0-9f4e-f9d24c36133d"
      },
      "execution_count": 126,
      "outputs": [
        {
          "output_type": "stream",
          "name": "stdout",
          "text": [
            "1\n",
            "2\n",
            "3\n",
            "4\n"
          ]
        }
      ]
    },
    {
      "cell_type": "code",
      "source": [
        "fruits"
      ],
      "metadata": {
        "colab": {
          "base_uri": "https://localhost:8080/"
        },
        "id": "86jAqazyDx2x",
        "outputId": "4979e8da-bcf4-4251-8ea7-46f5552e3b6e"
      },
      "execution_count": 127,
      "outputs": [
        {
          "output_type": "execute_result",
          "data": {
            "text/plain": [
              "{'apple': 160,\n",
              " 'mango': 100,\n",
              " 'banana': 60,\n",
              " 'papaya': 50,\n",
              " 'kiwi': 100,\n",
              " 'cheeku': 80,\n",
              " 'berry': 90,\n",
              " 'watermelon': 90,\n",
              " 'pear': 50.55}"
            ]
          },
          "metadata": {},
          "execution_count": 127
        }
      ]
    },
    {
      "cell_type": "code",
      "source": [
        "for i in fruits:\n",
        "  print(i)#only keys"
      ],
      "metadata": {
        "colab": {
          "base_uri": "https://localhost:8080/"
        },
        "id": "FOtcuCwND2hy",
        "outputId": "eb189866-4d9b-4e66-d44f-ff359b7aba7e"
      },
      "execution_count": 128,
      "outputs": [
        {
          "output_type": "stream",
          "name": "stdout",
          "text": [
            "apple\n",
            "mango\n",
            "banana\n",
            "papaya\n",
            "kiwi\n",
            "cheeku\n",
            "berry\n",
            "watermelon\n",
            "pear\n"
          ]
        }
      ]
    },
    {
      "cell_type": "code",
      "source": [
        "fruits.keys()"
      ],
      "metadata": {
        "colab": {
          "base_uri": "https://localhost:8080/"
        },
        "id": "g9iO1YeXEHU_",
        "outputId": "370389c3-9b07-459f-8a18-61a5f2476ed3"
      },
      "execution_count": 129,
      "outputs": [
        {
          "output_type": "execute_result",
          "data": {
            "text/plain": [
              "dict_keys(['apple', 'mango', 'banana', 'papaya', 'kiwi', 'cheeku', 'berry', 'watermelon', 'pear'])"
            ]
          },
          "metadata": {},
          "execution_count": 129
        }
      ]
    },
    {
      "cell_type": "code",
      "source": [
        "#values\n",
        "for i in fruits:\n",
        "  print(fruits[i])"
      ],
      "metadata": {
        "colab": {
          "base_uri": "https://localhost:8080/"
        },
        "id": "RqNFhBWLEU1Y",
        "outputId": "b66eac16-8520-4145-94ad-097c35235d8d"
      },
      "execution_count": 130,
      "outputs": [
        {
          "output_type": "stream",
          "name": "stdout",
          "text": [
            "160\n",
            "100\n",
            "60\n",
            "50\n",
            "100\n",
            "80\n",
            "90\n",
            "90\n",
            "50.55\n"
          ]
        }
      ]
    },
    {
      "cell_type": "code",
      "source": [
        "for i in fruits:\n",
        "  print(fruits.get(i))"
      ],
      "metadata": {
        "colab": {
          "base_uri": "https://localhost:8080/"
        },
        "id": "Zo4twSR9EfIN",
        "outputId": "78fae8fd-75f5-4401-e630-2a8174ca495e"
      },
      "execution_count": 131,
      "outputs": [
        {
          "output_type": "stream",
          "name": "stdout",
          "text": [
            "160\n",
            "100\n",
            "60\n",
            "50\n",
            "100\n",
            "80\n",
            "90\n",
            "90\n",
            "50.55\n"
          ]
        }
      ]
    },
    {
      "cell_type": "code",
      "source": [
        "fruits.values()"
      ],
      "metadata": {
        "colab": {
          "base_uri": "https://localhost:8080/"
        },
        "id": "FjU51ChIE0yY",
        "outputId": "9457aa65-ae1c-4da1-9a44-12f8075e305b"
      },
      "execution_count": 132,
      "outputs": [
        {
          "output_type": "execute_result",
          "data": {
            "text/plain": [
              "dict_values([160, 100, 60, 50, 100, 80, 90, 90, 50.55])"
            ]
          },
          "metadata": {},
          "execution_count": 132
        }
      ]
    },
    {
      "cell_type": "code",
      "source": [
        "#key values pair:\n",
        "for i in fruits:\n",
        "  print(i,fruits.get(i))"
      ],
      "metadata": {
        "colab": {
          "base_uri": "https://localhost:8080/"
        },
        "id": "DfYBkwqaFHhz",
        "outputId": "59905c03-123e-450d-9321-348eafd7ee07"
      },
      "execution_count": 134,
      "outputs": [
        {
          "output_type": "stream",
          "name": "stdout",
          "text": [
            "apple 160\n",
            "mango 100\n",
            "banana 60\n",
            "papaya 50\n",
            "kiwi 100\n",
            "cheeku 80\n",
            "berry 90\n",
            "watermelon 90\n",
            "pear 50.55\n"
          ]
        }
      ]
    },
    {
      "cell_type": "code",
      "source": [
        "#key values pair:\n",
        "for i in fruits:\n",
        "  print(i,fruits[i])"
      ],
      "metadata": {
        "colab": {
          "base_uri": "https://localhost:8080/"
        },
        "id": "yrG4zzwnFTbJ",
        "outputId": "8061c657-61e5-4150-c4b4-45f61192e6a7"
      },
      "execution_count": 135,
      "outputs": [
        {
          "output_type": "stream",
          "name": "stdout",
          "text": [
            "apple 160\n",
            "mango 100\n",
            "banana 60\n",
            "papaya 50\n",
            "kiwi 100\n",
            "cheeku 80\n",
            "berry 90\n",
            "watermelon 90\n",
            "pear 50.55\n"
          ]
        }
      ]
    },
    {
      "cell_type": "code",
      "source": [
        "#both keys and values pair\n",
        "fruits.items()"
      ],
      "metadata": {
        "colab": {
          "base_uri": "https://localhost:8080/"
        },
        "id": "ysZRzusFFcF_",
        "outputId": "339fce7c-6d31-4dc5-b6bf-e928573a3dae"
      },
      "execution_count": 136,
      "outputs": [
        {
          "output_type": "execute_result",
          "data": {
            "text/plain": [
              "dict_items([('apple', 160), ('mango', 100), ('banana', 60), ('papaya', 50), ('kiwi', 100), ('cheeku', 80), ('berry', 90), ('watermelon', 90), ('pear', 50.55)])"
            ]
          },
          "metadata": {},
          "execution_count": 136
        }
      ]
    },
    {
      "cell_type": "code",
      "source": [
        "for i in fruits.items():\n",
        "  print(i)"
      ],
      "metadata": {
        "colab": {
          "base_uri": "https://localhost:8080/"
        },
        "id": "OjZ9ReG4FuRA",
        "outputId": "2029f70c-2459-479a-fbd7-6f9febd023c0"
      },
      "execution_count": 137,
      "outputs": [
        {
          "output_type": "stream",
          "name": "stdout",
          "text": [
            "('apple', 160)\n",
            "('mango', 100)\n",
            "('banana', 60)\n",
            "('papaya', 50)\n",
            "('kiwi', 100)\n",
            "('cheeku', 80)\n",
            "('berry', 90)\n",
            "('watermelon', 90)\n",
            "('pear', 50.55)\n"
          ]
        }
      ]
    },
    {
      "cell_type": "code",
      "source": [
        "k,v = ('apple',120)\n",
        "print(k)\n",
        "print(v)"
      ],
      "metadata": {
        "colab": {
          "base_uri": "https://localhost:8080/"
        },
        "id": "tUC9Jnu0F-T_",
        "outputId": "6c596156-1625-4462-bf31-f3941e8c2bc8"
      },
      "execution_count": 138,
      "outputs": [
        {
          "output_type": "stream",
          "name": "stdout",
          "text": [
            "apple\n",
            "120\n"
          ]
        }
      ]
    },
    {
      "cell_type": "code",
      "source": [
        "fruits.items()"
      ],
      "metadata": {
        "colab": {
          "base_uri": "https://localhost:8080/"
        },
        "id": "rjbE3uD-GzRn",
        "outputId": "924a4faf-0790-47c5-c8d4-e77ce732364e"
      },
      "execution_count": 140,
      "outputs": [
        {
          "output_type": "execute_result",
          "data": {
            "text/plain": [
              "dict_items([('apple', 160), ('mango', 100), ('banana', 60), ('papaya', 50), ('kiwi', 100), ('cheeku', 80), ('berry', 90), ('watermelon', 90), ('pear', 50.55)])"
            ]
          },
          "metadata": {},
          "execution_count": 140
        }
      ]
    },
    {
      "cell_type": "code",
      "source": [
        "for i in fruits.items():\n",
        "  k,v = i\n",
        "  print(k,v,sep=':')"
      ],
      "metadata": {
        "colab": {
          "base_uri": "https://localhost:8080/"
        },
        "id": "d-ED0_vPGiaz",
        "outputId": "17bf76d7-037f-46ea-c1e5-d1ede4cfdee0"
      },
      "execution_count": 144,
      "outputs": [
        {
          "output_type": "stream",
          "name": "stdout",
          "text": [
            "apple:160\n",
            "mango:100\n",
            "banana:60\n",
            "papaya:50\n",
            "kiwi:100\n",
            "cheeku:80\n",
            "berry:90\n",
            "watermelon:90\n",
            "pear:50.55\n"
          ]
        }
      ]
    },
    {
      "cell_type": "code",
      "source": [
        "for k,v in fruits.items():\n",
        "  print(k,v)"
      ],
      "metadata": {
        "colab": {
          "base_uri": "https://localhost:8080/"
        },
        "id": "tjGebz_mHJKS",
        "outputId": "a84d97fd-c24a-465a-b1bc-f22d7f3d5838"
      },
      "execution_count": 141,
      "outputs": [
        {
          "output_type": "stream",
          "name": "stdout",
          "text": [
            "apple 160\n",
            "mango 100\n",
            "banana 60\n",
            "papaya 50\n",
            "kiwi 100\n",
            "cheeku 80\n",
            "berry 90\n",
            "watermelon 90\n",
            "pear 50.55\n"
          ]
        }
      ]
    },
    {
      "cell_type": "code",
      "source": [
        "#In operator\n",
        "d = {'a':1,'b':2,'c':3,'d':4}\n",
        "'a' in d"
      ],
      "metadata": {
        "colab": {
          "base_uri": "https://localhost:8080/"
        },
        "id": "9F25btq5HeYI",
        "outputId": "8d2fc69f-6328-40ab-9277-39f93258387d"
      },
      "execution_count": 145,
      "outputs": [
        {
          "output_type": "execute_result",
          "data": {
            "text/plain": [
              "True"
            ]
          },
          "metadata": {},
          "execution_count": 145
        }
      ]
    },
    {
      "cell_type": "code",
      "source": [
        "'e' in d"
      ],
      "metadata": {
        "colab": {
          "base_uri": "https://localhost:8080/"
        },
        "id": "h8_UR_z1HxoS",
        "outputId": "938aae94-f70f-418b-f58c-4b6a977305ad"
      },
      "execution_count": 146,
      "outputs": [
        {
          "output_type": "execute_result",
          "data": {
            "text/plain": [
              "False"
            ]
          },
          "metadata": {},
          "execution_count": 146
        }
      ]
    },
    {
      "cell_type": "code",
      "source": [
        "1 in d"
      ],
      "metadata": {
        "colab": {
          "base_uri": "https://localhost:8080/"
        },
        "id": "vcAgPUltH0Ph",
        "outputId": "2ec7f404-59e5-4959-8fe6-f1845f7bbb14"
      },
      "execution_count": 147,
      "outputs": [
        {
          "output_type": "execute_result",
          "data": {
            "text/plain": [
              "False"
            ]
          },
          "metadata": {},
          "execution_count": 147
        }
      ]
    },
    {
      "cell_type": "code",
      "source": [
        "#delete a key\n",
        "fruits"
      ],
      "metadata": {
        "colab": {
          "base_uri": "https://localhost:8080/"
        },
        "id": "PMKgsIRzH-wm",
        "outputId": "5b9cd77b-7134-43b2-a8b3-439cc4af8e92"
      },
      "execution_count": 148,
      "outputs": [
        {
          "output_type": "execute_result",
          "data": {
            "text/plain": [
              "{'apple': 160,\n",
              " 'mango': 100,\n",
              " 'banana': 60,\n",
              " 'papaya': 50,\n",
              " 'kiwi': 100,\n",
              " 'cheeku': 80,\n",
              " 'berry': 90,\n",
              " 'watermelon': 90,\n",
              " 'pear': 50.55}"
            ]
          },
          "metadata": {},
          "execution_count": 148
        }
      ]
    },
    {
      "cell_type": "code",
      "source": [
        "fruits.pop('papaya')"
      ],
      "metadata": {
        "colab": {
          "base_uri": "https://localhost:8080/"
        },
        "id": "AdAcoQQGIJiL",
        "outputId": "bb77559c-abbe-4c31-8944-6346b2f505af"
      },
      "execution_count": 149,
      "outputs": [
        {
          "output_type": "execute_result",
          "data": {
            "text/plain": [
              "50"
            ]
          },
          "metadata": {},
          "execution_count": 149
        }
      ]
    },
    {
      "cell_type": "code",
      "source": [
        "fruits"
      ],
      "metadata": {
        "colab": {
          "base_uri": "https://localhost:8080/"
        },
        "id": "IBtemRBZITJT",
        "outputId": "a104bb06-b65d-4838-adca-0ef323dd67d1"
      },
      "execution_count": 150,
      "outputs": [
        {
          "output_type": "execute_result",
          "data": {
            "text/plain": [
              "{'apple': 160,\n",
              " 'mango': 100,\n",
              " 'banana': 60,\n",
              " 'kiwi': 100,\n",
              " 'cheeku': 80,\n",
              " 'berry': 90,\n",
              " 'watermelon': 90,\n",
              " 'pear': 50.55}"
            ]
          },
          "metadata": {},
          "execution_count": 150
        }
      ]
    },
    {
      "cell_type": "code",
      "source": [
        "fruits.pop('mango')"
      ],
      "metadata": {
        "colab": {
          "base_uri": "https://localhost:8080/"
        },
        "id": "bj81p3UPIcHW",
        "outputId": "1948540d-fbb7-4430-d931-37aca52ff9bf"
      },
      "execution_count": 151,
      "outputs": [
        {
          "output_type": "execute_result",
          "data": {
            "text/plain": [
              "100"
            ]
          },
          "metadata": {},
          "execution_count": 151
        }
      ]
    },
    {
      "cell_type": "code",
      "source": [
        "fruits"
      ],
      "metadata": {
        "colab": {
          "base_uri": "https://localhost:8080/"
        },
        "id": "nUkScQuAImRf",
        "outputId": "6fd387b6-e179-4e80-e8df-2c68c409a836"
      },
      "execution_count": 152,
      "outputs": [
        {
          "output_type": "execute_result",
          "data": {
            "text/plain": [
              "{'apple': 160,\n",
              " 'banana': 60,\n",
              " 'kiwi': 100,\n",
              " 'cheeku': 80,\n",
              " 'berry': 90,\n",
              " 'watermelon': 90,\n",
              " 'pear': 50.55}"
            ]
          },
          "metadata": {},
          "execution_count": 152
        }
      ]
    },
    {
      "cell_type": "code",
      "source": [
        "fruits['mangoes']=139"
      ],
      "metadata": {
        "id": "avip9Mh5IogE"
      },
      "execution_count": 153,
      "outputs": []
    },
    {
      "cell_type": "code",
      "source": [
        "fruits"
      ],
      "metadata": {
        "colab": {
          "base_uri": "https://localhost:8080/"
        },
        "id": "bibU_voaIr4Q",
        "outputId": "6d29921d-7d12-4969-8bf0-3f1df9457e86"
      },
      "execution_count": 154,
      "outputs": [
        {
          "output_type": "execute_result",
          "data": {
            "text/plain": [
              "{'apple': 160,\n",
              " 'banana': 60,\n",
              " 'kiwi': 100,\n",
              " 'cheeku': 80,\n",
              " 'berry': 90,\n",
              " 'watermelon': 90,\n",
              " 'pear': 50.55,\n",
              " 'mangoes': 139}"
            ]
          },
          "metadata": {},
          "execution_count": 154
        }
      ]
    },
    {
      "cell_type": "code",
      "source": [
        "fruits.pop('orange')"
      ],
      "metadata": {
        "colab": {
          "base_uri": "https://localhost:8080/",
          "height": 168
        },
        "id": "dYvUAYRII1M-",
        "outputId": "a542261b-ecf9-44a6-ff66-fbfed4655332"
      },
      "execution_count": 155,
      "outputs": [
        {
          "output_type": "error",
          "ename": "KeyError",
          "evalue": "ignored",
          "traceback": [
            "\u001b[0;31m---------------------------------------------------------------------------\u001b[0m",
            "\u001b[0;31mKeyError\u001b[0m                                  Traceback (most recent call last)",
            "\u001b[0;32m<ipython-input-155-b4689d83b461>\u001b[0m in \u001b[0;36m<module>\u001b[0;34m\u001b[0m\n\u001b[0;32m----> 1\u001b[0;31m \u001b[0mfruits\u001b[0m\u001b[0;34m.\u001b[0m\u001b[0mpop\u001b[0m\u001b[0;34m(\u001b[0m\u001b[0;34m'orange'\u001b[0m\u001b[0;34m)\u001b[0m\u001b[0;34m\u001b[0m\u001b[0;34m\u001b[0m\u001b[0m\n\u001b[0m",
            "\u001b[0;31mKeyError\u001b[0m: 'orange'"
          ]
        }
      ]
    },
    {
      "cell_type": "code",
      "source": [
        "fruits['kiwi']=150\n",
        "fruits"
      ],
      "metadata": {
        "colab": {
          "base_uri": "https://localhost:8080/"
        },
        "id": "ZIivGsGbJDk-",
        "outputId": "4d8ca204-bc9d-4550-f45c-80dda39f04f5"
      },
      "execution_count": 156,
      "outputs": [
        {
          "output_type": "execute_result",
          "data": {
            "text/plain": [
              "{'apple': 160,\n",
              " 'banana': 60,\n",
              " 'kiwi': 150,\n",
              " 'cheeku': 80,\n",
              " 'berry': 90,\n",
              " 'watermelon': 90,\n",
              " 'pear': 50.55,\n",
              " 'mangoes': 139}"
            ]
          },
          "metadata": {},
          "execution_count": 156
        }
      ]
    },
    {
      "cell_type": "markdown",
      "source": [
        "#WAP to find sum of all the prices in fruits"
      ],
      "metadata": {
        "id": "uFRen384JiGp"
      }
    },
    {
      "cell_type": "code",
      "source": [
        "fruits.values()"
      ],
      "metadata": {
        "colab": {
          "base_uri": "https://localhost:8080/"
        },
        "id": "sI0gPGlbJmCu",
        "outputId": "bd024aa5-a225-4c0e-872c-9b88d5c41655"
      },
      "execution_count": 157,
      "outputs": [
        {
          "output_type": "execute_result",
          "data": {
            "text/plain": [
              "dict_values([160, 60, 150, 80, 90, 90, 50.55, 139])"
            ]
          },
          "metadata": {},
          "execution_count": 157
        }
      ]
    },
    {
      "cell_type": "code",
      "source": [
        "sum(fruits.values())"
      ],
      "metadata": {
        "colab": {
          "base_uri": "https://localhost:8080/"
        },
        "id": "HNqj5JGOJz47",
        "outputId": "3f5e4f24-5e8e-48c7-e387-bbadd318a1ee"
      },
      "execution_count": 158,
      "outputs": [
        {
          "output_type": "execute_result",
          "data": {
            "text/plain": [
              "819.55"
            ]
          },
          "metadata": {},
          "execution_count": 158
        }
      ]
    },
    {
      "cell_type": "code",
      "source": [
        "a = {1: 1, 2: 4, 3: 9}\n",
        "\n",
        "for x in a:\n",
        "    print(a[x], end=' ')"
      ],
      "metadata": {
        "colab": {
          "base_uri": "https://localhost:8080/"
        },
        "id": "GOh7vzGQJ9ca",
        "outputId": "a0cb05a4-c3ca-483c-cb73-967fc8a4fcdc"
      },
      "execution_count": 159,
      "outputs": [
        {
          "output_type": "stream",
          "name": "stdout",
          "text": [
            "1 4 9 "
          ]
        }
      ]
    },
    {
      "cell_type": "code",
      "source": [
        "a = {1: 1, 2: 4, 3: 9}\n",
        "\n",
        "for x in a:\n",
        "    print(x, end=' ')"
      ],
      "metadata": {
        "colab": {
          "base_uri": "https://localhost:8080/"
        },
        "id": "8Ft0UkNVKG1E",
        "outputId": "edcedcb3-2f22-46a8-c090-99e234948728"
      },
      "execution_count": 160,
      "outputs": [
        {
          "output_type": "stream",
          "name": "stdout",
          "text": [
            "1 2 3 "
          ]
        }
      ]
    },
    {
      "cell_type": "markdown",
      "source": [
        "#problem: take str as an input and print the frequency of character along with name-\n",
        "s = 'hello'<br>\n",
        "h => 1<br>\n",
        "e => 1<br>\n",
        "l => 2<br>\n",
        "o => 1<br>"
      ],
      "metadata": {
        "id": "b27jqh2gKuAC"
      }
    },
    {
      "cell_type": "code",
      "source": [
        "s = 'hello'\n",
        "s.count('l')"
      ],
      "metadata": {
        "colab": {
          "base_uri": "https://localhost:8080/"
        },
        "id": "NeRtOUPRK-um",
        "outputId": "0491c6d3-2ddb-4180-e3ce-d6a0e93b9179"
      },
      "execution_count": 161,
      "outputs": [
        {
          "output_type": "execute_result",
          "data": {
            "text/plain": [
              "2"
            ]
          },
          "metadata": {},
          "execution_count": 161
        }
      ]
    },
    {
      "cell_type": "code",
      "source": [
        "s = input()\n",
        "d = {}\n",
        "for i in s:\n",
        "  d[i] = s.count(i)\n",
        "print(d)  "
      ],
      "metadata": {
        "colab": {
          "base_uri": "https://localhost:8080/"
        },
        "id": "pdEFgELNLLK3",
        "outputId": "5419a439-0572-437f-edfc-353f6be6b69f"
      },
      "execution_count": 170,
      "outputs": [
        {
          "output_type": "stream",
          "name": "stdout",
          "text": [
            "swaroop\n",
            "{'s': 1, 'w': 1, 'a': 1, 'r': 1, 'o': 2, 'p': 1}\n"
          ]
        }
      ]
    },
    {
      "cell_type": "code",
      "source": [
        "d.items()"
      ],
      "metadata": {
        "colab": {
          "base_uri": "https://localhost:8080/"
        },
        "id": "tV-jtuozQUx9",
        "outputId": "7a1774d2-a908-4e42-8091-872113be7787"
      },
      "execution_count": 171,
      "outputs": [
        {
          "output_type": "execute_result",
          "data": {
            "text/plain": [
              "dict_items([('s', 1), ('w', 1), ('a', 1), ('r', 1), ('o', 2), ('p', 1)])"
            ]
          },
          "metadata": {},
          "execution_count": 171
        }
      ]
    },
    {
      "cell_type": "code",
      "source": [
        "for k,v in d.items():\n",
        "  print(k,v,sep='=>')"
      ],
      "metadata": {
        "colab": {
          "base_uri": "https://localhost:8080/"
        },
        "id": "0t2ejGYGMSa-",
        "outputId": "aa85b319-f27e-4ea6-c814-3d96c9f8b7a0"
      },
      "execution_count": 164,
      "outputs": [
        {
          "output_type": "stream",
          "name": "stdout",
          "text": [
            "s=>1\n",
            "w=>1\n",
            "a=>1\n",
            "r=>1\n",
            "o=>2\n",
            "p=>1\n"
          ]
        }
      ]
    },
    {
      "cell_type": "code",
      "source": [
        "#input from the user"
      ],
      "metadata": {
        "id": "n42hy2vMMf6p"
      },
      "execution_count": 165,
      "outputs": []
    },
    {
      "cell_type": "code",
      "source": [
        "n = int(input())\n",
        "d = {}\n",
        "for i in range(n):\n",
        "  x = input().split()\n",
        "  d[x[0]] = x[1]\n",
        "print(d)  "
      ],
      "metadata": {
        "colab": {
          "base_uri": "https://localhost:8080/"
        },
        "id": "iuVSRp3rMhYw",
        "outputId": "3fe647d9-fd0a-4aa5-bf02-eccd558e1093"
      },
      "execution_count": 166,
      "outputs": [
        {
          "output_type": "stream",
          "name": "stdout",
          "text": [
            "3\n",
            "a 3\n",
            "b 4\n",
            "c 5\n",
            "{'a': '3', 'b': '4', 'c': '5'}\n"
          ]
        }
      ]
    },
    {
      "cell_type": "code",
      "source": [
        "d = {}\n",
        "d.update({'a':3,'b':4,'c':5})"
      ],
      "metadata": {
        "id": "1Z2NbY7gODOa"
      },
      "execution_count": 168,
      "outputs": []
    },
    {
      "cell_type": "code",
      "source": [
        "d"
      ],
      "metadata": {
        "colab": {
          "base_uri": "https://localhost:8080/"
        },
        "id": "mKFqnfXEOSXk",
        "outputId": "001307f8-bf21-4dac-da00-84fff4a37c1a"
      },
      "execution_count": 169,
      "outputs": [
        {
          "output_type": "execute_result",
          "data": {
            "text/plain": [
              "{'a': 3, 'b': 4, 'c': 5}"
            ]
          },
          "metadata": {},
          "execution_count": 169
        }
      ]
    }
  ]
}