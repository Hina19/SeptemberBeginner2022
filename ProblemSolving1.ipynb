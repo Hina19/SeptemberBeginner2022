{
  "nbformat": 4,
  "nbformat_minor": 0,
  "metadata": {
    "colab": {
      "provenance": [],
      "authorship_tag": "ABX9TyPSh0hpbjDGvRCJzFaG+iIh",
      "include_colab_link": true
    },
    "kernelspec": {
      "name": "python3",
      "display_name": "Python 3"
    },
    "language_info": {
      "name": "python"
    }
  },
  "cells": [
    {
      "cell_type": "markdown",
      "metadata": {
        "id": "view-in-github",
        "colab_type": "text"
      },
      "source": [
        "<a href=\"https://colab.research.google.com/github/Hina19/SeptemberBeginner2022/blob/main/ProblemSolving1.ipynb\" target=\"_parent\"><img src=\"https://colab.research.google.com/assets/colab-badge.svg\" alt=\"Open In Colab\"/></a>"
      ]
    },
    {
      "cell_type": "markdown",
      "source": [
        "## Problem#1: Factorial of a number:\n",
        "\n",
        "<img src='https://www.w3resource.com/w3r_images/python-functions-image-exercise-5.svg'>"
      ],
      "metadata": {
        "id": "Na_2trUwNcyI"
      }
    },
    {
      "cell_type": "code",
      "source": [
        "n = int(input())\n",
        "i = 1\n",
        "result = 1\n",
        "while i<=n:\n",
        "  result = result * i\n",
        "  i = i+1\n",
        "print(result)  "
      ],
      "metadata": {
        "colab": {
          "base_uri": "https://localhost:8080/"
        },
        "id": "_HxnkKDCRPm_",
        "outputId": "fd1cc4aa-feac-4924-dbb3-9410056120b0"
      },
      "execution_count": 9,
      "outputs": [
        {
          "output_type": "stream",
          "name": "stdout",
          "text": [
            "0\n",
            "1\n"
          ]
        }
      ]
    },
    {
      "cell_type": "code",
      "source": [],
      "metadata": {
        "id": "ZtcS0d_ZRPkn"
      },
      "execution_count": null,
      "outputs": []
    },
    {
      "cell_type": "code",
      "source": [],
      "metadata": {
        "id": "Eeq1RYI9RPiH"
      },
      "execution_count": null,
      "outputs": []
    },
    {
      "cell_type": "code",
      "source": [],
      "metadata": {
        "id": "ZYYfGvC2RPfh"
      },
      "execution_count": null,
      "outputs": []
    },
    {
      "cell_type": "markdown",
      "source": [
        "## Problem#2: Factor of a number:\n",
        "<img src='https://cdn-skill.splashmath.com/panel-uploads/GlossaryTerm/99e5cd321696436c80a781b68b4b758a/1564730390_2-01.png'>"
      ],
      "metadata": {
        "id": "j-uQRz6ENwx0"
      }
    },
    {
      "cell_type": "code",
      "source": [
        "n = int(input())\n",
        "i = 1\n",
        "while i<=n:\n",
        "     if n%i == 0:\n",
        "       print(i, end= ' ')\n",
        "\n",
        "\n",
        "     i=i+1\n",
        "       "
      ],
      "metadata": {
        "colab": {
          "base_uri": "https://localhost:8080/"
        },
        "id": "uGCXy_vGOHkX",
        "outputId": "d586e2e7-ea03-4a49-e6fb-34ed75efddc5"
      },
      "execution_count": 24,
      "outputs": [
        {
          "output_type": "stream",
          "name": "stdout",
          "text": [
            "5\n",
            "1 5 "
          ]
        }
      ]
    },
    {
      "cell_type": "code",
      "source": [],
      "metadata": {
        "id": "L-sbI8zcOHhn"
      },
      "execution_count": null,
      "outputs": []
    },
    {
      "cell_type": "code",
      "source": [],
      "metadata": {
        "id": "R79EfBLl3tS0"
      },
      "execution_count": null,
      "outputs": []
    },
    {
      "cell_type": "code",
      "source": [],
      "metadata": {
        "id": "J2G3fxpo3tP0"
      },
      "execution_count": null,
      "outputs": []
    },
    {
      "cell_type": "code",
      "source": [],
      "metadata": {
        "id": "QcpjdcE63tM9"
      },
      "execution_count": null,
      "outputs": []
    },
    {
      "cell_type": "markdown",
      "source": [
        "## Problem#3: Count the number of digits:\n",
        "\n",
        "\n",
        "\n",
        "```\n",
        "Count the digits\n",
        "Problem Description\n",
        "Mr. Q has a diary in which he has written a lot of numbers. He is confused about the number of digits in every number he has written. Mr. Q will provide the different numbers written in the diary and then you have to write a code to find the number of digits in every number he has written.\n",
        "\n",
        "Note: Total different Numbers are T and for every number (let's say N) you need to find the total number of digits.\n",
        "\n",
        "Problem Constraints\n",
        "\n",
        "1 <= T <= 100\n",
        "0 <= N <= 100000000\n",
        "Input Format\n",
        "\n",
        "The first line is the number T which denotes the total numbers written in the diary.\n",
        "Next T lines contain an integer N for which you have to find the number of digits.\n",
        "Output Format\n",
        "\n",
        "For T different Numbers, Print the number of digits in T in different lines.</div>\n",
        "```\n",
        "\n",
        "\n",
        "<img src='https://pencilprogrammer.com/wp-content/uploads/2019/01/Count-number-of-digits-in-python-min.png'>"
      ],
      "metadata": {
        "id": "xjVNkp5COLfr"
      }
    },
    {
      "cell_type": "code",
      "source": [
        "T = int(input())\n",
        "i = 1\n",
        "while i<=T:\n",
        "  n = int(input())\n",
        "  count = 0\n",
        "  if n==0:\n",
        "    count = count+1\n",
        "  while n>0:\n",
        "    rem = n%10\n",
        "    count = count+1\n",
        "    n = n//10\n",
        "  print(count)\n",
        "  i = i+1  "
      ],
      "metadata": {
        "colab": {
          "base_uri": "https://localhost:8080/"
        },
        "id": "qA4hdcUYROcw",
        "outputId": "07a6cf84-37b0-4ea8-aef8-b75275b6e7ac"
      },
      "execution_count": 19,
      "outputs": [
        {
          "output_type": "stream",
          "name": "stdout",
          "text": [
            "2\n",
            "0\n",
            "1\n",
            "0012\n",
            "2\n"
          ]
        }
      ]
    },
    {
      "cell_type": "code",
      "source": [],
      "metadata": {
        "id": "D28olFOEROaI"
      },
      "execution_count": null,
      "outputs": []
    },
    {
      "cell_type": "code",
      "source": [],
      "metadata": {
        "id": "5rnj3sJvROLU"
      },
      "execution_count": null,
      "outputs": []
    },
    {
      "cell_type": "code",
      "source": [],
      "metadata": {
        "id": "VkIOdBJyROIr"
      },
      "execution_count": null,
      "outputs": []
    },
    {
      "cell_type": "code",
      "source": [],
      "metadata": {
        "id": "_otN1-kUROF-"
      },
      "execution_count": null,
      "outputs": []
    },
    {
      "cell_type": "markdown",
      "source": [
        "## Problem#4: Sum of digits ?\n",
        "\n",
        "\n",
        "```\n",
        "Problem Description\n",
        "Mr. Q has a diary in which a lot of numbers are written. He wants to know the sum of digits for every number. First Ask Mr. Q about the numbers written in the diary and then write a code to find the sum of digits for every number.\n",
        "Note: Total different Numbers are T and for every number (let's say N) you need to find the Sum of digits.\n",
        "\n",
        "Problem Constraints\n",
        "\n",
        "1 <= T <= 1000\n",
        "0 <= N <= 100000000\n",
        "Input Format\n",
        "\n",
        "The first line is T which means the count of numbers.\n",
        "Each of the next T lines contain an integer N.\n",
        ". Output Format\n",
        "\n",
        "**T** lines each containing one integer representing the sum of the digits of the input integer.\n",
        "```\n",
        "\n",
        "\n",
        "\n",
        "<img src='https://www.w3resource.com/w3r_images/python-basic-image-exercise-68.png' height=300>"
      ],
      "metadata": {
        "id": "nCM0ZseNNOgY"
      }
    },
    {
      "cell_type": "code",
      "source": [
        "T = int(input())\n",
        "i = 1\n",
        "\n",
        "while i<=T:\n",
        "  n = int(input())\n",
        "  sum = 0\n",
        "  while n>0:\n",
        "    rem = n%10\n",
        "    sum = sum+rem\n",
        "    n = n//10\n",
        "  print(sum)\n",
        "  i = i+1"
      ],
      "metadata": {
        "colab": {
          "base_uri": "https://localhost:8080/"
        },
        "id": "rxySjK3aRLy0",
        "outputId": "4386d6a5-3b75-45d4-ad6b-048e61fcbaae"
      },
      "execution_count": 26,
      "outputs": [
        {
          "output_type": "stream",
          "name": "stdout",
          "text": [
            "3\n",
            "123\n",
            "6\n",
            "001\n",
            "1\n",
            "0\n",
            "0\n"
          ]
        }
      ]
    },
    {
      "cell_type": "code",
      "source": [],
      "metadata": {
        "id": "4HOTrgy9RLwE"
      },
      "execution_count": null,
      "outputs": []
    },
    {
      "cell_type": "code",
      "source": [],
      "metadata": {
        "id": "yYBgJ1sLRLtS"
      },
      "execution_count": null,
      "outputs": []
    },
    {
      "cell_type": "markdown",
      "source": [
        "## problem #5: binary to decimal"
      ],
      "metadata": {
        "id": "26ITk4o6MwY7"
      }
    },
    {
      "cell_type": "code",
      "source": [
        "n = int(input())\n",
        "i = 0\n",
        "result = 0\n",
        "while n>0:\n",
        "  rem = n%10\n",
        "  result = result + rem*(2**i)\n",
        "  n = n//10\n",
        "  i = i+1\n",
        "print(result)  "
      ],
      "metadata": {
        "colab": {
          "base_uri": "https://localhost:8080/"
        },
        "id": "rO9Xx2WzRLqk",
        "outputId": "c71568db-3a50-485c-e79e-ca0d35287398"
      },
      "execution_count": 28,
      "outputs": [
        {
          "output_type": "stream",
          "name": "stdout",
          "text": [
            "1011\n",
            "11\n"
          ]
        }
      ]
    },
    {
      "cell_type": "markdown",
      "source": [
        "## Number is armstrong number or not ?"
      ],
      "metadata": {
        "id": "E7SG--yPOCji"
      }
    },
    {
      "cell_type": "code",
      "source": [],
      "metadata": {
        "id": "a2KyCjsoOBMi"
      },
      "execution_count": null,
      "outputs": []
    }
  ]
}