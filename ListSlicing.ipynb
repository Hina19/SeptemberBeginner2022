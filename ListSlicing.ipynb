{
  "nbformat": 4,
  "nbformat_minor": 0,
  "metadata": {
    "colab": {
      "provenance": [],
      "authorship_tag": "ABX9TyN2VLt9w1V30wm7s0N387Ud",
      "include_colab_link": true
    },
    "kernelspec": {
      "name": "python3",
      "display_name": "Python 3"
    },
    "language_info": {
      "name": "python"
    }
  },
  "cells": [
    {
      "cell_type": "markdown",
      "metadata": {
        "id": "view-in-github",
        "colab_type": "text"
      },
      "source": [
        "<a href=\"https://colab.research.google.com/github/Hina19/SeptemberBeginner2022/blob/main/ListSlicing.ipynb\" target=\"_parent\"><img src=\"https://colab.research.google.com/assets/colab-badge.svg\" alt=\"Open In Colab\"/></a>"
      ]
    },
    {
      "cell_type": "code",
      "source": [
        "runs = [0,1,66,77,80,200,19,50]\n"
      ],
      "metadata": {
        "id": "c6jbdmZ7xWh0"
      },
      "execution_count": 29,
      "outputs": []
    },
    {
      "cell_type": "markdown",
      "source": [
        "\n",
        "\n",
        "# ODD matches\n"
      ],
      "metadata": {
        "id": "qsXSlhYkBckc"
      }
    },
    {
      "cell_type": "code",
      "source": [
        "n = len(runs)\n",
        "for i in range(n):\n",
        "  if i%2==0:\n",
        "    print(runs[i],end = ' ')"
      ],
      "metadata": {
        "colab": {
          "base_uri": "https://localhost:8080/"
        },
        "id": "2HED6RP6xWer",
        "outputId": "1a034d26-3f90-4153-a3b3-fa1d843d1f41"
      },
      "execution_count": 30,
      "outputs": [
        {
          "output_type": "stream",
          "name": "stdout",
          "text": [
            "0 66 80 19 "
          ]
        }
      ]
    },
    {
      "cell_type": "code",
      "source": [
        "n = len(runs)\n",
        "for i in range(0,n,2):\n",
        "  # if i%2==0:\n",
        "    print(runs[i],end = ' ')"
      ],
      "metadata": {
        "colab": {
          "base_uri": "https://localhost:8080/"
        },
        "id": "H8eBBVQ_xWbv",
        "outputId": "ef693c13-a061-4f38-d280-c4b44d8bb00c"
      },
      "execution_count": 31,
      "outputs": [
        {
          "output_type": "stream",
          "name": "stdout",
          "text": [
            "0 66 80 19 "
          ]
        }
      ]
    },
    {
      "cell_type": "markdown",
      "source": [
        "# Even matches"
      ],
      "metadata": {
        "id": "7BIOZAmnCIMY"
      }
    },
    {
      "cell_type": "code",
      "source": [
        "n = len(runs)\n",
        "for i in range(n):\n",
        "  if i%2==1:\n",
        "    print(runs[i],end = ' ')"
      ],
      "metadata": {
        "colab": {
          "base_uri": "https://localhost:8080/"
        },
        "id": "ny4tKoWmxWYy",
        "outputId": "651e749c-0903-415b-eb6d-0db97b06cabe"
      },
      "execution_count": 32,
      "outputs": [
        {
          "output_type": "stream",
          "name": "stdout",
          "text": [
            "1 77 200 50 "
          ]
        }
      ]
    },
    {
      "cell_type": "code",
      "source": [
        "n = len(runs)\n",
        "for i in range(1,n,2):\n",
        "  # if i%2==0:\n",
        "    print(runs[i],end = ' ')"
      ],
      "metadata": {
        "colab": {
          "base_uri": "https://localhost:8080/"
        },
        "id": "HrIv79gyxWV-",
        "outputId": "d1b2a4cc-7666-4164-cac8-1b17b99c2f9a"
      },
      "execution_count": 33,
      "outputs": [
        {
          "output_type": "stream",
          "name": "stdout",
          "text": [
            "1 77 200 50 "
          ]
        }
      ]
    },
    {
      "cell_type": "markdown",
      "source": [
        "# first 5 matches:"
      ],
      "metadata": {
        "id": "H7zWr9FZC-Cw"
      }
    },
    {
      "cell_type": "code",
      "source": [
        "runs = [0,1,66,77,80,200,19,50]"
      ],
      "metadata": {
        "id": "0Wf0xD-qxWQf"
      },
      "execution_count": 35,
      "outputs": []
    },
    {
      "cell_type": "code",
      "source": [
        "for i in range(5):\n",
        "  print(runs[i],end= ' ')"
      ],
      "metadata": {
        "colab": {
          "base_uri": "https://localhost:8080/"
        },
        "id": "Y5yssbLTCsaP",
        "outputId": "71fdd5c1-0822-405b-e140-df5affb0eb95"
      },
      "execution_count": 36,
      "outputs": [
        {
          "output_type": "stream",
          "name": "stdout",
          "text": [
            "0 1 66 77 80 "
          ]
        }
      ]
    },
    {
      "cell_type": "code",
      "source": [
        "for i in range(1,6):\n",
        "  print(runs[i],end= ' ')"
      ],
      "metadata": {
        "colab": {
          "base_uri": "https://localhost:8080/"
        },
        "id": "Bqgw1ft0CsXA",
        "outputId": "3e0afac9-df5f-4695-fc3d-2927a5b1c3e1"
      },
      "execution_count": 37,
      "outputs": [
        {
          "output_type": "stream",
          "name": "stdout",
          "text": [
            "1 66 77 80 200 "
          ]
        }
      ]
    },
    {
      "cell_type": "markdown",
      "source": [
        "store the first 5 runs in new list:"
      ],
      "metadata": {
        "id": "z5HwpX3ZI-T2"
      }
    },
    {
      "cell_type": "code",
      "source": [
        "runs = [0,1,66,77,80,200,19,50]\n",
        "new_runs = []\n",
        "for i in range(5):\n",
        "  new_runs.append(runs[i])"
      ],
      "metadata": {
        "id": "uU75w-khI-C7"
      },
      "execution_count": 46,
      "outputs": []
    },
    {
      "cell_type": "code",
      "source": [
        "print(new_runs)"
      ],
      "metadata": {
        "colab": {
          "base_uri": "https://localhost:8080/"
        },
        "id": "FxhZoslhJUe9",
        "outputId": "b5d40751-d016-420f-9c98-02f4bdd8078d"
      },
      "execution_count": 47,
      "outputs": [
        {
          "output_type": "stream",
          "name": "stdout",
          "text": [
            "[0, 1, 66, 77, 80]\n"
          ]
        }
      ]
    },
    {
      "cell_type": "code",
      "source": [
        "for i in range(10):\n",
        "  print(runs[i],end= ' ')"
      ],
      "metadata": {
        "colab": {
          "base_uri": "https://localhost:8080/",
          "height": 203
        },
        "id": "xcpv7bElEEN3",
        "outputId": "fd1aa166-ffa3-4d72-c50b-d713aec835be"
      },
      "execution_count": 38,
      "outputs": [
        {
          "output_type": "stream",
          "name": "stdout",
          "text": [
            "0 1 66 77 80 200 19 50 "
          ]
        },
        {
          "output_type": "error",
          "ename": "IndexError",
          "evalue": "ignored",
          "traceback": [
            "\u001b[0;31m---------------------------------------------------------------------------\u001b[0m",
            "\u001b[0;31mIndexError\u001b[0m                                Traceback (most recent call last)",
            "\u001b[0;32m<ipython-input-38-74988e649c0b>\u001b[0m in \u001b[0;36m<module>\u001b[0;34m\u001b[0m\n\u001b[1;32m      1\u001b[0m \u001b[0;32mfor\u001b[0m \u001b[0mi\u001b[0m \u001b[0;32min\u001b[0m \u001b[0mrange\u001b[0m\u001b[0;34m(\u001b[0m\u001b[0;36m10\u001b[0m\u001b[0;34m)\u001b[0m\u001b[0;34m:\u001b[0m\u001b[0;34m\u001b[0m\u001b[0;34m\u001b[0m\u001b[0m\n\u001b[0;32m----> 2\u001b[0;31m   \u001b[0mprint\u001b[0m\u001b[0;34m(\u001b[0m\u001b[0mruns\u001b[0m\u001b[0;34m[\u001b[0m\u001b[0mi\u001b[0m\u001b[0;34m]\u001b[0m\u001b[0;34m,\u001b[0m\u001b[0mend\u001b[0m\u001b[0;34m=\u001b[0m \u001b[0;34m' '\u001b[0m\u001b[0;34m)\u001b[0m\u001b[0;34m\u001b[0m\u001b[0;34m\u001b[0m\u001b[0m\n\u001b[0m",
            "\u001b[0;31mIndexError\u001b[0m: list index out of range"
          ]
        }
      ]
    },
    {
      "cell_type": "markdown",
      "source": [
        "# last 3 matches"
      ],
      "metadata": {
        "id": "qxnx3tnBFHnS"
      }
    },
    {
      "cell_type": "code",
      "source": [
        "runs = [0,1,66,77,80,200,19,50]\n",
        "for i in range(-3,0):\n",
        "  print(runs[i],end=' ')\n"
      ],
      "metadata": {
        "colab": {
          "base_uri": "https://localhost:8080/"
        },
        "id": "ktsSDUmtFL6H",
        "outputId": "4c6ba9ae-381e-4f97-ec6b-33255d333f90"
      },
      "execution_count": 39,
      "outputs": [
        {
          "output_type": "stream",
          "name": "stdout",
          "text": [
            "200 19 50 "
          ]
        }
      ]
    },
    {
      "cell_type": "code",
      "source": [
        "runs = [0,1,66,77,80,200,19,50]\n",
        "n = len(runs)\n",
        "for i in range(5,n):\n",
        "  print(runs[i],end=' ')\n"
      ],
      "metadata": {
        "colab": {
          "base_uri": "https://localhost:8080/"
        },
        "id": "dqnbMDCgFXP6",
        "outputId": "28c163ba-f87f-4d19-b9e6-95d77c074f3f"
      },
      "execution_count": 40,
      "outputs": [
        {
          "output_type": "stream",
          "name": "stdout",
          "text": [
            "200 19 50 "
          ]
        }
      ]
    },
    {
      "cell_type": "code",
      "source": [
        "runs = [0,1,66,77,80,200,19,50,119,29,80]\n",
        "n = len(runs)\n",
        "for i in range(n-3,n):\n",
        "  print(runs[i],end=' ')\n"
      ],
      "metadata": {
        "colab": {
          "base_uri": "https://localhost:8080/"
        },
        "id": "FtMFbhSHGCF6",
        "outputId": "00a584c5-8e9f-4a6b-c3cd-252421d4860e"
      },
      "execution_count": 42,
      "outputs": [
        {
          "output_type": "stream",
          "name": "stdout",
          "text": [
            "119 29 80 "
          ]
        }
      ]
    },
    {
      "cell_type": "code",
      "source": [
        "runs = [0,1,66,77,80,200,19,50,119,29,80]\n",
        "n = len(runs)\n",
        "for i in range(n-5,n):\n",
        "  print(runs[i],end=' ')"
      ],
      "metadata": {
        "colab": {
          "base_uri": "https://localhost:8080/"
        },
        "id": "SzeNiO8bG1tB",
        "outputId": "e91dc7c8-abb5-415f-cd9f-5e1c1e57203b"
      },
      "execution_count": 43,
      "outputs": [
        {
          "output_type": "stream",
          "name": "stdout",
          "text": [
            "19 50 119 29 80 "
          ]
        }
      ]
    },
    {
      "cell_type": "code",
      "source": [
        "for i in range(-5,0):\n",
        "  print(runs[i],end=' ')"
      ],
      "metadata": {
        "colab": {
          "base_uri": "https://localhost:8080/"
        },
        "id": "6TqqnhB5HAMu",
        "outputId": "5957b680-e7d4-4440-b209-f91551b175ee"
      },
      "execution_count": 44,
      "outputs": [
        {
          "output_type": "stream",
          "name": "stdout",
          "text": [
            "19 50 119 29 80 "
          ]
        }
      ]
    },
    {
      "cell_type": "markdown",
      "source": [
        "# SLICING"
      ],
      "metadata": {
        "id": "G8Cf-NSIIjyB"
      }
    },
    {
      "cell_type": "code",
      "source": [
        "#first 5 matches\n",
        "runs = [0,1,66,77,80,200,19,50]\n",
        "new_runs = runs[0:5:1]"
      ],
      "metadata": {
        "id": "UUKphXvOIlxt"
      },
      "execution_count": 48,
      "outputs": []
    },
    {
      "cell_type": "code",
      "source": [
        "new_runs"
      ],
      "metadata": {
        "colab": {
          "base_uri": "https://localhost:8080/"
        },
        "id": "rF8PWKCyJmtU",
        "outputId": "5cc67f5a-5203-47ba-8f3a-a4fef524776f"
      },
      "execution_count": 49,
      "outputs": [
        {
          "output_type": "execute_result",
          "data": {
            "text/plain": [
              "[0, 1, 66, 77, 80]"
            ]
          },
          "metadata": {},
          "execution_count": 49
        }
      ]
    },
    {
      "cell_type": "code",
      "source": [
        "#even matches\n",
        "runs[1:n:2]"
      ],
      "metadata": {
        "colab": {
          "base_uri": "https://localhost:8080/"
        },
        "id": "Dv4msEv1J0p1",
        "outputId": "30d6b186-614c-4e4e-ba9c-6cce6a245b2e"
      },
      "execution_count": 50,
      "outputs": [
        {
          "output_type": "execute_result",
          "data": {
            "text/plain": [
              "[1, 77, 200, 50]"
            ]
          },
          "metadata": {},
          "execution_count": 50
        }
      ]
    },
    {
      "cell_type": "code",
      "source": [
        "#odd matches\n",
        "runs[0:n:2]"
      ],
      "metadata": {
        "colab": {
          "base_uri": "https://localhost:8080/"
        },
        "id": "uT5rQmtjKNV1",
        "outputId": "cde0c22d-1bfe-4223-ac17-30fa684841eb"
      },
      "execution_count": 51,
      "outputs": [
        {
          "output_type": "execute_result",
          "data": {
            "text/plain": [
              "[0, 66, 80, 19]"
            ]
          },
          "metadata": {},
          "execution_count": 51
        }
      ]
    },
    {
      "cell_type": "code",
      "source": [
        "runs = [0,1,66,77,80,200,19,50]\n",
        "id(runs)"
      ],
      "metadata": {
        "colab": {
          "base_uri": "https://localhost:8080/"
        },
        "id": "Zj2eAbVyKbjZ",
        "outputId": "76973405-4f2f-4a3f-9653-631f5b72d553"
      },
      "execution_count": 53,
      "outputs": [
        {
          "output_type": "execute_result",
          "data": {
            "text/plain": [
              "140084354001968"
            ]
          },
          "metadata": {},
          "execution_count": 53
        }
      ]
    },
    {
      "cell_type": "code",
      "source": [
        "#odd matches\n",
        "id(runs[0:n:2])"
      ],
      "metadata": {
        "colab": {
          "base_uri": "https://localhost:8080/"
        },
        "id": "bkpp3_7OKfFE",
        "outputId": "83c5666f-7e90-4503-f983-7e5460511a9c"
      },
      "execution_count": 54,
      "outputs": [
        {
          "output_type": "execute_result",
          "data": {
            "text/plain": [
              "140084353351760"
            ]
          },
          "metadata": {},
          "execution_count": 54
        }
      ]
    },
    {
      "cell_type": "code",
      "source": [
        "runs"
      ],
      "metadata": {
        "colab": {
          "base_uri": "https://localhost:8080/"
        },
        "id": "Q-xj-2vVKpf2",
        "outputId": "87b8c710-2cd8-4284-ae24-ae463cc11297"
      },
      "execution_count": 55,
      "outputs": [
        {
          "output_type": "execute_result",
          "data": {
            "text/plain": [
              "[0, 1, 66, 77, 80, 200, 19, 50]"
            ]
          },
          "metadata": {},
          "execution_count": 55
        }
      ]
    },
    {
      "cell_type": "code",
      "source": [
        "new_even_matches = runs[0:n:2]\n",
        "new_even_matches"
      ],
      "metadata": {
        "colab": {
          "base_uri": "https://localhost:8080/"
        },
        "id": "OGo5jqFkKt_r",
        "outputId": "9302a3f3-65dc-4bfb-d13e-316427ccc346"
      },
      "execution_count": 56,
      "outputs": [
        {
          "output_type": "execute_result",
          "data": {
            "text/plain": [
              "[0, 66, 80, 19]"
            ]
          },
          "metadata": {},
          "execution_count": 56
        }
      ]
    },
    {
      "cell_type": "code",
      "source": [
        "#quiz\n",
        "nums = [0, 25, 50, 75, 100]\n",
        "# The result of evaluating  nums[0:5:2] is [25, 75]."
      ],
      "metadata": {
        "id": "slsLtRbkLP-V"
      },
      "execution_count": 58,
      "outputs": []
    },
    {
      "cell_type": "code",
      "source": [
        "nums[1:5:2]"
      ],
      "metadata": {
        "colab": {
          "base_uri": "https://localhost:8080/"
        },
        "id": "orAJzxnTLozI",
        "outputId": "d080d0b0-9046-4b42-857d-564848baf04d"
      },
      "execution_count": 60,
      "outputs": [
        {
          "output_type": "execute_result",
          "data": {
            "text/plain": [
              "[25, 75]"
            ]
          },
          "metadata": {},
          "execution_count": 60
        }
      ]
    },
    {
      "cell_type": "code",
      "source": [
        "nums[1:5:1]"
      ],
      "metadata": {
        "colab": {
          "base_uri": "https://localhost:8080/"
        },
        "id": "lVnEWUrKL3O2",
        "outputId": "bc6fed97-4f66-4e7e-9982-9ecf721b687c"
      },
      "execution_count": 61,
      "outputs": [
        {
          "output_type": "execute_result",
          "data": {
            "text/plain": [
              "[25, 50, 75, 100]"
            ]
          },
          "metadata": {},
          "execution_count": 61
        }
      ]
    },
    {
      "cell_type": "code",
      "source": [
        "#quiz2\n",
        "nums = [1, 1, 2, 3, 5, 8, 13] \n",
        "#What is the result of nums[1:5:1]?"
      ],
      "metadata": {
        "id": "JhbfsS4tMNgW"
      },
      "execution_count": 62,
      "outputs": []
    },
    {
      "cell_type": "code",
      "source": [
        "nums[1:5:1]"
      ],
      "metadata": {
        "colab": {
          "base_uri": "https://localhost:8080/"
        },
        "id": "id_9Kh4dMtBd",
        "outputId": "9013f862-1cf3-4a95-cadc-0f40b0f4ae6e"
      },
      "execution_count": 63,
      "outputs": [
        {
          "output_type": "execute_result",
          "data": {
            "text/plain": [
              "[1, 2, 3, 5]"
            ]
          },
          "metadata": {},
          "execution_count": 63
        }
      ]
    },
    {
      "cell_type": "code",
      "source": [
        "lst = [5,1,2,7,6,3,4]\n",
        "lst[0:5:1]"
      ],
      "metadata": {
        "colab": {
          "base_uri": "https://localhost:8080/"
        },
        "id": "3nFjMpNVQdtJ",
        "outputId": "41bed288-2807-4906-d679-0bb61e7dac35"
      },
      "execution_count": 64,
      "outputs": [
        {
          "output_type": "execute_result",
          "data": {
            "text/plain": [
              "[5, 1, 2, 7, 6]"
            ]
          },
          "metadata": {},
          "execution_count": 64
        }
      ]
    },
    {
      "cell_type": "code",
      "source": [
        "lst[0:5]"
      ],
      "metadata": {
        "colab": {
          "base_uri": "https://localhost:8080/"
        },
        "id": "0ynzw8B8Qn9B",
        "outputId": "76c9420b-f99b-4ff1-8b08-72bd0bde9ed0"
      },
      "execution_count": 65,
      "outputs": [
        {
          "output_type": "execute_result",
          "data": {
            "text/plain": [
              "[5, 1, 2, 7, 6]"
            ]
          },
          "metadata": {},
          "execution_count": 65
        }
      ]
    },
    {
      "cell_type": "code",
      "source": [
        "lst[:5]"
      ],
      "metadata": {
        "colab": {
          "base_uri": "https://localhost:8080/"
        },
        "id": "dQfPTRB1QtV-",
        "outputId": "d02928c4-30ff-49e3-d7be-171bc856a9c6"
      },
      "execution_count": 66,
      "outputs": [
        {
          "output_type": "execute_result",
          "data": {
            "text/plain": [
              "[5, 1, 2, 7, 6]"
            ]
          },
          "metadata": {},
          "execution_count": 66
        }
      ]
    },
    {
      "cell_type": "code",
      "source": [
        "lst[:3]"
      ],
      "metadata": {
        "colab": {
          "base_uri": "https://localhost:8080/"
        },
        "id": "qvvRzI7cQytu",
        "outputId": "403ac1b3-495e-48f0-98de-f0e979cfc4a3"
      },
      "execution_count": 67,
      "outputs": [
        {
          "output_type": "execute_result",
          "data": {
            "text/plain": [
              "[5, 1, 2]"
            ]
          },
          "metadata": {},
          "execution_count": 67
        }
      ]
    },
    {
      "cell_type": "code",
      "source": [
        "#quiz\n",
        "nums = [1, 1, 2, 3, 5, 8, 13] \n",
        "# What is the result of nums[:5]?\n",
        "nums[:5]"
      ],
      "metadata": {
        "colab": {
          "base_uri": "https://localhost:8080/"
        },
        "id": "RWHHAay3RDag",
        "outputId": "8c2ba85e-5037-41d9-fe3b-a2a8bcc7dcd2"
      },
      "execution_count": 68,
      "outputs": [
        {
          "output_type": "execute_result",
          "data": {
            "text/plain": [
              "[1, 1, 2, 3, 5]"
            ]
          },
          "metadata": {},
          "execution_count": 68
        }
      ]
    },
    {
      "cell_type": "code",
      "source": [
        "nums[1:5]"
      ],
      "metadata": {
        "colab": {
          "base_uri": "https://localhost:8080/"
        },
        "id": "FZBXcvRYReWw",
        "outputId": "235401ca-7d3a-4029-f35d-1e38a7e7cb91"
      },
      "execution_count": 69,
      "outputs": [
        {
          "output_type": "execute_result",
          "data": {
            "text/plain": [
              "[1, 2, 3, 5]"
            ]
          },
          "metadata": {},
          "execution_count": 69
        }
      ]
    },
    {
      "cell_type": "code",
      "source": [
        "nums = [1, 1, 2, 3, 5, 8, 13] \n",
        "nums2 = nums[:]"
      ],
      "metadata": {
        "id": "KRhddqbWSc8K"
      },
      "execution_count": 71,
      "outputs": []
    },
    {
      "cell_type": "code",
      "source": [
        "nums2"
      ],
      "metadata": {
        "colab": {
          "base_uri": "https://localhost:8080/"
        },
        "id": "7NLYSkn9SjY_",
        "outputId": "410c3717-2a7d-46a6-a8bf-7a194b710e14"
      },
      "execution_count": 73,
      "outputs": [
        {
          "output_type": "execute_result",
          "data": {
            "text/plain": [
              "[1, 1, 2, 3, 5, 8, 13]"
            ]
          },
          "metadata": {},
          "execution_count": 73
        }
      ]
    },
    {
      "cell_type": "code",
      "source": [
        "runs = [5,1,2,7,6,3,4]\n"
      ],
      "metadata": {
        "id": "fUpqJ8_CSsaV"
      },
      "execution_count": 74,
      "outputs": []
    },
    {
      "cell_type": "code",
      "source": [
        "runs[0:7:1]"
      ],
      "metadata": {
        "colab": {
          "base_uri": "https://localhost:8080/"
        },
        "id": "7hYx7HekSvOB",
        "outputId": "5e6dcf2c-4834-465c-e6d6-8cf5fa195b75"
      },
      "execution_count": 75,
      "outputs": [
        {
          "output_type": "execute_result",
          "data": {
            "text/plain": [
              "[5, 1, 2, 7, 6, 3, 4]"
            ]
          },
          "metadata": {},
          "execution_count": 75
        }
      ]
    },
    {
      "cell_type": "code",
      "source": [
        "runs[0:7]"
      ],
      "metadata": {
        "colab": {
          "base_uri": "https://localhost:8080/"
        },
        "id": "cMN_tUBcS6bG",
        "outputId": "b2ab04c5-4d83-4b65-e729-7fada3138192"
      },
      "execution_count": 76,
      "outputs": [
        {
          "output_type": "execute_result",
          "data": {
            "text/plain": [
              "[5, 1, 2, 7, 6, 3, 4]"
            ]
          },
          "metadata": {},
          "execution_count": 76
        }
      ]
    },
    {
      "cell_type": "code",
      "source": [
        "runs[:7]"
      ],
      "metadata": {
        "colab": {
          "base_uri": "https://localhost:8080/"
        },
        "id": "1-OOUTcMS9zk",
        "outputId": "b63a91c6-f6ff-4988-cbf7-5f761ed3de6b"
      },
      "execution_count": 77,
      "outputs": [
        {
          "output_type": "execute_result",
          "data": {
            "text/plain": [
              "[5, 1, 2, 7, 6, 3, 4]"
            ]
          },
          "metadata": {},
          "execution_count": 77
        }
      ]
    },
    {
      "cell_type": "code",
      "source": [
        "runs[:]"
      ],
      "metadata": {
        "colab": {
          "base_uri": "https://localhost:8080/"
        },
        "id": "U217Y0KcS9ql",
        "outputId": "7c2c4c8d-2f3c-4d27-d81f-9878ebe67ea7"
      },
      "execution_count": 78,
      "outputs": [
        {
          "output_type": "execute_result",
          "data": {
            "text/plain": [
              "[5, 1, 2, 7, 6, 3, 4]"
            ]
          },
          "metadata": {},
          "execution_count": 78
        }
      ]
    },
    {
      "cell_type": "code",
      "source": [
        "runs[::2]"
      ],
      "metadata": {
        "colab": {
          "base_uri": "https://localhost:8080/"
        },
        "id": "wCVCofbnTK2j",
        "outputId": "23d6db90-7c79-44e4-e47b-45e5f8a98e64"
      },
      "execution_count": 79,
      "outputs": [
        {
          "output_type": "execute_result",
          "data": {
            "text/plain": [
              "[5, 2, 6, 4]"
            ]
          },
          "metadata": {},
          "execution_count": 79
        }
      ]
    },
    {
      "cell_type": "code",
      "source": [
        "#quiz\n",
        "l = [2, 4, 5, 7, 8]\n",
        "print(l[-3:])"
      ],
      "metadata": {
        "colab": {
          "base_uri": "https://localhost:8080/"
        },
        "id": "K9E3PN-FTcdR",
        "outputId": "e1234847-db2a-4998-af17-7c28875ca198"
      },
      "execution_count": 80,
      "outputs": [
        {
          "output_type": "stream",
          "name": "stdout",
          "text": [
            "[5, 7, 8]\n"
          ]
        }
      ]
    },
    {
      "cell_type": "code",
      "source": [
        "#quiz\n",
        "l = [2, 4, 5, 7, 8]\n",
        "print(l[5:0])"
      ],
      "metadata": {
        "colab": {
          "base_uri": "https://localhost:8080/"
        },
        "id": "2YC-qu_3UeB0",
        "outputId": "a3bcaf05-843f-45ee-e667-6957d6e5c930"
      },
      "execution_count": 82,
      "outputs": [
        {
          "output_type": "stream",
          "name": "stdout",
          "text": [
            "[]\n"
          ]
        }
      ]
    },
    {
      "cell_type": "code",
      "source": [
        "#quiz\n",
        "l = [2, 4, 5, 7, 8]\n",
        "print(l[2:0])"
      ],
      "metadata": {
        "colab": {
          "base_uri": "https://localhost:8080/"
        },
        "id": "PdB3ehIYUxt8",
        "outputId": "a726dab9-3d0a-4c24-d6e3-5be148f64b36"
      },
      "execution_count": 81,
      "outputs": [
        {
          "output_type": "stream",
          "name": "stdout",
          "text": [
            "[]\n"
          ]
        }
      ]
    },
    {
      "cell_type": "code",
      "source": [
        "l[2:10:1]"
      ],
      "metadata": {
        "colab": {
          "base_uri": "https://localhost:8080/"
        },
        "id": "sR9Mvp7GU_Bx",
        "outputId": "4a770567-da67-43a0-c2ae-ea2eaa7da6b9"
      },
      "execution_count": 83,
      "outputs": [
        {
          "output_type": "execute_result",
          "data": {
            "text/plain": [
              "[5, 7, 8]"
            ]
          },
          "metadata": {},
          "execution_count": 83
        }
      ]
    },
    {
      "cell_type": "markdown",
      "source": [
        "# reverse order"
      ],
      "metadata": {
        "id": "c7FDj6qaaonW"
      }
    },
    {
      "cell_type": "code",
      "source": [
        "lst = [5,1,2,7,6,3,4]\n"
      ],
      "metadata": {
        "id": "G6eqg0reaq7q"
      },
      "execution_count": 84,
      "outputs": []
    },
    {
      "cell_type": "code",
      "source": [
        "lst[-1::-1]"
      ],
      "metadata": {
        "colab": {
          "base_uri": "https://localhost:8080/"
        },
        "id": "H8Q2wvucay0R",
        "outputId": "ffe8ce39-6a46-4339-ff22-f69bef833ba6"
      },
      "execution_count": 85,
      "outputs": [
        {
          "output_type": "execute_result",
          "data": {
            "text/plain": [
              "[4, 3, 6, 7, 2, 1, 5]"
            ]
          },
          "metadata": {},
          "execution_count": 85
        }
      ]
    },
    {
      "cell_type": "code",
      "source": [
        "lst[0:]"
      ],
      "metadata": {
        "colab": {
          "base_uri": "https://localhost:8080/"
        },
        "id": "iKvWJsqZbd4W",
        "outputId": "ed1857e3-4a3c-4e00-e1f5-28184abbbe53"
      },
      "execution_count": 86,
      "outputs": [
        {
          "output_type": "execute_result",
          "data": {
            "text/plain": [
              "[5, 1, 2, 7, 6, 3, 4]"
            ]
          },
          "metadata": {},
          "execution_count": 86
        }
      ]
    },
    {
      "cell_type": "code",
      "source": [
        "lst[::1]"
      ],
      "metadata": {
        "colab": {
          "base_uri": "https://localhost:8080/"
        },
        "id": "UP8AeR4_dJMe",
        "outputId": "da3bcd62-6460-4344-87d2-1149ab42b741"
      },
      "execution_count": 89,
      "outputs": [
        {
          "output_type": "execute_result",
          "data": {
            "text/plain": [
              "[5, 1, 2, 7, 6, 3, 4]"
            ]
          },
          "metadata": {},
          "execution_count": 89
        }
      ]
    },
    {
      "cell_type": "code",
      "source": [
        "lst[-1::-1]"
      ],
      "metadata": {
        "colab": {
          "base_uri": "https://localhost:8080/"
        },
        "id": "lO4uGgt6ceVN",
        "outputId": "e46c853b-8f01-4867-9bbe-f50358f8bd2c"
      },
      "execution_count": 87,
      "outputs": [
        {
          "output_type": "execute_result",
          "data": {
            "text/plain": [
              "[4, 3, 6, 7, 2, 1, 5]"
            ]
          },
          "metadata": {},
          "execution_count": 87
        }
      ]
    },
    {
      "cell_type": "code",
      "source": [
        "lst[::-1]"
      ],
      "metadata": {
        "colab": {
          "base_uri": "https://localhost:8080/"
        },
        "id": "ptE7tBMucnJt",
        "outputId": "a1f5b105-ae89-47c1-a9d2-1bd178a02311"
      },
      "execution_count": 88,
      "outputs": [
        {
          "output_type": "execute_result",
          "data": {
            "text/plain": [
              "[4, 3, 6, 7, 2, 1, 5]"
            ]
          },
          "metadata": {},
          "execution_count": 88
        }
      ]
    },
    {
      "cell_type": "code",
      "source": [
        "#quiz\n",
        "l = [10, 2, 5, 3, 6]\n",
        "l[::-2]"
      ],
      "metadata": {
        "colab": {
          "base_uri": "https://localhost:8080/"
        },
        "id": "ax9hzoD9dhaO",
        "outputId": "2cc8edd4-35f4-4b37-8e8c-c5596e982256"
      },
      "execution_count": 90,
      "outputs": [
        {
          "output_type": "execute_result",
          "data": {
            "text/plain": [
              "[6, 5, 10]"
            ]
          },
          "metadata": {},
          "execution_count": 90
        }
      ]
    },
    {
      "cell_type": "code",
      "source": [
        "l[::+2]"
      ],
      "metadata": {
        "colab": {
          "base_uri": "https://localhost:8080/"
        },
        "id": "tEXdh4weeEyy",
        "outputId": "a8fad93d-1b31-4fef-ccb6-d0a85a047634"
      },
      "execution_count": 91,
      "outputs": [
        {
          "output_type": "execute_result",
          "data": {
            "text/plain": [
              "[10, 5, 6]"
            ]
          },
          "metadata": {},
          "execution_count": 91
        }
      ]
    },
    {
      "cell_type": "code",
      "source": [
        " l = [10, 2, 5, 3, 6]\n",
        " l[3:0]"
      ],
      "metadata": {
        "colab": {
          "base_uri": "https://localhost:8080/"
        },
        "id": "jZEGhZ42epFy",
        "outputId": "8af97048-4c4b-40ad-8e0b-b151bdff3816"
      },
      "execution_count": 92,
      "outputs": [
        {
          "output_type": "execute_result",
          "data": {
            "text/plain": [
              "[]"
            ]
          },
          "metadata": {},
          "execution_count": 92
        }
      ]
    }
  ]
}