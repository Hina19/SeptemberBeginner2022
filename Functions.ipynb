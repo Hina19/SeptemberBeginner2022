{
  "nbformat": 4,
  "nbformat_minor": 0,
  "metadata": {
    "colab": {
      "provenance": [],
      "authorship_tag": "ABX9TyN7CrBDs4b8SwzACs1sPItR",
      "include_colab_link": true
    },
    "kernelspec": {
      "name": "python3",
      "display_name": "Python 3"
    },
    "language_info": {
      "name": "python"
    }
  },
  "cells": [
    {
      "cell_type": "markdown",
      "metadata": {
        "id": "view-in-github",
        "colab_type": "text"
      },
      "source": [
        "<a href=\"https://colab.research.google.com/github/Hina19/SeptemberBeginner2022/blob/main/Functions.ipynb\" target=\"_parent\"><img src=\"https://colab.research.google.com/assets/colab-badge.svg\" alt=\"Open In Colab\"/></a>"
      ]
    },
    {
      "cell_type": "markdown",
      "source": [
        "# Function\n",
        " <img src='https://www.scaler.com/topics/media/python-functions-1024x495.webp' height=350 width=500>"
      ],
      "metadata": {
        "id": "6SoPmprE6NUi"
      }
    },
    {
      "cell_type": "markdown",
      "source": [
        "# Problem 1:\n",
        "\n",
        "Write a piece of code which cooks tea 3 times.\n"
      ],
      "metadata": {
        "id": "xASJFRsYIFab"
      }
    },
    {
      "cell_type": "code",
      "source": [
        "print('boil mineral water')\n",
        "print('add tea powder')\n",
        "print('add sugar & add milk')\n",
        "print('stir')\n",
        "print('boil the mixture')\n",
        "print('serve the tea')\n",
        "#2 time\n",
        "print('boil mineral water')\n",
        "print('add tea powder')\n",
        "print('add sugar & add milk')\n",
        "print('stir')\n",
        "print('boil the mixture')\n",
        "print('serve the tea')\n",
        "# 3 time\n",
        "print('boil mineral water')\n",
        "print('add tea powder')\n",
        "print('add sugar & add milk')\n",
        "print('stir')\n",
        "print('boil the mixture')\n",
        "print('serve the tea')"
      ],
      "metadata": {
        "id": "Ra-MXM8g_vhm"
      },
      "execution_count": null,
      "outputs": []
    },
    {
      "cell_type": "code",
      "source": [
        "def make_tea():\n",
        "  print('boil water')\n",
        "  print('add tea powder')\n",
        "  print('add sugar & add milk')\n",
        "  print('stir')\n",
        "  print('boil the mixture')\n",
        "  print('serve the tea')"
      ],
      "metadata": {
        "id": "yRwlBkAuaUyJ"
      },
      "execution_count": 1,
      "outputs": []
    },
    {
      "cell_type": "code",
      "source": [
        "for i in range(5):\n",
        "  make_tea()"
      ],
      "metadata": {
        "id": "RbYoqAOdaUuz",
        "colab": {
          "base_uri": "https://localhost:8080/"
        },
        "outputId": "a06d8100-519d-4919-a22c-0de9feeeffa5"
      },
      "execution_count": 2,
      "outputs": [
        {
          "output_type": "stream",
          "name": "stdout",
          "text": [
            "boil water\n",
            "add tea powder\n",
            "add sugar & add milk\n",
            "stir\n",
            "boil the mixture\n",
            "serve the tea\n",
            "boil water\n",
            "add tea powder\n",
            "add sugar & add milk\n",
            "stir\n",
            "boil the mixture\n",
            "serve the tea\n",
            "boil water\n",
            "add tea powder\n",
            "add sugar & add milk\n",
            "stir\n",
            "boil the mixture\n",
            "serve the tea\n",
            "boil water\n",
            "add tea powder\n",
            "add sugar & add milk\n",
            "stir\n",
            "boil the mixture\n",
            "serve the tea\n",
            "boil water\n",
            "add tea powder\n",
            "add sugar & add milk\n",
            "stir\n",
            "boil the mixture\n",
            "serve the tea\n"
          ]
        }
      ]
    },
    {
      "cell_type": "code",
      "source": [],
      "metadata": {
        "id": "VsrQgqX3aUry"
      },
      "execution_count": null,
      "outputs": []
    },
    {
      "cell_type": "code",
      "source": [],
      "metadata": {
        "id": "L4AX74f2aUpG"
      },
      "execution_count": null,
      "outputs": []
    },
    {
      "cell_type": "code",
      "source": [],
      "metadata": {
        "id": "4l7piyNcmbzH"
      },
      "execution_count": null,
      "outputs": []
    },
    {
      "cell_type": "code",
      "source": [],
      "metadata": {
        "id": "KgJAYf8vmbwC"
      },
      "execution_count": null,
      "outputs": []
    },
    {
      "cell_type": "markdown",
      "source": [
        "#Problem 2: Greet Someone\n",
        "\n",
        "'''\n",
        "Take a name as input.\n",
        "Write a greeter function which prints \"Hello name!\"\n",
        "after accepting a name as argument.\n",
        "'''"
      ],
      "metadata": {
        "id": "VmQCI8JM6-1P"
      }
    },
    {
      "cell_type": "code",
      "source": [
        "name = input()\n",
        "print('hello',name)"
      ],
      "metadata": {
        "id": "nD1DW-VqaYUU",
        "colab": {
          "base_uri": "https://localhost:8080/"
        },
        "outputId": "b9509025-34d6-470a-8237-8e627d48f01d"
      },
      "execution_count": null,
      "outputs": [
        {
          "output_type": "stream",
          "name": "stdout",
          "text": [
            "nisha\n",
            "hello nisha\n"
          ]
        }
      ]
    },
    {
      "cell_type": "code",
      "source": [
        "name = input()\n",
        "print('hello',name)"
      ],
      "metadata": {
        "id": "jqlRMUQEaYQ9",
        "colab": {
          "base_uri": "https://localhost:8080/"
        },
        "outputId": "354a6b22-4ea4-4e49-9b77-923ad096db10"
      },
      "execution_count": null,
      "outputs": [
        {
          "output_type": "stream",
          "name": "stdout",
          "text": [
            "dhruv\n",
            "hello dhruv\n"
          ]
        }
      ]
    },
    {
      "cell_type": "code",
      "source": [
        "def greet(name):\n",
        "  print('hello',name,'how are you ?')"
      ],
      "metadata": {
        "id": "mvkBHm4baYN4"
      },
      "execution_count": null,
      "outputs": []
    },
    {
      "cell_type": "code",
      "source": [
        "name = input()\n"
      ],
      "metadata": {
        "id": "aldaxEuOaYLF",
        "colab": {
          "base_uri": "https://localhost:8080/"
        },
        "outputId": "4d7e8e24-55e4-4490-fd77-250fda9e8563"
      },
      "execution_count": null,
      "outputs": [
        {
          "name": "stdout",
          "output_type": "stream",
          "text": [
            "david\n"
          ]
        }
      ]
    },
    {
      "cell_type": "code",
      "source": [
        "greet(name)"
      ],
      "metadata": {
        "id": "DJI36-bfaYFD",
        "colab": {
          "base_uri": "https://localhost:8080/"
        },
        "outputId": "9c9749a0-16c5-49be-d8af-6c8a3517ccae"
      },
      "execution_count": null,
      "outputs": [
        {
          "output_type": "stream",
          "name": "stdout",
          "text": [
            "hello david how are you ?\n"
          ]
        }
      ]
    },
    {
      "cell_type": "code",
      "source": [
        "name = input()"
      ],
      "metadata": {
        "colab": {
          "base_uri": "https://localhost:8080/"
        },
        "id": "lcp8wUB-pAje",
        "outputId": "29439644-26da-4adc-b32f-3274a58cb4f6"
      },
      "execution_count": null,
      "outputs": [
        {
          "name": "stdout",
          "output_type": "stream",
          "text": [
            "abdul\n"
          ]
        }
      ]
    },
    {
      "cell_type": "code",
      "source": [
        "greet(name)"
      ],
      "metadata": {
        "id": "d5Um-y28aYCX",
        "colab": {
          "base_uri": "https://localhost:8080/"
        },
        "outputId": "b99877b6-964b-4691-99c0-f3bea5b0bd7e"
      },
      "execution_count": null,
      "outputs": [
        {
          "output_type": "stream",
          "name": "stdout",
          "text": [
            "hello abdul how are you ?\n"
          ]
        }
      ]
    },
    {
      "cell_type": "code",
      "source": [],
      "metadata": {
        "id": "S3Xo00AfdvWe"
      },
      "execution_count": null,
      "outputs": []
    },
    {
      "cell_type": "code",
      "source": [],
      "metadata": {
        "id": "-Dl7PqUsdvTi"
      },
      "execution_count": null,
      "outputs": []
    },
    {
      "cell_type": "code",
      "source": [],
      "metadata": {
        "id": "oSs-qfLRdvQp"
      },
      "execution_count": null,
      "outputs": []
    },
    {
      "cell_type": "markdown",
      "source": [
        "## Syntax of function:"
      ],
      "metadata": {
        "id": "P1-rpteYK3uB"
      }
    },
    {
      "cell_type": "markdown",
      "source": [
        "<img src='https://k21academy.com/wp-content/uploads/2021/10/Python-Function-Syntax.png'>"
      ],
      "metadata": {
        "id": "Tha6OhywdcwQ"
      }
    },
    {
      "cell_type": "code",
      "source": [
        "def introduce_family(father,mother,sibling):\n",
        "  print('Father',father)\n",
        "  print('MOther',mother)\n",
        "  print('sibling',sibling)"
      ],
      "metadata": {
        "id": "_cf38_R1re6-"
      },
      "execution_count": 3,
      "outputs": []
    },
    {
      "cell_type": "code",
      "source": [
        "introduce_family(\"A\",\"B\",\"C\")"
      ],
      "metadata": {
        "colab": {
          "base_uri": "https://localhost:8080/"
        },
        "id": "zc6RI7Fsre4C",
        "outputId": "3894fefc-cb9e-498c-e470-91ab678c0b72"
      },
      "execution_count": 4,
      "outputs": [
        {
          "output_type": "stream",
          "name": "stdout",
          "text": [
            "Father A\n",
            "MOther B\n",
            "sibling C\n"
          ]
        }
      ]
    },
    {
      "cell_type": "code",
      "source": [
        "introduce_family(\"A\",\"C\",\"B\")#postional arguments"
      ],
      "metadata": {
        "colab": {
          "base_uri": "https://localhost:8080/"
        },
        "id": "a3T6m9nQre1W",
        "outputId": "c3af3a63-c71b-4250-da97-bf553eac959e"
      },
      "execution_count": 5,
      "outputs": [
        {
          "output_type": "stream",
          "name": "stdout",
          "text": [
            "Father A\n",
            "MOther C\n",
            "sibling B\n"
          ]
        }
      ]
    },
    {
      "cell_type": "code",
      "source": [
        "introduce_family(\"A\",\"C\")"
      ],
      "metadata": {
        "colab": {
          "base_uri": "https://localhost:8080/",
          "height": 168
        },
        "id": "y6ZbrQx-reyv",
        "outputId": "b21bb6a5-3ca9-4c59-90c4-10f62a1596cc"
      },
      "execution_count": 6,
      "outputs": [
        {
          "output_type": "error",
          "ename": "TypeError",
          "evalue": "ignored",
          "traceback": [
            "\u001b[0;31m---------------------------------------------------------------------------\u001b[0m",
            "\u001b[0;31mTypeError\u001b[0m                                 Traceback (most recent call last)",
            "\u001b[0;32m<ipython-input-6-5ba2fa721e36>\u001b[0m in \u001b[0;36m<module>\u001b[0;34m\u001b[0m\n\u001b[0;32m----> 1\u001b[0;31m \u001b[0mintroduce_family\u001b[0m\u001b[0;34m(\u001b[0m\u001b[0;34m\"A\"\u001b[0m\u001b[0;34m,\u001b[0m\u001b[0;34m\"C\"\u001b[0m\u001b[0;34m)\u001b[0m\u001b[0;34m\u001b[0m\u001b[0;34m\u001b[0m\u001b[0m\n\u001b[0m",
            "\u001b[0;31mTypeError\u001b[0m: introduce_family() missing 1 required positional argument: 'sibling'"
          ]
        }
      ]
    },
    {
      "cell_type": "code",
      "source": [
        "introduce_family(\"A\",\"C\",\"B\",\"D\")"
      ],
      "metadata": {
        "colab": {
          "base_uri": "https://localhost:8080/",
          "height": 168
        },
        "id": "l4BRobVirewH",
        "outputId": "b0ba58a6-9e5d-46ec-f010-436f078de024"
      },
      "execution_count": 7,
      "outputs": [
        {
          "output_type": "error",
          "ename": "TypeError",
          "evalue": "ignored",
          "traceback": [
            "\u001b[0;31m---------------------------------------------------------------------------\u001b[0m",
            "\u001b[0;31mTypeError\u001b[0m                                 Traceback (most recent call last)",
            "\u001b[0;32m<ipython-input-7-4d8e1f713a45>\u001b[0m in \u001b[0;36m<module>\u001b[0;34m\u001b[0m\n\u001b[0;32m----> 1\u001b[0;31m \u001b[0mintroduce_family\u001b[0m\u001b[0;34m(\u001b[0m\u001b[0;34m\"A\"\u001b[0m\u001b[0;34m,\u001b[0m\u001b[0;34m\"C\"\u001b[0m\u001b[0;34m,\u001b[0m\u001b[0;34m\"B\"\u001b[0m\u001b[0;34m,\u001b[0m\u001b[0;34m\"D\"\u001b[0m\u001b[0;34m)\u001b[0m\u001b[0;34m\u001b[0m\u001b[0;34m\u001b[0m\u001b[0m\n\u001b[0m",
            "\u001b[0;31mTypeError\u001b[0m: introduce_family() takes 3 positional arguments but 4 were given"
          ]
        }
      ]
    },
    {
      "cell_type": "code",
      "source": [],
      "metadata": {
        "id": "5jlKCSm3reta"
      },
      "execution_count": null,
      "outputs": []
    },
    {
      "cell_type": "markdown",
      "source": [
        "# Problem:\n",
        "Write a function to add 2 numbers"
      ],
      "metadata": {
        "id": "EAyT0uKgB_Gz"
      }
    },
    {
      "cell_type": "code",
      "source": [
        "def add(a,b):\n",
        "  '''\n",
        "    This function takes two arguments- a and b and add them\n",
        "    \n",
        "  '''\n",
        "  #this\n",
        "  #is\n",
        "  #function \n",
        "  print(a+b) "
      ],
      "metadata": {
        "id": "az9gfOD2abZx"
      },
      "execution_count": 8,
      "outputs": []
    },
    {
      "cell_type": "code",
      "source": [
        "add(2,3)"
      ],
      "metadata": {
        "id": "uOLMlNEwabJM",
        "colab": {
          "base_uri": "https://localhost:8080/"
        },
        "outputId": "1b0e2199-9a14-4882-f6a2-ff556b5bab6e"
      },
      "execution_count": 9,
      "outputs": [
        {
          "output_type": "stream",
          "name": "stdout",
          "text": [
            "5\n"
          ]
        }
      ]
    },
    {
      "cell_type": "code",
      "source": [
        "help(add)"
      ],
      "metadata": {
        "id": "0DYvktr1Mgf3",
        "colab": {
          "base_uri": "https://localhost:8080/"
        },
        "outputId": "4547ff9a-e3ce-4eea-fd9a-a1491295ed6a"
      },
      "execution_count": 10,
      "outputs": [
        {
          "output_type": "stream",
          "name": "stdout",
          "text": [
            "Help on function add in module __main__:\n",
            "\n",
            "add(a, b)\n",
            "    This function takes two arguments- a and b and add them\n",
            "\n"
          ]
        }
      ]
    },
    {
      "cell_type": "code",
      "source": [
        "add(3.5,5.5)"
      ],
      "metadata": {
        "id": "eYiaBn5yMgc3",
        "colab": {
          "base_uri": "https://localhost:8080/"
        },
        "outputId": "8e6ceb23-ed81-4223-9723-86e2fcae3e4d"
      },
      "execution_count": 11,
      "outputs": [
        {
          "output_type": "stream",
          "name": "stdout",
          "text": [
            "9.0\n"
          ]
        }
      ]
    },
    {
      "cell_type": "code",
      "source": [
        "add(3,5.5)"
      ],
      "metadata": {
        "id": "lUDrIlEQMgaG",
        "colab": {
          "base_uri": "https://localhost:8080/"
        },
        "outputId": "060c2f62-fb99-44ed-e587-4d075dee6841"
      },
      "execution_count": 12,
      "outputs": [
        {
          "output_type": "stream",
          "name": "stdout",
          "text": [
            "8.5\n"
          ]
        }
      ]
    },
    {
      "cell_type": "code",
      "source": [
        "add('madhu','krishna')"
      ],
      "metadata": {
        "id": "oUBl9iRwMgXY",
        "colab": {
          "base_uri": "https://localhost:8080/"
        },
        "outputId": "e7a5e18a-3dd6-41ea-b33f-d4410430aca7"
      },
      "execution_count": 13,
      "outputs": [
        {
          "output_type": "stream",
          "name": "stdout",
          "text": [
            "madhukrishna\n"
          ]
        }
      ]
    },
    {
      "cell_type": "code",
      "source": [
        "add('function',2.0)"
      ],
      "metadata": {
        "id": "2vNfReh4MgUv",
        "colab": {
          "base_uri": "https://localhost:8080/",
          "height": 257
        },
        "outputId": "327a1dc3-5c4c-4c35-c63f-409c19fab366"
      },
      "execution_count": 14,
      "outputs": [
        {
          "output_type": "error",
          "ename": "TypeError",
          "evalue": "ignored",
          "traceback": [
            "\u001b[0;31m---------------------------------------------------------------------------\u001b[0m",
            "\u001b[0;31mTypeError\u001b[0m                                 Traceback (most recent call last)",
            "\u001b[0;32m<ipython-input-14-3992de8a7fcb>\u001b[0m in \u001b[0;36m<module>\u001b[0;34m\u001b[0m\n\u001b[0;32m----> 1\u001b[0;31m \u001b[0madd\u001b[0m\u001b[0;34m(\u001b[0m\u001b[0;34m'function'\u001b[0m\u001b[0;34m,\u001b[0m\u001b[0;36m2.0\u001b[0m\u001b[0;34m)\u001b[0m\u001b[0;34m\u001b[0m\u001b[0;34m\u001b[0m\u001b[0m\n\u001b[0m",
            "\u001b[0;32m<ipython-input-8-3d610313afee>\u001b[0m in \u001b[0;36madd\u001b[0;34m(a, b)\u001b[0m\n\u001b[1;32m      7\u001b[0m   \u001b[0;31m#is\u001b[0m\u001b[0;34m\u001b[0m\u001b[0;34m\u001b[0m\u001b[0;34m\u001b[0m\u001b[0m\n\u001b[1;32m      8\u001b[0m   \u001b[0;31m#function\u001b[0m\u001b[0;34m\u001b[0m\u001b[0;34m\u001b[0m\u001b[0;34m\u001b[0m\u001b[0m\n\u001b[0;32m----> 9\u001b[0;31m   \u001b[0mprint\u001b[0m\u001b[0;34m(\u001b[0m\u001b[0ma\u001b[0m\u001b[0;34m+\u001b[0m\u001b[0mb\u001b[0m\u001b[0;34m)\u001b[0m\u001b[0;34m\u001b[0m\u001b[0;34m\u001b[0m\u001b[0m\n\u001b[0m",
            "\u001b[0;31mTypeError\u001b[0m: can only concatenate str (not \"float\") to str"
          ]
        }
      ]
    },
    {
      "cell_type": "code",
      "source": [
        "add('function',2)"
      ],
      "metadata": {
        "id": "e873sZN3MgR_",
        "colab": {
          "base_uri": "https://localhost:8080/",
          "height": 257
        },
        "outputId": "ee7ca49a-5116-44eb-ab62-39255436d273"
      },
      "execution_count": 15,
      "outputs": [
        {
          "output_type": "error",
          "ename": "TypeError",
          "evalue": "ignored",
          "traceback": [
            "\u001b[0;31m---------------------------------------------------------------------------\u001b[0m",
            "\u001b[0;31mTypeError\u001b[0m                                 Traceback (most recent call last)",
            "\u001b[0;32m<ipython-input-15-5e9eb5a2d106>\u001b[0m in \u001b[0;36m<module>\u001b[0;34m\u001b[0m\n\u001b[0;32m----> 1\u001b[0;31m \u001b[0madd\u001b[0m\u001b[0;34m(\u001b[0m\u001b[0;34m'function'\u001b[0m\u001b[0;34m,\u001b[0m\u001b[0;36m2\u001b[0m\u001b[0;34m)\u001b[0m\u001b[0;34m\u001b[0m\u001b[0;34m\u001b[0m\u001b[0m\n\u001b[0m",
            "\u001b[0;32m<ipython-input-8-3d610313afee>\u001b[0m in \u001b[0;36madd\u001b[0;34m(a, b)\u001b[0m\n\u001b[1;32m      7\u001b[0m   \u001b[0;31m#is\u001b[0m\u001b[0;34m\u001b[0m\u001b[0;34m\u001b[0m\u001b[0;34m\u001b[0m\u001b[0m\n\u001b[1;32m      8\u001b[0m   \u001b[0;31m#function\u001b[0m\u001b[0;34m\u001b[0m\u001b[0;34m\u001b[0m\u001b[0;34m\u001b[0m\u001b[0m\n\u001b[0;32m----> 9\u001b[0;31m   \u001b[0mprint\u001b[0m\u001b[0;34m(\u001b[0m\u001b[0ma\u001b[0m\u001b[0;34m+\u001b[0m\u001b[0mb\u001b[0m\u001b[0;34m)\u001b[0m\u001b[0;34m\u001b[0m\u001b[0;34m\u001b[0m\u001b[0m\n\u001b[0m",
            "\u001b[0;31mTypeError\u001b[0m: can only concatenate str (not \"int\") to str"
          ]
        }
      ]
    },
    {
      "cell_type": "code",
      "source": [],
      "metadata": {
        "id": "DW0VxLerMgPV"
      },
      "execution_count": null,
      "outputs": []
    },
    {
      "cell_type": "code",
      "source": [],
      "metadata": {
        "id": "g4ddKQUjMgMt"
      },
      "execution_count": null,
      "outputs": []
    },
    {
      "cell_type": "markdown",
      "source": [
        "## Return\n",
        "<img src=\"https://media.giphy.com/media/LPemN8PSiCNyXQ1wxs/giphy.gif\" width=\"300px\" />"
      ],
      "metadata": {
        "id": "fIUhXgpwCqeO"
      }
    },
    {
      "cell_type": "code",
      "source": [
        "def add(a,b):\n",
        "  '''\n",
        "    This function takes two arguments- a and b and add them\n",
        "    \n",
        "  '''\n",
        "  #this\n",
        "  #is\n",
        "  #function \n",
        "  print(a+b)   "
      ],
      "metadata": {
        "id": "DKUGoIHHafCa"
      },
      "execution_count": 96,
      "outputs": []
    },
    {
      "cell_type": "code",
      "source": [
        "sum = add(2,3)"
      ],
      "metadata": {
        "id": "J6ynenQOae_V",
        "colab": {
          "base_uri": "https://localhost:8080/"
        },
        "outputId": "a3b5d67e-d378-4dd3-96ce-31f3ea8cdeee"
      },
      "execution_count": 97,
      "outputs": [
        {
          "output_type": "stream",
          "name": "stdout",
          "text": [
            "5\n"
          ]
        }
      ]
    },
    {
      "cell_type": "code",
      "source": [
        "def add(a,b):\n",
        "  '''\n",
        "    This function takes two arguments- a and b and add them\n",
        "    \n",
        "  '''\n",
        "  #this\n",
        "  #is\n",
        "  #function \n",
        "  print(a+b) \n",
        "  return (a+b)"
      ],
      "metadata": {
        "id": "y2mXo7Y4ZBdc"
      },
      "execution_count": 99,
      "outputs": []
    },
    {
      "cell_type": "code",
      "source": [
        "sum = add(2,4)"
      ],
      "metadata": {
        "colab": {
          "base_uri": "https://localhost:8080/"
        },
        "id": "R4Qz_uagZCJF",
        "outputId": "d92ff8ce-9801-498f-ad1b-29458c28d008"
      },
      "execution_count": 100,
      "outputs": [
        {
          "output_type": "stream",
          "name": "stdout",
          "text": [
            "6\n"
          ]
        }
      ]
    },
    {
      "cell_type": "code",
      "source": [
        "print(sum+5)"
      ],
      "metadata": {
        "colab": {
          "base_uri": "https://localhost:8080/"
        },
        "id": "HwA2ypw9Y3XP",
        "outputId": "f5371230-ad57-4586-df2e-05d058dfbaf2"
      },
      "execution_count": 101,
      "outputs": [
        {
          "output_type": "stream",
          "name": "stdout",
          "text": [
            "11\n"
          ]
        }
      ]
    },
    {
      "cell_type": "code",
      "source": [
        "#quiz\n",
        "def square(x):\n",
        "    print(x*x)\n",
        "    return x*x\n",
        "\n",
        "a = square(3)\n",
        "b = square(5)\n",
        "\n",
        "print(a + b)"
      ],
      "metadata": {
        "colab": {
          "base_uri": "https://localhost:8080/"
        },
        "id": "NStdTLHIH6oe",
        "outputId": "b01a39d3-7905-49c7-b44a-b828a8ac56cb"
      },
      "execution_count": 51,
      "outputs": [
        {
          "output_type": "stream",
          "name": "stdout",
          "text": [
            "9\n",
            "25\n",
            "34\n"
          ]
        }
      ]
    },
    {
      "cell_type": "code",
      "source": [],
      "metadata": {
        "id": "jobbd9nKH6fj"
      },
      "execution_count": null,
      "outputs": []
    },
    {
      "cell_type": "code",
      "source": [],
      "metadata": {
        "id": "ebM8oMApINtl"
      },
      "execution_count": null,
      "outputs": []
    },
    {
      "cell_type": "code",
      "source": [
        "print(sum)"
      ],
      "metadata": {
        "id": "2OC8NUUqae8e",
        "colab": {
          "base_uri": "https://localhost:8080/"
        },
        "outputId": "f3db16f4-70da-45bd-b2c9-4968b32785e9"
      },
      "execution_count": 18,
      "outputs": [
        {
          "output_type": "stream",
          "name": "stdout",
          "text": [
            "None\n"
          ]
        }
      ]
    },
    {
      "cell_type": "code",
      "source": [
        "def double_amount(amount):\n",
        "  double = amount*3\n",
        "  print(double)\n",
        "  return double"
      ],
      "metadata": {
        "id": "oPVEuTRMae5c"
      },
      "execution_count": 46,
      "outputs": []
    },
    {
      "cell_type": "code",
      "source": [
        "bankamount = double_amount(100000)"
      ],
      "metadata": {
        "id": "uPHQGJvSae2i",
        "colab": {
          "base_uri": "https://localhost:8080/"
        },
        "outputId": "27b3ea91-9342-455b-ba3a-aebe1db06dca"
      },
      "execution_count": 47,
      "outputs": [
        {
          "output_type": "stream",
          "name": "stdout",
          "text": [
            "300000\n"
          ]
        }
      ]
    },
    {
      "cell_type": "code",
      "source": [
        "print(bankamount)"
      ],
      "metadata": {
        "id": "iluSR3MlMMbK",
        "colab": {
          "base_uri": "https://localhost:8080/"
        },
        "outputId": "e1438270-6879-45c2-d34b-aa9bd184714c"
      },
      "execution_count": 48,
      "outputs": [
        {
          "output_type": "stream",
          "name": "stdout",
          "text": [
            "300000\n"
          ]
        }
      ]
    },
    {
      "cell_type": "code",
      "source": [
        "#quiz 1\n",
        "def add_2_nums_with_return(n1, n2):\n",
        "    return n1 + n2\n",
        "\n",
        "y = add_2_nums_with_return(5, 6)\n",
        "# print(y)"
      ],
      "metadata": {
        "id": "QSKv6QchFphd"
      },
      "execution_count": 29,
      "outputs": []
    },
    {
      "cell_type": "code",
      "source": [
        "#quiz 2\n",
        "res = add1(3, 5)\n",
        "print(res)\n",
        "\n",
        "def add1(x, y):\n",
        "    return x + y"
      ],
      "metadata": {
        "id": "7-z9I5O0GNpz",
        "colab": {
          "base_uri": "https://localhost:8080/",
          "height": 239
        },
        "outputId": "29f96872-ce9e-482d-893a-d39746a11fa9"
      },
      "execution_count": 31,
      "outputs": [
        {
          "output_type": "error",
          "ename": "NameError",
          "evalue": "ignored",
          "traceback": [
            "\u001b[0;31m---------------------------------------------------------------------------\u001b[0m",
            "\u001b[0;31mNameError\u001b[0m                                 Traceback (most recent call last)",
            "\u001b[0;32m<ipython-input-31-b27a432f571a>\u001b[0m in \u001b[0;36m<module>\u001b[0;34m\u001b[0m\n\u001b[1;32m      1\u001b[0m \u001b[0;31m#quiz 2\u001b[0m\u001b[0;34m\u001b[0m\u001b[0;34m\u001b[0m\u001b[0;34m\u001b[0m\u001b[0m\n\u001b[0;32m----> 2\u001b[0;31m \u001b[0mres\u001b[0m \u001b[0;34m=\u001b[0m \u001b[0madd1\u001b[0m\u001b[0;34m(\u001b[0m\u001b[0;36m3\u001b[0m\u001b[0;34m,\u001b[0m \u001b[0;36m5\u001b[0m\u001b[0;34m)\u001b[0m\u001b[0;34m\u001b[0m\u001b[0;34m\u001b[0m\u001b[0m\n\u001b[0m\u001b[1;32m      3\u001b[0m \u001b[0mprint\u001b[0m\u001b[0;34m(\u001b[0m\u001b[0mres\u001b[0m\u001b[0;34m)\u001b[0m\u001b[0;34m\u001b[0m\u001b[0;34m\u001b[0m\u001b[0m\n\u001b[1;32m      4\u001b[0m \u001b[0;34m\u001b[0m\u001b[0m\n\u001b[1;32m      5\u001b[0m \u001b[0;32mdef\u001b[0m \u001b[0madd1\u001b[0m\u001b[0;34m(\u001b[0m\u001b[0mx\u001b[0m\u001b[0;34m,\u001b[0m \u001b[0my\u001b[0m\u001b[0;34m)\u001b[0m\u001b[0;34m:\u001b[0m\u001b[0;34m\u001b[0m\u001b[0;34m\u001b[0m\u001b[0m\n",
            "\u001b[0;31mNameError\u001b[0m: name 'add1' is not defined"
          ]
        }
      ]
    },
    {
      "cell_type": "code",
      "source": [
        "#quiz 3\n",
        "def foo_bar():\n",
        "    # inside the function\n",
        "    print('Foo')\n",
        "    print('hello')\n",
        "    print('how are you')\n",
        "    # return 4\n",
        "    print('Bar')\n",
        "\n",
        "res = foo_bar()\n",
        "print(res)"
      ],
      "metadata": {
        "id": "UlwjVJhwGNm6",
        "colab": {
          "base_uri": "https://localhost:8080/"
        },
        "outputId": "23c30d78-8637-4729-9359-0349cd72c751"
      },
      "execution_count": 42,
      "outputs": [
        {
          "output_type": "stream",
          "name": "stdout",
          "text": [
            "Foo\n",
            "hello\n",
            "how are you\n",
            "Bar\n",
            "None\n"
          ]
        }
      ]
    },
    {
      "cell_type": "code",
      "source": [
        "print(res)"
      ],
      "metadata": {
        "id": "Ak0tLHomJ2lm",
        "colab": {
          "base_uri": "https://localhost:8080/"
        },
        "outputId": "35eb013d-3657-4f71-d22f-6a7b7592103a"
      },
      "execution_count": 40,
      "outputs": [
        {
          "output_type": "stream",
          "name": "stdout",
          "text": [
            "4\n"
          ]
        }
      ]
    },
    {
      "cell_type": "code",
      "source": [
        "#quiz\n",
        "def print_max(a, b):\n",
        "    if a > b:\n",
        "        print(a, 'is maximum')\n",
        "    elif a == b:\n",
        "        print(a, 'is equal to', b)\n",
        "    else:\n",
        "        print(b, 'is maximum')\n",
        "print_max(3, 4)"
      ],
      "metadata": {
        "id": "3QrHq_T_J2i0",
        "colab": {
          "base_uri": "https://localhost:8080/"
        },
        "outputId": "ebc35613-df0c-4da4-d80e-7974c8936598"
      },
      "execution_count": 41,
      "outputs": [
        {
          "output_type": "stream",
          "name": "stdout",
          "text": [
            "4 is maximum\n"
          ]
        }
      ]
    },
    {
      "cell_type": "code",
      "source": [],
      "metadata": {
        "id": "F00jS_jFGfLA"
      },
      "execution_count": null,
      "outputs": []
    },
    {
      "cell_type": "code",
      "source": [],
      "metadata": {
        "id": "maHXwKNcGfIA"
      },
      "execution_count": null,
      "outputs": []
    },
    {
      "cell_type": "code",
      "source": [],
      "metadata": {
        "id": "canj9tg9GfFX"
      },
      "execution_count": null,
      "outputs": []
    },
    {
      "cell_type": "code",
      "source": [],
      "metadata": {
        "id": "E5kO1vxtGfB4"
      },
      "execution_count": null,
      "outputs": []
    },
    {
      "cell_type": "markdown",
      "source": [
        "# Keyword & positional arguments"
      ],
      "metadata": {
        "id": "17Y8OAfvNx32"
      }
    },
    {
      "cell_type": "code",
      "source": [
        "def introduce_family(father,mother,sibling):\n",
        "  print('Father',father)\n",
        "  print('MOther',mother)\n",
        "  print('sibling',sibling)"
      ],
      "metadata": {
        "id": "DwRezMsRKrE9"
      },
      "execution_count": 53,
      "outputs": []
    },
    {
      "cell_type": "code",
      "source": [
        "introduce_family(father='A',sibling='B',mother='C')#keyword arguments"
      ],
      "metadata": {
        "id": "NT2evginN6BT",
        "colab": {
          "base_uri": "https://localhost:8080/"
        },
        "outputId": "b230201d-0732-463a-b8e3-43b25468971e"
      },
      "execution_count": 52,
      "outputs": [
        {
          "output_type": "stream",
          "name": "stdout",
          "text": [
            "Father A\n",
            "MOther C\n",
            "sibling B\n"
          ]
        }
      ]
    },
    {
      "cell_type": "code",
      "source": [
        "introduce_family('A','B','C')"
      ],
      "metadata": {
        "id": "iUuldraWN5-a",
        "colab": {
          "base_uri": "https://localhost:8080/"
        },
        "outputId": "e0290cbe-01c2-4f44-d136-4aa1b6d26086"
      },
      "execution_count": 54,
      "outputs": [
        {
          "output_type": "stream",
          "name": "stdout",
          "text": [
            "Father A\n",
            "MOther B\n",
            "sibling C\n"
          ]
        }
      ]
    },
    {
      "cell_type": "code",
      "source": [
        "def number(a,b,c,d):\n",
        "  print(a)\n",
        "  print(b)\n",
        "  print(c)\n",
        "  print(d)\n",
        "  print(a+b+c+d)"
      ],
      "metadata": {
        "id": "CtuwUPvbN57q"
      },
      "execution_count": 58,
      "outputs": []
    },
    {
      "cell_type": "code",
      "source": [
        "number(1,5,2,3)"
      ],
      "metadata": {
        "id": "K6ATqqZ-N545",
        "colab": {
          "base_uri": "https://localhost:8080/"
        },
        "outputId": "b16ea56e-a02c-4a88-c245-32e195a0093f"
      },
      "execution_count": 59,
      "outputs": [
        {
          "output_type": "stream",
          "name": "stdout",
          "text": [
            "1\n",
            "5\n",
            "2\n",
            "3\n",
            "11\n"
          ]
        }
      ]
    },
    {
      "cell_type": "code",
      "source": [
        "number(b=3,a=2,c=1,d=5)#keyword arguments"
      ],
      "metadata": {
        "id": "DmMz5u3VN52I",
        "colab": {
          "base_uri": "https://localhost:8080/"
        },
        "outputId": "a7d508f5-1192-4ed4-aca3-c08bcb8a4957"
      },
      "execution_count": 60,
      "outputs": [
        {
          "output_type": "stream",
          "name": "stdout",
          "text": [
            "2\n",
            "3\n",
            "1\n",
            "5\n",
            "11\n"
          ]
        }
      ]
    },
    {
      "cell_type": "code",
      "source": [
        "number(7,2,d=5,c=3)#position => keyword"
      ],
      "metadata": {
        "id": "oSXb7XfIN5zq",
        "colab": {
          "base_uri": "https://localhost:8080/"
        },
        "outputId": "e78f91dd-6e36-49e6-a571-600f884af54e"
      },
      "execution_count": 61,
      "outputs": [
        {
          "output_type": "stream",
          "name": "stdout",
          "text": [
            "7\n",
            "2\n",
            "3\n",
            "5\n",
            "17\n"
          ]
        }
      ]
    },
    {
      "cell_type": "code",
      "source": [
        "number(7,2,a=5,c=3)"
      ],
      "metadata": {
        "id": "WWNKtsxhN5wy",
        "colab": {
          "base_uri": "https://localhost:8080/",
          "height": 168
        },
        "outputId": "6c8cbb9c-399e-4cbf-8232-08fc93fe3772"
      },
      "execution_count": 62,
      "outputs": [
        {
          "output_type": "error",
          "ename": "TypeError",
          "evalue": "ignored",
          "traceback": [
            "\u001b[0;31m---------------------------------------------------------------------------\u001b[0m",
            "\u001b[0;31mTypeError\u001b[0m                                 Traceback (most recent call last)",
            "\u001b[0;32m<ipython-input-62-485e40d6dfb9>\u001b[0m in \u001b[0;36m<module>\u001b[0;34m\u001b[0m\n\u001b[0;32m----> 1\u001b[0;31m \u001b[0mnumber\u001b[0m\u001b[0;34m(\u001b[0m\u001b[0;36m7\u001b[0m\u001b[0;34m,\u001b[0m\u001b[0;36m2\u001b[0m\u001b[0;34m,\u001b[0m\u001b[0ma\u001b[0m\u001b[0;34m=\u001b[0m\u001b[0;36m5\u001b[0m\u001b[0;34m,\u001b[0m\u001b[0mc\u001b[0m\u001b[0;34m=\u001b[0m\u001b[0;36m3\u001b[0m\u001b[0;34m)\u001b[0m\u001b[0;34m\u001b[0m\u001b[0;34m\u001b[0m\u001b[0m\n\u001b[0m",
            "\u001b[0;31mTypeError\u001b[0m: number() got multiple values for argument 'a'"
          ]
        }
      ]
    },
    {
      "cell_type": "code",
      "source": [
        "number(a=5,c=3,2,1)"
      ],
      "metadata": {
        "colab": {
          "base_uri": "https://localhost:8080/",
          "height": 132
        },
        "id": "nigTrJ_rL-pU",
        "outputId": "2430b9ab-d582-44de-cda8-0cc96b1be1d5"
      },
      "execution_count": 63,
      "outputs": [
        {
          "output_type": "error",
          "ename": "SyntaxError",
          "evalue": "ignored",
          "traceback": [
            "\u001b[0;36m  File \u001b[0;32m\"<ipython-input-63-b4636e996746>\"\u001b[0;36m, line \u001b[0;32m1\u001b[0m\n\u001b[0;31m    number(a=5,c=3,2,1)\u001b[0m\n\u001b[0m                  ^\u001b[0m\n\u001b[0;31mSyntaxError\u001b[0m\u001b[0;31m:\u001b[0m positional argument follows keyword argument\n"
          ]
        }
      ]
    },
    {
      "cell_type": "code",
      "source": [
        "number(a=2,b=4,3,4)"
      ],
      "metadata": {
        "colab": {
          "base_uri": "https://localhost:8080/",
          "height": 132
        },
        "id": "p5ecKqG3L-m5",
        "outputId": "8e4c75db-498f-4114-a663-cb2818c4ff02"
      },
      "execution_count": 64,
      "outputs": [
        {
          "output_type": "error",
          "ename": "SyntaxError",
          "evalue": "ignored",
          "traceback": [
            "\u001b[0;36m  File \u001b[0;32m\"<ipython-input-64-ebd5d98a49f0>\"\u001b[0;36m, line \u001b[0;32m1\u001b[0m\n\u001b[0;31m    number(a=2,b=4,3,4)\u001b[0m\n\u001b[0m                  ^\u001b[0m\n\u001b[0;31mSyntaxError\u001b[0m\u001b[0;31m:\u001b[0m positional argument follows keyword argument\n"
          ]
        }
      ]
    },
    {
      "cell_type": "code",
      "source": [],
      "metadata": {
        "id": "B7HKlS91L-kY"
      },
      "execution_count": null,
      "outputs": []
    },
    {
      "cell_type": "code",
      "source": [],
      "metadata": {
        "id": "8IIB8JaNL-hw"
      },
      "execution_count": null,
      "outputs": []
    },
    {
      "cell_type": "code",
      "source": [],
      "metadata": {
        "id": "LIomGfVxNIGL"
      },
      "execution_count": null,
      "outputs": []
    },
    {
      "cell_type": "code",
      "source": [],
      "metadata": {
        "id": "Yn4mDw9PNIBr"
      },
      "execution_count": null,
      "outputs": []
    },
    {
      "cell_type": "markdown",
      "source": [
        "# Default arguments"
      ],
      "metadata": {
        "id": "prpbMzXAN6n1"
      }
    },
    {
      "cell_type": "code",
      "source": [
        "help(print)"
      ],
      "metadata": {
        "id": "PNlVBeQaN-He",
        "colab": {
          "base_uri": "https://localhost:8080/"
        },
        "outputId": "aaaa279f-6ffa-4203-83f6-b04d35604b92"
      },
      "execution_count": 65,
      "outputs": [
        {
          "output_type": "stream",
          "name": "stdout",
          "text": [
            "Help on built-in function print in module builtins:\n",
            "\n",
            "print(...)\n",
            "    print(value, ..., sep=' ', end='\\n', file=sys.stdout, flush=False)\n",
            "    \n",
            "    Prints the values to a stream, or to sys.stdout by default.\n",
            "    Optional keyword arguments:\n",
            "    file:  a file-like object (stream); defaults to the current sys.stdout.\n",
            "    sep:   string inserted between values, default a space.\n",
            "    end:   string appended after the last value, default a newline.\n",
            "    flush: whether to forcibly flush the stream.\n",
            "\n"
          ]
        }
      ]
    },
    {
      "cell_type": "code",
      "source": [
        "print('bhagyashree','santosh',sep='#',end='@')\n",
        "print('madhu')"
      ],
      "metadata": {
        "id": "zCg26VzuN-E9",
        "colab": {
          "base_uri": "https://localhost:8080/"
        },
        "outputId": "92b7f60e-48dc-4eb8-b44b-e3b961810058"
      },
      "execution_count": 66,
      "outputs": [
        {
          "output_type": "stream",
          "name": "stdout",
          "text": [
            "bhagyashree santosh\n",
            "madhu\n"
          ]
        }
      ]
    },
    {
      "cell_type": "code",
      "source": [
        "print('bhagyashree','santosh',sep='#',end='@')\n",
        "print('madhu')"
      ],
      "metadata": {
        "id": "75esdlPlN-CP",
        "colab": {
          "base_uri": "https://localhost:8080/"
        },
        "outputId": "a9ee3495-3b42-45eb-a353-2df6be08161c"
      },
      "execution_count": 67,
      "outputs": [
        {
          "output_type": "stream",
          "name": "stdout",
          "text": [
            "bhagyashree#santosh@madhu\n"
          ]
        }
      ]
    },
    {
      "cell_type": "code",
      "source": [
        "def simple_interest(p,t,r):\n",
        "  return(p*t*r)/100"
      ],
      "metadata": {
        "id": "_nSLO-BnN9_s"
      },
      "execution_count": 68,
      "outputs": []
    },
    {
      "cell_type": "code",
      "source": [
        "si = simple_interest(100,2,10)\n",
        "print(si)"
      ],
      "metadata": {
        "id": "lycM9m7ZN99E",
        "colab": {
          "base_uri": "https://localhost:8080/"
        },
        "outputId": "78ab9611-af37-447e-b5ca-644fb429d1a8"
      },
      "execution_count": 69,
      "outputs": [
        {
          "output_type": "stream",
          "name": "stdout",
          "text": [
            "20.0\n"
          ]
        }
      ]
    },
    {
      "cell_type": "code",
      "source": [
        "def simple_interest(p,t,r=10):\n",
        "  print(p)\n",
        "  print(t)\n",
        "  print(r)\n",
        "  return(p*t*r)/100"
      ],
      "metadata": {
        "id": "L8beGvUzN96M"
      },
      "execution_count": 77,
      "outputs": []
    },
    {
      "cell_type": "code",
      "source": [
        "si = simple_interest(100,2)\n",
        "print(si)"
      ],
      "metadata": {
        "colab": {
          "base_uri": "https://localhost:8080/"
        },
        "id": "ELwmi3hhPafI",
        "outputId": "b879346a-56ab-4313-d8dd-fe3aefb07b89"
      },
      "execution_count": 78,
      "outputs": [
        {
          "output_type": "stream",
          "name": "stdout",
          "text": [
            "100\n",
            "2\n",
            "10\n",
            "20.0\n"
          ]
        }
      ]
    },
    {
      "cell_type": "code",
      "source": [
        "si = simple_interest(100,2,5)\n",
        "print(si)"
      ],
      "metadata": {
        "colab": {
          "base_uri": "https://localhost:8080/"
        },
        "id": "TjDG67Y3Paas",
        "outputId": "fe3684ca-9d38-4881-b013-baa2aa755fad"
      },
      "execution_count": 79,
      "outputs": [
        {
          "output_type": "stream",
          "name": "stdout",
          "text": [
            "100\n",
            "2\n",
            "5\n",
            "10.0\n"
          ]
        }
      ]
    },
    {
      "cell_type": "code",
      "source": [
        "def simple_interest(p=50,t=1,r=10):\n",
        "  print(p)\n",
        "  print(t)\n",
        "  print(r)\n",
        "  return(p*t*r)/100"
      ],
      "metadata": {
        "id": "Q1RQsCXZQ_l3"
      },
      "execution_count": 80,
      "outputs": []
    },
    {
      "cell_type": "code",
      "source": [
        "si = simple_interest()\n",
        "print(si)\n",
        "si = simple_interest(1000)\n",
        "print(si)\n",
        "si = simple_interest(100,2)\n",
        "print(si)\n",
        "si = simple_interest(100,2,30)\n",
        "print(si)"
      ],
      "metadata": {
        "colab": {
          "base_uri": "https://localhost:8080/"
        },
        "id": "JeHjKkjJP-K9",
        "outputId": "566e3576-e132-4978-c992-f87be28054fc"
      },
      "execution_count": 84,
      "outputs": [
        {
          "output_type": "stream",
          "name": "stdout",
          "text": [
            "50\n",
            "1\n",
            "10\n",
            "5.0\n",
            "1000\n",
            "1\n",
            "10\n",
            "100.0\n",
            "100\n",
            "2\n",
            "10\n",
            "20.0\n",
            "100\n",
            "2\n",
            "30\n",
            "60.0\n"
          ]
        }
      ]
    },
    {
      "cell_type": "code",
      "source": [
        "def simple_interest(p=50, t, r=10):\n",
        "    return (p * t * r) / 100"
      ],
      "metadata": {
        "colab": {
          "base_uri": "https://localhost:8080/",
          "height": 132
        },
        "id": "bs0ZcwzaP-IE",
        "outputId": "cb165e6e-5675-4212-f0a8-719df8adcca2"
      },
      "execution_count": 85,
      "outputs": [
        {
          "output_type": "error",
          "ename": "SyntaxError",
          "evalue": "ignored",
          "traceback": [
            "\u001b[0;36m  File \u001b[0;32m\"<ipython-input-85-64470dd44c5f>\"\u001b[0;36m, line \u001b[0;32m1\u001b[0m\n\u001b[0;31m    def simple_interest(p=50, t, r=10):\u001b[0m\n\u001b[0m                       ^\u001b[0m\n\u001b[0;31mSyntaxError\u001b[0m\u001b[0;31m:\u001b[0m non-default argument follows default argument\n"
          ]
        }
      ]
    },
    {
      "cell_type": "code",
      "source": [
        "# postional argument => keyword argument\n",
        "#non default argument => default arguments"
      ],
      "metadata": {
        "id": "1PS0rohVShVM"
      },
      "execution_count": null,
      "outputs": []
    },
    {
      "cell_type": "code",
      "source": [
        "# Positional and Keyword arguments -> Used while calling functions.\n",
        "# Default argument -> Used while defining function."
      ],
      "metadata": {
        "id": "NJ9j4e1VP-Fk"
      },
      "execution_count": null,
      "outputs": []
    },
    {
      "cell_type": "code",
      "source": [],
      "metadata": {
        "id": "RDbqEYIBP-C2"
      },
      "execution_count": null,
      "outputs": []
    },
    {
      "cell_type": "markdown",
      "source": [
        "# Scope"
      ],
      "metadata": {
        "id": "bX-LxO0sN-oY"
      }
    },
    {
      "cell_type": "code",
      "source": [
        "# scope of variable - region within which a variable can be used\n",
        "\n",
        "# global variable\n",
        "chief_of_house = \"mother\"\n",
        "\n",
        "def change_chief():\n",
        "    # local variable\n",
        "    chief_of_house = \"father\"\n",
        "    print(\"Inside the function -\", chief_of_house)\n",
        "    \n",
        "    \n",
        "    \n",
        "change_chief()\n",
        "print(\"Outside the function -\", chief_of_house)"
      ],
      "metadata": {
        "colab": {
          "base_uri": "https://localhost:8080/"
        },
        "id": "o8L_GuQNVn7n",
        "outputId": "6bdd930e-3b81-4d25-89dc-b4362794f205"
      },
      "execution_count": 89,
      "outputs": [
        {
          "output_type": "stream",
          "name": "stdout",
          "text": [
            "Inside the function - father\n",
            "Outside the function - mother\n"
          ]
        }
      ]
    },
    {
      "cell_type": "code",
      "source": [
        "# scope of variable - region within which a variable can be used\n",
        "\n",
        "# global variable\n",
        "chief_of_house = \"mother\"\n",
        "\n",
        "def change_chief():\n",
        "    # local variable\n",
        "    # chief_of_house = \"father\"\n",
        "    print(\"Inside the function -\", chief_of_house)\n",
        "    \n",
        "    \n",
        "    \n",
        "change_chief()\n",
        "print(\"Outside the function -\", chief_of_house)"
      ],
      "metadata": {
        "id": "22dESZI7OAX3",
        "colab": {
          "base_uri": "https://localhost:8080/"
        },
        "outputId": "b3d858d6-e35a-45e3-ce84-2bf61b58356b"
      },
      "execution_count": 87,
      "outputs": [
        {
          "output_type": "stream",
          "name": "stdout",
          "text": [
            "Inside the function - mother\n",
            "Outside the function - mother\n"
          ]
        }
      ]
    },
    {
      "cell_type": "code",
      "source": [
        "# global variable\n",
        "# chief_of_house = \"mother\"\n",
        "\n",
        "def change_chief():\n",
        "    # local variable\n",
        "    chief = \"father\"\n",
        "    print(\"Inside the function -\", chief)\n",
        "    \n",
        "    \n",
        "    \n",
        "change_chief()\n",
        "print(\"Outside the function -\", chief)"
      ],
      "metadata": {
        "id": "zNhyYLQuw9X9",
        "colab": {
          "base_uri": "https://localhost:8080/",
          "height": 221
        },
        "outputId": "5b69fc8d-0c82-47d5-cc03-f06073023ed4"
      },
      "execution_count": 88,
      "outputs": [
        {
          "output_type": "stream",
          "name": "stdout",
          "text": [
            "Inside the function - father\n"
          ]
        },
        {
          "output_type": "error",
          "ename": "NameError",
          "evalue": "ignored",
          "traceback": [
            "\u001b[0;31m---------------------------------------------------------------------------\u001b[0m",
            "\u001b[0;31mNameError\u001b[0m                                 Traceback (most recent call last)",
            "\u001b[0;32m<ipython-input-88-0ca490ec43c6>\u001b[0m in \u001b[0;36m<module>\u001b[0;34m\u001b[0m\n\u001b[1;32m     10\u001b[0m \u001b[0;34m\u001b[0m\u001b[0m\n\u001b[1;32m     11\u001b[0m \u001b[0mchange_chief\u001b[0m\u001b[0;34m(\u001b[0m\u001b[0;34m)\u001b[0m\u001b[0;34m\u001b[0m\u001b[0;34m\u001b[0m\u001b[0m\n\u001b[0;32m---> 12\u001b[0;31m \u001b[0mprint\u001b[0m\u001b[0;34m(\u001b[0m\u001b[0;34m\"Outside the function -\"\u001b[0m\u001b[0;34m,\u001b[0m \u001b[0mchief\u001b[0m\u001b[0;34m)\u001b[0m\u001b[0;34m\u001b[0m\u001b[0;34m\u001b[0m\u001b[0m\n\u001b[0m",
            "\u001b[0;31mNameError\u001b[0m: name 'chief' is not defined"
          ]
        }
      ]
    },
    {
      "cell_type": "code",
      "source": [
        "# global variable\n",
        "chief_of_house = \"mother\"\n",
        "\n",
        "def change_chief():\n",
        "    # local variable\n",
        "    global chief_of_house\n",
        "    chief_of_house = \"father\"\n",
        "    print(\"Inside the function -\", chief_of_house)\n",
        "   \n",
        "    \n",
        "    \n",
        "change_chief()\n",
        "print(\"Outside the function -\", chief_of_house)"
      ],
      "metadata": {
        "id": "laeq_4fYw9VW",
        "colab": {
          "base_uri": "https://localhost:8080/"
        },
        "outputId": "6dc5ac1b-a035-403e-b6b7-fd8585752864"
      },
      "execution_count": 91,
      "outputs": [
        {
          "output_type": "stream",
          "name": "stdout",
          "text": [
            "Inside the function - father\n",
            "Outside the function - father\n"
          ]
        }
      ]
    },
    {
      "cell_type": "code",
      "source": [
        "# global variable\n",
        "chief_of_house = \"mother\"\n",
        "\n",
        "def change_chief():\n",
        "    # local variable\n",
        "    \n",
        "    chief_of_house = \"father\"\n",
        "    print(\"Inside the function -\", chief_of_house)\n",
        "    return  chief_of_house\n",
        "   \n",
        "    \n",
        "    \n",
        "chief = change_chief()\n",
        "print(\"Outside the function -\", chief_of_house)\n",
        "print(\"Outside the function -\", chief)"
      ],
      "metadata": {
        "id": "DQBandyew9Sj",
        "colab": {
          "base_uri": "https://localhost:8080/"
        },
        "outputId": "a40b60d8-58d3-41f5-869e-30c875415a22"
      },
      "execution_count": 92,
      "outputs": [
        {
          "output_type": "stream",
          "name": "stdout",
          "text": [
            "Inside the function - father\n",
            "Outside the function - mother\n",
            "Outside the function - father\n"
          ]
        }
      ]
    },
    {
      "cell_type": "code",
      "source": [
        "#quiz\n",
        "a = 10\n",
        "\n",
        "def calculator(num):\n",
        "    print(num * 10)\n",
        "\n",
        "calculator(a)\n",
        "print(num)\n",
        "print(a)"
      ],
      "metadata": {
        "id": "d6pz55Dcw9Pm",
        "colab": {
          "base_uri": "https://localhost:8080/",
          "height": 239
        },
        "outputId": "51d0d2c6-52a1-4ef6-d473-25a4959f4cd8"
      },
      "execution_count": 94,
      "outputs": [
        {
          "output_type": "stream",
          "name": "stdout",
          "text": [
            "100\n"
          ]
        },
        {
          "output_type": "error",
          "ename": "NameError",
          "evalue": "ignored",
          "traceback": [
            "\u001b[0;31m---------------------------------------------------------------------------\u001b[0m",
            "\u001b[0;31mNameError\u001b[0m                                 Traceback (most recent call last)",
            "\u001b[0;32m<ipython-input-94-4d7827733189>\u001b[0m in \u001b[0;36m<module>\u001b[0;34m\u001b[0m\n\u001b[1;32m      6\u001b[0m \u001b[0;34m\u001b[0m\u001b[0m\n\u001b[1;32m      7\u001b[0m \u001b[0mcalculator\u001b[0m\u001b[0;34m(\u001b[0m\u001b[0ma\u001b[0m\u001b[0;34m)\u001b[0m\u001b[0;34m\u001b[0m\u001b[0;34m\u001b[0m\u001b[0m\n\u001b[0;32m----> 8\u001b[0;31m \u001b[0mprint\u001b[0m\u001b[0;34m(\u001b[0m\u001b[0mnum\u001b[0m\u001b[0;34m)\u001b[0m\u001b[0;34m\u001b[0m\u001b[0;34m\u001b[0m\u001b[0m\n\u001b[0m\u001b[1;32m      9\u001b[0m \u001b[0mprint\u001b[0m\u001b[0;34m(\u001b[0m\u001b[0ma\u001b[0m\u001b[0;34m)\u001b[0m\u001b[0;34m\u001b[0m\u001b[0;34m\u001b[0m\u001b[0m\n",
            "\u001b[0;31mNameError\u001b[0m: name 'num' is not defined"
          ]
        }
      ]
    },
    {
      "cell_type": "code",
      "source": [
        "#quiz\n",
        "def abc:\n",
        "    return \"I am a function!\"\n",
        "\n",
        "abc()"
      ],
      "metadata": {
        "colab": {
          "base_uri": "https://localhost:8080/",
          "height": 132
        },
        "id": "o5GD_4XfYDCO",
        "outputId": "33d25a50-e618-4597-a99b-d1f3ecf2a0d7"
      },
      "execution_count": 95,
      "outputs": [
        {
          "output_type": "error",
          "ename": "SyntaxError",
          "evalue": "ignored",
          "traceback": [
            "\u001b[0;36m  File \u001b[0;32m\"<ipython-input-95-76c5cd1499e8>\"\u001b[0;36m, line \u001b[0;32m2\u001b[0m\n\u001b[0;31m    def abc:\u001b[0m\n\u001b[0m           ^\u001b[0m\n\u001b[0;31mSyntaxError\u001b[0m\u001b[0;31m:\u001b[0m invalid syntax\n"
          ]
        }
      ]
    }
  ]
}