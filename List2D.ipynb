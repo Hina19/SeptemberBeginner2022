{
  "nbformat": 4,
  "nbformat_minor": 0,
  "metadata": {
    "colab": {
      "provenance": [],
      "authorship_tag": "ABX9TyMLQfs+ohM4uS/aAUpKKzUj",
      "include_colab_link": true
    },
    "kernelspec": {
      "name": "python3",
      "display_name": "Python 3"
    },
    "language_info": {
      "name": "python"
    }
  },
  "cells": [
    {
      "cell_type": "markdown",
      "metadata": {
        "id": "view-in-github",
        "colab_type": "text"
      },
      "source": [
        "<a href=\"https://colab.research.google.com/github/Hina19/SeptemberBeginner2022/blob/main/List2D.ipynb\" target=\"_parent\"><img src=\"https://colab.research.google.com/assets/colab-badge.svg\" alt=\"Open In Colab\"/></a>"
      ]
    },
    {
      "cell_type": "code",
      "source": [
        "x = input()"
      ],
      "metadata": {
        "id": "ryEJu2QbiXsJ",
        "colab": {
          "base_uri": "https://localhost:8080/"
        },
        "outputId": "3e7ff79b-1cc2-427a-fb8a-b5d956025cef"
      },
      "execution_count": 1,
      "outputs": [
        {
          "name": "stdout",
          "output_type": "stream",
          "text": [
            "1 2 3 4 5\n"
          ]
        }
      ]
    },
    {
      "cell_type": "code",
      "source": [
        "type(x)"
      ],
      "metadata": {
        "id": "qwTd8rdFiXpO",
        "colab": {
          "base_uri": "https://localhost:8080/"
        },
        "outputId": "ebe0deb0-4216-4726-8a6b-41f3680405ea"
      },
      "execution_count": 2,
      "outputs": [
        {
          "output_type": "execute_result",
          "data": {
            "text/plain": [
              "str"
            ]
          },
          "metadata": {},
          "execution_count": 2
        }
      ]
    },
    {
      "cell_type": "code",
      "source": [
        "x"
      ],
      "metadata": {
        "id": "AaU29vJLiXmg",
        "colab": {
          "base_uri": "https://localhost:8080/",
          "height": 36
        },
        "outputId": "8b921147-7c18-455f-afb2-499a85ffa16f"
      },
      "execution_count": 3,
      "outputs": [
        {
          "output_type": "execute_result",
          "data": {
            "text/plain": [
              "'1 2 3 4 5'"
            ],
            "application/vnd.google.colaboratory.intrinsic+json": {
              "type": "string"
            }
          },
          "metadata": {},
          "execution_count": 3
        }
      ]
    },
    {
      "cell_type": "code",
      "source": [
        "l = x.split()\n",
        "l"
      ],
      "metadata": {
        "id": "6SZT6lOsiXjr",
        "colab": {
          "base_uri": "https://localhost:8080/"
        },
        "outputId": "840ce646-da7c-481a-af94-32cee2d46687"
      },
      "execution_count": 4,
      "outputs": [
        {
          "output_type": "execute_result",
          "data": {
            "text/plain": [
              "['1', '2', '3', '4', '5']"
            ]
          },
          "metadata": {},
          "execution_count": 4
        }
      ]
    },
    {
      "cell_type": "code",
      "source": [
        "res = []\n",
        "for i in l:\n",
        "  res.append(int(i))\n",
        "print(res)  "
      ],
      "metadata": {
        "id": "HQ_YMjZliXg5",
        "colab": {
          "base_uri": "https://localhost:8080/"
        },
        "outputId": "d1d2c3a4-15a5-4093-ec86-de1273dc9863"
      },
      "execution_count": 5,
      "outputs": [
        {
          "output_type": "stream",
          "name": "stdout",
          "text": [
            "[1, 2, 3, 4, 5]\n"
          ]
        }
      ]
    },
    {
      "cell_type": "markdown",
      "source": [
        "# Map function"
      ],
      "metadata": {
        "id": "EvGn0Gv-yFA4"
      }
    },
    {
      "cell_type": "code",
      "source": [
        "res = list(map(int,l))\n",
        "print(res)"
      ],
      "metadata": {
        "id": "hiNojhuciXeb",
        "colab": {
          "base_uri": "https://localhost:8080/"
        },
        "outputId": "6ae4e896-3f1d-4fd5-e260-1b465ee7e5f7"
      },
      "execution_count": 6,
      "outputs": [
        {
          "output_type": "stream",
          "name": "stdout",
          "text": [
            "[1, 2, 3, 4, 5]\n"
          ]
        }
      ]
    },
    {
      "cell_type": "code",
      "source": [
        "map(int,l)#returns map object"
      ],
      "metadata": {
        "id": "BzDWruREiXbu",
        "colab": {
          "base_uri": "https://localhost:8080/"
        },
        "outputId": "45e1c776-5903-44bf-d2f2-317a7d5bb4a2"
      },
      "execution_count": 7,
      "outputs": [
        {
          "output_type": "execute_result",
          "data": {
            "text/plain": [
              "<map at 0x7ff31101c5d0>"
            ]
          },
          "metadata": {},
          "execution_count": 7
        }
      ]
    },
    {
      "cell_type": "code",
      "source": [
        "res =[]\n",
        "res = list(map(int,l)) #requires type casting with the help of list()\n",
        "res"
      ],
      "metadata": {
        "id": "toCt9jOdiXZF",
        "colab": {
          "base_uri": "https://localhost:8080/"
        },
        "outputId": "7153b7e5-192c-401a-c32e-36fe5d0d0310"
      },
      "execution_count": 9,
      "outputs": [
        {
          "output_type": "execute_result",
          "data": {
            "text/plain": [
              "[1, 2, 3, 4, 5]"
            ]
          },
          "metadata": {},
          "execution_count": 9
        }
      ]
    },
    {
      "cell_type": "code",
      "source": [
        "res = list(map(float,l))\n",
        "res"
      ],
      "metadata": {
        "id": "3G6MkmjNiXWV",
        "colab": {
          "base_uri": "https://localhost:8080/"
        },
        "outputId": "e628213b-7ede-44e9-c06a-ddf5117b9b18"
      },
      "execution_count": 10,
      "outputs": [
        {
          "output_type": "execute_result",
          "data": {
            "text/plain": [
              "[1.0, 2.0, 3.0, 4.0, 5.0]"
            ]
          },
          "metadata": {},
          "execution_count": 10
        }
      ]
    },
    {
      "cell_type": "code",
      "source": [
        "l =[]\n",
        "res = list(map(float,l))\n",
        "res"
      ],
      "metadata": {
        "id": "nZlHyLShiXTy",
        "colab": {
          "base_uri": "https://localhost:8080/"
        },
        "outputId": "a13b9c33-f109-4714-b527-2353e249850c"
      },
      "execution_count": 11,
      "outputs": [
        {
          "output_type": "execute_result",
          "data": {
            "text/plain": [
              "[]"
            ]
          },
          "metadata": {},
          "execution_count": 11
        }
      ]
    },
    {
      "cell_type": "code",
      "source": [
        "def find_sqr(x):\n",
        "    return x*x*2\n",
        "\n",
        "l = [1, 2, 3]\n",
        "res = list(map(find_sqr, l))\n",
        "\n",
        "print(res)"
      ],
      "metadata": {
        "id": "XodV_t4jiXRG",
        "colab": {
          "base_uri": "https://localhost:8080/"
        },
        "outputId": "f68f43de-a3be-430b-ebe0-50923428c009"
      },
      "execution_count": 12,
      "outputs": [
        {
          "output_type": "stream",
          "name": "stdout",
          "text": [
            "[2, 8, 18]\n"
          ]
        }
      ]
    },
    {
      "cell_type": "code",
      "source": [
        "def func(x):\n",
        "  return x+0.5\n",
        "l = [1,2,3]\n",
        "res = list(map(func,l)) \n",
        "print(res)"
      ],
      "metadata": {
        "id": "5UpdsWOziXOa",
        "colab": {
          "base_uri": "https://localhost:8080/"
        },
        "outputId": "6a5ba3a1-3546-4d2e-b045-994230dd3d12"
      },
      "execution_count": 13,
      "outputs": [
        {
          "output_type": "stream",
          "name": "stdout",
          "text": [
            "[1.5, 2.5, 3.5]\n"
          ]
        }
      ]
    },
    {
      "cell_type": "code",
      "source": [
        "l = [1, 2]\n",
        "l.append(0)\n",
        "l.append(3)\n",
        "l = l + [3]\n",
        "print(l)"
      ],
      "metadata": {
        "id": "y44paLXYiXLf",
        "colab": {
          "base_uri": "https://localhost:8080/"
        },
        "outputId": "54ade87f-822b-4736-d3aa-55f2fbf074fa"
      },
      "execution_count": 14,
      "outputs": [
        {
          "output_type": "stream",
          "name": "stdout",
          "text": [
            "[1, 2, 0, 3, 3]\n"
          ]
        }
      ]
    },
    {
      "cell_type": "code",
      "source": [
        "l = []\n",
        "odi = [120, 30, 50]\n",
        "l.append(odi)\n",
        "print(l)"
      ],
      "metadata": {
        "colab": {
          "base_uri": "https://localhost:8080/"
        },
        "id": "XdLFDhrWaaHx",
        "outputId": "41b08feb-41a4-46c7-a036-78b31fec657e"
      },
      "execution_count": 15,
      "outputs": [
        {
          "output_type": "stream",
          "name": "stdout",
          "text": [
            "[[120, 30, 50]]\n"
          ]
        }
      ]
    },
    {
      "cell_type": "code",
      "source": [
        "l = []\n",
        "odi = [120, 30, 50]\n",
        "l.extend(odi)\n",
        "print(l)"
      ],
      "metadata": {
        "colab": {
          "base_uri": "https://localhost:8080/"
        },
        "id": "nURbEfs2a_Mx",
        "outputId": "b115b2ba-117a-4f4e-d669-15c69ac47c36"
      },
      "execution_count": 16,
      "outputs": [
        {
          "output_type": "stream",
          "name": "stdout",
          "text": [
            "[120, 30, 50]\n"
          ]
        }
      ]
    },
    {
      "cell_type": "markdown",
      "source": [
        "# sort()"
      ],
      "metadata": {
        "id": "cUbbs4PTceLb"
      }
    },
    {
      "cell_type": "code",
      "source": [
        "l = [4,3,5,6,8,1]\n",
        "l.sort()"
      ],
      "metadata": {
        "id": "leVTJMaMbb8k"
      },
      "execution_count": 17,
      "outputs": []
    },
    {
      "cell_type": "code",
      "source": [
        "l"
      ],
      "metadata": {
        "colab": {
          "base_uri": "https://localhost:8080/"
        },
        "id": "3WSMl8Ovcpsh",
        "outputId": "bdbb7673-8603-4992-d724-2ed129ea9f27"
      },
      "execution_count": 18,
      "outputs": [
        {
          "output_type": "execute_result",
          "data": {
            "text/plain": [
              "[1, 3, 4, 5, 6, 8]"
            ]
          },
          "metadata": {},
          "execution_count": 18
        }
      ]
    },
    {
      "cell_type": "code",
      "source": [
        "l.sort(reverse=True) #apply changes to the same list\n",
        "l"
      ],
      "metadata": {
        "colab": {
          "base_uri": "https://localhost:8080/"
        },
        "id": "69XDuvaQc3Bq",
        "outputId": "793ccb1c-2451-4cef-999e-2250823f68f6"
      },
      "execution_count": 19,
      "outputs": [
        {
          "output_type": "execute_result",
          "data": {
            "text/plain": [
              "[8, 6, 5, 4, 3, 1]"
            ]
          },
          "metadata": {},
          "execution_count": 19
        }
      ]
    },
    {
      "cell_type": "code",
      "source": [
        "l = [4,3,5,6,8,1]\n",
        "n = l #both n and l point to the same memory location\n",
        "n.sort()"
      ],
      "metadata": {
        "id": "dGDASm32c7J2"
      },
      "execution_count": 20,
      "outputs": []
    },
    {
      "cell_type": "code",
      "source": [
        "l#again will change the original list so better to use slicing to make a copy"
      ],
      "metadata": {
        "colab": {
          "base_uri": "https://localhost:8080/"
        },
        "id": "lxSGw7OvdB8b",
        "outputId": "057b5836-2001-4edd-9fa4-b40370139489"
      },
      "execution_count": 21,
      "outputs": [
        {
          "output_type": "execute_result",
          "data": {
            "text/plain": [
              "[1, 3, 4, 5, 6, 8]"
            ]
          },
          "metadata": {},
          "execution_count": 21
        }
      ]
    },
    {
      "cell_type": "code",
      "source": [
        "l = [4,3,5,6,8,1]\n",
        "n = l[:]\n",
        "n.sort()"
      ],
      "metadata": {
        "id": "HzhMyzufdPKK"
      },
      "execution_count": 22,
      "outputs": []
    },
    {
      "cell_type": "code",
      "source": [
        "l #now original list will nt chnage"
      ],
      "metadata": {
        "colab": {
          "base_uri": "https://localhost:8080/"
        },
        "id": "d8Yl1Y1rdXqU",
        "outputId": "da73b59a-1aa4-40d8-92e3-373afb0520ad"
      },
      "execution_count": 23,
      "outputs": [
        {
          "output_type": "execute_result",
          "data": {
            "text/plain": [
              "[4, 3, 5, 6, 8, 1]"
            ]
          },
          "metadata": {},
          "execution_count": 23
        }
      ]
    },
    {
      "cell_type": "code",
      "source": [
        "help(l)"
      ],
      "metadata": {
        "colab": {
          "base_uri": "https://localhost:8080/"
        },
        "id": "OaDY42ewdhoa",
        "outputId": "0700a14f-12ba-4445-b229-2dced726262b"
      },
      "execution_count": 24,
      "outputs": [
        {
          "output_type": "stream",
          "name": "stdout",
          "text": [
            "Help on list object:\n",
            "\n",
            "class list(object)\n",
            " |  list(iterable=(), /)\n",
            " |  \n",
            " |  Built-in mutable sequence.\n",
            " |  \n",
            " |  If no argument is given, the constructor creates a new empty list.\n",
            " |  The argument must be an iterable if specified.\n",
            " |  \n",
            " |  Methods defined here:\n",
            " |  \n",
            " |  __add__(self, value, /)\n",
            " |      Return self+value.\n",
            " |  \n",
            " |  __contains__(self, key, /)\n",
            " |      Return key in self.\n",
            " |  \n",
            " |  __delitem__(self, key, /)\n",
            " |      Delete self[key].\n",
            " |  \n",
            " |  __eq__(self, value, /)\n",
            " |      Return self==value.\n",
            " |  \n",
            " |  __ge__(self, value, /)\n",
            " |      Return self>=value.\n",
            " |  \n",
            " |  __getattribute__(self, name, /)\n",
            " |      Return getattr(self, name).\n",
            " |  \n",
            " |  __getitem__(...)\n",
            " |      x.__getitem__(y) <==> x[y]\n",
            " |  \n",
            " |  __gt__(self, value, /)\n",
            " |      Return self>value.\n",
            " |  \n",
            " |  __iadd__(self, value, /)\n",
            " |      Implement self+=value.\n",
            " |  \n",
            " |  __imul__(self, value, /)\n",
            " |      Implement self*=value.\n",
            " |  \n",
            " |  __init__(self, /, *args, **kwargs)\n",
            " |      Initialize self.  See help(type(self)) for accurate signature.\n",
            " |  \n",
            " |  __iter__(self, /)\n",
            " |      Implement iter(self).\n",
            " |  \n",
            " |  __le__(self, value, /)\n",
            " |      Return self<=value.\n",
            " |  \n",
            " |  __len__(self, /)\n",
            " |      Return len(self).\n",
            " |  \n",
            " |  __lt__(self, value, /)\n",
            " |      Return self<value.\n",
            " |  \n",
            " |  __mul__(self, value, /)\n",
            " |      Return self*value.\n",
            " |  \n",
            " |  __ne__(self, value, /)\n",
            " |      Return self!=value.\n",
            " |  \n",
            " |  __repr__(self, /)\n",
            " |      Return repr(self).\n",
            " |  \n",
            " |  __reversed__(self, /)\n",
            " |      Return a reverse iterator over the list.\n",
            " |  \n",
            " |  __rmul__(self, value, /)\n",
            " |      Return value*self.\n",
            " |  \n",
            " |  __setitem__(self, key, value, /)\n",
            " |      Set self[key] to value.\n",
            " |  \n",
            " |  __sizeof__(self, /)\n",
            " |      Return the size of the list in memory, in bytes.\n",
            " |  \n",
            " |  append(self, object, /)\n",
            " |      Append object to the end of the list.\n",
            " |  \n",
            " |  clear(self, /)\n",
            " |      Remove all items from list.\n",
            " |  \n",
            " |  copy(self, /)\n",
            " |      Return a shallow copy of the list.\n",
            " |  \n",
            " |  count(self, value, /)\n",
            " |      Return number of occurrences of value.\n",
            " |  \n",
            " |  extend(self, iterable, /)\n",
            " |      Extend list by appending elements from the iterable.\n",
            " |  \n",
            " |  index(self, value, start=0, stop=9223372036854775807, /)\n",
            " |      Return first index of value.\n",
            " |      \n",
            " |      Raises ValueError if the value is not present.\n",
            " |  \n",
            " |  insert(self, index, object, /)\n",
            " |      Insert object before index.\n",
            " |  \n",
            " |  pop(self, index=-1, /)\n",
            " |      Remove and return item at index (default last).\n",
            " |      \n",
            " |      Raises IndexError if list is empty or index is out of range.\n",
            " |  \n",
            " |  remove(self, value, /)\n",
            " |      Remove first occurrence of value.\n",
            " |      \n",
            " |      Raises ValueError if the value is not present.\n",
            " |  \n",
            " |  reverse(self, /)\n",
            " |      Reverse *IN PLACE*.\n",
            " |  \n",
            " |  sort(self, /, *, key=None, reverse=False)\n",
            " |      Stable sort *IN PLACE*.\n",
            " |  \n",
            " |  ----------------------------------------------------------------------\n",
            " |  Static methods defined here:\n",
            " |  \n",
            " |  __new__(*args, **kwargs) from builtins.type\n",
            " |      Create and return a new object.  See help(type) for accurate signature.\n",
            " |  \n",
            " |  ----------------------------------------------------------------------\n",
            " |  Data and other attributes defined here:\n",
            " |  \n",
            " |  __hash__ = None\n",
            "\n"
          ]
        }
      ]
    },
    {
      "cell_type": "markdown",
      "source": [
        "# REVERSE"
      ],
      "metadata": {
        "id": "49usJ-eFd3gf"
      }
    },
    {
      "cell_type": "code",
      "source": [
        "l = [1,2,3,4]\n",
        "print(l[::-1]) #create a new list object"
      ],
      "metadata": {
        "colab": {
          "base_uri": "https://localhost:8080/"
        },
        "id": "H4W0_Oihdll-",
        "outputId": "29a1a9ea-c88c-46e3-d479-9464992e0f03"
      },
      "execution_count": 25,
      "outputs": [
        {
          "output_type": "stream",
          "name": "stdout",
          "text": [
            "[4, 3, 2, 1]\n"
          ]
        }
      ]
    },
    {
      "cell_type": "code",
      "source": [
        "l = [1,2,3,4]\n",
        "l.reverse()\n",
        "print(l)#apply changes to the same list so be careful !"
      ],
      "metadata": {
        "colab": {
          "base_uri": "https://localhost:8080/"
        },
        "id": "zzCyXw6neTYL",
        "outputId": "bff5897e-96e9-4089-ccea-9aa1027bb96d"
      },
      "execution_count": 26,
      "outputs": [
        {
          "output_type": "stream",
          "name": "stdout",
          "text": [
            "[4, 3, 2, 1]\n"
          ]
        }
      ]
    },
    {
      "cell_type": "markdown",
      "source": [
        "# Count"
      ],
      "metadata": {
        "id": "-flgRuOmeqNu"
      }
    },
    {
      "cell_type": "code",
      "source": [
        "runs = [50,0,99,100,99,60,99]\n",
        "runs.count(99)"
      ],
      "metadata": {
        "colab": {
          "base_uri": "https://localhost:8080/"
        },
        "id": "U-BnGGAAet4E",
        "outputId": "ff47028a-ef85-4d66-e964-8c384d20f3db"
      },
      "execution_count": 27,
      "outputs": [
        {
          "output_type": "execute_result",
          "data": {
            "text/plain": [
              "3"
            ]
          },
          "metadata": {},
          "execution_count": 27
        }
      ]
    },
    {
      "cell_type": "code",
      "source": [
        "runs.count(456)"
      ],
      "metadata": {
        "colab": {
          "base_uri": "https://localhost:8080/"
        },
        "id": "vJKIY53afIhw",
        "outputId": "670c5cbf-348c-42c9-e5ff-8833e8e187db"
      },
      "execution_count": 28,
      "outputs": [
        {
          "output_type": "execute_result",
          "data": {
            "text/plain": [
              "0"
            ]
          },
          "metadata": {},
          "execution_count": 28
        }
      ]
    },
    {
      "cell_type": "markdown",
      "source": [
        "# Index"
      ],
      "metadata": {
        "id": "kfbcaw81fPpT"
      }
    },
    {
      "cell_type": "code",
      "source": [
        "runs.index(0) #return the index value "
      ],
      "metadata": {
        "colab": {
          "base_uri": "https://localhost:8080/"
        },
        "id": "QGEPusB8fSFf",
        "outputId": "df5bf63c-7638-469f-ac78-b1d20afb0640"
      },
      "execution_count": 29,
      "outputs": [
        {
          "output_type": "execute_result",
          "data": {
            "text/plain": [
              "1"
            ]
          },
          "metadata": {},
          "execution_count": 29
        }
      ]
    },
    {
      "cell_type": "code",
      "source": [
        "runs.index(99)#returns only the first occurence"
      ],
      "metadata": {
        "colab": {
          "base_uri": "https://localhost:8080/"
        },
        "id": "7Xsph9HZfce7",
        "outputId": "854e5251-1e21-4873-c9c3-1571bc385ef1"
      },
      "execution_count": 30,
      "outputs": [
        {
          "output_type": "execute_result",
          "data": {
            "text/plain": [
              "2"
            ]
          },
          "metadata": {},
          "execution_count": 30
        }
      ]
    },
    {
      "cell_type": "code",
      "source": [
        "runs.index(199)"
      ],
      "metadata": {
        "colab": {
          "base_uri": "https://localhost:8080/",
          "height": 168
        },
        "id": "vuJgJ9vCfp69",
        "outputId": "aca83f11-b927-4ba4-de2e-0acf8c73a491"
      },
      "execution_count": 31,
      "outputs": [
        {
          "output_type": "error",
          "ename": "ValueError",
          "evalue": "ignored",
          "traceback": [
            "\u001b[0;31m---------------------------------------------------------------------------\u001b[0m",
            "\u001b[0;31mValueError\u001b[0m                                Traceback (most recent call last)",
            "\u001b[0;32m<ipython-input-31-660c3d6d6194>\u001b[0m in \u001b[0;36m<module>\u001b[0;34m\u001b[0m\n\u001b[0;32m----> 1\u001b[0;31m \u001b[0mruns\u001b[0m\u001b[0;34m.\u001b[0m\u001b[0mindex\u001b[0m\u001b[0;34m(\u001b[0m\u001b[0;36m199\u001b[0m\u001b[0;34m)\u001b[0m\u001b[0;34m\u001b[0m\u001b[0;34m\u001b[0m\u001b[0m\n\u001b[0m",
            "\u001b[0;31mValueError\u001b[0m: 199 is not in list"
          ]
        }
      ]
    },
    {
      "cell_type": "markdown",
      "source": [
        "#question\n",
        "Given two arrays, some operations are performen on these arrays and the following 3 results are obtained.You have tell What are these operations?\n",
        "\n",
        "* arr1 = [1,2,3]\n",
        "* arr2 = [6,5,14]\n",
        "\n",
        "I. arr1 = [1,2,3,6,5,14]<br>\n",
        "II. arr1 = [1,2,3,[6,5,14]]<br>\n",
        "III. arr2 = [14,5,6]<br>\n",
        "IV. arr2 = [5,6,14]<br>\n",
        "V. arr2 = [14,6,5]<br>"
      ],
      "metadata": {
        "id": "t-Bb-9pif12q"
      }
    },
    {
      "cell_type": "markdown",
      "source": [
        "#2D LIsts"
      ],
      "metadata": {
        "id": "bj3DEBeIlAKM"
      }
    },
    {
      "cell_type": "code",
      "source": [
        "odi = [200,0,75,50]\n",
        "test = [200,100,90]\n",
        "t20 = [10,20,0,30]\n",
        "#store everything in same varibale runs ?\n",
        "runs =[]\n",
        "runs.append(odi)\n",
        "runs.append(test)\n",
        "runs.append(t20)\n",
        "print(runs)"
      ],
      "metadata": {
        "colab": {
          "base_uri": "https://localhost:8080/"
        },
        "id": "YECFyTBglCcB",
        "outputId": "8d7e792a-046d-4c8e-ad73-16ed7b4014b5"
      },
      "execution_count": 32,
      "outputs": [
        {
          "output_type": "stream",
          "name": "stdout",
          "text": [
            "[[200, 0, 75, 50], [200, 100, 90], [10, 20, 0, 30]]\n"
          ]
        }
      ]
    },
    {
      "cell_type": "code",
      "source": [
        "len(runs[0]) #odi matches"
      ],
      "metadata": {
        "colab": {
          "base_uri": "https://localhost:8080/"
        },
        "id": "niBkLmLolQAw",
        "outputId": "6ad4c5fe-07c5-41cf-e3ac-3f6bce606d41"
      },
      "execution_count": 33,
      "outputs": [
        {
          "output_type": "execute_result",
          "data": {
            "text/plain": [
              "4"
            ]
          },
          "metadata": {},
          "execution_count": 33
        }
      ]
    },
    {
      "cell_type": "code",
      "source": [
        "#different formats\n",
        "len(runs)"
      ],
      "metadata": {
        "colab": {
          "base_uri": "https://localhost:8080/"
        },
        "id": "9MZLVubLlTvF",
        "outputId": "28b70802-d698-487a-d3e9-8f7c63206f84"
      },
      "execution_count": 34,
      "outputs": [
        {
          "output_type": "execute_result",
          "data": {
            "text/plain": [
              "3"
            ]
          },
          "metadata": {},
          "execution_count": 34
        }
      ]
    },
    {
      "cell_type": "code",
      "source": [
        "print(runs)"
      ],
      "metadata": {
        "colab": {
          "base_uri": "https://localhost:8080/"
        },
        "id": "OqgwTqXAmO7G",
        "outputId": "8f922fa7-e05c-45e6-b556-b9472533f197"
      },
      "execution_count": 35,
      "outputs": [
        {
          "output_type": "stream",
          "name": "stdout",
          "text": [
            "[[200, 0, 75, 50], [200, 100, 90], [10, 20, 0, 30]]\n"
          ]
        }
      ]
    },
    {
      "cell_type": "code",
      "source": [
        "#runs in first odi match\n",
        "runs[0][0]"
      ],
      "metadata": {
        "colab": {
          "base_uri": "https://localhost:8080/"
        },
        "id": "L9IVFTwHmDMK",
        "outputId": "021b330a-f408-4394-f814-4f79d4f7ab6a"
      },
      "execution_count": 36,
      "outputs": [
        {
          "output_type": "execute_result",
          "data": {
            "text/plain": [
              "200"
            ]
          },
          "metadata": {},
          "execution_count": 36
        }
      ]
    },
    {
      "cell_type": "code",
      "source": [
        "#runs in second test match\n",
        "runs[1][1]"
      ],
      "metadata": {
        "colab": {
          "base_uri": "https://localhost:8080/"
        },
        "id": "HCyE7QJQmjRr",
        "outputId": "e29ba67c-cac5-4c1e-d960-a227dd382c03"
      },
      "execution_count": 37,
      "outputs": [
        {
          "output_type": "execute_result",
          "data": {
            "text/plain": [
              "100"
            ]
          },
          "metadata": {},
          "execution_count": 37
        }
      ]
    },
    {
      "cell_type": "code",
      "source": [
        "runs[0][1]"
      ],
      "metadata": {
        "colab": {
          "base_uri": "https://localhost:8080/"
        },
        "id": "-RtZiyKjm5QE",
        "outputId": "e2ac88ac-8245-446e-b898-27ec3a609019"
      },
      "execution_count": 38,
      "outputs": [
        {
          "output_type": "execute_result",
          "data": {
            "text/plain": [
              "0"
            ]
          },
          "metadata": {},
          "execution_count": 38
        }
      ]
    },
    {
      "cell_type": "code",
      "source": [
        "#quiz\n",
        "l = [1, 2, 3, [4, 5, 6], 7, 8, 9] \n",
        "\n",
        "print(l[0] + l[4])"
      ],
      "metadata": {
        "colab": {
          "base_uri": "https://localhost:8080/"
        },
        "id": "4c0X-l3ZlYiC",
        "outputId": "73cd1870-bb45-4c0d-94f7-217b852d41e1"
      },
      "execution_count": 39,
      "outputs": [
        {
          "output_type": "stream",
          "name": "stdout",
          "text": [
            "8\n"
          ]
        }
      ]
    },
    {
      "cell_type": "code",
      "source": [
        "#quiz\n",
        "# Given the list nums = [[10, 20, 30], [98, 99]], \n",
        "# what does nums[0][0] evaluate to?"
      ],
      "metadata": {
        "id": "vyPsm8nxnH0G"
      },
      "execution_count": null,
      "outputs": []
    },
    {
      "cell_type": "code",
      "source": [
        "nums = [[10, 20, 30], [98, 99]]\n",
        "nums[1][1]"
      ],
      "metadata": {
        "colab": {
          "base_uri": "https://localhost:8080/"
        },
        "id": "4TTkFD2QnbY3",
        "outputId": "ec4ce1df-5547-4f7c-dbd5-65c86889fa50"
      },
      "execution_count": 40,
      "outputs": [
        {
          "output_type": "execute_result",
          "data": {
            "text/plain": [
              "99"
            ]
          },
          "metadata": {},
          "execution_count": 40
        }
      ]
    },
    {
      "cell_type": "code",
      "source": [
        "for i in range(2):\n",
        "  for j in range(2):\n",
        "    print(i,j)"
      ],
      "metadata": {
        "colab": {
          "base_uri": "https://localhost:8080/"
        },
        "id": "UhuFs2Z2o4_K",
        "outputId": "ed0a733a-42b9-4138-c1ad-a38e02bf8cd7"
      },
      "execution_count": 44,
      "outputs": [
        {
          "output_type": "stream",
          "name": "stdout",
          "text": [
            "0 0\n",
            "0 1\n",
            "1 0\n",
            "1 1\n"
          ]
        }
      ]
    },
    {
      "cell_type": "code",
      "source": [
        "# Total Runs made by Sachin in ODIs (row with index 0):\n",
        "# runs = [[0, 1, 100, 99], [1, 99, 0, 0]]"
      ],
      "metadata": {
        "id": "ojImwKy0pVna"
      },
      "execution_count": null,
      "outputs": []
    },
    {
      "cell_type": "code",
      "source": [
        "print(runs)"
      ],
      "metadata": {
        "colab": {
          "base_uri": "https://localhost:8080/"
        },
        "id": "tKn6Nxn7p2ah",
        "outputId": "d01b1f92-312b-461e-d6bf-31c2b17f1d8f"
      },
      "execution_count": 45,
      "outputs": [
        {
          "output_type": "stream",
          "name": "stdout",
          "text": [
            "[[200, 0, 75, 50], [200, 100, 90], [10, 20, 0, 30]]\n"
          ]
        }
      ]
    },
    {
      "cell_type": "code",
      "source": [
        "#how to print the data present in nested list\n",
        "for i in range(len(runs)):\n",
        "  print(runs[i])"
      ],
      "metadata": {
        "colab": {
          "base_uri": "https://localhost:8080/"
        },
        "id": "8IBpWF3Tp58N",
        "outputId": "f120b3a4-9863-4253-b341-4a7dda05a911"
      },
      "execution_count": 46,
      "outputs": [
        {
          "output_type": "stream",
          "name": "stdout",
          "text": [
            "[200, 0, 75, 50]\n",
            "[200, 100, 90]\n",
            "[10, 20, 0, 30]\n"
          ]
        }
      ]
    },
    {
      "cell_type": "code",
      "source": [
        "for i in runs:\n",
        "  print(i)"
      ],
      "metadata": {
        "colab": {
          "base_uri": "https://localhost:8080/"
        },
        "id": "_rqc1xffqGLk",
        "outputId": "6d981c15-1aa5-4ad4-9c19-2b150958be07"
      },
      "execution_count": 47,
      "outputs": [
        {
          "output_type": "stream",
          "name": "stdout",
          "text": [
            "[200, 0, 75, 50]\n",
            "[200, 100, 90]\n",
            "[10, 20, 0, 30]\n"
          ]
        }
      ]
    },
    {
      "cell_type": "code",
      "source": [
        "#how to print the individual elemnts from the nested list\n",
        "for i in range(len(runs)):\n",
        "  for j in range(len(runs[i])):\n",
        "    print(runs[i][j],end=' ')"
      ],
      "metadata": {
        "colab": {
          "base_uri": "https://localhost:8080/"
        },
        "id": "4zUfRllAqbWT",
        "outputId": "040d8e6a-b12b-4468-9767-5d24359a564b"
      },
      "execution_count": 48,
      "outputs": [
        {
          "output_type": "stream",
          "name": "stdout",
          "text": [
            "200 0 75 50 200 100 90 10 20 0 30 "
          ]
        }
      ]
    },
    {
      "cell_type": "markdown",
      "source": [
        "Matrix:\n"
      ],
      "metadata": {
        "id": "q-D12WxdsUtQ"
      }
    },
    {
      "cell_type": "code",
      "source": [
        "mat = [[1,2,3],[4,5,6],[7,8,9],[10,11,12]]\n",
        "print(mat)"
      ],
      "metadata": {
        "colab": {
          "base_uri": "https://localhost:8080/"
        },
        "id": "RHma4J8Dsnq1",
        "outputId": "7c60e465-e341-4b2c-eb54-ab355e2f0033"
      },
      "execution_count": 49,
      "outputs": [
        {
          "output_type": "stream",
          "name": "stdout",
          "text": [
            "[[1, 2, 3], [4, 5, 6], [7, 8, 9], [10, 11, 12]]\n"
          ]
        }
      ]
    },
    {
      "cell_type": "code",
      "source": [
        "res =0\n",
        "rows = len(mat)\n",
        "columns = len(mat[0])\n",
        "for i in range(rows):\n",
        "  for j in range(columns):\n",
        "    res = res + mat[i][j]\n",
        "print(res)    "
      ],
      "metadata": {
        "colab": {
          "base_uri": "https://localhost:8080/"
        },
        "id": "-aqDPsjXtHoR",
        "outputId": "25d91d68-4047-4b73-f1c0-c2cc85627a07"
      },
      "execution_count": 50,
      "outputs": [
        {
          "output_type": "stream",
          "name": "stdout",
          "text": [
            "78\n"
          ]
        }
      ]
    },
    {
      "cell_type": "markdown",
      "source": [
        "# Homework\n",
        "\n",
        "* how to get secomd occurenec of element present in the list ?\n",
        "* how to use sum() in case of 2D list to get the sum of all the elements ?\n"
      ],
      "metadata": {
        "id": "JibaZ5uLxKG7"
      }
    }
  ]
}