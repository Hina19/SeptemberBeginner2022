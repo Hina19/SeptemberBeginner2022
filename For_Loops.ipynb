{
  "nbformat": 4,
  "nbformat_minor": 0,
  "metadata": {
    "colab": {
      "provenance": [],
      "authorship_tag": "ABX9TyNKoYhCA1vWssz4yfIHlGMg",
      "include_colab_link": true
    },
    "kernelspec": {
      "name": "python3",
      "display_name": "Python 3"
    },
    "language_info": {
      "name": "python"
    }
  },
  "cells": [
    {
      "cell_type": "markdown",
      "metadata": {
        "id": "view-in-github",
        "colab_type": "text"
      },
      "source": [
        "<a href=\"https://colab.research.google.com/github/Hina19/SeptemberBeginner2022/blob/main/For_Loops.ipynb\" target=\"_parent\"><img src=\"https://colab.research.google.com/assets/colab-badge.svg\" alt=\"Open In Colab\"/></a>"
      ]
    },
    {
      "cell_type": "markdown",
      "source": [
        "<img src='https://cdn.techbeamers.com/wp-content/uploads/2019/05/Python-range-function-explained.png'>"
      ],
      "metadata": {
        "id": "E9ylfA_t11IV"
      }
    },
    {
      "cell_type": "code",
      "source": [
        "print(list(range(2,5)))"
      ],
      "metadata": {
        "id": "azE3WkQP-BFd",
        "colab": {
          "base_uri": "https://localhost:8080/"
        },
        "outputId": "843629ca-2e38-4ef8-ce8a-34490a3d0480"
      },
      "execution_count": 2,
      "outputs": [
        {
          "output_type": "stream",
          "name": "stdout",
          "text": [
            "[2, 3, 4]\n"
          ]
        }
      ]
    },
    {
      "cell_type": "code",
      "source": [
        "print(len(range(2,5)))"
      ],
      "metadata": {
        "id": "TjsCjLK8-BCt",
        "colab": {
          "base_uri": "https://localhost:8080/"
        },
        "outputId": "f605714a-a576-4473-b0a2-a8443cea9ea3"
      },
      "execution_count": 3,
      "outputs": [
        {
          "output_type": "stream",
          "name": "stdout",
          "text": [
            "3\n"
          ]
        }
      ]
    },
    {
      "cell_type": "code",
      "source": [
        "#start =0 by default\n",
        "print(list(range(6)))"
      ],
      "metadata": {
        "id": "Kn3rkO64-A_9",
        "colab": {
          "base_uri": "https://localhost:8080/"
        },
        "outputId": "ffae3905-33ef-4068-e9a9-bf820b5c45b5"
      },
      "execution_count": 4,
      "outputs": [
        {
          "output_type": "stream",
          "name": "stdout",
          "text": [
            "[0, 1, 2, 3, 4, 5]\n"
          ]
        }
      ]
    },
    {
      "cell_type": "code",
      "source": [
        "print(list(range(0,6)))"
      ],
      "metadata": {
        "id": "J4VL5aOT-A9E",
        "colab": {
          "base_uri": "https://localhost:8080/"
        },
        "outputId": "f1d0aead-c3ff-41f0-8b1c-b8f7f946b535"
      },
      "execution_count": 5,
      "outputs": [
        {
          "output_type": "stream",
          "name": "stdout",
          "text": [
            "[0, 1, 2, 3, 4, 5]\n"
          ]
        }
      ]
    },
    {
      "cell_type": "code",
      "source": [
        "print(list(range(0)))"
      ],
      "metadata": {
        "id": "s1owpDMq-A6d",
        "colab": {
          "base_uri": "https://localhost:8080/"
        },
        "outputId": "4fba0212-3cad-47f7-9e71-f379f98de4f6"
      },
      "execution_count": 6,
      "outputs": [
        {
          "output_type": "stream",
          "name": "stdout",
          "text": [
            "[]\n"
          ]
        }
      ]
    },
    {
      "cell_type": "code",
      "source": [
        "print(list(range(5,5)))"
      ],
      "metadata": {
        "id": "G2IH8mHe-A3y",
        "colab": {
          "base_uri": "https://localhost:8080/"
        },
        "outputId": "43ab33f5-014a-4e6e-85f8-425d91cf700d"
      },
      "execution_count": 7,
      "outputs": [
        {
          "output_type": "stream",
          "name": "stdout",
          "text": [
            "[]\n"
          ]
        }
      ]
    },
    {
      "cell_type": "code",
      "source": [
        "#quiz\n",
        "print(len(range(11)))"
      ],
      "metadata": {
        "id": "BMuyNnqc-A1C",
        "colab": {
          "base_uri": "https://localhost:8080/"
        },
        "outputId": "0822f233-1986-4b7a-ecb9-0dcc11ebc782"
      },
      "execution_count": 8,
      "outputs": [
        {
          "output_type": "stream",
          "name": "stdout",
          "text": [
            "11\n"
          ]
        }
      ]
    },
    {
      "cell_type": "code",
      "source": [
        "print(list(range(11)))"
      ],
      "metadata": {
        "id": "ceRgBZ7--AyR",
        "colab": {
          "base_uri": "https://localhost:8080/"
        },
        "outputId": "085e09bd-64bf-461f-96a2-1ec84c13d80d"
      },
      "execution_count": 9,
      "outputs": [
        {
          "output_type": "stream",
          "name": "stdout",
          "text": [
            "[0, 1, 2, 3, 4, 5, 6, 7, 8, 9, 10]\n"
          ]
        }
      ]
    },
    {
      "cell_type": "code",
      "source": [
        "print(list(range(3.2,1.2)))"
      ],
      "metadata": {
        "id": "vPhgqDFx-AvZ",
        "colab": {
          "base_uri": "https://localhost:8080/",
          "height": 166
        },
        "outputId": "addc2ba9-bd02-4ea7-a11d-c14978b1150b"
      },
      "execution_count": 10,
      "outputs": [
        {
          "output_type": "error",
          "ename": "TypeError",
          "evalue": "ignored",
          "traceback": [
            "\u001b[0;31m---------------------------------------------------------------------------\u001b[0m",
            "\u001b[0;31mTypeError\u001b[0m                                 Traceback (most recent call last)",
            "\u001b[0;32m<ipython-input-10-223eaffc0dc6>\u001b[0m in \u001b[0;36m<module>\u001b[0;34m\u001b[0m\n\u001b[0;32m----> 1\u001b[0;31m \u001b[0mprint\u001b[0m\u001b[0;34m(\u001b[0m\u001b[0mlist\u001b[0m\u001b[0;34m(\u001b[0m\u001b[0mrange\u001b[0m\u001b[0;34m(\u001b[0m\u001b[0;36m3.2\u001b[0m\u001b[0;34m,\u001b[0m\u001b[0;36m1.2\u001b[0m\u001b[0;34m)\u001b[0m\u001b[0;34m)\u001b[0m\u001b[0;34m)\u001b[0m\u001b[0;34m\u001b[0m\u001b[0;34m\u001b[0m\u001b[0m\n\u001b[0m",
            "\u001b[0;31mTypeError\u001b[0m: 'float' object cannot be interpreted as an integer"
          ]
        }
      ]
    },
    {
      "cell_type": "code",
      "source": [
        "print(list(range(2,8)))"
      ],
      "metadata": {
        "id": "TgRMFv1l-Ass",
        "colab": {
          "base_uri": "https://localhost:8080/"
        },
        "outputId": "3c6d10e3-b68f-4920-8888-9686752f6019"
      },
      "execution_count": 11,
      "outputs": [
        {
          "output_type": "stream",
          "name": "stdout",
          "text": [
            "[2, 3, 4, 5, 6, 7]\n"
          ]
        }
      ]
    },
    {
      "cell_type": "code",
      "source": [
        "#quiz\n",
        "print(list(range(7, 8)))"
      ],
      "metadata": {
        "colab": {
          "base_uri": "https://localhost:8080/"
        },
        "id": "E6GHQ6U2Ke4q",
        "outputId": "b05a4276-cbcc-4453-ccdc-82fbb85134fc"
      },
      "execution_count": 12,
      "outputs": [
        {
          "output_type": "stream",
          "name": "stdout",
          "text": [
            "[7]\n"
          ]
        }
      ]
    },
    {
      "cell_type": "code",
      "source": [
        "print(list(range(-1,9)))"
      ],
      "metadata": {
        "colab": {
          "base_uri": "https://localhost:8080/"
        },
        "id": "3EhfZCNmKe2B",
        "outputId": "01ded935-ab84-41d0-b4cf-166b450cc2bc"
      },
      "execution_count": 13,
      "outputs": [
        {
          "output_type": "stream",
          "name": "stdout",
          "text": [
            "[-1, 0, 1, 2, 3, 4, 5, 6, 7, 8]\n"
          ]
        }
      ]
    },
    {
      "cell_type": "code",
      "source": [
        "print(list(range(2,9)))"
      ],
      "metadata": {
        "colab": {
          "base_uri": "https://localhost:8080/"
        },
        "id": "rZEhi6tSKezS",
        "outputId": "badc125e-5f74-48e2-c04a-c4114ef9ffc2"
      },
      "execution_count": 14,
      "outputs": [
        {
          "output_type": "stream",
          "name": "stdout",
          "text": [
            "[2, 3, 4, 5, 6, 7, 8]\n"
          ]
        }
      ]
    },
    {
      "cell_type": "code",
      "source": [
        "print(list(range(2,9,2)))"
      ],
      "metadata": {
        "colab": {
          "base_uri": "https://localhost:8080/"
        },
        "id": "9iiUpoILLdYI",
        "outputId": "5cbaab7b-3759-49df-add9-a513c903492f"
      },
      "execution_count": 15,
      "outputs": [
        {
          "output_type": "stream",
          "name": "stdout",
          "text": [
            "[2, 4, 6, 8]\n"
          ]
        }
      ]
    },
    {
      "cell_type": "code",
      "source": [
        "print(list(range(1,10,2)))"
      ],
      "metadata": {
        "colab": {
          "base_uri": "https://localhost:8080/"
        },
        "id": "YGrKpHXzLdVP",
        "outputId": "45d2c3ff-4868-40a9-9cd3-f3ac39df59fe"
      },
      "execution_count": 16,
      "outputs": [
        {
          "output_type": "stream",
          "name": "stdout",
          "text": [
            "[1, 3, 5, 7, 9]\n"
          ]
        }
      ]
    },
    {
      "cell_type": "code",
      "source": [
        "#quiz\n",
        "print(list(range(8, 8)))"
      ],
      "metadata": {
        "colab": {
          "base_uri": "https://localhost:8080/"
        },
        "id": "oi4BmEwpLdSW",
        "outputId": "3005049c-99b5-47ae-bd17-cc76f5652a09"
      },
      "execution_count": 17,
      "outputs": [
        {
          "output_type": "stream",
          "name": "stdout",
          "text": [
            "[]\n"
          ]
        }
      ]
    },
    {
      "cell_type": "code",
      "source": [
        "#quiz\n",
        "#How many numbers are included in the below range?\n",
        "print(len(range(1, 11, 2)))"
      ],
      "metadata": {
        "colab": {
          "base_uri": "https://localhost:8080/"
        },
        "id": "fLIGvLaVM0bU",
        "outputId": "a350af1a-592c-4a88-e519-af67975b359b"
      },
      "execution_count": 19,
      "outputs": [
        {
          "output_type": "stream",
          "name": "stdout",
          "text": [
            "5\n"
          ]
        }
      ]
    },
    {
      "cell_type": "code",
      "source": [
        "print(list(range(1, 11, 2)))"
      ],
      "metadata": {
        "colab": {
          "base_uri": "https://localhost:8080/"
        },
        "id": "nH03Cqq9M0Yj",
        "outputId": "6b215636-60dc-4acf-ec09-54f7a11a5799"
      },
      "execution_count": 20,
      "outputs": [
        {
          "output_type": "stream",
          "name": "stdout",
          "text": [
            "[1, 3, 5, 7, 9]\n"
          ]
        }
      ]
    },
    {
      "cell_type": "code",
      "source": [
        "print(list(range(10,0,-1)))"
      ],
      "metadata": {
        "colab": {
          "base_uri": "https://localhost:8080/"
        },
        "id": "nDfkB9vbM0WG",
        "outputId": "d5496cb2-1441-4844-f15f-4796b773bac1"
      },
      "execution_count": 21,
      "outputs": [
        {
          "output_type": "stream",
          "name": "stdout",
          "text": [
            "[10, 9, 8, 7, 6, 5, 4, 3, 2, 1]\n"
          ]
        }
      ]
    },
    {
      "cell_type": "code",
      "source": [
        "print(list(range(10,-5,-1)))"
      ],
      "metadata": {
        "colab": {
          "base_uri": "https://localhost:8080/"
        },
        "id": "v-_zS3QsM0Ti",
        "outputId": "dbdd54c1-9393-44f7-888c-67d9a51309c3"
      },
      "execution_count": 22,
      "outputs": [
        {
          "output_type": "stream",
          "name": "stdout",
          "text": [
            "[10, 9, 8, 7, 6, 5, 4, 3, 2, 1, 0, -1, -2, -3, -4]\n"
          ]
        }
      ]
    },
    {
      "cell_type": "code",
      "source": [
        "#quiz\n",
        "#What is the output of the following code\n",
        "print(list(range(-1, 11, 2)))"
      ],
      "metadata": {
        "colab": {
          "base_uri": "https://localhost:8080/"
        },
        "id": "f4shNQdSM0Q6",
        "outputId": "728a8ed4-490b-4ec8-dd11-e455848740d0"
      },
      "execution_count": 23,
      "outputs": [
        {
          "output_type": "stream",
          "name": "stdout",
          "text": [
            "[-1, 1, 3, 5, 7, 9]\n"
          ]
        }
      ]
    },
    {
      "cell_type": "code",
      "source": [
        "#quiz\n",
        "#Which of the options is NOT correct for the range: range(5, 1)?\n",
        "# A\n",
        "# start = 5\n",
        "# \n",
        "# B\n",
        "# end = 1\n",
        "# \n",
        "# C\n",
        "# increment = -1\n",
        "# \n",
        "# D\n",
        "# increment = 1"
      ],
      "metadata": {
        "id": "p-wCAF2ZPJE9"
      },
      "execution_count": null,
      "outputs": []
    },
    {
      "cell_type": "code",
      "source": [
        "print(list(range(5, 1)))"
      ],
      "metadata": {
        "colab": {
          "base_uri": "https://localhost:8080/"
        },
        "id": "__9pP012PJCU",
        "outputId": "72bf9c0e-c07a-44b5-bd37-dd27ddd758fd"
      },
      "execution_count": 24,
      "outputs": [
        {
          "output_type": "stream",
          "name": "stdout",
          "text": [
            "[]\n"
          ]
        }
      ]
    },
    {
      "cell_type": "code",
      "source": [
        "print((list(range(5, 1,-1))))"
      ],
      "metadata": {
        "colab": {
          "base_uri": "https://localhost:8080/"
        },
        "id": "XcJLC41VPI_p",
        "outputId": "0fb8306b-b08b-40bb-c442-062a6b6da56b"
      },
      "execution_count": 26,
      "outputs": [
        {
          "output_type": "stream",
          "name": "stdout",
          "text": [
            "[5, 4, 3, 2]\n"
          ]
        }
      ]
    },
    {
      "cell_type": "code",
      "source": [],
      "metadata": {
        "id": "Idt24PpMQ3jz"
      },
      "execution_count": null,
      "outputs": []
    },
    {
      "cell_type": "code",
      "source": [],
      "metadata": {
        "id": "y4AiqaqBQ3hK"
      },
      "execution_count": null,
      "outputs": []
    },
    {
      "cell_type": "code",
      "source": [],
      "metadata": {
        "id": "KMsh7XXIQ3eS"
      },
      "execution_count": null,
      "outputs": []
    },
    {
      "cell_type": "markdown",
      "source": [
        "## For loop"
      ],
      "metadata": {
        "id": "0f4AFhkV7miK"
      }
    },
    {
      "cell_type": "markdown",
      "source": [
        "### Problem #1 : print all numbers from 1 to 5"
      ],
      "metadata": {
        "id": "2p0v8zs37qT5"
      }
    },
    {
      "cell_type": "code",
      "source": [
        "for i in range(1,6):\n",
        "  print(i,end= ' ')"
      ],
      "metadata": {
        "id": "cPCq-l-W7j0r",
        "colab": {
          "base_uri": "https://localhost:8080/"
        },
        "outputId": "f1552930-b8c6-4d36-9483-a81cc73edbf7"
      },
      "execution_count": 28,
      "outputs": [
        {
          "output_type": "stream",
          "name": "stdout",
          "text": [
            "1 2 3 4 5 "
          ]
        }
      ]
    },
    {
      "cell_type": "code",
      "source": [],
      "metadata": {
        "id": "f-4q4v_l7wEz"
      },
      "execution_count": null,
      "outputs": []
    },
    {
      "cell_type": "code",
      "source": [],
      "metadata": {
        "id": "wZcFy2Dn7wHK"
      },
      "execution_count": null,
      "outputs": []
    },
    {
      "cell_type": "markdown",
      "source": [
        "### Problem #2: Print the sum of all numbers from 1 to n"
      ],
      "metadata": {
        "id": "4C80fV2z7weB"
      }
    },
    {
      "cell_type": "code",
      "source": [
        "sum = 0\n",
        "for i in range(1,6):\n",
        "  sum = sum + i\n",
        "print(sum)  "
      ],
      "metadata": {
        "id": "wvFRGpVQ-DF5",
        "colab": {
          "base_uri": "https://localhost:8080/"
        },
        "outputId": "f1216eeb-de48-4441-ebd8-3b1df824e919"
      },
      "execution_count": 31,
      "outputs": [
        {
          "output_type": "stream",
          "name": "stdout",
          "text": [
            "15\n"
          ]
        }
      ]
    },
    {
      "cell_type": "code",
      "source": [],
      "metadata": {
        "id": "QrpFNiny-DDY"
      },
      "execution_count": null,
      "outputs": []
    },
    {
      "cell_type": "code",
      "source": [],
      "metadata": {
        "id": "1-DlfPmO-DA3"
      },
      "execution_count": null,
      "outputs": []
    },
    {
      "cell_type": "code",
      "source": [],
      "metadata": {
        "id": "5LdITI0--C-X"
      },
      "execution_count": null,
      "outputs": []
    },
    {
      "cell_type": "code",
      "source": [],
      "metadata": {
        "id": "1h6_RB1o-C7v"
      },
      "execution_count": null,
      "outputs": []
    },
    {
      "cell_type": "markdown",
      "source": [
        "### Problem #3: Print all number from N to 1:"
      ],
      "metadata": {
        "id": "Kcw7RN3m8RpF"
      }
    },
    {
      "cell_type": "code",
      "source": [
        "n = int(input())\n",
        "for i in range(n,0,-1):\n",
        "  print(i, end= ' ')"
      ],
      "metadata": {
        "id": "A7Wx6fS38cbJ",
        "colab": {
          "base_uri": "https://localhost:8080/"
        },
        "outputId": "50c9bde1-3f05-43cd-a33f-b33dfcb816f7"
      },
      "execution_count": 33,
      "outputs": [
        {
          "output_type": "stream",
          "name": "stdout",
          "text": [
            "5\n",
            "5 4 3 2 1 "
          ]
        }
      ]
    },
    {
      "cell_type": "code",
      "source": [
        "n = int(input())\n",
        "for i in range(n,0):\n",
        "  print(i, end= ' ')"
      ],
      "metadata": {
        "id": "2EUvt_C-8eZz",
        "colab": {
          "base_uri": "https://localhost:8080/"
        },
        "outputId": "e72357c4-b4f4-41b0-b443-9d15039f3a46"
      },
      "execution_count": 34,
      "outputs": [
        {
          "name": "stdout",
          "output_type": "stream",
          "text": [
            "5\n"
          ]
        }
      ]
    },
    {
      "cell_type": "code",
      "source": [
        "#quiz\n",
        "#Predict the output given input N = 5.\n",
        "n = int(input())\n",
        "\n",
        "for i in range(2, n):\n",
        "    print(i, end=' ')"
      ],
      "metadata": {
        "id": "N5HoaAeN8iKw",
        "colab": {
          "base_uri": "https://localhost:8080/"
        },
        "outputId": "1d98030b-5c3d-44b8-ca6d-dfc7335850c6"
      },
      "execution_count": 35,
      "outputs": [
        {
          "output_type": "stream",
          "name": "stdout",
          "text": [
            "5\n",
            "2 3 4 "
          ]
        }
      ]
    },
    {
      "cell_type": "code",
      "source": [],
      "metadata": {
        "id": "5BrOmnXwW-Qk"
      },
      "execution_count": null,
      "outputs": []
    },
    {
      "cell_type": "code",
      "source": [],
      "metadata": {
        "id": "TK0PFreCW-Nk"
      },
      "execution_count": null,
      "outputs": []
    },
    {
      "cell_type": "markdown",
      "source": [
        "### Problem #4: Print all number from N to 1 without changing step-size :"
      ],
      "metadata": {
        "id": "ssKGqklz8if9"
      }
    },
    {
      "cell_type": "code",
      "source": [
        "n = int(input())\n",
        "for i in range(-1*n,0):\n",
        "  print(-1*i,end = ' ')"
      ],
      "metadata": {
        "id": "L23T2T-Z84oz",
        "colab": {
          "base_uri": "https://localhost:8080/"
        },
        "outputId": "147ee1fd-2947-44ca-c34a-b02399dadb23"
      },
      "execution_count": 36,
      "outputs": [
        {
          "output_type": "stream",
          "name": "stdout",
          "text": [
            "5\n",
            "5 4 3 2 1 "
          ]
        }
      ]
    },
    {
      "cell_type": "code",
      "source": [
        "#quiz\n",
        "#Predict the output given input N = 7.\n",
        "N = int(input())\n",
        "\n",
        "for i in range(N, 1, -1):\n",
        "    print(i, end=' ')"
      ],
      "metadata": {
        "id": "Ox6OmtIk85HB",
        "colab": {
          "base_uri": "https://localhost:8080/"
        },
        "outputId": "656b747b-1a5d-47dd-df6a-6a27e6e4990d"
      },
      "execution_count": 38,
      "outputs": [
        {
          "output_type": "stream",
          "name": "stdout",
          "text": [
            "7\n",
            "7 6 5 4 3 2 "
          ]
        }
      ]
    },
    {
      "cell_type": "code",
      "source": [
        "# For the values of i below print the values of N - i + 1 given N = 6.\n",
        "\n",
        "# i: 1, 2, 3, 4, 5, 6"
      ],
      "metadata": {
        "id": "O9vuLayM84-g"
      },
      "execution_count": null,
      "outputs": []
    },
    {
      "cell_type": "code",
      "source": [
        " n = int(input())\n",
        " for i in range(1,n+1):\n",
        "   print(n-i+1,end= ' ')"
      ],
      "metadata": {
        "colab": {
          "base_uri": "https://localhost:8080/"
        },
        "id": "Fm1ZPPI_X69d",
        "outputId": "a2c0e29a-392e-49b2-8799-2ed3d3ee0cc9"
      },
      "execution_count": 40,
      "outputs": [
        {
          "output_type": "stream",
          "name": "stdout",
          "text": [
            "8\n",
            "8 7 6 5 4 3 2 1 "
          ]
        }
      ]
    },
    {
      "cell_type": "code",
      "source": [
        "n=int(input())\n",
        "for i in range(0,n):\n",
        "   print(n-i)"
      ],
      "metadata": {
        "colab": {
          "base_uri": "https://localhost:8080/"
        },
        "id": "3gx7z-nvX65P",
        "outputId": "0c9425c8-c061-4b70-9daf-365243e2924c"
      },
      "execution_count": 41,
      "outputs": [
        {
          "output_type": "stream",
          "name": "stdout",
          "text": [
            "5\n",
            "5\n",
            "4\n",
            "3\n",
            "2\n",
            "1\n"
          ]
        }
      ]
    },
    {
      "cell_type": "markdown",
      "source": [
        "### Problem #5: Print all odd numbers from 1 to n:"
      ],
      "metadata": {
        "id": "gFSO5Qbb88hy"
      }
    },
    {
      "cell_type": "code",
      "source": [
        "n = int(input())\n",
        "for i in range(1,n+1,2):\n",
        "  print(i, end= ' ')"
      ],
      "metadata": {
        "id": "mcj4QRtM9PzJ",
        "colab": {
          "base_uri": "https://localhost:8080/"
        },
        "outputId": "fd0a953d-7aa8-4b2b-eeb4-806a95ecc523"
      },
      "execution_count": 42,
      "outputs": [
        {
          "output_type": "stream",
          "name": "stdout",
          "text": [
            "7\n",
            "1 3 5 7 "
          ]
        }
      ]
    },
    {
      "cell_type": "code",
      "source": [],
      "metadata": {
        "id": "qlXNsJHU9PwY"
      },
      "execution_count": null,
      "outputs": []
    },
    {
      "cell_type": "code",
      "source": [],
      "metadata": {
        "id": "9EKgQgUR9Pto"
      },
      "execution_count": null,
      "outputs": []
    },
    {
      "cell_type": "code",
      "source": [],
      "metadata": {
        "id": "jclwxLnJ9Pqp"
      },
      "execution_count": null,
      "outputs": []
    },
    {
      "cell_type": "markdown",
      "source": [
        "### Problem #6: Print the sum of all even numbers from 1 to n:"
      ],
      "metadata": {
        "id": "zJg_Sw7D9RsD"
      }
    },
    {
      "cell_type": "code",
      "source": [
        "n = int(input())\n",
        "sum = 0\n",
        "for i in range(2, n+1,2):\n",
        "  sum = sum + i\n",
        "print(sum)  "
      ],
      "metadata": {
        "id": "HoIew-rk9YQ_",
        "colab": {
          "base_uri": "https://localhost:8080/"
        },
        "outputId": "4e04d372-4417-486b-b342-af285fb36460"
      },
      "execution_count": 44,
      "outputs": [
        {
          "output_type": "stream",
          "name": "stdout",
          "text": [
            "8\n",
            "20\n"
          ]
        }
      ]
    },
    {
      "cell_type": "code",
      "source": [],
      "metadata": {
        "id": "x2HGLopI9YN_"
      },
      "execution_count": null,
      "outputs": []
    },
    {
      "cell_type": "code",
      "source": [],
      "metadata": {
        "id": "rrE2ewru9YLP"
      },
      "execution_count": null,
      "outputs": []
    },
    {
      "cell_type": "code",
      "source": [
        "print(list(range(5,0,-1)))"
      ],
      "metadata": {
        "id": "tjxOaVl19ZYj",
        "colab": {
          "base_uri": "https://localhost:8080/"
        },
        "outputId": "74773db1-d170-433f-ec10-98296d0ca142"
      },
      "execution_count": 46,
      "outputs": [
        {
          "output_type": "stream",
          "name": "stdout",
          "text": [
            "[5, 4, 3, 2, 1]\n"
          ]
        }
      ]
    }
  ]
}