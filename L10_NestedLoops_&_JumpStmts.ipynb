{
  "nbformat": 4,
  "nbformat_minor": 0,
  "metadata": {
    "colab": {
      "provenance": [],
      "authorship_tag": "ABX9TyMfAfpWkQ5efnumEed5v0lH",
      "include_colab_link": true
    },
    "kernelspec": {
      "name": "python3",
      "display_name": "Python 3"
    },
    "language_info": {
      "name": "python"
    }
  },
  "cells": [
    {
      "cell_type": "markdown",
      "metadata": {
        "id": "view-in-github",
        "colab_type": "text"
      },
      "source": [
        "<a href=\"https://colab.research.google.com/github/Hina19/SeptemberBeginner2022/blob/main/L10_NestedLoops_%26_JumpStmts.ipynb\" target=\"_parent\"><img src=\"https://colab.research.google.com/assets/colab-badge.svg\" alt=\"Open In Colab\"/></a>"
      ]
    },
    {
      "cell_type": "markdown",
      "source": [
        "## Problem#1: \n",
        "Write a loop to print the following numbers: 1 4 7 10 13 16"
      ],
      "metadata": {
        "id": "SU2Ev3o35Ni3"
      }
    },
    {
      "cell_type": "code",
      "source": [
        "for i in range(1,17,3):\n",
        "  print(i,end=' ')"
      ],
      "metadata": {
        "id": "R110nrWq043e",
        "colab": {
          "base_uri": "https://localhost:8080/"
        },
        "outputId": "fc20b8bb-b815-44b4-a6c7-7cfdf659adbf"
      },
      "execution_count": 24,
      "outputs": [
        {
          "output_type": "stream",
          "name": "stdout",
          "text": [
            "1 4 7 10 13 16 "
          ]
        }
      ]
    },
    {
      "cell_type": "code",
      "source": [
        "for i in range(1,17,3):\n",
        "  print(i,\" \",end=',')"
      ],
      "metadata": {
        "id": "S9S72aD8040I",
        "colab": {
          "base_uri": "https://localhost:8080/"
        },
        "outputId": "a54d3023-a647-4950-f5bd-f50aa8dc8447"
      },
      "execution_count": 26,
      "outputs": [
        {
          "output_type": "stream",
          "name": "stdout",
          "text": [
            "1  ,4  ,7  ,10  ,13  ,16  ,"
          ]
        }
      ]
    },
    {
      "cell_type": "code",
      "source": [
        "for i in range(1,17,3):\n",
        "  if i == 16:\n",
        "    print(i,end= ' ')\n",
        "  else:\n",
        "    print(i,end=',')"
      ],
      "metadata": {
        "id": "3at8pthg04xc",
        "colab": {
          "base_uri": "https://localhost:8080/"
        },
        "outputId": "6578af58-4c09-444a-da27-eed9d8dcb379"
      },
      "execution_count": 28,
      "outputs": [
        {
          "output_type": "stream",
          "name": "stdout",
          "text": [
            "1,4,7,10,13,16 "
          ]
        }
      ]
    },
    {
      "cell_type": "code",
      "source": [],
      "metadata": {
        "id": "rXk6djs104uq"
      },
      "execution_count": null,
      "outputs": []
    },
    {
      "cell_type": "markdown",
      "source": [
        "## Jump Statement:\n",
        "<img src='https://iterathon.tech/wp-content/uploads/2021/06/ad8556d1-0da7-4d52-a629-4ce2b91f5c84.png' height=250 width=400>"
      ],
      "metadata": {
        "id": "hkaGNhpY0qWg"
      }
    },
    {
      "cell_type": "code",
      "source": [
        "if True:\n",
        "  "
      ],
      "metadata": {
        "id": "HHm5zJXV3l9H",
        "colab": {
          "base_uri": "https://localhost:8080/",
          "height": 131
        },
        "outputId": "ad58cae3-08cc-41f0-fcb9-3322b985ffd9"
      },
      "execution_count": 29,
      "outputs": [
        {
          "output_type": "error",
          "ename": "SyntaxError",
          "evalue": "ignored",
          "traceback": [
            "\u001b[0;36m  File \u001b[0;32m\"<ipython-input-29-9722b618f1ab>\"\u001b[0;36m, line \u001b[0;32m2\u001b[0m\n\u001b[0;31m    \u001b[0m\n\u001b[0m    ^\u001b[0m\n\u001b[0;31mSyntaxError\u001b[0m\u001b[0;31m:\u001b[0m unexpected EOF while parsing\n"
          ]
        }
      ]
    },
    {
      "cell_type": "code",
      "source": [
        "if True:\n",
        "  pass"
      ],
      "metadata": {
        "id": "j2AnMrnhClQJ"
      },
      "execution_count": 30,
      "outputs": []
    },
    {
      "cell_type": "code",
      "source": [
        "for i in range(5):\n",
        "  if i==3:\n",
        "    pass\n",
        "  print(i)  "
      ],
      "metadata": {
        "id": "WZVKT2RgClNd",
        "colab": {
          "base_uri": "https://localhost:8080/"
        },
        "outputId": "6a827ae7-7463-4e97-d075-fb5705e3ee99"
      },
      "execution_count": 31,
      "outputs": [
        {
          "output_type": "stream",
          "name": "stdout",
          "text": [
            "0\n",
            "1\n",
            "2\n",
            "3\n",
            "4\n"
          ]
        }
      ]
    },
    {
      "cell_type": "code",
      "source": [
        "for i in range(5):\n",
        "  if i==3:\n",
        "     print('hello')\n",
        "  print(i)"
      ],
      "metadata": {
        "id": "GLK_sNwkClKw",
        "colab": {
          "base_uri": "https://localhost:8080/"
        },
        "outputId": "3a884b95-f4c2-44af-d65f-38f1a7d6c5d0"
      },
      "execution_count": 32,
      "outputs": [
        {
          "output_type": "stream",
          "name": "stdout",
          "text": [
            "0\n",
            "1\n",
            "2\n",
            "4\n",
            "4\n"
          ]
        }
      ]
    },
    {
      "cell_type": "code",
      "source": [
        "for i in range(5):\n",
        "  if i==3:\n",
        "     i = i + 1\n",
        "  print(i)"
      ],
      "metadata": {
        "id": "PdXosaiRA-OB"
      },
      "execution_count": null,
      "outputs": []
    },
    {
      "cell_type": "code",
      "source": [
        "for i in range(5):\n",
        "  if i==3:\n",
        "    continue\n",
        "  print(i) "
      ],
      "metadata": {
        "id": "a1s1iHvYClIF",
        "colab": {
          "base_uri": "https://localhost:8080/"
        },
        "outputId": "e71ecfb5-3d2b-4444-b5e3-a2ac554dbb99"
      },
      "execution_count": 33,
      "outputs": [
        {
          "output_type": "stream",
          "name": "stdout",
          "text": [
            "0\n",
            "1\n",
            "2\n",
            "4\n"
          ]
        }
      ]
    },
    {
      "cell_type": "code",
      "source": [],
      "metadata": {
        "id": "rnQ_A8IpClFR"
      },
      "execution_count": null,
      "outputs": []
    },
    {
      "cell_type": "code",
      "source": [],
      "metadata": {
        "id": "x3RRM5Mdnw6i"
      },
      "execution_count": null,
      "outputs": []
    },
    {
      "cell_type": "code",
      "source": [],
      "metadata": {
        "id": "-Ozz9qX3nw30"
      },
      "execution_count": null,
      "outputs": []
    },
    {
      "cell_type": "code",
      "source": [],
      "metadata": {
        "id": "Hlm67DOmnwv3"
      },
      "execution_count": null,
      "outputs": []
    },
    {
      "cell_type": "markdown",
      "source": [
        "<img src='https://i.stack.imgur.com/vquBU.png'>"
      ],
      "metadata": {
        "id": "2RrqtqjP3b75"
      }
    },
    {
      "cell_type": "code",
      "source": [
        "for i in range(5):\n",
        "  if i==3:\n",
        "    break\n",
        "  print(i)"
      ],
      "metadata": {
        "id": "jNpS-LIT03BW",
        "colab": {
          "base_uri": "https://localhost:8080/"
        },
        "outputId": "2835cb89-b4ac-4eae-fac3-65058a3df35b"
      },
      "execution_count": 34,
      "outputs": [
        {
          "output_type": "stream",
          "name": "stdout",
          "text": [
            "0\n",
            "1\n",
            "2\n"
          ]
        }
      ]
    },
    {
      "cell_type": "code",
      "source": [
        "for i in range(5):\n",
        "  if i==1:\n",
        "    break\n",
        "  print(i)"
      ],
      "metadata": {
        "id": "KZV2VzcZ4HSQ",
        "colab": {
          "base_uri": "https://localhost:8080/"
        },
        "outputId": "49618167-67b4-4c93-e121-c23a302bd2a0"
      },
      "execution_count": 35,
      "outputs": [
        {
          "output_type": "stream",
          "name": "stdout",
          "text": [
            "0\n"
          ]
        }
      ]
    },
    {
      "cell_type": "code",
      "source": [
        "#The ________ statement you can use to imply empty block .\n",
        "#pass"
      ],
      "metadata": {
        "id": "WHK68egS4HPb"
      },
      "execution_count": null,
      "outputs": []
    },
    {
      "cell_type": "code",
      "source": [
        "#You went to interview at a village. There were 100 houses in a row. When you interviewed the first 20 houses, You was too exhausted then you stopped.\n",
        "# What statement is used in the example? answer choices"
      ],
      "metadata": {
        "id": "YBNhKEvr4HM5"
      },
      "execution_count": null,
      "outputs": []
    },
    {
      "cell_type": "markdown",
      "source": [
        "### Break: \n",
        "<img src='https://media.geeksforgeeks.org/wp-content/uploads/20191120193634/Break-statement-python.jpg'>"
      ],
      "metadata": {
        "id": "aB9fCPGB4Rsb"
      }
    },
    {
      "cell_type": "code",
      "source": [],
      "metadata": {
        "id": "TDFhLRTH4Y3c"
      },
      "execution_count": null,
      "outputs": []
    },
    {
      "cell_type": "code",
      "source": [],
      "metadata": {
        "id": "uTMbog4z4Y03"
      },
      "execution_count": null,
      "outputs": []
    },
    {
      "cell_type": "code",
      "source": [],
      "metadata": {
        "id": "E4a84QTK4YyO"
      },
      "execution_count": null,
      "outputs": []
    },
    {
      "cell_type": "markdown",
      "source": [
        "## Problem #3: \n",
        "- WAP that continuously that ask the user to provide an input number\n",
        "- The program should stop only when the user provides 5\n",
        "- Once the user provides 5 , the program should print the number of times an input was provided"
      ],
      "metadata": {
        "id": "_WNpY4pD5LLO"
      }
    },
    {
      "cell_type": "code",
      "source": [
        "count =0 \n",
        "while True:\n",
        "  n = int(input())\n",
        "  count = count+1\n",
        "  if n == 5:\n",
        "    break\n",
        "print('you provide',count,'inputs until you got 5!')    "
      ],
      "metadata": {
        "id": "AiWBbqo56LSJ",
        "colab": {
          "base_uri": "https://localhost:8080/"
        },
        "outputId": "a8a92a39-7441-41d7-83c7-e2f01ed4799f"
      },
      "execution_count": 37,
      "outputs": [
        {
          "output_type": "stream",
          "name": "stdout",
          "text": [
            "8\n",
            "17\n",
            "19\n",
            "5\n",
            "you provide 4 inputs until you got 5!\n"
          ]
        }
      ]
    },
    {
      "cell_type": "code",
      "source": [],
      "metadata": {
        "id": "ixaqQNLX6LPV"
      },
      "execution_count": null,
      "outputs": []
    },
    {
      "cell_type": "code",
      "source": [],
      "metadata": {
        "id": "QczsLF0w4Yst"
      },
      "execution_count": null,
      "outputs": []
    },
    {
      "cell_type": "code",
      "source": [],
      "metadata": {
        "id": "XKvcANlx8oFz"
      },
      "execution_count": null,
      "outputs": []
    },
    {
      "cell_type": "markdown",
      "source": [
        "## Nested Loops:\n",
        "\n",
        "<img src='https://prepinsta.com/wp-content/uploads/2020/12/nested-loop.webp' height=300 width=300>"
      ],
      "metadata": {
        "id": "46_TknIT9FCK"
      }
    },
    {
      "cell_type": "code",
      "source": [
        "n = int(input())\n",
        "for i in range(n):\n",
        "  print('*',end='')"
      ],
      "metadata": {
        "id": "BBSD7cpE9Llc",
        "colab": {
          "base_uri": "https://localhost:8080/"
        },
        "outputId": "2aff2c3c-efc3-4f87-b116-e2825c60a765"
      },
      "execution_count": 41,
      "outputs": [
        {
          "output_type": "stream",
          "name": "stdout",
          "text": [
            "5\n",
            "*****"
          ]
        }
      ]
    },
    {
      "cell_type": "code",
      "source": [
        "n = 3\n",
        "for i in range(n):\n",
        "  print('*',end='')\n",
        "print()  \n",
        "for i in range(n):\n",
        "  print('*',end='')\n",
        "print()  \n",
        "for i in range(n):\n",
        "  print('*',end='')    "
      ],
      "metadata": {
        "id": "QKZl3Z6_AUwI",
        "colab": {
          "base_uri": "https://localhost:8080/"
        },
        "outputId": "bfba50fc-1ca6-4471-e01c-b9e559be4013"
      },
      "execution_count": 44,
      "outputs": [
        {
          "output_type": "stream",
          "name": "stdout",
          "text": [
            "***\n",
            "***\n",
            "***"
          ]
        }
      ]
    },
    {
      "cell_type": "code",
      "source": [
        "for i in range(3):\n",
        "  for j in range(3):\n",
        "    print('*',end='')\n",
        "  print()  "
      ],
      "metadata": {
        "id": "h5Q7ErBbAV3I",
        "colab": {
          "base_uri": "https://localhost:8080/"
        },
        "outputId": "8bb344f4-0c4b-4afd-f632-6e61186f3476"
      },
      "execution_count": 46,
      "outputs": [
        {
          "output_type": "stream",
          "name": "stdout",
          "text": [
            "***\n",
            "***\n",
            "***\n"
          ]
        }
      ]
    },
    {
      "cell_type": "code",
      "source": [
        "#quiz\n",
        "for i in range(3):\n",
        "    print('*', end='')\n",
        "for i in range(3):\n",
        "    print('*', end='')\n",
        "for i in range(3):\n",
        "    print('*', end='')"
      ],
      "metadata": {
        "id": "mPneuoLjAV0P",
        "colab": {
          "base_uri": "https://localhost:8080/"
        },
        "outputId": "26a8e3bb-69ad-4d68-ece1-7d743dfcb251"
      },
      "execution_count": 47,
      "outputs": [
        {
          "output_type": "stream",
          "name": "stdout",
          "text": [
            "*********"
          ]
        }
      ]
    },
    {
      "cell_type": "code",
      "source": [
        "#quiz\n",
        "for i in range(2):\n",
        "  for j in range(1):\n",
        "      print('*', end='')\n",
        "  print()"
      ],
      "metadata": {
        "id": "XQrH50eFzaY4"
      },
      "execution_count": null,
      "outputs": []
    },
    {
      "cell_type": "code",
      "source": [
        "#quiz\n",
        "for i in range(1):\n",
        "  for j in range(2):\n",
        "      print('*', end='')\n",
        "  print()"
      ],
      "metadata": {
        "id": "V2bJsFTF0Mvo"
      },
      "execution_count": null,
      "outputs": []
    },
    {
      "cell_type": "markdown",
      "source": [
        "#homework: \n",
        "n1 = 5\n",
        "n2 = 3"
      ],
      "metadata": {
        "id": "tV9TFjTl0uW6"
      }
    },
    {
      "cell_type": "code",
      "source": [],
      "metadata": {
        "id": "CQUpy3_b12SY"
      },
      "execution_count": null,
      "outputs": []
    },
    {
      "cell_type": "code",
      "source": [],
      "metadata": {
        "id": "9S1chTtu12iq"
      },
      "execution_count": null,
      "outputs": []
    },
    {
      "cell_type": "code",
      "source": [],
      "metadata": {
        "id": "tDOc9p6f120W"
      },
      "execution_count": null,
      "outputs": []
    },
    {
      "cell_type": "markdown",
      "source": [
        "# GCD(a,b)"
      ],
      "metadata": {
        "id": "SUS73qQQ4S-U"
      }
    },
    {
      "cell_type": "code",
      "source": [
        "a = int(input())\n",
        "b = int(input())\n",
        "x = min(a,b)\n",
        "for i in range(x,0,-1):\n",
        "  if a%i == 0 and b%i==0:\n",
        "    print(i)\n",
        "    break\n",
        "\n",
        "    "
      ],
      "metadata": {
        "colab": {
          "base_uri": "https://localhost:8080/"
        },
        "id": "SXsUZVUS4Vc1",
        "outputId": "a4f051c1-8965-46ec-aabf-7d07788ac9df"
      },
      "execution_count": 49,
      "outputs": [
        {
          "output_type": "stream",
          "name": "stdout",
          "text": [
            "6\n",
            "8\n",
            "2\n"
          ]
        }
      ]
    },
    {
      "cell_type": "code",
      "source": [
        "n=int(input())\n",
        "count = 0\n",
        "for i in range(n):\n",
        "  if n == 5:\n",
        "     break\n",
        "  count = count + 1\n",
        "print(count) "
      ],
      "metadata": {
        "colab": {
          "base_uri": "https://localhost:8080/"
        },
        "id": "lE1gfJOQ-yQo",
        "outputId": "340384c5-9422-40c2-a634-3e523aab5f12"
      },
      "execution_count": 50,
      "outputs": [
        {
          "output_type": "stream",
          "name": "stdout",
          "text": [
            "5\n",
            "0\n"
          ]
        }
      ]
    },
    {
      "cell_type": "code",
      "source": [
        "n=int(input())\n",
        "for i in range(1,n+1):\n",
        "   if(i==n):\n",
        "     print(i,end=\" \")\n",
        "   else:\n",
        "     print(i,end=\",\") "
      ],
      "metadata": {
        "colab": {
          "base_uri": "https://localhost:8080/"
        },
        "id": "GOmxlxJEB6i1",
        "outputId": "39be9a1d-cfeb-4578-e4df-4ce93e7c45ed"
      },
      "execution_count": 52,
      "outputs": [
        {
          "output_type": "stream",
          "name": "stdout",
          "text": [
            "5\n",
            "1,2,3,4,5 "
          ]
        }
      ]
    }
  ]
}