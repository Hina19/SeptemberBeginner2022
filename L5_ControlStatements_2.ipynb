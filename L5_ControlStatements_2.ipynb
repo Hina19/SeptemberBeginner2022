{
  "nbformat": 4,
  "nbformat_minor": 0,
  "metadata": {
    "colab": {
      "provenance": [],
      "authorship_tag": "ABX9TyM/Ciz5Xk9FhkHtAg4BVkuy",
      "include_colab_link": true
    },
    "kernelspec": {
      "name": "python3",
      "display_name": "Python 3"
    },
    "language_info": {
      "name": "python"
    }
  },
  "cells": [
    {
      "cell_type": "markdown",
      "metadata": {
        "id": "view-in-github",
        "colab_type": "text"
      },
      "source": [
        "<a href=\"https://colab.research.google.com/github/Hina19/SeptemberBeginner2022/blob/main/L5_ControlStatements_2.ipynb\" target=\"_parent\"><img src=\"https://colab.research.google.com/assets/colab-badge.svg\" alt=\"Open In Colab\"/></a>"
      ]
    },
    {
      "cell_type": "markdown",
      "source": [
        "<img src='https://media.makeameme.org/created/problems-problems-everywhere-x8mnbl.jpg' height=200 width=350>"
      ],
      "metadata": {
        "id": "oW8z8Hh2FY1p"
      }
    },
    {
      "cell_type": "markdown",
      "source": [
        "## Problem #1:\n",
        "WAP to determine whether a given input number is positive or not "
      ],
      "metadata": {
        "id": "_o94fIsgft9X"
      }
    },
    {
      "cell_type": "code",
      "source": [
        "n = int(input('enter a num.: '))\n",
        "if n>0:\n",
        "  print('+ve num')\n",
        "else:\n",
        "  print('not a +ve num')"
      ],
      "metadata": {
        "id": "iIgVb4hDhE4i",
        "colab": {
          "base_uri": "https://localhost:8080/"
        },
        "outputId": "42f1ba27-fe59-46c1-c7dd-e04cf2820f72"
      },
      "execution_count": 24,
      "outputs": [
        {
          "output_type": "stream",
          "name": "stdout",
          "text": [
            "enter a num.: 5\n",
            "+ve num\n"
          ]
        }
      ]
    },
    {
      "cell_type": "code",
      "source": [],
      "metadata": {
        "id": "72RD5zzohE13"
      },
      "execution_count": null,
      "outputs": []
    },
    {
      "cell_type": "code",
      "source": [],
      "metadata": {
        "id": "uVMJArwvhEzr"
      },
      "execution_count": null,
      "outputs": []
    },
    {
      "cell_type": "code",
      "source": [],
      "metadata": {
        "id": "c-E5281fqL1M"
      },
      "execution_count": null,
      "outputs": []
    },
    {
      "cell_type": "markdown",
      "source": [
        "## Problem #2:\n",
        "WAP to check whether the movie is HIT/FLOP based on rating in BookMyShow:<br>\n",
        "[assume if the rating is more than 3.5 => HIT ]"
      ],
      "metadata": {
        "id": "ZYl9LoGAg04l"
      }
    },
    {
      "cell_type": "code",
      "source": [
        "rating = float(input('enter movie rating:'))\n",
        "if rating>3.5:\n",
        "  print(\"Movie is Hit\")\n",
        "else:\n",
        "  print(\"Movie is Flop\")"
      ],
      "metadata": {
        "id": "OH6lbRPKhPG5",
        "colab": {
          "base_uri": "https://localhost:8080/"
        },
        "outputId": "867ca9a1-7252-4760-e6f6-2128224ed415"
      },
      "execution_count": 29,
      "outputs": [
        {
          "output_type": "stream",
          "name": "stdout",
          "text": [
            "enter movie rating:3.5\n",
            "Movie is Flop\n"
          ]
        }
      ]
    },
    {
      "cell_type": "code",
      "source": [],
      "metadata": {
        "id": "W0O31v3chPDy"
      },
      "execution_count": null,
      "outputs": []
    },
    {
      "cell_type": "code",
      "source": [],
      "metadata": {
        "id": "nPfi1727qKI1"
      },
      "execution_count": null,
      "outputs": []
    },
    {
      "cell_type": "code",
      "source": [],
      "metadata": {
        "id": "ZaoDhA2sqKF9"
      },
      "execution_count": null,
      "outputs": []
    },
    {
      "cell_type": "code",
      "source": [],
      "metadata": {
        "id": "_nqJVylHqKCt"
      },
      "execution_count": null,
      "outputs": []
    },
    {
      "cell_type": "markdown",
      "source": [
        "##Problem #3:\n",
        "\n",
        "- A bartender is trying to determine whether he should serve drinks to someone. \n",
        "- He only servers drink to people 18 and older and when\n",
        "he is not on break. \n",
        "- Given the person's age, and whether the break time is in session."
      ],
      "metadata": {
        "id": "VhQroAVPhv5D"
      }
    },
    {
      "cell_type": "code",
      "source": [
        "age = int(input('enter your age'))\n",
        "on_break = input('on_break: 0/1')\n",
        "if age>=18 and on_break=='0':\n",
        "  print('serve drinks')\n",
        "else:\n",
        "  print('dont serve')"
      ],
      "metadata": {
        "id": "UbtCk-wikpDz",
        "colab": {
          "base_uri": "https://localhost:8080/"
        },
        "outputId": "81902140-eb6c-4629-9be1-f5e707ec6d43"
      },
      "execution_count": 33,
      "outputs": [
        {
          "output_type": "stream",
          "name": "stdout",
          "text": [
            "enter your age19\n",
            "on_break: 0/10\n",
            "serve drinks\n"
          ]
        }
      ]
    },
    {
      "cell_type": "code",
      "source": [
        "bool('0')"
      ],
      "metadata": {
        "id": "vBa0WQMikpAs",
        "colab": {
          "base_uri": "https://localhost:8080/"
        },
        "outputId": "2ff3c0f6-a688-4845-cc9f-8bd3fe43cf3b"
      },
      "execution_count": 31,
      "outputs": [
        {
          "output_type": "execute_result",
          "data": {
            "text/plain": [
              "True"
            ]
          },
          "metadata": {},
          "execution_count": 31
        }
      ]
    },
    {
      "cell_type": "code",
      "source": [
        "#QUIZ\n",
        "x = 5\n",
        "if x < 5 or x > -1:\n",
        "    x = x - 3\n",
        "else:\n",
        "    x = x + 3"
      ],
      "metadata": {
        "id": "YW4m_Tu5qJjc"
      },
      "execution_count": null,
      "outputs": []
    },
    {
      "cell_type": "code",
      "source": [],
      "metadata": {
        "id": "HOqLk19ZqJg9"
      },
      "execution_count": null,
      "outputs": []
    },
    {
      "cell_type": "code",
      "source": [],
      "metadata": {
        "id": "06ftPcWzqJeN"
      },
      "execution_count": null,
      "outputs": []
    },
    {
      "cell_type": "markdown",
      "source": [
        "## Problem #4: Level1\n",
        "\n",
        "Favourite programming Language:\n",
        "\n",
        "\n",
        "- You have to ask user his favourite programming Language if its \n",
        "    - python => \"Nice Choice\" \n",
        "    - otherwise => \"I don't know that language\""
      ],
      "metadata": {
        "id": "7qZMXz5Ykpci"
      }
    },
    {
      "cell_type": "code",
      "source": [
        "lang = input('enter your fav programming language: ')\n",
        "if lang == 'python':\n",
        "  print(\"Nice Choice\")\n",
        "else:\n",
        "  print(\"I don't know that language\")"
      ],
      "metadata": {
        "id": "nZ4eh7NOmLvr",
        "colab": {
          "base_uri": "https://localhost:8080/"
        },
        "outputId": "13232808-e60e-4738-c5e2-5fabb690217d"
      },
      "execution_count": 35,
      "outputs": [
        {
          "output_type": "stream",
          "name": "stdout",
          "text": [
            "enter your fav programming language: python\n",
            "Nice Choice\n"
          ]
        }
      ]
    },
    {
      "cell_type": "code",
      "source": [
        "lang = input('enter your fav programming language: ')\n",
        "if lang == 'python' or lang=='Python' or lang=='PYTHON':\n",
        "  print(\"Nice Choice\")\n",
        "else:\n",
        "  print(\"I don't know that language\")"
      ],
      "metadata": {
        "id": "EM2IKuyFqIAQ",
        "colab": {
          "base_uri": "https://localhost:8080/"
        },
        "outputId": "30582d1b-8c77-4f4b-dfc5-4fc3581b405f"
      },
      "execution_count": 81,
      "outputs": [
        {
          "output_type": "stream",
          "name": "stdout",
          "text": [
            "enter your fav programming language: pYthon\n",
            "I don't know that language\n"
          ]
        }
      ]
    },
    {
      "cell_type": "code",
      "source": [
        "#lower() #upper()"
      ],
      "metadata": {
        "id": "w0DHaNA2qH95"
      },
      "execution_count": null,
      "outputs": []
    },
    {
      "cell_type": "code",
      "source": [
        "lang = input('enter your fav programming language: ')\n",
        "if lang.lower() == 'python':\n",
        "  print(\"Nice Choice\")\n",
        "else:\n",
        "  print(\"I don't know that language\")"
      ],
      "metadata": {
        "id": "1seFMXw-qH5B",
        "colab": {
          "base_uri": "https://localhost:8080/"
        },
        "outputId": "2228d37b-153e-4c43-eed4-de910b2cfe58"
      },
      "execution_count": 39,
      "outputs": [
        {
          "output_type": "stream",
          "name": "stdout",
          "text": [
            "enter your fav programming language: pYTHON\n",
            "Nice Choice\n"
          ]
        }
      ]
    },
    {
      "cell_type": "code",
      "source": [
        "lang = input('enter your fav programming language: ')\n",
        "if lang.upper() == 'PYTHON':\n",
        "  print(\"Nice Choice\")\n",
        "else:\n",
        "  print(\"I don't know that language\")"
      ],
      "metadata": {
        "colab": {
          "base_uri": "https://localhost:8080/"
        },
        "id": "wqh91lLc589U",
        "outputId": "c5b65fc4-40e0-4120-c170-aaa502e4b792"
      },
      "execution_count": 41,
      "outputs": [
        {
          "output_type": "stream",
          "name": "stdout",
          "text": [
            "enter your fav programming language: python\n",
            "Nice Choice\n"
          ]
        }
      ]
    },
    {
      "cell_type": "code",
      "source": [],
      "metadata": {
        "id": "CiD-Tiwh5868"
      },
      "execution_count": null,
      "outputs": []
    },
    {
      "cell_type": "code",
      "source": [],
      "metadata": {
        "id": "PhqPI2om584b"
      },
      "execution_count": null,
      "outputs": []
    },
    {
      "cell_type": "markdown",
      "source": [
        "## Problem #4: Level2\n",
        "\n",
        "Favourite programming Language:\n",
        "\n",
        "\n",
        "- You have to ask user his favourite programming Language if its \n",
        "    - python or java => \"Nice Choice\" \n",
        "    - otherwise => \"I don't know that language\""
      ],
      "metadata": {
        "id": "k94azJrnm8Gp"
      }
    },
    {
      "cell_type": "code",
      "source": [
        "lang = input('enter your fav programming language: ')\n",
        "if lang.lower() == 'python' or lang.lower() == 'java':\n",
        "  print(\"Nice Choice\")\n",
        "else:\n",
        "  print(\"I don't know that language\")"
      ],
      "metadata": {
        "id": "T97kQBzOnIJ8",
        "colab": {
          "base_uri": "https://localhost:8080/"
        },
        "outputId": "4f909c3c-307e-40a6-9588-531aa980aef7"
      },
      "execution_count": 44,
      "outputs": [
        {
          "output_type": "stream",
          "name": "stdout",
          "text": [
            "enter your fav programming language: C\n",
            "I don't know that language\n"
          ]
        }
      ]
    },
    {
      "cell_type": "code",
      "source": [
        "lang = lower(input('enter your fav programming language: '))\n",
        "if lang == 'python' or lang == 'java':\n",
        "  print(\"Nice Choice\")\n",
        "else:\n",
        "  print(\"I don't know that language\")"
      ],
      "metadata": {
        "id": "d8HbWzJcnIHd",
        "colab": {
          "base_uri": "https://localhost:8080/",
          "height": 235
        },
        "outputId": "890be72e-1e7c-497a-83ee-e4599148b89d"
      },
      "execution_count": 45,
      "outputs": [
        {
          "output_type": "error",
          "ename": "NameError",
          "evalue": "ignored",
          "traceback": [
            "\u001b[0;31m---------------------------------------------------------------------------\u001b[0m",
            "\u001b[0;31mNameError\u001b[0m                                 Traceback (most recent call last)",
            "\u001b[0;32m<ipython-input-45-3c0b7339480b>\u001b[0m in \u001b[0;36m<module>\u001b[0;34m\u001b[0m\n\u001b[0;32m----> 1\u001b[0;31m \u001b[0mlang\u001b[0m \u001b[0;34m=\u001b[0m \u001b[0mlower\u001b[0m\u001b[0;34m(\u001b[0m\u001b[0minput\u001b[0m\u001b[0;34m(\u001b[0m\u001b[0;34m'enter your fav programming language: '\u001b[0m\u001b[0;34m)\u001b[0m\u001b[0;34m)\u001b[0m\u001b[0;34m\u001b[0m\u001b[0;34m\u001b[0m\u001b[0m\n\u001b[0m\u001b[1;32m      2\u001b[0m \u001b[0;32mif\u001b[0m \u001b[0mlang\u001b[0m \u001b[0;34m==\u001b[0m \u001b[0;34m'python'\u001b[0m \u001b[0;32mor\u001b[0m \u001b[0mlang\u001b[0m \u001b[0;34m==\u001b[0m \u001b[0;34m'java'\u001b[0m\u001b[0;34m:\u001b[0m\u001b[0;34m\u001b[0m\u001b[0;34m\u001b[0m\u001b[0m\n\u001b[1;32m      3\u001b[0m   \u001b[0mprint\u001b[0m\u001b[0;34m(\u001b[0m\u001b[0;34m\"Nice Choice\"\u001b[0m\u001b[0;34m)\u001b[0m\u001b[0;34m\u001b[0m\u001b[0;34m\u001b[0m\u001b[0m\n\u001b[1;32m      4\u001b[0m \u001b[0;32melse\u001b[0m\u001b[0;34m:\u001b[0m\u001b[0;34m\u001b[0m\u001b[0;34m\u001b[0m\u001b[0m\n\u001b[1;32m      5\u001b[0m   \u001b[0mprint\u001b[0m\u001b[0;34m(\u001b[0m\u001b[0;34m\"I don't know that language\"\u001b[0m\u001b[0;34m)\u001b[0m\u001b[0;34m\u001b[0m\u001b[0;34m\u001b[0m\u001b[0m\n",
            "\u001b[0;31mNameError\u001b[0m: name 'lower' is not defined"
          ]
        }
      ]
    },
    {
      "cell_type": "code",
      "source": [],
      "metadata": {
        "id": "Xo9RJPy0qGn1"
      },
      "execution_count": null,
      "outputs": []
    },
    {
      "cell_type": "code",
      "source": [],
      "metadata": {
        "id": "RnhnNlopqGlH"
      },
      "execution_count": null,
      "outputs": []
    },
    {
      "cell_type": "markdown",
      "source": [
        "## Problem #4: Level3\n",
        "\n",
        "Favourite programming Language:\n",
        "\n",
        "\n",
        "- You have to ask user his favourite programming Language if its \n",
        "    - python or java => \"Nice Choice\" \n",
        "    - C++ => \"Too old school !!\"\n",
        "    - otherwise => \"I don't know that language\""
      ],
      "metadata": {
        "id": "hV9R_cA8nX2h"
      }
    },
    {
      "cell_type": "code",
      "source": [
        "lang = input('enter your fav programming language: ')\n",
        "if lang.lower() == 'python' or lang.lower() == 'java':\n",
        "  print(\"Nice Choice\")\n",
        "else:\n",
        "  if lang.lower()=='c++':\n",
        "    print('Too old school')\n",
        "  else:\n",
        "    print(\"I don't know that language\")"
      ],
      "metadata": {
        "id": "YxQni9RspQXI",
        "colab": {
          "base_uri": "https://localhost:8080/"
        },
        "outputId": "a37559f1-906f-4ccc-a9f2-2f0d19a2c814"
      },
      "execution_count": 56,
      "outputs": [
        {
          "output_type": "stream",
          "name": "stdout",
          "text": [
            "enter your fav programming language: c++\n",
            "Too old school\n"
          ]
        }
      ]
    },
    {
      "cell_type": "code",
      "source": [
        "lang = input('enter your fav programming language: ')\n",
        "if lang.lower() == 'python' or lang.lower() == 'java':\n",
        "  print(\"Nice Choice\")\n",
        "if lang.lower()=='c++':\n",
        "  print('Too old school')\n",
        "else:\n",
        "  print(\"I don't know that language\")"
      ],
      "metadata": {
        "id": "rr8_hmrTpQUF",
        "colab": {
          "base_uri": "https://localhost:8080/"
        },
        "outputId": "ee2fb1e4-d8ec-4d6d-9c68-f6ce571c1abc"
      },
      "execution_count": 47,
      "outputs": [
        {
          "output_type": "stream",
          "name": "stdout",
          "text": [
            "enter your fav programming language: python\n",
            "Nice Choice\n",
            "I don't know that language\n"
          ]
        }
      ]
    },
    {
      "cell_type": "code",
      "source": [
        "lang = input('enter your fav programming language: ')\n",
        "if lang.lower() == 'python' or 'java':\n",
        "  print(\"Nice Choice\")\n",
        "else:\n",
        "  if lang.lower()=='c++':\n",
        "    print('Too old school')\n",
        "  else:\n",
        "    print(\"I don't know that language\")"
      ],
      "metadata": {
        "id": "VrhlN3s6pQRM",
        "colab": {
          "base_uri": "https://localhost:8080/"
        },
        "outputId": "5a6a6306-93e6-42de-d7c8-9ce2bcde4a98"
      },
      "execution_count": 51,
      "outputs": [
        {
          "output_type": "stream",
          "name": "stdout",
          "text": [
            "enter your fav programming language: c++\n",
            "Nice Choice\n"
          ]
        }
      ]
    },
    {
      "cell_type": "code",
      "source": [
        "print('c++' == 'c++' or 'java')"
      ],
      "metadata": {
        "id": "2cWBMZ2lpQOV",
        "colab": {
          "base_uri": "https://localhost:8080/"
        },
        "outputId": "50262eee-7c6e-4158-e293-a737cd8cd238"
      },
      "execution_count": 53,
      "outputs": [
        {
          "output_type": "stream",
          "name": "stdout",
          "text": [
            "True\n"
          ]
        }
      ]
    },
    {
      "cell_type": "code",
      "source": [
        "print('c++' == 'python' or 'java')"
      ],
      "metadata": {
        "colab": {
          "base_uri": "https://localhost:8080/"
        },
        "id": "xF48DETmQc4i",
        "outputId": "f67ffbb0-5ed9-4330-b68e-1965f0182fc3"
      },
      "execution_count": 84,
      "outputs": [
        {
          "output_type": "stream",
          "name": "stdout",
          "text": [
            "java\n"
          ]
        }
      ]
    },
    {
      "cell_type": "code",
      "source": [
        "print(bool('c++' == 'python' or 'java'))"
      ],
      "metadata": {
        "colab": {
          "base_uri": "https://localhost:8080/"
        },
        "id": "uWpG1VTt_m7x",
        "outputId": "cb5f3e53-dc4b-471d-f7c4-f9c40a666125"
      },
      "execution_count": 55,
      "outputs": [
        {
          "output_type": "stream",
          "name": "stdout",
          "text": [
            "True\n"
          ]
        }
      ]
    },
    {
      "cell_type": "markdown",
      "source": [
        "## Problem #4: Level4\n",
        "\n",
        "Favourite programming Language:\n",
        "\n",
        "\n",
        "- You have to ask user his favourite programming Language if its \n",
        "    - python or java => \"Nice Choice\" \n",
        "    - Golang => \"You are cool\"\n",
        "    - Javascript => \"You are our web developer\"\n",
        "    - C++ => \"Too old school !!\"\n",
        "    - otherwise => \"I don't know that language\""
      ],
      "metadata": {
        "id": "6-ppNLLRpdBU"
      }
    },
    {
      "cell_type": "code",
      "source": [
        "lang = input('enter your fav programming language: ')\n",
        "if lang.lower() == 'python' or lang.lower() == 'java':\n",
        "  print(\"Nice Choice\")\n",
        "else:\n",
        "  if lang.lower()=='golang':\n",
        "    print('you are so cool')\n",
        "  else:\n",
        "    if lang.lower()=='javascript':\n",
        "      print('you are our web developer')\n",
        "    else:\n",
        "      if lang.lower()=='c++':\n",
        "         print('Too old school')\n",
        "      else:\n",
        "         print(\"I don't know that language\")"
      ],
      "metadata": {
        "id": "nMvpmYTNqOJS",
        "colab": {
          "base_uri": "https://localhost:8080/"
        },
        "outputId": "70002fe7-a536-4a3e-81ea-655002673710"
      },
      "execution_count": 57,
      "outputs": [
        {
          "output_type": "stream",
          "name": "stdout",
          "text": [
            "enter your fav programming language: c++\n",
            "Too old school\n"
          ]
        }
      ]
    },
    {
      "cell_type": "code",
      "source": [
        "lang = input('enter your fav programming language: ')\n",
        "if lang.lower() == 'python' or lang.lower() == 'java':\n",
        "  print(\"Nice Choice\")\n",
        "elif lang.lower()=='golang':\n",
        "  print('you are so cool')\n",
        "elif lang.lower()=='javascript':\n",
        "  print('you are our web developer')\n",
        "elif lang.lower()=='c++':\n",
        "  print('Too old school')\n",
        "else:\n",
        "  print(\"I don't know that language\")"
      ],
      "metadata": {
        "id": "pvd6YDF1qOGi",
        "colab": {
          "base_uri": "https://localhost:8080/"
        },
        "outputId": "6e0e3a21-c824-4e48-828b-172365ded024"
      },
      "execution_count": 59,
      "outputs": [
        {
          "output_type": "stream",
          "name": "stdout",
          "text": [
            "enter your fav programming language: javascript\n",
            "you are our web developer\n"
          ]
        }
      ]
    },
    {
      "cell_type": "code",
      "source": [
        "lang = input(\"Enter the Lang : \")\n",
        "if lang.lower() ==\"python\" or lang.lower()== \"java\":\n",
        "  print(\"Nice Choice\")\n",
        "elif lang.lower() ==\"c++\":\n",
        "  print(\"Too old School!!!\")\n",
        "else:\n",
        "  print (\"I dont know that language\")\n"
      ],
      "metadata": {
        "id": "3cBOGh2vqODz",
        "colab": {
          "base_uri": "https://localhost:8080/"
        },
        "outputId": "7d4efdae-f321-4330-dbb3-1bb1d1747662"
      },
      "execution_count": 60,
      "outputs": [
        {
          "output_type": "stream",
          "name": "stdout",
          "text": [
            "Enter the Lang : c++\n",
            "Too old School!!!\n"
          ]
        }
      ]
    },
    {
      "cell_type": "code",
      "source": [],
      "metadata": {
        "id": "gYF-fqXWqOA5"
      },
      "execution_count": null,
      "outputs": []
    },
    {
      "cell_type": "markdown",
      "source": [
        "# Quizzes"
      ],
      "metadata": {
        "id": "xqUdhfDCF0zc"
      }
    },
    {
      "cell_type": "code",
      "source": [
        "#quiz\n",
        "x = 0\n",
        "if x > 0:\n",
        "    print('positive')\n",
        "elif x==0:\n",
        "    print('zero')\n",
        "else:\n",
        "    print('negative')"
      ],
      "metadata": {
        "id": "dhLlutjZqN95",
        "colab": {
          "base_uri": "https://localhost:8080/"
        },
        "outputId": "2675d377-ca97-4a9f-edc3-3700f93f7364"
      },
      "execution_count": 62,
      "outputs": [
        {
          "output_type": "stream",
          "name": "stdout",
          "text": [
            "zero\n"
          ]
        }
      ]
    },
    {
      "cell_type": "code",
      "source": [
        "if False:\n",
        "    print(\"Artificial Intelligence\")\n",
        "elif True:\n",
        "    print(\"Machine Learning\")\n",
        "elif True:\n",
        "    print(\"Data Science\")\n",
        "else:\n",
        "    print(\"Deep Learning\") "
      ],
      "metadata": {
        "colab": {
          "base_uri": "https://localhost:8080/"
        },
        "id": "MF4ICcAHFE1N",
        "outputId": "ceaa95d1-6201-4301-c306-1a90aa33615b"
      },
      "execution_count": 61,
      "outputs": [
        {
          "output_type": "stream",
          "name": "stdout",
          "text": [
            "Machine Learning\n"
          ]
        }
      ]
    },
    {
      "cell_type": "code",
      "source": [
        "a = 1\n",
        "b = 0\n",
        "c = 1\n",
        "if (a and b):\n",
        "    print(\"Scaler is awesome\")\n",
        "elif (a and c):\n",
        "    print(\"ML is fun\")\n",
        "if (a and b and c):\n",
        "    print(\"Python is amazing\")\n",
        "if (a or b or c):\n",
        "    print(\"I love DS\")"
      ],
      "metadata": {
        "colab": {
          "base_uri": "https://localhost:8080/"
        },
        "id": "6lw9YxrfFSff",
        "outputId": "0c7a1930-9145-4870-d591-b7fc64911ca2"
      },
      "execution_count": 63,
      "outputs": [
        {
          "output_type": "stream",
          "name": "stdout",
          "text": [
            "ML is fun\n",
            "I love DS\n"
          ]
        }
      ]
    },
    {
      "cell_type": "code",
      "source": [
        "a = 1\n",
        "b = 0\n",
        "c = 1\n",
        "if (a and b):\n",
        "    print(\"Scaler is awesome\")\n",
        "elif (a and c):\n",
        "    print(\"ML is fun\")\n",
        "elif (a and b and c):\n",
        "    print(\"Python is amazing\")\n",
        "else:\n",
        "    print(\"I love DS\")"
      ],
      "metadata": {
        "colab": {
          "base_uri": "https://localhost:8080/"
        },
        "id": "rxoodyOOFSb8",
        "outputId": "2f3acb83-c287-48a7-9c36-b9268ab27f41"
      },
      "execution_count": 65,
      "outputs": [
        {
          "output_type": "stream",
          "name": "stdout",
          "text": [
            "ML is fun\n"
          ]
        }
      ]
    },
    {
      "cell_type": "code",
      "source": [],
      "metadata": {
        "id": "WPWBtp43FSZO"
      },
      "execution_count": null,
      "outputs": []
    },
    {
      "cell_type": "markdown",
      "source": [
        "##Problem #5:\n",
        "\n",
        "#FizzBuzz:\n",
        "\n",
        "WAP that takes a no.'n' as input and does the following:\n",
        "- If n is a mutliple of 3, print Fizz\n",
        "- If n is a multiple of 5, print Buzz\n",
        "- If n is a multiple of both 3 and 5 print Fizz Buzz"
      ],
      "metadata": {
        "id": "cJcjexy0qd5g"
      }
    },
    {
      "cell_type": "code",
      "source": [
        "num = int(input('enter a no.: '))\n",
        "if num%3 == 0:\n",
        "  print('Fizz')\n",
        "if num%5 == 0:\n",
        "  print('buzz')\n",
        "if num%3 == 0 and num%5== 0:\n",
        "  print('FizzBuzz')"
      ],
      "metadata": {
        "id": "nmmutf2yq8Nh",
        "colab": {
          "base_uri": "https://localhost:8080/"
        },
        "outputId": "9506d599-f51e-4d74-da5c-2d3a2d2a0880"
      },
      "execution_count": 68,
      "outputs": [
        {
          "output_type": "stream",
          "name": "stdout",
          "text": [
            "enter a no.: 15\n",
            "Fizz\n",
            "buzz\n",
            "FizzBuzz\n"
          ]
        }
      ]
    },
    {
      "cell_type": "code",
      "source": [
        "num = int(input('enter a no.: '))\n",
        "if num%3 == 0:\n",
        "  print('Fizz')\n",
        "elif num%5 == 0:\n",
        "  print('buzz')\n",
        "elif num%3 == 0 and num%5== 0:\n",
        "  print('FizzBuzz')"
      ],
      "metadata": {
        "id": "zxzAqKPOq8LB",
        "colab": {
          "base_uri": "https://localhost:8080/"
        },
        "outputId": "fdbba347-2816-473c-f35e-d63c01c2321a"
      },
      "execution_count": 71,
      "outputs": [
        {
          "output_type": "stream",
          "name": "stdout",
          "text": [
            "enter a no.: 15\n",
            "Fizz\n"
          ]
        }
      ]
    },
    {
      "cell_type": "code",
      "source": [
        "num = int(input('enter a no.: '))\n",
        "if num%3 == 0 and num%5== 0:\n",
        "  print('FizzBuzz')\n",
        "elif num%5 == 0:\n",
        "  print('buzz')\n",
        "elif num%3 == 0:\n",
        "  print('Fizz')\n",
        "else:\n",
        "  print('Your input is wrong')"
      ],
      "metadata": {
        "id": "5icHU9Ptq8Ic",
        "colab": {
          "base_uri": "https://localhost:8080/"
        },
        "outputId": "4e4aedff-665d-4db2-f591-4f25c4987ffd"
      },
      "execution_count": 77,
      "outputs": [
        {
          "output_type": "stream",
          "name": "stdout",
          "text": [
            "enter a no.: 19\n",
            "Your input is wrong\n"
          ]
        }
      ]
    },
    {
      "cell_type": "code",
      "source": [
        "#Quiz\n",
        "if 5 > 10:\n",
        "    print(\"fan\")\n",
        "elif 8 != 9:\n",
        "    print(\"glass\")\n",
        "else:\n",
        "    print(\"cream\")"
      ],
      "metadata": {
        "id": "2UuJCs7JrO1E",
        "colab": {
          "base_uri": "https://localhost:8080/"
        },
        "outputId": "723f0085-5ebd-4c33-ff15-2807187220d6"
      },
      "execution_count": 78,
      "outputs": [
        {
          "output_type": "stream",
          "name": "stdout",
          "text": [
            "glass\n"
          ]
        }
      ]
    },
    {
      "cell_type": "code",
      "source": [],
      "metadata": {
        "id": "2J2V1_KgJy9g"
      },
      "execution_count": null,
      "outputs": []
    },
    {
      "cell_type": "markdown",
      "source": [
        "#Assignment problem:\n",
        "\n",
        "Set the values\n",
        "\n",
        "Set the value of variable a, b and c such that the following condition evaluates to true:\n",
        "\n",
        "\n",
        "\n",
        "```\n",
        "a = -1 # change this\n",
        "b = -1 # change this\n",
        "c = -1 # change this\n",
        "\n",
        "# DO NOT CHANGE THIS\n",
        "x = a < b + c\n",
        "\n",
        "print(x) # this should be True\n",
        "```\n",
        "\n"
      ],
      "metadata": {
        "id": "Eb2GLBUNEHkS"
      }
    },
    {
      "cell_type": "code",
      "source": [
        "a = 1 # change this\n",
        "b = 2 # change this\n",
        "c = 3 # change this\n",
        "\n",
        "# DO NOT CHANGE THIS\n",
        "x = a < b + c\n",
        "\n",
        "print(x)"
      ],
      "metadata": {
        "id": "zqJBS_m5EHTY",
        "colab": {
          "base_uri": "https://localhost:8080/"
        },
        "outputId": "fa22478f-1b3f-43d7-cae4-b9fac2d343ef"
      },
      "execution_count": 80,
      "outputs": [
        {
          "output_type": "stream",
          "name": "stdout",
          "text": [
            "True\n"
          ]
        }
      ]
    },
    {
      "cell_type": "markdown",
      "source": [
        "# Doubts:"
      ],
      "metadata": {
        "id": "8j-sQ5smTAlv"
      }
    },
    {
      "cell_type": "code",
      "source": [
        "lang=input(\"enter your language \")\n",
        "if lang.lower()==\"python\" or \"Java\":\n",
        " print(\"Nice Choice\")\n",
        "elif lang.lower()==\"C++\":\n",
        " print(\"Too Old school\")\n",
        "elif lang.lower()==\"javascript\":\n",
        " print(\"Web developer\")\n",
        "else:\n",
        " print(\"I don't know that language\")"
      ],
      "metadata": {
        "colab": {
          "base_uri": "https://localhost:8080/"
        },
        "id": "aNscccP0QGIh",
        "outputId": "ead1d994-8303-41c5-9135-41a88fed9fac"
      },
      "execution_count": 83,
      "outputs": [
        {
          "output_type": "stream",
          "name": "stdout",
          "text": [
            "enter your language c++\n",
            "I don't know that language\n"
          ]
        }
      ]
    },
    {
      "cell_type": "code",
      "source": [
        "input('enter your favourite language:')\n",
        "if lang.lower() == 'python' or lang.lower() == 'javascript':\n",
        " print('Nice choice')\n",
        "elif lang.lower() =='golang':\n",
        " print('you are so cool')\n",
        "elif lang.lower()=='javascript':\n",
        " print(' you are our web developer')\n",
        "elif lang.lower() =='c++':\n",
        " print('Too old school')\n",
        "else:\n",
        " print('I dont know that language')"
      ],
      "metadata": {
        "id": "2mPH1gkVRMCi"
      },
      "execution_count": null,
      "outputs": []
    },
    {
      "cell_type": "code",
      "source": [
        "a=int(input())\n",
        "break_time=input()\n",
        "if a >= 18 and break_time=='no_break' :\n",
        " print('Serve')\n",
        "else:\n",
        " print('Do not serve')"
      ],
      "metadata": {
        "colab": {
          "base_uri": "https://localhost:8080/"
        },
        "id": "1BWmyHY-R_0H",
        "outputId": "bca1d042-22cc-4bdc-e40c-fde9c39f40b7"
      },
      "execution_count": 86,
      "outputs": [
        {
          "output_type": "stream",
          "name": "stdout",
          "text": [
            "18\n",
            "no_break\n",
            "Serve\n"
          ]
        }
      ]
    }
  ]
}