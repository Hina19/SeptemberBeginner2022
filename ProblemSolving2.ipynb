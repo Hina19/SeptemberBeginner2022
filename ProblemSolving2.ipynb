{
  "nbformat": 4,
  "nbformat_minor": 0,
  "metadata": {
    "colab": {
      "provenance": [],
      "authorship_tag": "ABX9TyPm28sfYHps9XhgmAomjuxx",
      "include_colab_link": true
    },
    "kernelspec": {
      "name": "python3",
      "display_name": "Python 3"
    },
    "language_info": {
      "name": "python"
    }
  },
  "cells": [
    {
      "cell_type": "markdown",
      "metadata": {
        "id": "view-in-github",
        "colab_type": "text"
      },
      "source": [
        "<a href=\"https://colab.research.google.com/github/Hina19/SeptemberBeginner2022/blob/main/ProblemSolving2.ipynb\" target=\"_parent\"><img src=\"https://colab.research.google.com/assets/colab-badge.svg\" alt=\"Open In Colab\"/></a>"
      ]
    },
    {
      "cell_type": "markdown",
      "source": [
        "\n",
        "\n",
        "# Problem 1\n",
        "# Right Shift an Array\n",
        "\n",
        "```\n",
        "\n",
        "\n",
        "Write a program that reads an integer array A from input\n",
        " and modifies the array by shifting each element to the right by one position and\n",
        "by shifting the last element to the first position. Return the modified array.\n",
        "Problem Constraints\n",
        "1 <= N <= 10^5\n",
        "1 <= A[i] <= 10^9\n",
        "Input Format\n",
        "The first line of the input is the size of the array N. The second line of the input is N integers of the array separated by space.\n",
        "Output Format\n",
        "Print a single line that is the elements of the modified array separated by space.\n",
        "\n",
        "Example Input\n",
        "5\n",
        "1 2 3 4 5\n",
        "\n",
        "Example Output\n",
        "5 1 2 3 4\n",
        "5\n",
        "\n",
        "```\n",
        "\n"
      ],
      "metadata": {
        "id": "863CXDcuTLSN"
      }
    },
    {
      "cell_type": "code",
      "source": [
        "n = int(input())\n",
        "res = list(map(int,input().split()))\n",
        "last_ele = res.pop()\n",
        "res.insert(0,last_ele)\n",
        "for i in res:\n",
        "  print(i,end=' ')"
      ],
      "metadata": {
        "id": "_oTq0DsEFOir",
        "colab": {
          "base_uri": "https://localhost:8080/"
        },
        "outputId": "c42893b3-ec7f-4d3d-89e0-852da48a3918"
      },
      "execution_count": 37,
      "outputs": [
        {
          "output_type": "stream",
          "name": "stdout",
          "text": [
            "5\n",
            "1 2 3 4 5\n",
            "5 1 2 3 4 "
          ]
        }
      ]
    },
    {
      "cell_type": "code",
      "source": [
        "n = int(input())\n",
        "res = list(map(int,input().split()))\n",
        "a = res[-1:]+res[0:-1]\n",
        "for i in a:\n",
        "  print(i, end=' ')"
      ],
      "metadata": {
        "id": "o-p1LvlPFO6_",
        "colab": {
          "base_uri": "https://localhost:8080/"
        },
        "outputId": "5fd3d019-aee8-48a7-d2ba-373a04f6919a"
      },
      "execution_count": 44,
      "outputs": [
        {
          "output_type": "stream",
          "name": "stdout",
          "text": [
            "5\n",
            "1 2 3 4 5\n",
            "5 1 2 3 4 "
          ]
        }
      ]
    },
    {
      "cell_type": "code",
      "source": [
        "res[-1:]"
      ],
      "metadata": {
        "id": "aTd-LnQLFO4S",
        "colab": {
          "base_uri": "https://localhost:8080/"
        },
        "outputId": "e0723d7a-7eae-4b93-d3db-58aa59e9b86f"
      },
      "execution_count": 39,
      "outputs": [
        {
          "output_type": "execute_result",
          "data": {
            "text/plain": [
              "[5]"
            ]
          },
          "metadata": {},
          "execution_count": 39
        }
      ]
    },
    {
      "cell_type": "code",
      "source": [
        "res[-1]"
      ],
      "metadata": {
        "colab": {
          "base_uri": "https://localhost:8080/"
        },
        "id": "DoOmYP4uR-1e",
        "outputId": "7a89293c-5129-44e6-a47b-8a3e19e2bdf2"
      },
      "execution_count": 40,
      "outputs": [
        {
          "output_type": "execute_result",
          "data": {
            "text/plain": [
              "5"
            ]
          },
          "metadata": {},
          "execution_count": 40
        }
      ]
    },
    {
      "cell_type": "code",
      "source": [
        "res[0:-1]"
      ],
      "metadata": {
        "id": "Ly5ciCbjFOfy",
        "colab": {
          "base_uri": "https://localhost:8080/"
        },
        "outputId": "44c98c59-bda4-4df6-e94b-f30c656d979b"
      },
      "execution_count": 41,
      "outputs": [
        {
          "output_type": "execute_result",
          "data": {
            "text/plain": [
              "[1, 2, 3, 4]"
            ]
          },
          "metadata": {},
          "execution_count": 41
        }
      ]
    },
    {
      "cell_type": "code",
      "source": [
        "[5] + [1,2,3,4]"
      ],
      "metadata": {
        "id": "VHb4acUXFOdB",
        "colab": {
          "base_uri": "https://localhost:8080/"
        },
        "outputId": "d236f6ca-3e37-44f9-d631-4b50db23e7cd"
      },
      "execution_count": 42,
      "outputs": [
        {
          "output_type": "execute_result",
          "data": {
            "text/plain": [
              "[5, 1, 2, 3, 4]"
            ]
          },
          "metadata": {},
          "execution_count": 42
        }
      ]
    },
    {
      "cell_type": "code",
      "source": [
        "n = int(input())\n",
        "res = list(map(int,input().split()))\n",
        "for i in range(len(res)):\n",
        "  print(res[i-1],end=' ')"
      ],
      "metadata": {
        "id": "h_BhWFpKFOaK",
        "colab": {
          "base_uri": "https://localhost:8080/"
        },
        "outputId": "5db9c725-3b68-4b7c-cd7f-d9491b9b393f"
      },
      "execution_count": 45,
      "outputs": [
        {
          "output_type": "stream",
          "name": "stdout",
          "text": [
            "5\n",
            "1 2 3 4 5\n",
            "5 1 2 3 4 "
          ]
        }
      ]
    },
    {
      "cell_type": "code",
      "source": [],
      "metadata": {
        "id": "fn0E5VZ9FOXK"
      },
      "execution_count": null,
      "outputs": []
    },
    {
      "cell_type": "code",
      "source": [],
      "metadata": {
        "id": "oSr9jWjPS-LY"
      },
      "execution_count": null,
      "outputs": []
    },
    {
      "cell_type": "code",
      "source": [],
      "metadata": {
        "id": "uIyPoWuQS-Ih"
      },
      "execution_count": null,
      "outputs": []
    },
    {
      "cell_type": "code",
      "source": [],
      "metadata": {
        "id": "paRofDa5S-Fu"
      },
      "execution_count": null,
      "outputs": []
    },
    {
      "cell_type": "code",
      "source": [],
      "metadata": {
        "id": "LvepzGvMS-C9"
      },
      "execution_count": null,
      "outputs": []
    },
    {
      "cell_type": "markdown",
      "source": [
        "# Problem #2\n",
        "# First and Last Index\n",
        "\n",
        "```\n",
        "\n",
        "Problem Description\n",
        "Given a sorted integer array A, and an integer B. \n",
        "Find the first and last index of B in A. It is guaranteed that B exists in A.\n",
        "\n",
        "Return an array C of size 2, where C[0] is the first index of B in A and C[1] is the last index of B in A.\n",
        "Note - Indexing of A starts from 0.\n",
        "\n",
        "\n",
        "Problem Constraints\n",
        "1 <= |A| <= 10^5 -109 <= A[i] <= 10^9 -109 <= B <= 10^9\n",
        "\n",
        "Input Format\n",
        "The first argument is an array A.\n",
        "The second argument is an integer B.\n",
        "\n",
        "Output Format\n",
        "An integer array C of size 2.\n",
        "Example Input\n",
        "Input 1:\n",
        "A = [-2, -2, 4, 4, 8, 9]\n",
        "B = 4\n",
        "Input 2:\n",
        "A = [1, 9, 9, 9, 10, 21]\n",
        "B = 9\n",
        "Example Output\n",
        "Output 1:\n",
        "C = [2, 3]\n",
        "Output 2:\n",
        "C = [1, 3]\n",
        "Example Explanation\n",
        "Explanation 1:\n",
        "A[2] and A[3] are equal to 4.\n",
        "Explanation 2:\n",
        "A[1], A[2] and A[3] are equal to 9.\n",
        "```\n",
        "\n"
      ],
      "metadata": {
        "id": "aZbdUL-5UA9n"
      }
    },
    {
      "cell_type": "code",
      "source": [
        "def first_and_last_index(A,B):\n",
        "  res = []\n",
        "  for i in range(len(A)):\n",
        "    if A[i]==B:\n",
        "      res.append(i)\n",
        "  return [res[0],res[-1]]    "
      ],
      "metadata": {
        "id": "6fbKCizhFQp7"
      },
      "execution_count": 46,
      "outputs": []
    },
    {
      "cell_type": "code",
      "source": [
        "first_and_last_index([-2,-2,4,4,-2,-2],-2)"
      ],
      "metadata": {
        "id": "wTB6kV2BFQmq",
        "colab": {
          "base_uri": "https://localhost:8080/"
        },
        "outputId": "eacbbac1-e90b-44c1-c839-7368b0da70b2"
      },
      "execution_count": 47,
      "outputs": [
        {
          "output_type": "execute_result",
          "data": {
            "text/plain": [
              "[0, 5]"
            ]
          },
          "metadata": {},
          "execution_count": 47
        }
      ]
    },
    {
      "cell_type": "code",
      "source": [],
      "metadata": {
        "id": "MiQmdF6tFQjr"
      },
      "execution_count": null,
      "outputs": []
    },
    {
      "cell_type": "code",
      "source": [],
      "metadata": {
        "id": "bZjX9RXyFQhU"
      },
      "execution_count": null,
      "outputs": []
    },
    {
      "cell_type": "code",
      "source": [],
      "metadata": {
        "id": "leY2rwjmFQbh"
      },
      "execution_count": null,
      "outputs": []
    },
    {
      "cell_type": "code",
      "source": [],
      "metadata": {
        "id": "G5eVIrAoFQX0"
      },
      "execution_count": null,
      "outputs": []
    },
    {
      "cell_type": "markdown",
      "source": [
        "# Problem #3\n",
        "# Inverse of the Array\n",
        "\n",
        "\n",
        "\n",
        "```\n",
        "\n",
        "Given an integer array A, find the inverse of the array A and return it.\n",
        "\n",
        "All the elements of the given array are distinct and elements of the array lie in the range [0, |A|).\n",
        "\n",
        "\n",
        "Note - The inverse of the array means the array elements are swapped with their corresponding indices.\n",
        "\n",
        "Problem Constraints\n",
        "1 <= |A| <= 10^5\n",
        "0 <= A[i] < |A| (All elements are distinct)\n",
        "Input Format\n",
        "The first and the only argument is an array A.\n",
        "Output Format\n",
        "Return an array which is the inverse of the given array A.\n",
        "\n",
        "\n",
        "Example Input\n",
        "Input 1:\n",
        "A = [2, 0, 1]\n",
        "Input 2:\n",
        "A = [3, 1, 0, 2]\n",
        "Example Output\n",
        "Output 1:\n",
        "[1, 2, 0]\n",
        "Output 2:\n",
        "[2, 1, 3, 0]\n",
        "Example Explanation\n",
        "Explanation 1:\n",
        "Index of 0 is 1, index of 1 is 2 and index of 2 is 0.\n",
        "Explanation 2:\n",
        "Index of 0 is 2, index of 1 is 1, index of 2 is 3 and index of 3 is 0.\n",
        "```\n",
        "\n"
      ],
      "metadata": {
        "id": "hGaMyJxFUs8T"
      }
    },
    {
      "cell_type": "code",
      "source": [
        "def inverse(A):\n",
        "  n = len(A)\n",
        "  res =[0]*n\n",
        "  for i in range(n):\n",
        "    res[A[i]]=i\n",
        "  return res\n",
        "    "
      ],
      "metadata": {
        "id": "27ozhG9gFSQo"
      },
      "execution_count": 48,
      "outputs": []
    },
    {
      "cell_type": "code",
      "source": [
        "inverse([3,1,0,2])"
      ],
      "metadata": {
        "id": "bL2UN_RAFSMt",
        "colab": {
          "base_uri": "https://localhost:8080/"
        },
        "outputId": "b195ca71-ae8c-43e4-debc-e2f000eb1b69"
      },
      "execution_count": 49,
      "outputs": [
        {
          "output_type": "execute_result",
          "data": {
            "text/plain": [
              "[2, 1, 3, 0]"
            ]
          },
          "metadata": {},
          "execution_count": 49
        }
      ]
    },
    {
      "cell_type": "code",
      "source": [],
      "metadata": {
        "id": "FVMe5h_2FSJl"
      },
      "execution_count": null,
      "outputs": []
    },
    {
      "cell_type": "code",
      "source": [],
      "metadata": {
        "id": "2h5VFz9xFSG0"
      },
      "execution_count": null,
      "outputs": []
    },
    {
      "cell_type": "code",
      "source": [],
      "metadata": {
        "id": "pyD-kJ24FSDz"
      },
      "execution_count": null,
      "outputs": []
    },
    {
      "cell_type": "code",
      "source": [],
      "metadata": {
        "id": "3Tv851HYFSA7"
      },
      "execution_count": null,
      "outputs": []
    },
    {
      "cell_type": "markdown",
      "source": [
        "# PROBLEM 4\n",
        "# Shopping list items\n",
        "\n",
        "```\n",
        "\n",
        "Problem Description:\n",
        "\n",
        "Write a program that will keep track of items for a shopping list. \n",
        "\n",
        "The program should keep asking for new items as input until “end” is entered, print the full shopping list at the end.\n",
        "\n",
        "Input Format:\n",
        "\n",
        "Input is taken from the user for different elements until end is input.\n",
        "Output Format:\n",
        "\n",
        "The list of all elements of the shopping list\n",
        "Sample Input:\n",
        "\n",
        "Fruits\n",
        "Notebooks\n",
        "Perfume\n",
        "Shoes\n",
        "end\n",
        "Sample Output:\n",
        "\n",
        "['Fruits', 'Notebooks', 'Perfume', 'Shoes']\n",
        "```\n",
        "\n"
      ],
      "metadata": {
        "id": "VCDd-imge37B"
      }
    },
    {
      "cell_type": "code",
      "source": [
        "shoplist = []\n",
        "while True:\n",
        "  item = input()\n",
        "  if item == 'end':\n",
        "    break\n",
        "  else:\n",
        "    shoplist.append(item)\n",
        "print(shoplist)      "
      ],
      "metadata": {
        "id": "hzt9tjUpFUfv",
        "colab": {
          "base_uri": "https://localhost:8080/"
        },
        "outputId": "7733255b-9f61-484d-d112-631ec7c6c359"
      },
      "execution_count": 50,
      "outputs": [
        {
          "output_type": "stream",
          "name": "stdout",
          "text": [
            "a\n",
            "b\n",
            "\n",
            "c\n",
            "d\n",
            "end\n",
            "['a', 'b', '', 'c', 'd']\n"
          ]
        }
      ]
    },
    {
      "cell_type": "code",
      "source": [],
      "metadata": {
        "id": "oBUbSPwYFUc2"
      },
      "execution_count": null,
      "outputs": []
    },
    {
      "cell_type": "code",
      "source": [],
      "metadata": {
        "id": "4Mneeg3CFUZ3"
      },
      "execution_count": null,
      "outputs": []
    },
    {
      "cell_type": "code",
      "source": [],
      "metadata": {
        "id": "VckA_yQfFUXF"
      },
      "execution_count": null,
      "outputs": []
    },
    {
      "cell_type": "code",
      "source": [],
      "metadata": {
        "id": "4uXls0rXFUUN"
      },
      "execution_count": null,
      "outputs": []
    },
    {
      "cell_type": "code",
      "source": [],
      "metadata": {
        "id": "IWkZfkYBFURG"
      },
      "execution_count": null,
      "outputs": []
    },
    {
      "cell_type": "markdown",
      "source": [
        "# Problem 5:\n",
        "\n",
        "\n",
        "Check whether given matrix is Identity matrix or not?"
      ],
      "metadata": {
        "id": "4zxVdq4tVhRZ"
      }
    },
    {
      "cell_type": "code",
      "source": [
        "def identity_matrix(mat):\n",
        "  R = len(mat)\n",
        "  C = len(mat[0])\n",
        "  for i in range(R):\n",
        "    for j in range(C):\n",
        "      if R!=C:\n",
        "        return False\n",
        "      if i==j and mat[i][j]!=1:\n",
        "        return False\n",
        "      if i!=j and mat[i][j] !=0:\n",
        "        return False\n",
        "  return True       "
      ],
      "metadata": {
        "id": "cfmfQWFwFWiN"
      },
      "execution_count": 53,
      "outputs": []
    },
    {
      "cell_type": "code",
      "source": [
        "identity_matrix([[1,0,0],[0,1,0],[0,0,1]])"
      ],
      "metadata": {
        "id": "Qfu481j0FWfW",
        "colab": {
          "base_uri": "https://localhost:8080/"
        },
        "outputId": "aee8a85d-d06e-492b-b3e7-2245f3ee2587"
      },
      "execution_count": 54,
      "outputs": [
        {
          "output_type": "execute_result",
          "data": {
            "text/plain": [
              "True"
            ]
          },
          "metadata": {},
          "execution_count": 54
        }
      ]
    },
    {
      "cell_type": "code",
      "source": [],
      "metadata": {
        "id": "VmcJHdX3FWcl"
      },
      "execution_count": null,
      "outputs": []
    },
    {
      "cell_type": "code",
      "source": [],
      "metadata": {
        "id": "cndo_bPtFWaF"
      },
      "execution_count": null,
      "outputs": []
    },
    {
      "cell_type": "code",
      "source": [],
      "metadata": {
        "id": "tsqwbNLbFWXU"
      },
      "execution_count": null,
      "outputs": []
    },
    {
      "cell_type": "code",
      "source": [],
      "metadata": {
        "id": "_S1W6EvbFWUl"
      },
      "execution_count": null,
      "outputs": []
    },
    {
      "cell_type": "code",
      "source": [],
      "metadata": {
        "id": "Zl3H3KJhFWR9"
      },
      "execution_count": null,
      "outputs": []
    },
    {
      "cell_type": "markdown",
      "source": [
        "# Problem 6\n",
        "# Rounded Division:\n",
        "\n",
        "\n",
        "```\n",
        "Rounded Division\n",
        "Problem Description\n",
        "\n",
        "Given an integer A, find the rounded value of real number A / 200.\n",
        "\n",
        "Rounded value of a real number X is the integer which is nearest to X, with halfway cases rounded away from zero.\n",
        "\n",
        "Some examples:\n",
        "\n",
        "Rounded value of 2.4 = 2\n",
        "Rounded value of 2.5 = 3\n",
        "Rounded value of 2.6 = 3\n",
        "Rounded value of 0.0 = 0\n",
        "Rounded value of -2.4 = -2\n",
        "Rounded value of -2.5 = -3\n",
        "Rounded value of -2.6 = -3\n",
        "\n",
        "Problem Constraints\n",
        "-108 <= A <= 108\n",
        "\n",
        "\n",
        "\n",
        "Input Format\n",
        "First and only argument is an integer A.\n",
        "\n",
        "\n",
        "\n",
        "Output Format\n",
        "Return an integer denoting the rounded value of real number A / 200.\n",
        "\n",
        "\n",
        "\n",
        "Example Input\n",
        "Input 1:\n",
        "\n",
        " A = 2113 \n",
        "Input 2:\n",
        "\n",
        " A = -2113 \n",
        "Input 3:\n",
        "\n",
        " A = 7 \n",
        "Input 4:\n",
        "\n",
        " A = -400 \n",
        "\n",
        "\n",
        "Example Output\n",
        "Output 1:\n",
        "\n",
        " 11 \n",
        "Output 2:\n",
        "\n",
        " -11 \n",
        "Output 3:\n",
        "\n",
        " 0 \n",
        "Output 4:\n",
        "\n",
        " -2 \n",
        "\n",
        "\n",
        "Example Explanation\n",
        "Explanation 1:\n",
        "\n",
        " A / 200 = 2113 / 200 = 10.565\n",
        " Rounded value of 10.565 is 11.\n",
        "Explanation 2:\n",
        "\n",
        " A / 200 = -2113 / 200 = -10.565\n",
        " Rounded value of -10.565 is -11.\n",
        "Explanation 3:\n",
        "\n",
        " A / 200 = 7 / 200 = 0.035\n",
        " Rounded value of 0.035 is 0.\n",
        "Explanation 4:\n",
        "\n",
        " A / 200 = -400 / 200 = -2.00\n",
        " Rounded value of -2.00 is -2. \n",
        "\n",
        "```\n",
        "\n"
      ],
      "metadata": {
        "id": "5q0zK8R23H8o"
      }
    },
    {
      "cell_type": "code",
      "source": [
        "import math\n",
        "def solve(A):\n",
        "  A /= 200\n",
        "  if A>=0:\n",
        "    A+=0.5\n",
        "  else:\n",
        "    A-=0.5\n",
        "  k = 0\n",
        "  if A>=0:\n",
        "    k = math.floor(A)\n",
        "  else:\n",
        "    k = math.ceil(A)\n",
        "  return k        "
      ],
      "metadata": {
        "id": "ihV9Yx3NFYiF"
      },
      "execution_count": 55,
      "outputs": []
    },
    {
      "cell_type": "code",
      "source": [
        "solve(2113)"
      ],
      "metadata": {
        "id": "sbRjuZUeFYfE",
        "colab": {
          "base_uri": "https://localhost:8080/"
        },
        "outputId": "0fab3bfa-99b4-4ef8-97cd-9f2f78152254"
      },
      "execution_count": 57,
      "outputs": [
        {
          "output_type": "execute_result",
          "data": {
            "text/plain": [
              "11"
            ]
          },
          "metadata": {},
          "execution_count": 57
        }
      ]
    },
    {
      "cell_type": "code",
      "source": [],
      "metadata": {
        "id": "AYHASNpNFYcd"
      },
      "execution_count": null,
      "outputs": []
    },
    {
      "cell_type": "code",
      "source": [],
      "metadata": {
        "id": "LmPclUZRFYZm"
      },
      "execution_count": null,
      "outputs": []
    },
    {
      "cell_type": "code",
      "source": [],
      "metadata": {
        "id": "hoHiyHd_FYWr"
      },
      "execution_count": null,
      "outputs": []
    },
    {
      "cell_type": "code",
      "source": [],
      "metadata": {
        "id": "9VTNafGxFYTr"
      },
      "execution_count": null,
      "outputs": []
    },
    {
      "cell_type": "code",
      "source": [],
      "metadata": {
        "id": "IhwHmquTFYQt"
      },
      "execution_count": null,
      "outputs": []
    },
    {
      "cell_type": "markdown",
      "source": [
        "# Problem 7\n",
        "## Perfect Number\n",
        "\n",
        "```\n",
        "\n",
        "Problem Description:\n",
        "\n",
        "Write a function to check whether a given number n as an input to the function is a perfect number or not. \n",
        "If the given integer is a perfect number return 1 else return 0.\n",
        "\n",
        "Note: In number theory, a perfect number is a positive integer that is equal to the sum of its proper positive divisors,\n",
        " that is, the sum of its positive divisors excluding the number itself (also known as its aliquot sum). \n",
        " Equivalently, a perfect number is a number that is half the sum of all of its positive divisors (including itself).\n",
        "\n",
        "Input Format:\n",
        "\n",
        "The only argument to the function is an integer n.\n",
        "Output Format:\n",
        "\n",
        "Print out 1 if the number is perfect else 0 in integer format.\n",
        "Sample Input:\n",
        "\n",
        "6\n",
        "Sample Output:\n",
        "\n",
        "1\n",
        "Sample Explanation:\n",
        "\n",
        "Given number is 6. 1, 2, and 3 are its proper positive divisors, and 1 + 2 + 3 = 6. \n",
        "Equivalently, the number 6 is equal to half the sum of all its positive divisors\n",
        "```\n",
        "\n"
      ],
      "metadata": {
        "id": "h6z2tUKN01cl"
      }
    },
    {
      "cell_type": "code",
      "source": [
        "def perfect_number(n):\n",
        "    sum = 0\n",
        "    for x in range(1, n):\n",
        "        if n % x == 0:\n",
        "            sum += x\n",
        "    if sum == n: \n",
        "       return 1\n",
        "    else: \n",
        "       return 0"
      ],
      "metadata": {
        "id": "ykyxfnqDFaD2"
      },
      "execution_count": 58,
      "outputs": []
    },
    {
      "cell_type": "code",
      "source": [
        "perfect_number(6)"
      ],
      "metadata": {
        "id": "z8m0NP3TFaBP",
        "colab": {
          "base_uri": "https://localhost:8080/"
        },
        "outputId": "da656497-f279-418b-fc4e-709cfe94ba30"
      },
      "execution_count": 59,
      "outputs": [
        {
          "output_type": "execute_result",
          "data": {
            "text/plain": [
              "1"
            ]
          },
          "metadata": {},
          "execution_count": 59
        }
      ]
    },
    {
      "cell_type": "code",
      "source": [],
      "metadata": {
        "id": "hH5c4kCNFZ-d"
      },
      "execution_count": null,
      "outputs": []
    },
    {
      "cell_type": "code",
      "source": [],
      "metadata": {
        "id": "2Rd5v041FZ7l"
      },
      "execution_count": null,
      "outputs": []
    },
    {
      "cell_type": "code",
      "source": [],
      "metadata": {
        "id": "ngfIrDQuFZ4t"
      },
      "execution_count": null,
      "outputs": []
    },
    {
      "cell_type": "code",
      "source": [],
      "metadata": {
        "id": "AFSBBHrtFZ1-"
      },
      "execution_count": null,
      "outputs": []
    },
    {
      "cell_type": "markdown",
      "source": [
        "# Problem 8\n",
        "# Simple Interest\n",
        "```\n",
        "\n",
        "Problem Description:\n",
        "\n",
        "Write a program to calculate the total amount if the principal amount, simple interest rate per annum, \n",
        "and time in the number of days are given. \n",
        "The simple interest rate per annum is provided as a percentage.\n",
        " Assuming that there are 365 days in a year, print the total amount rounded up to 2 decimal places.\n",
        "\n",
        "Note 1: Use round(ans,2) to round up ans up to two decimals\n",
        "\n",
        "Note 2: You need not take input in this problem, you need only to implement the function provided.\n",
        "\n",
        "Input Format:\n",
        "\n",
        "For each testcase there will be three lines of input as follows:  \n",
        "The 3 lines have numbers  \n",
        "The first line describes the time in number of days in int format \n",
        "The second line describes the principal amount in float format\n",
        "The third line describes the interest rate per annum \n",
        "in percentage in float format\n",
        "Output Format:\n",
        "\n",
        "Total amount in float format\n",
        "Sample Input:\n",
        "\n",
        "1  \n",
        "789\n",
        "10000.0\n",
        "1.3\n",
        "Sample Output:\n",
        "\n",
        "10281.01\n",
        "```\n",
        "\n"
      ],
      "metadata": {
        "id": "dOihAFSN2niG"
      }
    },
    {
      "cell_type": "code",
      "source": [],
      "metadata": {
        "id": "i_SPcIE6Fb6s"
      },
      "execution_count": null,
      "outputs": []
    },
    {
      "cell_type": "code",
      "source": [],
      "metadata": {
        "id": "3sATBHDOFb3j"
      },
      "execution_count": null,
      "outputs": []
    },
    {
      "cell_type": "code",
      "source": [],
      "metadata": {
        "id": "xbKmGdRpFb0q"
      },
      "execution_count": null,
      "outputs": []
    },
    {
      "cell_type": "code",
      "source": [],
      "metadata": {
        "id": "kCuWeRzLFbyK"
      },
      "execution_count": null,
      "outputs": []
    },
    {
      "cell_type": "code",
      "source": [],
      "metadata": {
        "id": "nunyk2rsFbu6"
      },
      "execution_count": null,
      "outputs": []
    },
    {
      "cell_type": "code",
      "source": [],
      "metadata": {
        "id": "xBxnhe3LFbsN"
      },
      "execution_count": null,
      "outputs": []
    },
    {
      "cell_type": "code",
      "source": [],
      "metadata": {
        "id": "YHASaksDl1HO"
      },
      "execution_count": null,
      "outputs": []
    },
    {
      "cell_type": "markdown",
      "source": [
        "# Star pattern\n",
        "```\n",
        "\n",
        "Problem Description:\n",
        "\n",
        "Write a function to print a pattern similar to the one shown in the sample using n which is given to you as an argument to a function. \n",
        "Here n defines the number of rows.\n",
        "\n",
        "Note: There isn't any space between stars in the first row.\n",
        "\n",
        "Input Format:\n",
        "\n",
        "The only argument to the function in an integer n.\n",
        "Output Format:\n",
        "\n",
        "Print Star Pattern in string format for each testcase.\n",
        "Sample Input:\n",
        "\n",
        "8\n",
        "Sample Output:\n",
        "\n",
        "********\n",
        "*     *\n",
        "*    *\n",
        "*   *\n",
        "*  *\n",
        "* *\n",
        "**\n",
        "*\n",
        "Sample Explanation:\n",
        "\n",
        "In the first row, (n=8) stars are printed. \n",
        "In the second row, 2 stars are printed with 5 spaces between them. \n",
        "This number of spaces keeps decreasing by 1 after the second row until the last row\n",
        " where the number of spaces becomes zero and only one star is printed\n",
        "```"
      ],
      "metadata": {
        "id": "Tqk58qPYnw27"
      }
    },
    {
      "cell_type": "code",
      "source": [
        "def star(n):\n",
        "   for i in range(1,n+1):\n",
        "     for j in range(i,n+1):\n",
        "       if i==j or j==n or i==1:\n",
        "         print('*',end='')\n",
        "       else:\n",
        "         print(\" \",end='')\n",
        "     print()  \n",
        "        "
      ],
      "metadata": {
        "id": "RgSx1h0ynzzj"
      },
      "execution_count": 66,
      "outputs": []
    },
    {
      "cell_type": "code",
      "source": [
        "star(8)"
      ],
      "metadata": {
        "colab": {
          "base_uri": "https://localhost:8080/"
        },
        "id": "Y92NyWRSonRG",
        "outputId": "df946b0a-1d9e-46f2-c6e8-3929ad85670c"
      },
      "execution_count": 68,
      "outputs": [
        {
          "output_type": "stream",
          "name": "stdout",
          "text": [
            "********\n",
            "*     *\n",
            "*    *\n",
            "*   *\n",
            "*  *\n",
            "* *\n",
            "**\n",
            "*\n"
          ]
        }
      ]
    }
  ]
}