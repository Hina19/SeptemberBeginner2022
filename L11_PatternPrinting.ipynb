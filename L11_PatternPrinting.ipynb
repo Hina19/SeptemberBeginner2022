{
  "nbformat": 4,
  "nbformat_minor": 0,
  "metadata": {
    "colab": {
      "provenance": [],
      "authorship_tag": "ABX9TyMi8ZfjuTYVlEY+CBT68zDo",
      "include_colab_link": true
    },
    "kernelspec": {
      "name": "python3",
      "display_name": "Python 3"
    },
    "language_info": {
      "name": "python"
    }
  },
  "cells": [
    {
      "cell_type": "markdown",
      "metadata": {
        "id": "view-in-github",
        "colab_type": "text"
      },
      "source": [
        "<a href=\"https://colab.research.google.com/github/Hina19/SeptemberBeginner2022/blob/main/L11_PatternPrinting.ipynb\" target=\"_parent\"><img src=\"https://colab.research.google.com/assets/colab-badge.svg\" alt=\"Open In Colab\"/></a>"
      ]
    },
    {
      "cell_type": "markdown",
      "source": [
        "<img src='https://i.ytimg.com/vi/9bdYzlK9eOM/maxresdefault.jpg' height=300 width=400>\n",
        "\n",
        "<img src='https://1.bp.blogspot.com/-tRsmBTTZ0JA/X3W5WHhwRaI/AAAAAAAAAqQ/aI5xuN_2i7IZ8KgQjfEOne4_dgwpiijSACNcBGAsYHQ/s0/Inverted_star_triangle_pattern.jpg'>"
      ],
      "metadata": {
        "id": "H89-SYr-DKhe"
      }
    },
    {
      "cell_type": "markdown",
      "source": [
        "#problem 1"
      ],
      "metadata": {
        "id": "cjdVE9GJOZUg"
      }
    },
    {
      "cell_type": "code",
      "source": [
        "for i in range(1,6):\n",
        "  for j in range(1,i+1):\n",
        "    print('*',end='')\n",
        "  print() "
      ],
      "metadata": {
        "id": "fOEW6JL1qjQf",
        "colab": {
          "base_uri": "https://localhost:8080/"
        },
        "outputId": "3617e601-28ef-44dc-d889-7bd7c0cd4eb4"
      },
      "execution_count": null,
      "outputs": [
        {
          "output_type": "stream",
          "name": "stdout",
          "text": [
            "*\n",
            "**\n",
            "***\n",
            "****\n",
            "*****\n"
          ]
        }
      ]
    },
    {
      "cell_type": "code",
      "source": [
        "for i in range(1,6):\n",
        "  for j in range(i):\n",
        "    print('*',end='')\n",
        "  print() "
      ],
      "metadata": {
        "colab": {
          "base_uri": "https://localhost:8080/"
        },
        "id": "_vjh6L_fjNos",
        "outputId": "2d05cbd9-9234-474b-e97a-3f2151f89fbf"
      },
      "execution_count": 39,
      "outputs": [
        {
          "output_type": "stream",
          "name": "stdout",
          "text": [
            "*\n",
            "**\n",
            "***\n",
            "****\n",
            "*****\n"
          ]
        }
      ]
    },
    {
      "cell_type": "code",
      "source": [
        "n = int(input())\n",
        "for i in range(1,n+1):\n",
        "  for j in range(1,i+1):\n",
        "    print('*',end='')\n",
        "  print() "
      ],
      "metadata": {
        "id": "41vERRFjqjNn",
        "colab": {
          "base_uri": "https://localhost:8080/"
        },
        "outputId": "a59553e8-f7a8-4582-cd70-ca226839dbb7"
      },
      "execution_count": null,
      "outputs": [
        {
          "output_type": "stream",
          "name": "stdout",
          "text": [
            "3\n",
            "*\n",
            "**\n",
            "***\n"
          ]
        }
      ]
    },
    {
      "cell_type": "code",
      "source": [
        "n = int(input())\n",
        "for i in range(1,n+1):\n",
        "  for j in range(i):\n",
        "    print('*',end='')\n",
        "  print()"
      ],
      "metadata": {
        "id": "uddfkK6eqjK3",
        "colab": {
          "base_uri": "https://localhost:8080/"
        },
        "outputId": "902853d8-0736-4937-e108-15fed999d67e"
      },
      "execution_count": null,
      "outputs": [
        {
          "output_type": "stream",
          "name": "stdout",
          "text": [
            "3\n",
            "*\n",
            "**\n",
            "***\n"
          ]
        }
      ]
    },
    {
      "cell_type": "code",
      "source": [
        "# Which code will work?\n",
        "# For N as input.\n",
        "# A.\n",
        "for i in range(1, N + 1):\n",
        "    for j in range(i):\n",
        "        print('*', end='')\n",
        "    print()\n",
        "# B.\n",
        "for i in range(1, N):\n",
        "    for j in range(i):\n",
        "        print('*', end='')\n",
        "    print()"
      ],
      "metadata": {
        "id": "J3NPvu-UqjIW"
      },
      "execution_count": null,
      "outputs": []
    },
    {
      "cell_type": "markdown",
      "source": [
        "# problem 2"
      ],
      "metadata": {
        "id": "mPdMTWKxSP9A"
      }
    },
    {
      "cell_type": "code",
      "source": [
        "n= int(input())\n",
        "for i in range(1,n+1):\n",
        "  for j in range(1,i+1):\n",
        "    if j%2==1:\n",
        "      print('*',end='')\n",
        "    else:\n",
        "      print(j,end='')\n",
        "  print()      "
      ],
      "metadata": {
        "id": "UJpVN6gFqjFt",
        "colab": {
          "base_uri": "https://localhost:8080/"
        },
        "outputId": "02f427e4-9fce-497c-f18d-73d1cfd41ccb"
      },
      "execution_count": null,
      "outputs": [
        {
          "output_type": "stream",
          "name": "stdout",
          "text": [
            "5\n",
            "*\n",
            "*2\n",
            "*2*\n",
            "*2*4\n",
            "*2*4*\n"
          ]
        }
      ]
    },
    {
      "cell_type": "code",
      "source": [
        "#quiz\n",
        "N = int(input())\n",
        "for i in range(1, N + 1):\n",
        "    for j in range(1, i + 1):\n",
        "        if j % 2 == 0:\n",
        "            print('*', end='')\n",
        "        else:\n",
        "            print(j, end='')\n",
        "    print()"
      ],
      "metadata": {
        "id": "nm5M8RVHqjDE",
        "colab": {
          "base_uri": "https://localhost:8080/"
        },
        "outputId": "cda880c0-01f8-47b7-c581-8739af204fd0"
      },
      "execution_count": null,
      "outputs": [
        {
          "output_type": "stream",
          "name": "stdout",
          "text": [
            "5\n",
            "1\n",
            "1*\n",
            "1*3\n",
            "1*3*\n",
            "1*3*5\n"
          ]
        }
      ]
    },
    {
      "cell_type": "markdown",
      "source": [
        "# problem 3"
      ],
      "metadata": {
        "id": "wwOy3bsRYB0m"
      }
    },
    {
      "cell_type": "code",
      "source": [
        "n = int(input())\n",
        "for i in range(1,n+1):\n",
        "  for j in range(n-i+1):\n",
        "    print('*',end='')\n",
        "  print()  "
      ],
      "metadata": {
        "id": "z0gAUapsqjAc",
        "colab": {
          "base_uri": "https://localhost:8080/"
        },
        "outputId": "de6d82f8-a432-41c2-fee2-78e086a9cfd2"
      },
      "execution_count": 32,
      "outputs": [
        {
          "output_type": "stream",
          "name": "stdout",
          "text": [
            "5\n",
            "*****\n",
            "****\n",
            "***\n",
            "**\n",
            "*\n"
          ]
        }
      ]
    },
    {
      "cell_type": "markdown",
      "source": [
        "#problem 4"
      ],
      "metadata": {
        "id": "uRH5KfXZaozA"
      }
    },
    {
      "cell_type": "code",
      "source": [
        "n = int(input())\n",
        "for i in range(1,n+1):\n",
        "  for j in range(1,5):\n",
        "    if j==1 or j==4:\n",
        "      print('*',end='')\n",
        "    else:\n",
        "      print(end= '  ') \n",
        "  print()     "
      ],
      "metadata": {
        "id": "ly32f2xUqi9t",
        "colab": {
          "base_uri": "https://localhost:8080/"
        },
        "outputId": "a7ee2dba-da8a-44c1-f7ca-24b6a3b8c9c3"
      },
      "execution_count": 33,
      "outputs": [
        {
          "output_type": "stream",
          "name": "stdout",
          "text": [
            "5\n",
            "*    *\n",
            "*    *\n",
            "*    *\n",
            "*    *\n",
            "*    *\n"
          ]
        }
      ]
    },
    {
      "cell_type": "markdown",
      "source": [
        "# problem#5"
      ],
      "metadata": {
        "id": "RkXEBFz7dh0K"
      }
    },
    {
      "cell_type": "code",
      "source": [
        "n = int(input())\n",
        "for i in range(1,n+1):\n",
        "  for j in range(1,n+2):\n",
        "    if j==1 or j==n+1:\n",
        "      print('*',end='')\n",
        "    else:\n",
        "      print(end=' ')\n",
        "  print()      "
      ],
      "metadata": {
        "colab": {
          "base_uri": "https://localhost:8080/"
        },
        "id": "sroOtyJCdkoD",
        "outputId": "245b11bb-bad5-4264-fcc4-b6d61ffd98e3"
      },
      "execution_count": 36,
      "outputs": [
        {
          "output_type": "stream",
          "name": "stdout",
          "text": [
            "5\n",
            "*    *\n",
            "*    *\n",
            "*    *\n",
            "*    *\n",
            "*    *\n"
          ]
        }
      ]
    },
    {
      "cell_type": "markdown",
      "source": [
        "# problem6"
      ],
      "metadata": {
        "id": "JGNgO69ce1NM"
      }
    },
    {
      "cell_type": "code",
      "source": [
        "for i in range(1,6):\n",
        "  for j in range(1,i+1):\n",
        "    print(j,end='')\n",
        "  print() "
      ],
      "metadata": {
        "colab": {
          "base_uri": "https://localhost:8080/"
        },
        "id": "oglzrhHdfNnq",
        "outputId": "30ad3011-f081-45a3-ecc0-b95313b8138a"
      },
      "execution_count": 37,
      "outputs": [
        {
          "output_type": "stream",
          "name": "stdout",
          "text": [
            "1\n",
            "12\n",
            "123\n",
            "1234\n",
            "12345\n"
          ]
        }
      ]
    }
  ]
}