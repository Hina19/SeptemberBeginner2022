{
  "nbformat": 4,
  "nbformat_minor": 0,
  "metadata": {
    "colab": {
      "provenance": [],
      "authorship_tag": "ABX9TyOO2Gz3WpLTaEoJ/nkjqV21",
      "include_colab_link": true
    },
    "kernelspec": {
      "name": "python3",
      "display_name": "Python 3"
    },
    "language_info": {
      "name": "python"
    }
  },
  "cells": [
    {
      "cell_type": "markdown",
      "metadata": {
        "id": "view-in-github",
        "colab_type": "text"
      },
      "source": [
        "<a href=\"https://colab.research.google.com/github/Hina19/SeptemberBeginner2022/blob/main/PatternPrinting_ProblemSolving.ipynb\" target=\"_parent\"><img src=\"https://colab.research.google.com/assets/colab-badge.svg\" alt=\"Open In Colab\"/></a>"
      ]
    },
    {
      "cell_type": "markdown",
      "source": [
        "## Pattern Printing:\n",
        "\n",
        "<img src='https://www.techarge.in/wp-content/uploads/2021/02/55984_1580817324.png' width=500>"
      ],
      "metadata": {
        "id": "MB6lIPao_qvx"
      }
    },
    {
      "cell_type": "code",
      "source": [
        "n = int(input())\n",
        "for i in range(1,n+1):\n",
        "  #spaces\n",
        "  for j in range(n-i):\n",
        "    print(\" \",end='')\n",
        "  #stars  \n",
        "  for j in range(i):  \n",
        "    print(\"*\",end='')\n",
        "  print()  "
      ],
      "metadata": {
        "id": "RN0UCMUO-o0Q",
        "colab": {
          "base_uri": "https://localhost:8080/"
        },
        "outputId": "6137c0fe-4fa2-43ee-e714-f12c366d0c6d"
      },
      "execution_count": 22,
      "outputs": [
        {
          "output_type": "stream",
          "name": "stdout",
          "text": [
            "5\n",
            "    *\n",
            "   **\n",
            "  ***\n",
            " ****\n",
            "*****\n"
          ]
        }
      ]
    },
    {
      "cell_type": "code",
      "source": [
        "n= int(input())\n",
        "for i in range(1,n+1):\n",
        "  for j in range(i-1):\n",
        "    print(\" \",end='')\n",
        "  for k in range(n-i+1):\n",
        "    print(\"*\",end=\"\")\n",
        "  print()   "
      ],
      "metadata": {
        "id": "E8ou5nFl-okp",
        "colab": {
          "base_uri": "https://localhost:8080/"
        },
        "outputId": "3d45b6b0-423f-40b9-e52f-a1a509758ad4"
      },
      "execution_count": 23,
      "outputs": [
        {
          "output_type": "stream",
          "name": "stdout",
          "text": [
            "5\n",
            "*****\n",
            " ****\n",
            "  ***\n",
            "   **\n",
            "    *\n"
          ]
        }
      ]
    },
    {
      "cell_type": "code",
      "source": [
        "n = int(input())\n",
        "for i in range(1,n+1):\n",
        "  #part1 - stars\n",
        "  for j in range(n-i+1):\n",
        "    print(\"*\",end='')\n",
        "  #part2 - spaces\n",
        "  for k in range(2*(i-1)):\n",
        "    print(\" \",end='')\n",
        "  #part3 - stars  \n",
        "  for l in range(n-i+1):\n",
        "    print(\"*\",end=\"\")   \n",
        "  print()    "
      ],
      "metadata": {
        "id": "s7dkhXf8-ohf",
        "colab": {
          "base_uri": "https://localhost:8080/"
        },
        "outputId": "255cbe96-23d5-4fbe-c9f8-d9f0c3b4a98e"
      },
      "execution_count": 24,
      "outputs": [
        {
          "output_type": "stream",
          "name": "stdout",
          "text": [
            "5\n",
            "**********\n",
            "****  ****\n",
            "***    ***\n",
            "**      **\n",
            "*        *\n"
          ]
        }
      ]
    },
    {
      "cell_type": "code",
      "source": [
        "n = int(input())\n",
        "for i in range(1,n+1):\n",
        "  #stars\n",
        "  for j in range(i):\n",
        "    print('*',end='')\n",
        "  #spaces\n",
        "  for k in range(2*(n-i)):\n",
        "    print(\" \",end='')\n",
        "  #stars\n",
        "  for l in range(i):\n",
        "    print('*',end='')\n",
        "  print()      "
      ],
      "metadata": {
        "colab": {
          "base_uri": "https://localhost:8080/"
        },
        "id": "WjTVKn2gOGNT",
        "outputId": "ae1e9b92-0ca9-4759-ac4d-eab2587e879b"
      },
      "execution_count": 25,
      "outputs": [
        {
          "output_type": "stream",
          "name": "stdout",
          "text": [
            "5\n",
            "*        *\n",
            "**      **\n",
            "***    ***\n",
            "****  ****\n",
            "**********\n"
          ]
        }
      ]
    },
    {
      "cell_type": "code",
      "source": [
        "n = int(input())\n",
        "for i in range(1,n+1):\n",
        "  #part1 - stars\n",
        "  for j in range(n-i+1):\n",
        "    print(\"*\",end='')\n",
        "  #part2 - spaces\n",
        "  for k in range(2*(i-1)):\n",
        "    print(\" \",end='')\n",
        "  #part3 - stars  \n",
        "  for l in range(n-i+1):\n",
        "    print(\"*\",end=\"\")   \n",
        "  print() \n",
        "for i in range(2,n+1):\n",
        "  #stars\n",
        "  for j in range(i):\n",
        "    print('*',end='')\n",
        "  #spaces\n",
        "  for k in range(2*(n-i)):\n",
        "    print(\" \",end='')\n",
        "  #stars\n",
        "  for l in range(i):\n",
        "    print('*',end='')\n",
        "  print()   "
      ],
      "metadata": {
        "colab": {
          "base_uri": "https://localhost:8080/"
        },
        "id": "68V_0zZ1OGKh",
        "outputId": "805c7517-2584-4508-f55e-ba1cde61f900"
      },
      "execution_count": 30,
      "outputs": [
        {
          "output_type": "stream",
          "name": "stdout",
          "text": [
            "5\n",
            "**********\n",
            "****  ****\n",
            "***    ***\n",
            "**      **\n",
            "*        *\n",
            "**      **\n",
            "***    ***\n",
            "****  ****\n",
            "**********\n"
          ]
        }
      ]
    },
    {
      "cell_type": "code",
      "source": [
        "n = int(input())\n",
        "for i in range(1,n+1):\n",
        "  #part1 - stars\n",
        "  for j in range(n-i+1):\n",
        "    print(\" \",end='')\n",
        "  #part2 - spaces\n",
        "  for k in range(2*(i-1)):\n",
        "    print(\"*\",end='')\n",
        "  #part3 - stars  \n",
        "  for l in range(n-i+1):\n",
        "    print(\" \",end=\"\")   \n",
        "  print() \n",
        "for i in range(2,n+1):\n",
        "  #stars\n",
        "  for j in range(i):\n",
        "    print(' ',end='')\n",
        "  #spaces\n",
        "  for k in range(2*(n-i)):\n",
        "    print(\"*\",end='')\n",
        "  #stars\n",
        "  for l in range(i):\n",
        "    print(' ',end='')\n",
        "  print() "
      ],
      "metadata": {
        "colab": {
          "base_uri": "https://localhost:8080/"
        },
        "id": "jQ3PO2BMOGHz",
        "outputId": "3e03b351-9308-4b52-c542-d45463d559e2"
      },
      "execution_count": 31,
      "outputs": [
        {
          "output_type": "stream",
          "name": "stdout",
          "text": [
            "5\n",
            "          \n",
            "    **    \n",
            "   ****   \n",
            "  ******  \n",
            " ******** \n",
            "  ******  \n",
            "   ****   \n",
            "    **    \n",
            "          \n"
          ]
        }
      ]
    },
    {
      "cell_type": "code",
      "source": [
        "n = int(input())\n",
        "for i in range(1,n+1):\n",
        "  for j in range(1,i+1):\n",
        "    print(j,end=\"\")\n",
        "  print()  "
      ],
      "metadata": {
        "id": "b4qlXeDK-oe_",
        "colab": {
          "base_uri": "https://localhost:8080/"
        },
        "outputId": "94ce9f86-60b9-4e8c-e812-bfac98070f34"
      },
      "execution_count": 35,
      "outputs": [
        {
          "output_type": "stream",
          "name": "stdout",
          "text": [
            "5\n",
            "1\n",
            "12\n",
            "123\n",
            "1234\n",
            "12345\n"
          ]
        }
      ]
    },
    {
      "cell_type": "code",
      "source": [
        "n = int(input())\n",
        "for i in range(n,0,-1):\n",
        "  for j in range(1,i+1):\n",
        "    print(j,end=\"\")\n",
        "\n",
        "  print()"
      ],
      "metadata": {
        "id": "SvQZ8NNdvF_J",
        "colab": {
          "base_uri": "https://localhost:8080/"
        },
        "outputId": "52d1a041-6cfe-4211-bec7-eacef4ee8f4d"
      },
      "execution_count": 39,
      "outputs": [
        {
          "output_type": "stream",
          "name": "stdout",
          "text": [
            "5\n",
            "12345\n",
            "1234\n",
            "123\n",
            "12\n",
            "1\n"
          ]
        }
      ]
    },
    {
      "cell_type": "code",
      "source": [
        "n = int(input())\n",
        "for i in range(1,n):\n",
        "  for j in range(1,i+1):\n",
        "    print(j,end=\"\")\n",
        "  print() \n",
        "for i in range(n,0,-1):\n",
        "  for j in range(1,i+1):\n",
        "    print(j,end=\"\")\n",
        "\n",
        "  print()  "
      ],
      "metadata": {
        "id": "6b6zYIVMvF8Y",
        "colab": {
          "base_uri": "https://localhost:8080/"
        },
        "outputId": "3c0a7708-804c-4488-dec8-b8d00b3c657e"
      },
      "execution_count": 42,
      "outputs": [
        {
          "output_type": "stream",
          "name": "stdout",
          "text": [
            "5\n",
            "1\n",
            "12\n",
            "123\n",
            "1234\n",
            "12345\n",
            "1234\n",
            "123\n",
            "12\n",
            "1\n"
          ]
        }
      ]
    },
    {
      "cell_type": "code",
      "source": [
        "n = int(input())\n",
        "for i in range(1,n):\n",
        "  for j in range(1,i+1):\n",
        "    print(\"*\",end=\"\")\n",
        "  print() \n",
        "for i in range(n,0,-1):\n",
        "  for j in range(1,i+1):\n",
        "    print(\"*\",end=\"\")\n",
        "\n",
        "  print()"
      ],
      "metadata": {
        "id": "IGViiQfdvF5m",
        "colab": {
          "base_uri": "https://localhost:8080/"
        },
        "outputId": "709d6c28-30e7-4ec3-a4a3-a49589af57ae"
      },
      "execution_count": 43,
      "outputs": [
        {
          "output_type": "stream",
          "name": "stdout",
          "text": [
            "5\n",
            "*\n",
            "**\n",
            "***\n",
            "****\n",
            "*****\n",
            "****\n",
            "***\n",
            "**\n",
            "*\n"
          ]
        }
      ]
    },
    {
      "cell_type": "code",
      "source": [],
      "metadata": {
        "id": "Cc47MRC7vF22"
      },
      "execution_count": null,
      "outputs": []
    },
    {
      "cell_type": "code",
      "source": [],
      "metadata": {
        "id": "Faa4UPhQvF0W"
      },
      "execution_count": null,
      "outputs": []
    },
    {
      "cell_type": "code",
      "source": [],
      "metadata": {
        "id": "DB4O9f9-vFxn"
      },
      "execution_count": null,
      "outputs": []
    },
    {
      "cell_type": "code",
      "source": [],
      "metadata": {
        "id": "KspCknK_vFvA"
      },
      "execution_count": null,
      "outputs": []
    },
    {
      "cell_type": "markdown",
      "source": [
        "## Full pyramid\n",
        "Problem Description\n",
        "\n",
        "Given an integer N, print the corresponding Full Pyramid pattern for N.\n",
        "\n",
        "For example if N = 5 then pattern will be like:\n",
        "\n",
        "```\n",
        "    * \n",
        "   * * \n",
        "  * * * \n",
        " * * * * \n",
        "* * * * *\n",
        "```\n",
        "\n",
        "\n",
        "NOTE: There should be exactly one extra space after each * for each row."
      ],
      "metadata": {
        "id": "GYn2dUWhMJCf"
      }
    },
    {
      "cell_type": "code",
      "source": [],
      "metadata": {
        "id": "yL3AgJEHuUJo"
      },
      "execution_count": null,
      "outputs": []
    },
    {
      "cell_type": "code",
      "source": [],
      "metadata": {
        "id": "jXX9v2EuuUGJ"
      },
      "execution_count": null,
      "outputs": []
    },
    {
      "cell_type": "code",
      "source": [],
      "metadata": {
        "id": "p2rQ76GvuUC_"
      },
      "execution_count": null,
      "outputs": []
    },
    {
      "cell_type": "code",
      "source": [],
      "metadata": {
        "id": "TOGHmpsPuUAK"
      },
      "execution_count": null,
      "outputs": []
    },
    {
      "cell_type": "code",
      "source": [
        "N = int(input())\n",
        "for i in range(1,N+1):\n",
        "    for j in range(N-i):\n",
        "        print(' ', end = '')\n",
        "\n",
        "    for j in range(i):\n",
        "        print('* ', end = '')\n",
        "    print()"
      ],
      "metadata": {
        "colab": {
          "base_uri": "https://localhost:8080/"
        },
        "id": "WxP0GPOl-ocC",
        "outputId": "cf627b56-cf37-4fa4-b621-0ccad97f1cbb"
      },
      "execution_count": 46,
      "outputs": [
        {
          "output_type": "stream",
          "name": "stdout",
          "text": [
            "5\n",
            "    * \n",
            "   * * \n",
            "  * * * \n",
            " * * * * \n",
            "* * * * * \n"
          ]
        }
      ]
    },
    {
      "cell_type": "code",
      "source": [],
      "metadata": {
        "id": "GzEAFBxXQ6_Z"
      },
      "execution_count": null,
      "outputs": []
    },
    {
      "cell_type": "code",
      "source": [],
      "metadata": {
        "id": "zy4T__DTSGsj"
      },
      "execution_count": null,
      "outputs": []
    },
    {
      "cell_type": "code",
      "source": [],
      "metadata": {
        "id": "rF5cSqXWSGp1"
      },
      "execution_count": null,
      "outputs": []
    },
    {
      "cell_type": "code",
      "source": [],
      "metadata": {
        "id": "ge6Y7qhKSGnO"
      },
      "execution_count": null,
      "outputs": []
    },
    {
      "cell_type": "markdown",
      "source": [
        "# Problem Description\n",
        "\n",
        "Given an integer N, print the corresponding Full Numeric Pyramid pattern for N.\n",
        "\n",
        "For example if N = 5 then pattern will be like:\n",
        "\n",
        "0 0 0 0 1 0 0 0 0 <br>\n",
        "0 0 0 2 3 2 0 0 0 <br>\n",
        "0 0 3 4 5 4 3 0 0 <br>\n",
        "0 4 5 6 7 6 5 4 0 <br>\n",
        "5 6 7 8 9 8 7 6 5 <br>"
      ],
      "metadata": {
        "id": "13xTfu2E-mu7"
      }
    },
    {
      "cell_type": "code",
      "execution_count": 58,
      "metadata": {
        "colab": {
          "base_uri": "https://localhost:8080/"
        },
        "id": "BsXF1ycu-j1s",
        "outputId": "cbf03e69-9acb-43c8-ec59-4c6d16f2eb92"
      },
      "outputs": [
        {
          "output_type": "stream",
          "name": "stdout",
          "text": [
            "3\n",
            "0 0 1 0 0 \n",
            "0 2 3 2 0 \n",
            "3 4 5 4 3 \n"
          ]
        }
      ],
      "source": [
        "n=int(input())\n",
        "for i in range(1,n+1):\n",
        "  #zeros in starting\n",
        "  # zeros=n-i\n",
        "  for j in range(n-i):\n",
        "      print(\"0 \",end=\"\")\n",
        "  #increment \n",
        "  lim=2*i - 1\n",
        "  for j in range(i,lim+1):\n",
        "      print(j,end=\"\")\n",
        "      print(\" \",end=\"\")\n",
        "  #decrement\n",
        "  for j in range(2*(i-1),i-1,-1):\n",
        "      print(j,end=\"\")\n",
        "      print(\" \",end=\"\")\n",
        "  #same number of zeros in end\n",
        "  for j in range(n-i):\n",
        "      print(\"0 \",end=\"\")\n",
        "  print()"
      ]
    },
    {
      "cell_type": "code",
      "source": [],
      "metadata": {
        "id": "nW63YMU0AVET"
      },
      "execution_count": null,
      "outputs": []
    },
    {
      "cell_type": "code",
      "source": [],
      "metadata": {
        "id": "tZxG4KyWAVBi"
      },
      "execution_count": null,
      "outputs": []
    },
    {
      "cell_type": "code",
      "source": [],
      "metadata": {
        "id": "SRxZuiA3AU-0"
      },
      "execution_count": null,
      "outputs": []
    },
    {
      "cell_type": "markdown",
      "source": [
        "## Homework:"
      ],
      "metadata": {
        "id": "zO5IAUsnARiE"
      }
    },
    {
      "cell_type": "markdown",
      "source": [
        "<img src='https://javainterviewpoint.com/wp-content/uploads/2019/03/Star-Pattern-Programs-In-Java-1.png'>"
      ],
      "metadata": {
        "id": "17Km_bnlABnS"
      }
    },
    {
      "cell_type": "markdown",
      "source": [
        "Exercises to follow: \n",
        "\n",
        "https://pynative.com/print-pattern-python-examples/"
      ],
      "metadata": {
        "id": "yQunqdUWux-2"
      }
    },
    {
      "cell_type": "code",
      "source": [],
      "metadata": {
        "id": "mzFxUbCWSIZM"
      },
      "execution_count": null,
      "outputs": []
    },
    {
      "cell_type": "markdown",
      "source": [
        "# Doubts"
      ],
      "metadata": {
        "id": "7fU5yEP_gySs"
      }
    },
    {
      "cell_type": "code",
      "source": [
        "5//2"
      ],
      "metadata": {
        "id": "Fekr_yUPSIWX",
        "colab": {
          "base_uri": "https://localhost:8080/"
        },
        "outputId": "6c3a0462-67c2-406e-a70c-178af9676c50"
      },
      "execution_count": 49,
      "outputs": [
        {
          "output_type": "execute_result",
          "data": {
            "text/plain": [
              "2"
            ]
          },
          "metadata": {},
          "execution_count": 49
        }
      ]
    },
    {
      "cell_type": "code",
      "source": [
        "import math"
      ],
      "metadata": {
        "id": "6nFaK24eg3Ce"
      },
      "execution_count": 50,
      "outputs": []
    },
    {
      "cell_type": "code",
      "source": [
        "math.floor(5/2)"
      ],
      "metadata": {
        "colab": {
          "base_uri": "https://localhost:8080/"
        },
        "id": "uApYL-MEg5Jj",
        "outputId": "abdc3212-649d-421d-dbb6-049acdbd7251"
      },
      "execution_count": 52,
      "outputs": [
        {
          "output_type": "execute_result",
          "data": {
            "text/plain": [
              "2"
            ]
          },
          "metadata": {},
          "execution_count": 52
        }
      ]
    },
    {
      "cell_type": "code",
      "source": [
        "math.ceil(10/3)"
      ],
      "metadata": {
        "colab": {
          "base_uri": "https://localhost:8080/"
        },
        "id": "cfCNswEdhHng",
        "outputId": "edc3a7c4-a469-47e9-df1f-a9928960c182"
      },
      "execution_count": 53,
      "outputs": [
        {
          "output_type": "execute_result",
          "data": {
            "text/plain": [
              "4"
            ]
          },
          "metadata": {},
          "execution_count": 53
        }
      ]
    },
    {
      "cell_type": "code",
      "source": [
        "round(10.333333,3)"
      ],
      "metadata": {
        "colab": {
          "base_uri": "https://localhost:8080/"
        },
        "id": "6aF4S4xHhN54",
        "outputId": "45cf6f19-3b29-4e48-af65-a1830d992594"
      },
      "execution_count": 55,
      "outputs": [
        {
          "output_type": "execute_result",
          "data": {
            "text/plain": [
              "10.333"
            ]
          },
          "metadata": {},
          "execution_count": 55
        }
      ]
    },
    {
      "cell_type": "code",
      "source": [],
      "metadata": {
        "id": "V8b9cLP7hTX4"
      },
      "execution_count": null,
      "outputs": []
    }
  ]
}