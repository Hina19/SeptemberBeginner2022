{
  "nbformat": 4,
  "nbformat_minor": 0,
  "metadata": {
    "colab": {
      "provenance": [],
      "authorship_tag": "ABX9TyN0ev5z9w8lGVTcRVkBbZKw",
      "include_colab_link": true
    },
    "kernelspec": {
      "name": "python3",
      "display_name": "Python 3"
    },
    "language_info": {
      "name": "python"
    }
  },
  "cells": [
    {
      "cell_type": "markdown",
      "metadata": {
        "id": "view-in-github",
        "colab_type": "text"
      },
      "source": [
        "<a href=\"https://colab.research.google.com/github/Hina19/SeptemberBeginner2022/blob/main/List.ipynb\" target=\"_parent\"><img src=\"https://colab.research.google.com/assets/colab-badge.svg\" alt=\"Open In Colab\"/></a>"
      ]
    },
    {
      "cell_type": "markdown",
      "source": [
        "# Lists\n",
        "\n",
        "<img src='https://miro.medium.com/max/888/1*nPHAOq1pIhC-8VVXJq2Pdw.jpeg' width=500>"
      ],
      "metadata": {
        "id": "uMulKT6wQ5FF"
      }
    },
    {
      "cell_type": "code",
      "source": [
        "runs = [55,60,99,100,75]"
      ],
      "metadata": {
        "id": "harZKun_RUp0"
      },
      "execution_count": 1,
      "outputs": []
    },
    {
      "cell_type": "code",
      "source": [
        "print(type(runs))"
      ],
      "metadata": {
        "colab": {
          "base_uri": "https://localhost:8080/"
        },
        "id": "dglznZGJAEsA",
        "outputId": "d9f9af9e-1cb6-43d2-d478-8a5d920dff26"
      },
      "execution_count": 3,
      "outputs": [
        {
          "output_type": "stream",
          "name": "stdout",
          "text": [
            "<class 'list'>\n"
          ]
        }
      ]
    },
    {
      "cell_type": "code",
      "source": [
        "#empty list\n",
        "lst = []\n",
        "print(lst)"
      ],
      "metadata": {
        "colab": {
          "base_uri": "https://localhost:8080/"
        },
        "id": "1Ff-mJyCAEpA",
        "outputId": "ca94ffc7-7dfc-437a-e191-c8f66fd761ef"
      },
      "execution_count": 4,
      "outputs": [
        {
          "output_type": "stream",
          "name": "stdout",
          "text": [
            "[]\n"
          ]
        }
      ]
    },
    {
      "cell_type": "code",
      "source": [
        "a = list()\n",
        "print(a)"
      ],
      "metadata": {
        "colab": {
          "base_uri": "https://localhost:8080/"
        },
        "id": "GE8U8LDAAEmI",
        "outputId": "4af666d3-a896-4939-9833-a7c2bd09fa93"
      },
      "execution_count": 7,
      "outputs": [
        {
          "output_type": "stream",
          "name": "stdout",
          "text": [
            "[]\n"
          ]
        }
      ]
    },
    {
      "cell_type": "code",
      "source": [
        "runs = [55,60,99,100,75]\n",
        "print(runs[0])"
      ],
      "metadata": {
        "colab": {
          "base_uri": "https://localhost:8080/"
        },
        "id": "ZdJhcXhGE7v3",
        "outputId": "4b85de5f-99bc-4771-9a12-0271fd4ca7b0"
      },
      "execution_count": 8,
      "outputs": [
        {
          "output_type": "stream",
          "name": "stdout",
          "text": [
            "55\n"
          ]
        }
      ]
    },
    {
      "cell_type": "code",
      "source": [
        "type(runs[0])"
      ],
      "metadata": {
        "colab": {
          "base_uri": "https://localhost:8080/"
        },
        "id": "jNYFzuFQP6oe",
        "outputId": "afbce3e7-b382-4f14-c5c5-5ec822bf0be6"
      },
      "execution_count": 9,
      "outputs": [
        {
          "output_type": "execute_result",
          "data": {
            "text/plain": [
              "int"
            ]
          },
          "metadata": {},
          "execution_count": 9
        }
      ]
    },
    {
      "cell_type": "code",
      "source": [
        "print(runs[3])"
      ],
      "metadata": {
        "colab": {
          "base_uri": "https://localhost:8080/"
        },
        "id": "bRAVL9m9P6lc",
        "outputId": "61ad5bbf-7383-4088-fd76-63c64f50aad6"
      },
      "execution_count": 10,
      "outputs": [
        {
          "output_type": "stream",
          "name": "stdout",
          "text": [
            "100\n"
          ]
        }
      ]
    },
    {
      "cell_type": "code",
      "source": [
        "#quiz1\n",
        "#What is output of the following code snippet\n",
        "l = [5, 1, -2, 2, 3, 4]\n",
        "print(l[2])"
      ],
      "metadata": {
        "colab": {
          "base_uri": "https://localhost:8080/"
        },
        "id": "grrmuCASP6is",
        "outputId": "f16b40f4-235a-4bc9-ee56-6b85cd5b742e"
      },
      "execution_count": 11,
      "outputs": [
        {
          "output_type": "stream",
          "name": "stdout",
          "text": [
            "-2\n"
          ]
        }
      ]
    },
    {
      "cell_type": "code",
      "source": [
        "runs = [55,60,99,100,75]"
      ],
      "metadata": {
        "id": "CxlU7GcfQJkW"
      },
      "execution_count": 12,
      "outputs": []
    },
    {
      "cell_type": "code",
      "source": [
        "len(runs)"
      ],
      "metadata": {
        "colab": {
          "base_uri": "https://localhost:8080/"
        },
        "id": "O1HcBdufQJho",
        "outputId": "d2bcdd83-ae38-49e8-86a0-a9bac0963e77"
      },
      "execution_count": 13,
      "outputs": [
        {
          "output_type": "execute_result",
          "data": {
            "text/plain": [
              "5"
            ]
          },
          "metadata": {},
          "execution_count": 13
        }
      ]
    },
    {
      "cell_type": "code",
      "source": [
        "#quiz\n",
        "#What is the index for last element of a list of size N?"
      ],
      "metadata": {
        "id": "uikI7vinSv5i"
      },
      "execution_count": null,
      "outputs": []
    },
    {
      "cell_type": "code",
      "source": [
        "#last match runs scored by sachin"
      ],
      "metadata": {
        "id": "HZFEalZBSv2y"
      },
      "execution_count": null,
      "outputs": []
    },
    {
      "cell_type": "code",
      "source": [
        "print(runs[4])"
      ],
      "metadata": {
        "colab": {
          "base_uri": "https://localhost:8080/"
        },
        "id": "7XRSOlm1Svzy",
        "outputId": "766be94b-36ed-49a9-df06-9678b7a8e659"
      },
      "execution_count": 14,
      "outputs": [
        {
          "output_type": "stream",
          "name": "stdout",
          "text": [
            "75\n"
          ]
        }
      ]
    },
    {
      "cell_type": "code",
      "source": [
        "runs = [55,60,99,100,75]"
      ],
      "metadata": {
        "id": "iAFVFPZ8UAVn"
      },
      "execution_count": 16,
      "outputs": []
    },
    {
      "cell_type": "code",
      "source": [
        "idx = len(runs)-1 #last elemnt\n",
        "print(idx)"
      ],
      "metadata": {
        "colab": {
          "base_uri": "https://localhost:8080/"
        },
        "id": "UXHe8qdqTlN_",
        "outputId": "1317d5ae-b6b6-4fb4-e3e7-b73ba5d81424"
      },
      "execution_count": 17,
      "outputs": [
        {
          "output_type": "stream",
          "name": "stdout",
          "text": [
            "4\n"
          ]
        }
      ]
    },
    {
      "cell_type": "code",
      "source": [
        "print(runs[idx])"
      ],
      "metadata": {
        "colab": {
          "base_uri": "https://localhost:8080/"
        },
        "id": "vePLLpM9TlKe",
        "outputId": "986e7d11-d428-4982-e7e7-dff5c70d9696"
      },
      "execution_count": 18,
      "outputs": [
        {
          "output_type": "stream",
          "name": "stdout",
          "text": [
            "75\n"
          ]
        }
      ]
    },
    {
      "cell_type": "code",
      "source": [],
      "metadata": {
        "id": "XwwzFqt0TlHn"
      },
      "execution_count": null,
      "outputs": []
    },
    {
      "cell_type": "code",
      "source": [],
      "metadata": {
        "id": "ZPFAkNd8TlFA"
      },
      "execution_count": null,
      "outputs": []
    },
    {
      "cell_type": "code",
      "source": [],
      "metadata": {
        "id": "dObYwn_OTlB9"
      },
      "execution_count": null,
      "outputs": []
    },
    {
      "cell_type": "markdown",
      "source": [
        "<img src='http://www.aipython.in/wp-content/uploads/2020/02/Index_in_python-list.png'>"
      ],
      "metadata": {
        "id": "NnTvvPcTRVCI"
      }
    },
    {
      "cell_type": "code",
      "source": [
        "runs[-1]"
      ],
      "metadata": {
        "colab": {
          "base_uri": "https://localhost:8080/"
        },
        "id": "VErZSZsjRah-",
        "outputId": "b5b124e9-377a-4f32-e590-17f706df485e"
      },
      "execution_count": 19,
      "outputs": [
        {
          "output_type": "execute_result",
          "data": {
            "text/plain": [
              "75"
            ]
          },
          "metadata": {},
          "execution_count": 19
        }
      ]
    },
    {
      "cell_type": "code",
      "source": [
        "runs = [55,60,99,100,75]"
      ],
      "metadata": {
        "id": "w-5TQsV_RafF"
      },
      "execution_count": 20,
      "outputs": []
    },
    {
      "cell_type": "code",
      "source": [
        "runs[-4]"
      ],
      "metadata": {
        "colab": {
          "base_uri": "https://localhost:8080/"
        },
        "id": "gKdMYLEARacN",
        "outputId": "139f04d6-bb0a-4d83-de48-7a543eddb169"
      },
      "execution_count": 21,
      "outputs": [
        {
          "output_type": "execute_result",
          "data": {
            "text/plain": [
              "60"
            ]
          },
          "metadata": {},
          "execution_count": 21
        }
      ]
    },
    {
      "cell_type": "code",
      "source": [
        "runs[-5]"
      ],
      "metadata": {
        "colab": {
          "base_uri": "https://localhost:8080/"
        },
        "id": "0T8qDU6wRaZW",
        "outputId": "07de2914-d6a2-4d36-d9a1-3f199336c540"
      },
      "execution_count": 22,
      "outputs": [
        {
          "output_type": "execute_result",
          "data": {
            "text/plain": [
              "55"
            ]
          },
          "metadata": {},
          "execution_count": 22
        }
      ]
    },
    {
      "cell_type": "code",
      "source": [
        "runs[0]"
      ],
      "metadata": {
        "colab": {
          "base_uri": "https://localhost:8080/"
        },
        "id": "G85fudiIRaWf",
        "outputId": "bd7a9ef7-c1e4-4bfe-c1ad-5d1085033bf1"
      },
      "execution_count": 24,
      "outputs": [
        {
          "output_type": "execute_result",
          "data": {
            "text/plain": [
              "55"
            ]
          },
          "metadata": {},
          "execution_count": 24
        }
      ]
    },
    {
      "cell_type": "code",
      "source": [
        "#quiz\n",
        "runs = [10, 55, 4, 67, 17]\n",
        "print(runs[0] + runs[-1] + runs[-3])"
      ],
      "metadata": {
        "colab": {
          "base_uri": "https://localhost:8080/"
        },
        "id": "GEAjj2KzRaTr",
        "outputId": "eb4f9cdc-cc95-470b-ac92-8cf11902cc26"
      },
      "execution_count": 25,
      "outputs": [
        {
          "output_type": "stream",
          "name": "stdout",
          "text": [
            "31\n"
          ]
        }
      ]
    },
    {
      "cell_type": "code",
      "source": [
        "len(runs)"
      ],
      "metadata": {
        "colab": {
          "base_uri": "https://localhost:8080/"
        },
        "id": "Oa9DWk2jVZ3I",
        "outputId": "4c351c29-9cb6-4284-95e8-b5b3641c1c30"
      },
      "execution_count": 26,
      "outputs": [
        {
          "output_type": "execute_result",
          "data": {
            "text/plain": [
              "5"
            ]
          },
          "metadata": {},
          "execution_count": 26
        }
      ]
    },
    {
      "cell_type": "code",
      "source": [
        "idx = len(runs)-1"
      ],
      "metadata": {
        "id": "B8wnoM9_VYtL"
      },
      "execution_count": 28,
      "outputs": []
    },
    {
      "cell_type": "code",
      "source": [
        "runs[idx]"
      ],
      "metadata": {
        "colab": {
          "base_uri": "https://localhost:8080/"
        },
        "id": "IxbXmD0qVYqJ",
        "outputId": "4f4c4500-fe1f-41f8-b585-b04793795c77"
      },
      "execution_count": 29,
      "outputs": [
        {
          "output_type": "execute_result",
          "data": {
            "text/plain": [
              "17"
            ]
          },
          "metadata": {},
          "execution_count": 29
        }
      ]
    },
    {
      "cell_type": "code",
      "source": [
        "runs[-1]"
      ],
      "metadata": {
        "colab": {
          "base_uri": "https://localhost:8080/"
        },
        "id": "4xrjfcRxVYnJ",
        "outputId": "83dc65d7-f9ff-462a-e47d-89fa4b872a21"
      },
      "execution_count": 30,
      "outputs": [
        {
          "output_type": "execute_result",
          "data": {
            "text/plain": [
              "17"
            ]
          },
          "metadata": {},
          "execution_count": 30
        }
      ]
    },
    {
      "cell_type": "code",
      "source": [
        "runs[-len(runs)]"
      ],
      "metadata": {
        "colab": {
          "base_uri": "https://localhost:8080/"
        },
        "id": "2bNjD5kTVYkJ",
        "outputId": "68fdcce2-6551-4fd4-ccbb-62d34cdd75bc"
      },
      "execution_count": 31,
      "outputs": [
        {
          "output_type": "execute_result",
          "data": {
            "text/plain": [
              "10"
            ]
          },
          "metadata": {},
          "execution_count": 31
        }
      ]
    },
    {
      "cell_type": "markdown",
      "source": [
        "# Add an element to the list:"
      ],
      "metadata": {
        "id": "1V-tJeppR2Wl"
      }
    },
    {
      "cell_type": "markdown",
      "source": [
        "<img src='https://www.freecodecamp.org/news/content/images/2020/05/Append.png' width=500>"
      ],
      "metadata": {
        "id": "cYTpEhLkRxH6"
      }
    },
    {
      "cell_type": "code",
      "source": [
        "runs = [55,60,99,100,75]"
      ],
      "metadata": {
        "id": "G3_ewwxfR1vC"
      },
      "execution_count": 32,
      "outputs": []
    },
    {
      "cell_type": "code",
      "source": [
        "runs.append(0)\n",
        "print(runs)"
      ],
      "metadata": {
        "colab": {
          "base_uri": "https://localhost:8080/"
        },
        "id": "63mapnzuR1sB",
        "outputId": "8a0c2676-5a49-45cb-99c9-7c2eea4334fb"
      },
      "execution_count": 33,
      "outputs": [
        {
          "output_type": "stream",
          "name": "stdout",
          "text": [
            "[55, 60, 99, 100, 75, 0]\n"
          ]
        }
      ]
    },
    {
      "cell_type": "code",
      "source": [
        "runs.append(200)\n",
        "print(runs)"
      ],
      "metadata": {
        "colab": {
          "base_uri": "https://localhost:8080/"
        },
        "id": "0ukbiSFBR1pQ",
        "outputId": "1b00e46d-78fc-4870-85a8-6c83d32f99ad"
      },
      "execution_count": 34,
      "outputs": [
        {
          "output_type": "stream",
          "name": "stdout",
          "text": [
            "[55, 60, 99, 100, 75, 0, 200]\n"
          ]
        }
      ]
    },
    {
      "cell_type": "code",
      "source": [
        "len(runs)"
      ],
      "metadata": {
        "colab": {
          "base_uri": "https://localhost:8080/"
        },
        "id": "KAv8cNSeR1mh",
        "outputId": "7cbeec17-3a5f-484d-f545-01a574bd6803"
      },
      "execution_count": 35,
      "outputs": [
        {
          "output_type": "execute_result",
          "data": {
            "text/plain": [
              "7"
            ]
          },
          "metadata": {},
          "execution_count": 35
        }
      ]
    },
    {
      "cell_type": "code",
      "source": [
        "runs[-1]"
      ],
      "metadata": {
        "colab": {
          "base_uri": "https://localhost:8080/"
        },
        "id": "AxSW-krwR1jp",
        "outputId": "2227fc07-9488-4a0d-c5a3-319275a8bb31"
      },
      "execution_count": 36,
      "outputs": [
        {
          "output_type": "execute_result",
          "data": {
            "text/plain": [
              "200"
            ]
          },
          "metadata": {},
          "execution_count": 36
        }
      ]
    },
    {
      "cell_type": "code",
      "source": [
        "#quiz\n",
        "runs = [10, 55, 4, 67, 17]\n",
        "runs.append(6)\n",
        "runs.append(200)\n",
        "print(runs[-1] + runs[2])"
      ],
      "metadata": {
        "colab": {
          "base_uri": "https://localhost:8080/"
        },
        "id": "tSN_vSFXUlXY",
        "outputId": "a3149b85-8786-4aa0-d803-1c60dcc57932"
      },
      "execution_count": 37,
      "outputs": [
        {
          "output_type": "stream",
          "name": "stdout",
          "text": [
            "204\n"
          ]
        }
      ]
    },
    {
      "cell_type": "code",
      "source": [
        "print(runs)"
      ],
      "metadata": {
        "colab": {
          "base_uri": "https://localhost:8080/"
        },
        "id": "LK4ykvqcFal5",
        "outputId": "614b2f5b-7225-46aa-fe53-9ed32bdfcf1a"
      },
      "execution_count": 38,
      "outputs": [
        {
          "output_type": "stream",
          "name": "stdout",
          "text": [
            "[10, 55, 4, 67, 17, 6, 200]\n"
          ]
        }
      ]
    },
    {
      "cell_type": "code",
      "source": [
        "-len(runs)"
      ],
      "metadata": {
        "colab": {
          "base_uri": "https://localhost:8080/"
        },
        "id": "7eOvON-PFajB",
        "outputId": "30ba7fcc-e5e6-419d-adf6-6e54d1037a82"
      },
      "execution_count": 39,
      "outputs": [
        {
          "output_type": "execute_result",
          "data": {
            "text/plain": [
              "-7"
            ]
          },
          "metadata": {},
          "execution_count": 39
        }
      ]
    },
    {
      "cell_type": "code",
      "source": [
        "runs.append(10)\n",
        "runs"
      ],
      "metadata": {
        "colab": {
          "base_uri": "https://localhost:8080/"
        },
        "id": "UNGYLZJGFagI",
        "outputId": "72f85ab8-cf6f-4b73-a8b2-2ddc345c5ec3"
      },
      "execution_count": 40,
      "outputs": [
        {
          "output_type": "execute_result",
          "data": {
            "text/plain": [
              "[10, 55, 4, 67, 17, 6, 200, 10]"
            ]
          },
          "metadata": {},
          "execution_count": 40
        }
      ]
    },
    {
      "cell_type": "code",
      "source": [
        "runs.insert(0,101)\n",
        "runs"
      ],
      "metadata": {
        "colab": {
          "base_uri": "https://localhost:8080/"
        },
        "id": "Z4fAfdDlFada",
        "outputId": "2a588cf1-aa14-4093-bc34-677a79a2afcd"
      },
      "execution_count": 41,
      "outputs": [
        {
          "output_type": "execute_result",
          "data": {
            "text/plain": [
              "[101, 10, 55, 4, 67, 17, 6, 200, 10]"
            ]
          },
          "metadata": {},
          "execution_count": 41
        }
      ]
    },
    {
      "cell_type": "code",
      "source": [
        "runs.insert(6,66)\n",
        "runs"
      ],
      "metadata": {
        "colab": {
          "base_uri": "https://localhost:8080/"
        },
        "id": "4W7V-kOFaTwZ",
        "outputId": "6663e013-5cd3-410a-a016-3405f818db11"
      },
      "execution_count": 42,
      "outputs": [
        {
          "output_type": "execute_result",
          "data": {
            "text/plain": [
              "[101, 10, 55, 4, 67, 17, 66, 6, 200, 10]"
            ]
          },
          "metadata": {},
          "execution_count": 42
        }
      ]
    },
    {
      "cell_type": "code",
      "source": [
        "runs.insert(100,100)"
      ],
      "metadata": {
        "id": "_PZSd0CxaTsj"
      },
      "execution_count": 44,
      "outputs": []
    },
    {
      "cell_type": "code",
      "source": [
        "runs"
      ],
      "metadata": {
        "colab": {
          "base_uri": "https://localhost:8080/"
        },
        "id": "ZBEM9wLmc6lY",
        "outputId": "29e8c3bd-eb52-4521-a534-c6879af549c9"
      },
      "execution_count": 45,
      "outputs": [
        {
          "output_type": "execute_result",
          "data": {
            "text/plain": [
              "[101, 10, 55, 4, 67, 17, 66, 6, 200, 10, 100]"
            ]
          },
          "metadata": {},
          "execution_count": 45
        }
      ]
    },
    {
      "cell_type": "code",
      "source": [
        "len(runs)"
      ],
      "metadata": {
        "colab": {
          "base_uri": "https://localhost:8080/"
        },
        "id": "_3x0klIVaTpC",
        "outputId": "70507d79-af9a-4e2c-8cc9-2e34c45eaf2b"
      },
      "execution_count": 43,
      "outputs": [
        {
          "output_type": "execute_result",
          "data": {
            "text/plain": [
              "10"
            ]
          },
          "metadata": {},
          "execution_count": 43
        }
      ]
    },
    {
      "cell_type": "code",
      "source": [
        "runs.insert(-1,0)\n",
        "runs"
      ],
      "metadata": {
        "colab": {
          "base_uri": "https://localhost:8080/"
        },
        "id": "9GhLgamKaTlq",
        "outputId": "bdabe3d3-2693-4db8-8508-bf35a2a1c1cd"
      },
      "execution_count": 46,
      "outputs": [
        {
          "output_type": "execute_result",
          "data": {
            "text/plain": [
              "[101, 10, 55, 4, 67, 17, 66, 6, 200, 10, 0, 100]"
            ]
          },
          "metadata": {},
          "execution_count": 46
        }
      ]
    },
    {
      "cell_type": "code",
      "source": [
        "runs = [1,2,3,4,5]"
      ],
      "metadata": {
        "id": "w7vhSNSHaTiR"
      },
      "execution_count": 47,
      "outputs": []
    },
    {
      "cell_type": "code",
      "source": [
        "runs.insert(-1,6)\n",
        "runs"
      ],
      "metadata": {
        "colab": {
          "base_uri": "https://localhost:8080/"
        },
        "id": "Lc7bGHBJaTeh",
        "outputId": "25202ccb-f6cc-40e2-8908-358ec87b8219"
      },
      "execution_count": 48,
      "outputs": [
        {
          "output_type": "execute_result",
          "data": {
            "text/plain": [
              "[1, 2, 3, 4, 6, 5]"
            ]
          },
          "metadata": {},
          "execution_count": 48
        }
      ]
    },
    {
      "cell_type": "code",
      "source": [
        "runs.insert(6,7)\n",
        "runs"
      ],
      "metadata": {
        "colab": {
          "base_uri": "https://localhost:8080/"
        },
        "id": "z2810cKSdwob",
        "outputId": "56afbbaa-fa29-4534-c23d-9777b267d6ea"
      },
      "execution_count": 49,
      "outputs": [
        {
          "output_type": "execute_result",
          "data": {
            "text/plain": [
              "[1, 2, 3, 4, 6, 5, 7]"
            ]
          },
          "metadata": {},
          "execution_count": 49
        }
      ]
    },
    {
      "cell_type": "code",
      "source": [
        "runs = [1,2,3,4]\n",
        "runs2 = [5,6,7,8]"
      ],
      "metadata": {
        "id": "Vp3uq67fejeh"
      },
      "execution_count": 50,
      "outputs": []
    },
    {
      "cell_type": "code",
      "source": [
        "runs.append(5)\n",
        "runs.append(6)\n",
        "runs.append(7)\n",
        "runs.append(8)"
      ],
      "metadata": {
        "id": "j666TAdLevZA"
      },
      "execution_count": null,
      "outputs": []
    },
    {
      "cell_type": "code",
      "source": [
        "runs.extend(runs2)\n",
        "runs"
      ],
      "metadata": {
        "colab": {
          "base_uri": "https://localhost:8080/"
        },
        "id": "IWRqqkGSe5Qt",
        "outputId": "62727571-3c04-42da-f30b-b961ff552dda"
      },
      "execution_count": 52,
      "outputs": [
        {
          "output_type": "execute_result",
          "data": {
            "text/plain": [
              "[1, 2, 3, 4, 5, 6, 7, 8]"
            ]
          },
          "metadata": {},
          "execution_count": 52
        }
      ]
    },
    {
      "cell_type": "code",
      "source": [
        "runs.append(runs2)\n",
        "runs"
      ],
      "metadata": {
        "colab": {
          "base_uri": "https://localhost:8080/"
        },
        "id": "4R3CoFOgfAQe",
        "outputId": "43474e14-a198-4144-81bf-18636a7913f0"
      },
      "execution_count": 53,
      "outputs": [
        {
          "output_type": "execute_result",
          "data": {
            "text/plain": [
              "[1, 2, 3, 4, 5, 6, 7, 8, [5, 6, 7, 8]]"
            ]
          },
          "metadata": {},
          "execution_count": 53
        }
      ]
    },
    {
      "cell_type": "code",
      "source": [
        "runs = [1,2,3,4]\n",
        "runs2 = [5,6,7,8]"
      ],
      "metadata": {
        "id": "pCeWEs8afUdc"
      },
      "execution_count": 54,
      "outputs": []
    },
    {
      "cell_type": "code",
      "source": [
        "runs = runs + [5,6,7,8]\n",
        "runs"
      ],
      "metadata": {
        "colab": {
          "base_uri": "https://localhost:8080/"
        },
        "id": "IFD_kVnafX9B",
        "outputId": "2816710f-00eb-4894-abfe-6054a7506a85"
      },
      "execution_count": 55,
      "outputs": [
        {
          "output_type": "execute_result",
          "data": {
            "text/plain": [
              "[1, 2, 3, 4, 5, 6, 7, 8]"
            ]
          },
          "metadata": {},
          "execution_count": 55
        }
      ]
    },
    {
      "cell_type": "code",
      "source": [
        "runs = runs + [0]\n",
        "runs"
      ],
      "metadata": {
        "colab": {
          "base_uri": "https://localhost:8080/"
        },
        "id": "8iGsPAStfdx7",
        "outputId": "cd6dc8a2-e449-49ac-f748-4829cb452208"
      },
      "execution_count": 57,
      "outputs": [
        {
          "output_type": "execute_result",
          "data": {
            "text/plain": [
              "[1, 2, 3, 4, 5, 6, 7, 8, 0]"
            ]
          },
          "metadata": {},
          "execution_count": 57
        }
      ]
    },
    {
      "cell_type": "code",
      "source": [
        "runs = runs + runs2\n",
        "runs"
      ],
      "metadata": {
        "colab": {
          "base_uri": "https://localhost:8080/"
        },
        "id": "KWiSP7WSfowQ",
        "outputId": "ca2bc5d4-ea83-4622-ac65-ef625c5d5162"
      },
      "execution_count": 58,
      "outputs": [
        {
          "output_type": "execute_result",
          "data": {
            "text/plain": [
              "[1, 2, 3, 4, 5, 6, 7, 8, 0, 5, 6, 7, 8]"
            ]
          },
          "metadata": {},
          "execution_count": 58
        }
      ]
    },
    {
      "cell_type": "code",
      "source": [
        "runs.append(9)\n",
        "runs"
      ],
      "metadata": {
        "colab": {
          "base_uri": "https://localhost:8080/"
        },
        "id": "zEYj6ETNftST",
        "outputId": "0bcd9cb1-3785-4746-a2e3-8739f1bda30d"
      },
      "execution_count": 59,
      "outputs": [
        {
          "output_type": "execute_result",
          "data": {
            "text/plain": [
              "[1, 2, 3, 4, 5, 6, 7, 8, 0, 5, 6, 7, 8, 9]"
            ]
          },
          "metadata": {},
          "execution_count": 59
        }
      ]
    },
    {
      "cell_type": "code",
      "source": [
        "print(runs + [11])"
      ],
      "metadata": {
        "colab": {
          "base_uri": "https://localhost:8080/"
        },
        "id": "kT6XH2gtfxGq",
        "outputId": "29268913-5253-40f0-b4a8-a1bef502f99f"
      },
      "execution_count": 60,
      "outputs": [
        {
          "output_type": "stream",
          "name": "stdout",
          "text": [
            "[1, 2, 3, 4, 5, 6, 7, 8, 0, 5, 6, 7, 8, 9, 11]\n"
          ]
        }
      ]
    },
    {
      "cell_type": "code",
      "source": [
        "runs = runs + [11]"
      ],
      "metadata": {
        "id": "bQ6UT-Qzf13P"
      },
      "execution_count": 62,
      "outputs": []
    },
    {
      "cell_type": "code",
      "source": [
        "runs"
      ],
      "metadata": {
        "colab": {
          "base_uri": "https://localhost:8080/"
        },
        "id": "P6PguX1gf8fD",
        "outputId": "78966211-c726-4eff-9ea6-53d9109fc10b"
      },
      "execution_count": 63,
      "outputs": [
        {
          "output_type": "execute_result",
          "data": {
            "text/plain": [
              "[1, 2, 3, 4, 5, 6, 7, 8, 0, 5, 6, 7, 8, 9, 11]"
            ]
          },
          "metadata": {},
          "execution_count": 63
        }
      ]
    },
    {
      "cell_type": "code",
      "source": [
        "#quiz\n",
        "l = [1, 2, 3, 3, 5, 6, 7, 5]\n",
        "l.insert(5, 10)\n",
        "print(l)"
      ],
      "metadata": {
        "colab": {
          "base_uri": "https://localhost:8080/"
        },
        "id": "5i3P-7hZf-gq",
        "outputId": "27cc33c1-a576-4f35-af3f-42cf976e8902"
      },
      "execution_count": 64,
      "outputs": [
        {
          "output_type": "stream",
          "name": "stdout",
          "text": [
            "[1, 2, 3, 3, 5, 10, 6, 7, 5]\n"
          ]
        }
      ]
    },
    {
      "cell_type": "markdown",
      "source": [
        "# how to iterate a list"
      ],
      "metadata": {
        "id": "OguFt4CVhDXW"
      }
    },
    {
      "cell_type": "code",
      "source": [
        "runs = [1,2,3,4,5]"
      ],
      "metadata": {
        "id": "wPRkWhwXhMRv"
      },
      "execution_count": 67,
      "outputs": []
    },
    {
      "cell_type": "code",
      "source": [
        "for i in range(5):\n",
        "  print(i)"
      ],
      "metadata": {
        "colab": {
          "base_uri": "https://localhost:8080/"
        },
        "id": "nyBi6Y6Af-d5",
        "outputId": "f51df238-37f1-4e06-b1eb-35653da48ab8"
      },
      "execution_count": 65,
      "outputs": [
        {
          "output_type": "stream",
          "name": "stdout",
          "text": [
            "0\n",
            "1\n",
            "2\n",
            "3\n",
            "4\n"
          ]
        }
      ]
    },
    {
      "cell_type": "code",
      "source": [
        "for i in runs:\n",
        "  print(i,end=' ')"
      ],
      "metadata": {
        "colab": {
          "base_uri": "https://localhost:8080/"
        },
        "id": "JgX6od7pf-a6",
        "outputId": "e31f1142-f581-4cbc-9cc5-f1df0a54b2ee"
      },
      "execution_count": 70,
      "outputs": [
        {
          "output_type": "stream",
          "name": "stdout",
          "text": [
            "1 2 3 4 5 "
          ]
        }
      ]
    },
    {
      "cell_type": "code",
      "source": [
        "# l = [1, 5, 2, 4, 3]\n",
        "# What will be the sum of elements in l?"
      ],
      "metadata": {
        "id": "NYJsH2Qzf-YA"
      },
      "execution_count": null,
      "outputs": []
    },
    {
      "cell_type": "code",
      "source": [
        "runs = [1,2,3,4,5]"
      ],
      "metadata": {
        "id": "jNiAxYdkf-VP"
      },
      "execution_count": 2,
      "outputs": []
    },
    {
      "cell_type": "markdown",
      "source": [
        "#sum of the runs scored by sachin in all 5 matches"
      ],
      "metadata": {
        "id": "M3piNn8DiOBv"
      }
    },
    {
      "cell_type": "code",
      "source": [
        "count= 0 \n",
        "for i in runs:\n",
        "  count = count+ i\n",
        "print(count)  "
      ],
      "metadata": {
        "colab": {
          "base_uri": "https://localhost:8080/"
        },
        "id": "rlp7iOzRf-SU",
        "outputId": "b18ab5f8-fe18-48ef-c3a5-fd6a09244ace"
      },
      "execution_count": 3,
      "outputs": [
        {
          "output_type": "stream",
          "name": "stdout",
          "text": [
            "15\n"
          ]
        }
      ]
    },
    {
      "cell_type": "code",
      "source": [
        "runs = [1,2,3,4,5]"
      ],
      "metadata": {
        "id": "a7kaTgwli-R7"
      },
      "execution_count": 76,
      "outputs": []
    },
    {
      "cell_type": "code",
      "source": [
        "sum_runs = sum(runs)\n",
        "print(sum_runs)"
      ],
      "metadata": {
        "colab": {
          "base_uri": "https://localhost:8080/"
        },
        "id": "B4_q59P8icx0",
        "outputId": "68fb1b42-35d8-4f50-831e-df5a9233ad86"
      },
      "execution_count": 4,
      "outputs": [
        {
          "output_type": "stream",
          "name": "stdout",
          "text": [
            "15\n"
          ]
        }
      ]
    },
    {
      "cell_type": "code",
      "source": [
        "runs"
      ],
      "metadata": {
        "colab": {
          "base_uri": "https://localhost:8080/"
        },
        "id": "ssO16AiIkwBZ",
        "outputId": "7a2dbf56-5b24-4e7f-d76a-072c479f5fed"
      },
      "execution_count": 10,
      "outputs": [
        {
          "output_type": "execute_result",
          "data": {
            "text/plain": [
              "[1, 2, 3, 4, 5]"
            ]
          },
          "metadata": {},
          "execution_count": 10
        }
      ]
    },
    {
      "cell_type": "code",
      "source": [
        "#max runs scored in list\n",
        "maximum = 0\n",
        "for i in runs:\n",
        "  if i > maximum:\n",
        "    maximum =i\n",
        "print(maximum)    "
      ],
      "metadata": {
        "colab": {
          "base_uri": "https://localhost:8080/"
        },
        "id": "yeGOWbiMkBg7",
        "outputId": "7df237b1-11aa-4983-8c73-28418db0e326"
      },
      "execution_count": 9,
      "outputs": [
        {
          "output_type": "stream",
          "name": "stdout",
          "text": [
            "5\n"
          ]
        }
      ]
    },
    {
      "cell_type": "code",
      "source": [
        "runs = [10,30,0,80,15]"
      ],
      "metadata": {
        "id": "K_HgmvVmmBxn"
      },
      "execution_count": 11,
      "outputs": []
    },
    {
      "cell_type": "code",
      "source": [
        "maximum = 0\n",
        "for i in runs:\n",
        "  if i > maximum:\n",
        "    maximum =i\n",
        "print(maximum)    "
      ],
      "metadata": {
        "colab": {
          "base_uri": "https://localhost:8080/"
        },
        "id": "11dRbstkmGV3",
        "outputId": "529d6993-2178-4182-a602-b362d619fe9a"
      },
      "execution_count": 12,
      "outputs": [
        {
          "output_type": "stream",
          "name": "stdout",
          "text": [
            "80\n"
          ]
        }
      ]
    },
    {
      "cell_type": "code",
      "source": [
        "max(runs)"
      ],
      "metadata": {
        "colab": {
          "base_uri": "https://localhost:8080/"
        },
        "id": "JRT5EqfXmvKm",
        "outputId": "0b6ef0c0-5d84-437b-f3fc-318d244950e9"
      },
      "execution_count": 13,
      "outputs": [
        {
          "output_type": "execute_result",
          "data": {
            "text/plain": [
              "80"
            ]
          },
          "metadata": {},
          "execution_count": 13
        }
      ]
    },
    {
      "cell_type": "code",
      "source": [
        "#homework using for loop and list minimum"
      ],
      "metadata": {
        "id": "pIBNUFxVm27S"
      },
      "execution_count": null,
      "outputs": []
    },
    {
      "cell_type": "code",
      "source": [
        "min(runs)"
      ],
      "metadata": {
        "colab": {
          "base_uri": "https://localhost:8080/"
        },
        "id": "QtDOF1HEm7o3",
        "outputId": "94785a0a-efea-4794-ea05-d2d1bdf090b5"
      },
      "execution_count": 14,
      "outputs": [
        {
          "output_type": "execute_result",
          "data": {
            "text/plain": [
              "0"
            ]
          },
          "metadata": {},
          "execution_count": 14
        }
      ]
    },
    {
      "cell_type": "code",
      "source": [
        "avg_runs = sum(runs)/len(runs)\n",
        "avg_runs\n"
      ],
      "metadata": {
        "colab": {
          "base_uri": "https://localhost:8080/"
        },
        "id": "9ULzrJf_m-_Q",
        "outputId": "1f341ed5-e44b-409f-a21d-bd8573372fc4"
      },
      "execution_count": 15,
      "outputs": [
        {
          "output_type": "execute_result",
          "data": {
            "text/plain": [
              "27.0"
            ]
          },
          "metadata": {},
          "execution_count": 15
        }
      ]
    },
    {
      "cell_type": "code",
      "source": [
        "runs = [100,50,30,55,60]"
      ],
      "metadata": {
        "id": "2GIKQheWnKb2"
      },
      "execution_count": 16,
      "outputs": []
    },
    {
      "cell_type": "markdown",
      "source": [
        "# total runs scored by sachin in even matches"
      ],
      "metadata": {
        "id": "coHiwqfdnPrr"
      }
    },
    {
      "cell_type": "code",
      "source": [
        "total_runs = 0\n",
        "for i in runs:\n",
        "  if i%2==0:\n",
        "    print(i)\n",
        "    total_runs += i\n",
        "print(total_runs)    \n"
      ],
      "metadata": {
        "colab": {
          "base_uri": "https://localhost:8080/"
        },
        "id": "u-ayQjQDnjEm",
        "outputId": "d032e3a8-b33d-43be-84cb-13ef41b91d38"
      },
      "execution_count": 17,
      "outputs": [
        {
          "output_type": "stream",
          "name": "stdout",
          "text": [
            "100\n",
            "50\n",
            "30\n",
            "60\n",
            "240\n"
          ]
        }
      ]
    },
    {
      "cell_type": "code",
      "source": [
        "runs = [100,50,30,55,60]"
      ],
      "metadata": {
        "id": "GUSBSy1boYOY"
      },
      "execution_count": 28,
      "outputs": []
    },
    {
      "cell_type": "code",
      "source": [
        "n = len(runs)"
      ],
      "metadata": {
        "id": "x2hp7QyRoNxG"
      },
      "execution_count": 29,
      "outputs": []
    },
    {
      "cell_type": "code",
      "source": [
        "n"
      ],
      "metadata": {
        "colab": {
          "base_uri": "https://localhost:8080/"
        },
        "id": "rc2VzWngq8VA",
        "outputId": "6941178e-e9d5-4099-d885-0f2663ee6079"
      },
      "execution_count": 30,
      "outputs": [
        {
          "output_type": "execute_result",
          "data": {
            "text/plain": [
              "5"
            ]
          },
          "metadata": {},
          "execution_count": 30
        }
      ]
    },
    {
      "cell_type": "code",
      "source": [
        "for i in range(1,n):\n",
        "  if i%2==1:\n",
        "     print(i)"
      ],
      "metadata": {
        "colab": {
          "base_uri": "https://localhost:8080/"
        },
        "id": "anC2n9pWoSA4",
        "outputId": "197bdec5-9f61-4f0e-bbe2-1e47419a574d"
      },
      "execution_count": 22,
      "outputs": [
        {
          "output_type": "stream",
          "name": "stdout",
          "text": [
            "1\n",
            "3\n"
          ]
        }
      ]
    },
    {
      "cell_type": "code",
      "source": [
        "runs = [100,50,30,55,60]"
      ],
      "metadata": {
        "id": "nVgdbbHopVIw"
      },
      "execution_count": 27,
      "outputs": []
    },
    {
      "cell_type": "code",
      "source": [
        "for i in runs:\n",
        " \n",
        "     print(i,end=' ')"
      ],
      "metadata": {
        "colab": {
          "base_uri": "https://localhost:8080/"
        },
        "id": "U0s5JocyrW-T",
        "outputId": "e0f1b6ae-1120-49ee-9449-456ab4550cd2"
      },
      "execution_count": 35,
      "outputs": [
        {
          "output_type": "stream",
          "name": "stdout",
          "text": [
            "100 50 30 55 60 "
          ]
        }
      ]
    },
    {
      "cell_type": "code",
      "source": [
        "runs_even = 0\n",
        "for i in range(1,n,2):\n",
        " \n",
        "     print(i)\n",
        "     print(runs[i])\n",
        "     runs_even = runs_even + runs[i]\n",
        "print('total runs',runs_even)     "
      ],
      "metadata": {
        "colab": {
          "base_uri": "https://localhost:8080/"
        },
        "id": "ajAJ7xocozlU",
        "outputId": "30546861-ed7c-4462-81a2-4ac559f0be50"
      },
      "execution_count": 26,
      "outputs": [
        {
          "output_type": "stream",
          "name": "stdout",
          "text": [
            "1\n",
            "50\n",
            "3\n",
            "55\n",
            "total runs 105\n"
          ]
        }
      ]
    },
    {
      "cell_type": "code",
      "source": [
        "runs_even = 0\n",
        "for i in range(n):\n",
        " \n",
        "     print(i)\n",
        "     print(runs[i])\n",
        "    #  runs_even = runs_even + runs[i]\n",
        "print('total runs',runs_even) "
      ],
      "metadata": {
        "colab": {
          "base_uri": "https://localhost:8080/"
        },
        "id": "HNdnI5tgsX4V",
        "outputId": "97832367-1b37-4a62-c5f3-1209ac0b214f"
      },
      "execution_count": 41,
      "outputs": [
        {
          "output_type": "stream",
          "name": "stdout",
          "text": [
            "0\n",
            "100\n",
            "1\n",
            "50\n",
            "2\n",
            "30\n",
            "3\n",
            "55\n",
            "4\n",
            "60\n",
            "total runs 0\n"
          ]
        }
      ]
    },
    {
      "cell_type": "code",
      "source": [
        "#total_runs for odd matches"
      ],
      "metadata": {
        "id": "w6edS4sYpa6H"
      },
      "execution_count": null,
      "outputs": []
    }
  ]
}